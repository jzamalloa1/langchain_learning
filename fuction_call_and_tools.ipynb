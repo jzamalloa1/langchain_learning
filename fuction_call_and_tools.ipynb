{
 "cells": [
  {
   "cell_type": "markdown",
   "metadata": {},
   "source": [
    "# Function Calling & Custom Tools\n",
    "\n",
    "Understanding differences and how to use them together"
   ]
  },
  {
   "cell_type": "code",
   "execution_count": 1,
   "metadata": {},
   "outputs": [],
   "source": [
    "import pandas as pd\n",
    "import numpy as np\n",
    "import json, os\n",
    "import streamlit as st\n",
    "from streamlit_jupyter import StreamlitPatcher\n",
    "from langchain_openai import OpenAIEmbeddings, ChatOpenAI\n",
    "from langchain_core.utils.function_calling import convert_to_openai_tool\n",
    "\n",
    "StreamlitPatcher().jupyter()"
   ]
  },
  {
   "cell_type": "code",
   "execution_count": 2,
   "metadata": {},
   "outputs": [],
   "source": [
    "os.environ[\"OPENAI_API_KEY\"] = \"\""
   ]
  },
  {
   "cell_type": "markdown",
   "metadata": {},
   "source": [
    "### Converting a custom python function to an OpenAI function calling tool\n",
    "\n",
    "Requires specifying type of arguments, as well as description of function and each arguments. This will be passed to convert_to_openai_tool()"
   ]
  },
  {
   "cell_type": "code",
   "execution_count": 3,
   "metadata": {},
   "outputs": [
    {
     "data": {
      "text/plain": [
       "{'type': 'function',\n",
       " 'function': {'name': 'create_matrix',\n",
       "  'description': 'Create a matrix of rows(r) by columns(c)',\n",
       "  'parameters': {'type': 'object',\n",
       "   'properties': {'r': {'type': 'integer',\n",
       "     'description': 'First dimension of matrix'},\n",
       "    'c': {'type': 'integer', 'description': 'Second dimension of matrix'}},\n",
       "   'required': ['r', 'c']}}}"
      ]
     },
     "execution_count": 3,
     "metadata": {},
     "output_type": "execute_result"
    }
   ],
   "source": [
    "def create_matrix(r:int, c:int):\n",
    "    \"\"\"Create a matrix of rows(r) by columns(c)\n",
    "\n",
    "    Args:\n",
    "        r: First dimension of matrix\n",
    "        c: Second dimension of matrix\n",
    "    \"\"\"\n",
    "\n",
    "    m = np.random.randn(r, c)\n",
    "\n",
    "    return m\n",
    "\n",
    "convert_to_openai_tool(create_matrix)"
   ]
  },
  {
   "cell_type": "code",
   "execution_count": 10,
   "metadata": {},
   "outputs": [
    {
     "name": "stdout",
     "output_type": "stream",
     "text": [
      "{\n",
      "  \"type\": \"function\",\n",
      "  \"function\": {\n",
      "    \"name\": \"create_matrix\",\n",
      "    \"description\": \"Create a matrix of rows(r) by columns(c)\",\n",
      "    \"parameters\": {\n",
      "      \"type\": \"object\",\n",
      "      \"properties\": {\n",
      "        \"r\": {\n",
      "          \"type\": \"integer\",\n",
      "          \"description\": \"First dimension of matrix\"\n",
      "        },\n",
      "        \"c\": {\n",
      "          \"type\": \"integer\",\n",
      "          \"description\": \"Second dimension of matrix\"\n",
      "        }\n",
      "      },\n",
      "      \"required\": [\n",
      "        \"r\",\n",
      "        \"c\"\n",
      "      ]\n",
      "    }\n",
      "  }\n",
      "}\n"
     ]
    }
   ],
   "source": [
    "\n",
    "print(json.dumps(convert_to_openai_tool(create_matrix), indent=2))"
   ]
  },
  {
   "cell_type": "markdown",
   "metadata": {},
   "source": [
    "### Testing (\"Binding function) custom function call built in an LLM\n",
    "\n",
    "We'll incorporate the function call as part of our model so it is \"bound\" (**binding function**) and ready to be utilized"
   ]
  },
  {
   "cell_type": "code",
   "execution_count": 4,
   "metadata": {},
   "outputs": [],
   "source": [
    "llm = ChatOpenAI(model=\"gpt-3.5-turbo\", temperature=0.1)"
   ]
  },
  {
   "cell_type": "markdown",
   "metadata": {},
   "source": [
    "Test it without function calling. LLM will produce actual answer"
   ]
  },
  {
   "cell_type": "code",
   "execution_count": 17,
   "metadata": {},
   "outputs": [
    {
     "data": {
      "text/plain": [
       "AIMessage(content='Sure, here is a random 3x5 matrix:\\n\\n[[4, 7, 2, 9, 1],\\n [3, 8, 5, 6, 2],\\n [1, 9, 4, 7, 3]]')"
      ]
     },
     "execution_count": 17,
     "metadata": {},
     "output_type": "execute_result"
    }
   ],
   "source": [
    "llm_result = llm.invoke(\"can you create a random 3x5 matrix?\")\n",
    "llm_result"
   ]
  },
  {
   "cell_type": "markdown",
   "metadata": {},
   "source": [
    "Notice that answer will be produced, but it will be produced as part of text"
   ]
  },
  {
   "cell_type": "code",
   "execution_count": 19,
   "metadata": {},
   "outputs": [
    {
     "data": {
      "text/plain": [
       "'Sure, here is a random 3x5 matrix:\\n\\n[[4, 7, 2, 9, 1],\\n [3, 8, 5, 6, 2],\\n [1, 9, 4, 7, 3]]'"
      ]
     },
     "execution_count": 19,
     "metadata": {},
     "output_type": "execute_result"
    }
   ],
   "source": [
    "llm_result.content"
   ]
  },
  {
   "cell_type": "markdown",
   "metadata": {},
   "source": [
    "LLM with function calling will produce json input to pre-specified function (\"create_matrix()\" in function call)"
   ]
  },
  {
   "cell_type": "code",
   "execution_count": 21,
   "metadata": {},
   "outputs": [
    {
     "data": {
      "text/plain": [
       "AIMessage(content='', additional_kwargs={'tool_calls': [{'id': 'call_hSJ0FnN67g7Itf0A3ZkLfyb8', 'function': {'arguments': '{\"r\":3,\"c\":5}', 'name': 'create_matrix'}, 'type': 'function'}]})"
      ]
     },
     "execution_count": 21,
     "metadata": {},
     "output_type": "execute_result"
    }
   ],
   "source": [
    "llm_result_fc = llm.invoke(\"can you create a random 3x5 matrix?\", \n",
    "                        tools = [convert_to_openai_tool(create_matrix)])\n",
    "\n",
    "llm_result_fc"
   ]
  },
  {
   "cell_type": "markdown",
   "metadata": {},
   "source": [
    "Notice that content will be null, but this will be report json input ready to be passed to actual function"
   ]
  },
  {
   "cell_type": "code",
   "execution_count": 23,
   "metadata": {},
   "outputs": [
    {
     "data": {
      "text/plain": [
       "''"
      ]
     },
     "execution_count": 23,
     "metadata": {},
     "output_type": "execute_result"
    }
   ],
   "source": [
    "llm_result_fc.content"
   ]
  },
  {
   "cell_type": "code",
   "execution_count": 64,
   "metadata": {},
   "outputs": [
    {
     "name": "stdout",
     "output_type": "stream",
     "text": [
      "{\"r\":3,\"c\":5}\n",
      "create_pandas\n"
     ]
    }
   ],
   "source": [
    "print(llm_result_fc.additional_kwargs[\"tool_calls\"][0][\"function\"][\"name\"])\n",
    "print(llm_result_fc.additional_kwargs[\"tool_calls\"][0][\"function\"][\"arguments\"])"
   ]
  },
  {
   "cell_type": "markdown",
   "metadata": {},
   "source": [
    "In the above example the regular llm was able to produce an answer for a simple request, but what would happen with a more complex request?"
   ]
  },
  {
   "cell_type": "code",
   "execution_count": 52,
   "metadata": {},
   "outputs": [
    {
     "data": {
      "text/plain": [
       "AIMessage(content=\"Sure! Here is an example code to create a pandas dataframe of size 3x5 with random numbers:\\n\\n```python\\nimport pandas as pd\\nimport numpy as np\\n\\ndata = np.random.randint(0, 100, size=(3, 5))\\ndf = pd.DataFrame(data, columns=['A', 'B', 'C', 'D', 'E'])\\n\\nprint(df)\\n```\\n\\nThis code will create a pandas dataframe with 3 rows and 5 columns filled with random numbers between 0 and 100.\")"
      ]
     },
     "execution_count": 52,
     "metadata": {},
     "output_type": "execute_result"
    }
   ],
   "source": [
    "llm_result = llm.invoke(\"can you create a pandas dataframe of 3x5 with random numbers?\")\n",
    "llm_result"
   ]
  },
  {
   "cell_type": "code",
   "execution_count": 54,
   "metadata": {},
   "outputs": [
    {
     "name": "stdout",
     "output_type": "stream",
     "text": [
      "Sure! Here is an example code to create a pandas dataframe of size 3x5 with random numbers:\n",
      "\n",
      "```python\n",
      "import pandas as pd\n",
      "import numpy as np\n",
      "\n",
      "data = np.random.randint(0, 100, size=(3, 5))\n",
      "df = pd.DataFrame(data, columns=['A', 'B', 'C', 'D', 'E'])\n",
      "\n",
      "print(df)\n",
      "```\n",
      "\n",
      "This code will create a pandas dataframe with 3 rows and 5 columns filled with random numbers between 0 and 100.\n"
     ]
    }
   ],
   "source": [
    "print(llm_result.content)"
   ]
  },
  {
   "cell_type": "code",
   "execution_count": 58,
   "metadata": {},
   "outputs": [
    {
     "name": "stdout",
     "output_type": "stream",
     "text": [
      "{\n",
      "  \"type\": \"function\",\n",
      "  \"function\": {\n",
      "    \"name\": \"create_pandas\",\n",
      "    \"description\": \"Create a pandas dataframe of random numbers of rows(r) by columns(c)\",\n",
      "    \"parameters\": {\n",
      "      \"type\": \"object\",\n",
      "      \"properties\": {\n",
      "        \"r\": {\n",
      "          \"type\": \"integer\",\n",
      "          \"description\": \"First dimension of pandas dataframe\"\n",
      "        },\n",
      "        \"c\": {\n",
      "          \"type\": \"integer\",\n",
      "          \"description\": \"Second dimension of pandas dataframe\"\n",
      "        }\n",
      "      },\n",
      "      \"required\": [\n",
      "        \"r\",\n",
      "        \"c\"\n",
      "      ]\n",
      "    }\n",
      "  }\n",
      "}\n"
     ]
    }
   ],
   "source": [
    "def create_pandas(r:int, c:int):\n",
    "    \"\"\"Create a pandas dataframe of random numbers of rows(r) by columns(c)\n",
    "\n",
    "    Args:\n",
    "        r: First dimension of pandas dataframe\n",
    "        c: Second dimension of pandas dataframe\n",
    "    \"\"\"\n",
    "\n",
    "    import numpy as np\n",
    "    import pandas as pd\n",
    "\n",
    "    m  = np.random.randn(r, c)\n",
    "    df = pd.DataFrame(m, columns=[\"a\", \"b\", \"c\", \"d\", \"e\"])\n",
    "\n",
    "    return df\n",
    "\n",
    "print(json.dumps(convert_to_openai_tool(create_pandas), indent=2))"
   ]
  },
  {
   "cell_type": "code",
   "execution_count": 59,
   "metadata": {},
   "outputs": [
    {
     "data": {
      "text/plain": [
       "AIMessage(content='', additional_kwargs={'tool_calls': [{'id': 'call_ecz0zRIuBdKKSunS9rPGAcsI', 'function': {'arguments': '{\"r\":3,\"c\":5}', 'name': 'create_pandas'}, 'type': 'function'}]})"
      ]
     },
     "execution_count": 59,
     "metadata": {},
     "output_type": "execute_result"
    }
   ],
   "source": [
    "llm_result_fc = llm.invoke(\"can you create a pandas dataframe of 3x5 with random numbers?\", \n",
    "                        tools = [convert_to_openai_tool(create_pandas)])\n",
    "\n",
    "llm_result_fc"
   ]
  },
  {
   "cell_type": "code",
   "execution_count": 65,
   "metadata": {},
   "outputs": [
    {
     "name": "stdout",
     "output_type": "stream",
     "text": [
      "create_pandas\n",
      "{\"r\":3,\"c\":5}\n"
     ]
    }
   ],
   "source": [
    "print(llm_result_fc.additional_kwargs[\"tool_calls\"][0][\"function\"][\"name\"])\n",
    "print(llm_result_fc.additional_kwargs[\"tool_calls\"][0][\"function\"][\"arguments\"])"
   ]
  },
  {
   "cell_type": "markdown",
   "metadata": {},
   "source": [
    "OK....how about something much more complex, like a figure?"
   ]
  },
  {
   "cell_type": "code",
   "execution_count": 66,
   "metadata": {},
   "outputs": [
    {
     "data": {
      "text/plain": [
       "AIMessage(content=\"Sure! Here is an example code to create a Streamlit line chart with 2 lines showing random numbers going from 0 to 100:\\n\\n```python\\nimport streamlit as st\\nimport pandas as pd\\nimport numpy as np\\n\\n# Generate random data\\ndata = pd.DataFrame({\\n    'x': np.arange(0, 101),\\n    'y1': np.random.randint(0, 101, size=101),\\n    'y2': np.random.randint(0, 101, size=101)\\n})\\n\\n# Create line chart\\nst.line_chart(data[['y1', 'y2']])\\n```\\n\\nYou can run this code in a Python environment with Streamlit installed to see the line chart with 2 lines showing random numbers.\")"
      ]
     },
     "execution_count": 66,
     "metadata": {},
     "output_type": "execute_result"
    }
   ],
   "source": [
    "llm_result = llm.invoke(\"can you create a streamlit linechart showing 2 lines with random numbers going from 0 to 100?\")\n",
    "llm_result"
   ]
  },
  {
   "cell_type": "code",
   "execution_count": 68,
   "metadata": {},
   "outputs": [
    {
     "name": "stdout",
     "output_type": "stream",
     "text": [
      "Sure! Here is an example code to create a Streamlit line chart with 2 lines showing random numbers going from 0 to 100:\n",
      "\n",
      "```python\n",
      "import streamlit as st\n",
      "import pandas as pd\n",
      "import numpy as np\n",
      "\n",
      "# Generate random data\n",
      "data = pd.DataFrame({\n",
      "    'x': np.arange(0, 101),\n",
      "    'y1': np.random.randint(0, 101, size=101),\n",
      "    'y2': np.random.randint(0, 101, size=101)\n",
      "})\n",
      "\n",
      "# Create line chart\n",
      "st.line_chart(data[['y1', 'y2']])\n",
      "```\n",
      "\n",
      "You can run this code in a Python environment with Streamlit installed to see the line chart with 2 lines showing random numbers.\n"
     ]
    }
   ],
   "source": [
    "print(llm_result.content)"
   ]
  },
  {
   "cell_type": "code",
   "execution_count": 70,
   "metadata": {},
   "outputs": [
    {
     "data": {
      "text/plain": [
       "array([ 43,  50,  39,  72,  99,  92,  88,  70,  67,  40,  92,  92,  79,\n",
       "        14,  16,   5,  85,  39,  66,  64,  70,  69,  11,  76,   6,  88,\n",
       "        83,  56,  41,   3,  26,   4,  27,  58,   5,  81,  74,  44,  51,\n",
       "        23,   0,  47,   1,  29,  55,  79,  37,  24,  89,  14,  84,  29,\n",
       "        23,  55,  40,  23,   4,  32,  58,  36,  87,   6,  72,   9,  82,\n",
       "        44,  88,  51,  18,  27, 100,  25,   7,   4,  10,  96,  56,   0,\n",
       "        23,  38,  47,  73,  69,  96,  24,  62,  29,  65,  87,  32,  29,\n",
       "        97,  46,   8,  65,  89,   9,  27,  26,  49,  74])"
      ]
     },
     "execution_count": 70,
     "metadata": {},
     "output_type": "execute_result"
    }
   ],
   "source": [
    "X"
   ]
  },
  {
   "cell_type": "code",
   "execution_count": 8,
   "metadata": {},
   "outputs": [
    {
     "name": "stdout",
     "output_type": "stream",
     "text": [
      "{\n",
      "  \"type\": \"function\",\n",
      "  \"function\": {\n",
      "    \"name\": \"create_streamlit_lines\",\n",
      "    \"description\": \"Create a streamlit linechart of n number of lines\\nof a random distribution of d numbers with the lowest number \\nbeing higher or equal to l_range\\nand the highest number being lower or equal to h_range\",\n",
      "    \"parameters\": {\n",
      "      \"type\": \"object\",\n",
      "      \"properties\": {\n",
      "        \"n\": {\n",
      "          \"type\": \"integer\",\n",
      "          \"description\": \"number of lines\"\n",
      "        },\n",
      "        \"d\": {\n",
      "          \"type\": \"integer\",\n",
      "          \"description\": \"sample size of distribution\"\n",
      "        },\n",
      "        \"l_range\": {\n",
      "          \"type\": \"integer\",\n",
      "          \"description\": \"lowest number of lines random distribution\"\n",
      "        },\n",
      "        \"h_range\": {\n",
      "          \"type\": \"integer\",\n",
      "          \"description\": \"highest number of lines random distribution\"\n",
      "        }\n",
      "      },\n",
      "      \"required\": [\n",
      "        \"n\",\n",
      "        \"d\",\n",
      "        \"l_range\",\n",
      "        \"h_range\"\n",
      "      ]\n",
      "    }\n",
      "  }\n",
      "}\n"
     ]
    }
   ],
   "source": [
    "def create_streamlit_lines(n:int, d:int, l_range:int, h_range:int):\n",
    "    \"\"\"Create a streamlit linechart of n number of lines\n",
    "    of a random distribution of d numbers with the lowest number \n",
    "    being higher or equal to l_range\n",
    "    and the highest number being lower or equal to h_range\n",
    "\n",
    "    Args:\n",
    "        n: number of lines\n",
    "        d: sample size of distribution\n",
    "        l_range: lowest number of lines random distribution\n",
    "        h_range: highest number of lines random distribution\n",
    "\n",
    "    \"\"\"\n",
    "\n",
    "    import numpy as np\n",
    "    import pandas as pd\n",
    "    import streamlit as st\n",
    "\n",
    "    df = pd.DataFrame({\n",
    "        'x': np.arange(0, d),\n",
    "        'y1': np.random.randint(l_range, h_range, size=d),\n",
    "        'y2': np.random.randint(l_range, h_range, size=d)\n",
    "    })\n",
    "\n",
    "    plot = st.line_chart(df[['y1', 'y2']])\n",
    "\n",
    "    return(plot)\n",
    "\n",
    "print(json.dumps(convert_to_openai_tool(create_streamlit_lines), indent=2))"
   ]
  },
  {
   "cell_type": "code",
   "execution_count": 9,
   "metadata": {},
   "outputs": [
    {
     "data": {
      "text/plain": [
       "AIMessage(content='', additional_kwargs={'tool_calls': [{'id': 'call_BTT5GxtClxWgi3msHs8vSoo3', 'function': {'arguments': '{\"n\": 2, \"d\": 10, \"l_range\": 1, \"h_range\": 10}', 'name': 'create_streamlit_lines'}, 'type': 'function'}, {'id': 'call_wAHV1JZIrJiNzg8CD31wbZY3', 'function': {'arguments': '{\"n\": 2, \"d\": 10, \"l_range\": 1, \"h_range\": 10}', 'name': 'create_streamlit_lines'}, 'type': 'function'}]})"
      ]
     },
     "execution_count": 9,
     "metadata": {},
     "output_type": "execute_result"
    }
   ],
   "source": [
    "llm_result_fc = llm.invoke(\"Create a streamlit figure containing 2 lines, each line being of size 10\", \n",
    "                        tools = [convert_to_openai_tool(create_streamlit_lines)])\n",
    "\n",
    "llm_result_fc"
   ]
  },
  {
   "cell_type": "code",
   "execution_count": 10,
   "metadata": {},
   "outputs": [
    {
     "name": "stdout",
     "output_type": "stream",
     "text": [
      "create_streamlit_lines\n",
      "{\"n\": 2, \"d\": 10, \"l_range\": 1, \"h_range\": 10}\n"
     ]
    }
   ],
   "source": [
    "print(llm_result_fc.additional_kwargs[\"tool_calls\"][0][\"function\"][\"name\"])\n",
    "print(llm_result_fc.additional_kwargs[\"tool_calls\"][0][\"function\"][\"arguments\"])"
   ]
  },
  {
   "cell_type": "markdown",
   "metadata": {},
   "source": [
    "As seen the function caller does a pretty good job at it, in numpy, pandas and more complex streamlit function calls. **Even when not having all arguments provided by the user, it makes pretty decent assumptions**"
   ]
  },
  {
   "cell_type": "markdown",
   "metadata": {},
   "source": [
    "How would we feed this into our function as an agent chain??"
   ]
  },
  {
   "cell_type": "code",
   "execution_count": null,
   "metadata": {},
   "outputs": [],
   "source": []
  }
 ],
 "metadata": {
  "kernelspec": {
   "display_name": "open_ai",
   "language": "python",
   "name": "python3"
  },
  "language_info": {
   "codemirror_mode": {
    "name": "ipython",
    "version": 3
   },
   "file_extension": ".py",
   "mimetype": "text/x-python",
   "name": "python",
   "nbconvert_exporter": "python",
   "pygments_lexer": "ipython3",
   "version": "3.9.16"
  }
 },
 "nbformat": 4,
 "nbformat_minor": 2
}
