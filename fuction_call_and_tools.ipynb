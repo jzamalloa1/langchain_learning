{
 "cells": [
  {
   "cell_type": "markdown",
   "metadata": {},
   "source": [
    "# Function Calling & Custom Tools\n",
    "\n",
    "Understanding differences and how to use them together"
   ]
  },
  {
   "cell_type": "code",
   "execution_count": 11,
   "metadata": {},
   "outputs": [],
   "source": [
    "import pandas as pd\n",
    "import numpy as np\n",
    "import json, os\n",
    "from langchain_openai import OpenAIEmbeddings, ChatOpenAI\n",
    "from langchain_core.utils.function_calling import convert_to_openai_tool"
   ]
  },
  {
   "cell_type": "code",
   "execution_count": 12,
   "metadata": {},
   "outputs": [],
   "source": [
    "os.environ[\"OPENAI_API_KEY\"] = \"\""
   ]
  },
  {
   "cell_type": "markdown",
   "metadata": {},
   "source": [
    "### Converting a custom python function to an OpenAI function calling tool\n",
    "\n",
    "Requires specifying type of arguments, as well as description of function and each arguments. This will be passed to convert_to_openai_tool()"
   ]
  },
  {
   "cell_type": "code",
   "execution_count": 9,
   "metadata": {},
   "outputs": [
    {
     "data": {
      "text/plain": [
       "{'type': 'function',\n",
       " 'function': {'name': 'create_matrix',\n",
       "  'description': 'Create a matrix of rows(r) by columns(c)',\n",
       "  'parameters': {'type': 'object',\n",
       "   'properties': {'r': {'type': 'integer',\n",
       "     'description': 'First dimension of matrix'},\n",
       "    'c': {'type': 'integer', 'description': 'Second dimension of matrix'}},\n",
       "   'required': ['r', 'c']}}}"
      ]
     },
     "execution_count": 9,
     "metadata": {},
     "output_type": "execute_result"
    }
   ],
   "source": [
    "def create_matrix(r:int, c:int):\n",
    "    \"\"\"Create a matrix of rows(r) by columns(c)\n",
    "\n",
    "    Args:\n",
    "        r: First dimension of matrix\n",
    "        c: Second dimension of matrix\n",
    "    \"\"\"\n",
    "\n",
    "    m = np.random.randn(r, c)\n",
    "\n",
    "    return m\n",
    "\n",
    "convert_to_openai_tool(create_matrix)"
   ]
  },
  {
   "cell_type": "code",
   "execution_count": 10,
   "metadata": {},
   "outputs": [
    {
     "name": "stdout",
     "output_type": "stream",
     "text": [
      "{\n",
      "  \"type\": \"function\",\n",
      "  \"function\": {\n",
      "    \"name\": \"create_matrix\",\n",
      "    \"description\": \"Create a matrix of rows(r) by columns(c)\",\n",
      "    \"parameters\": {\n",
      "      \"type\": \"object\",\n",
      "      \"properties\": {\n",
      "        \"r\": {\n",
      "          \"type\": \"integer\",\n",
      "          \"description\": \"First dimension of matrix\"\n",
      "        },\n",
      "        \"c\": {\n",
      "          \"type\": \"integer\",\n",
      "          \"description\": \"Second dimension of matrix\"\n",
      "        }\n",
      "      },\n",
      "      \"required\": [\n",
      "        \"r\",\n",
      "        \"c\"\n",
      "      ]\n",
      "    }\n",
      "  }\n",
      "}\n"
     ]
    }
   ],
   "source": [
    "\n",
    "print(json.dumps(convert_to_openai_tool(create_matrix), indent=2))"
   ]
  },
  {
   "cell_type": "markdown",
   "metadata": {},
   "source": [
    "### Testing (\"Binding function) custom function call built in an LLM\n",
    "\n",
    "We'll incorporate the function call as part of our model so it is \"bound\" (**binding function**) and ready to be utilized"
   ]
  },
  {
   "cell_type": "code",
   "execution_count": 13,
   "metadata": {},
   "outputs": [],
   "source": [
    "llm = ChatOpenAI(model=\"gpt-3.5-turbo\", temperature=0.1)"
   ]
  },
  {
   "cell_type": "markdown",
   "metadata": {},
   "source": [
    "Test it without function calling. LLM will produce actual answer"
   ]
  },
  {
   "cell_type": "code",
   "execution_count": 17,
   "metadata": {},
   "outputs": [
    {
     "data": {
      "text/plain": [
       "AIMessage(content='Sure, here is a random 3x5 matrix:\\n\\n[[4, 7, 2, 9, 1],\\n [3, 8, 5, 6, 2],\\n [1, 9, 4, 7, 3]]')"
      ]
     },
     "execution_count": 17,
     "metadata": {},
     "output_type": "execute_result"
    }
   ],
   "source": [
    "llm_result = llm.invoke(\"can you create a random 3x5 matrix?\")\n",
    "llm_result"
   ]
  },
  {
   "cell_type": "markdown",
   "metadata": {},
   "source": [
    "Notice that answer will be produced, but it will be produced as part of text"
   ]
  },
  {
   "cell_type": "code",
   "execution_count": 19,
   "metadata": {},
   "outputs": [
    {
     "data": {
      "text/plain": [
       "'Sure, here is a random 3x5 matrix:\\n\\n[[4, 7, 2, 9, 1],\\n [3, 8, 5, 6, 2],\\n [1, 9, 4, 7, 3]]'"
      ]
     },
     "execution_count": 19,
     "metadata": {},
     "output_type": "execute_result"
    }
   ],
   "source": [
    "llm_result.content"
   ]
  },
  {
   "cell_type": "markdown",
   "metadata": {},
   "source": [
    "LLM with function calling will produce json input to pre-specified function (\"create_matrix()\" in function call)"
   ]
  },
  {
   "cell_type": "code",
   "execution_count": 21,
   "metadata": {},
   "outputs": [
    {
     "data": {
      "text/plain": [
       "AIMessage(content='', additional_kwargs={'tool_calls': [{'id': 'call_hSJ0FnN67g7Itf0A3ZkLfyb8', 'function': {'arguments': '{\"r\":3,\"c\":5}', 'name': 'create_matrix'}, 'type': 'function'}]})"
      ]
     },
     "execution_count": 21,
     "metadata": {},
     "output_type": "execute_result"
    }
   ],
   "source": [
    "llm_result_fc = llm.invoke(\"can you create a random 3x5 matrix?\", \n",
    "                        tools = [convert_to_openai_tool(create_matrix)])\n",
    "\n",
    "llm_result_fc"
   ]
  },
  {
   "cell_type": "markdown",
   "metadata": {},
   "source": [
    "Notice that content will be null, but this will be report json input ready to be passed to actual function"
   ]
  },
  {
   "cell_type": "code",
   "execution_count": 23,
   "metadata": {},
   "outputs": [
    {
     "data": {
      "text/plain": [
       "''"
      ]
     },
     "execution_count": 23,
     "metadata": {},
     "output_type": "execute_result"
    }
   ],
   "source": [
    "llm_result_fc.content"
   ]
  },
  {
   "cell_type": "code",
   "execution_count": 45,
   "metadata": {},
   "outputs": [
    {
     "data": {
      "text/plain": [
       "[{'id': 'call_hSJ0FnN67g7Itf0A3ZkLfyb8',\n",
       "  'function': {'arguments': '{\"r\":3,\"c\":5}', 'name': 'create_matrix'},\n",
       "  'type': 'function'}]"
      ]
     },
     "execution_count": 45,
     "metadata": {},
     "output_type": "execute_result"
    }
   ],
   "source": [
    "llm_result_fc.dict()[\"additional_kwargs\"][\"tool_calls\"]"
   ]
  },
  {
   "cell_type": "code",
   "execution_count": null,
   "metadata": {},
   "outputs": [],
   "source": []
  }
 ],
 "metadata": {
  "kernelspec": {
   "display_name": "open_ai",
   "language": "python",
   "name": "python3"
  },
  "language_info": {
   "codemirror_mode": {
    "name": "ipython",
    "version": 3
   },
   "file_extension": ".py",
   "mimetype": "text/x-python",
   "name": "python",
   "nbconvert_exporter": "python",
   "pygments_lexer": "ipython3",
   "version": "3.9.16"
  }
 },
 "nbformat": 4,
 "nbformat_minor": 2
}
