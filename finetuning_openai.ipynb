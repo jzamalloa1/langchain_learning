{
 "cells": [
  {
   "cell_type": "markdown",
   "metadata": {},
   "source": [
    "### Finetuning OpenAI Model Exercise\n",
    "\n",
    "We'll finetune an OpenAI model with custom data to create a custom agent\n",
    "\n",
    "Inspiration taken from [here](https://www.youtube.com/watch?v=boHXgQ5eQic)"
   ]
  },
  {
   "cell_type": "markdown",
   "metadata": {},
   "source": []
  }
 ],
 "metadata": {
  "language_info": {
   "name": "python"
  }
 },
 "nbformat": 4,
 "nbformat_minor": 2
}
