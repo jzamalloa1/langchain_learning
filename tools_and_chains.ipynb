{
 "cells": [
  {
   "cell_type": "markdown",
   "metadata": {},
   "source": [
    "# Tools and Chains\n",
    "\n",
    "Inspiration from: https://www.youtube.com/watch?v=hI2BY7yl_Ac\n",
    "\n",
    "Side note: It might be a fun project to see if we can extract information directly from the youtube video and finalize that output into code"
   ]
  },
  {
   "cell_type": "code",
   "execution_count": 2,
   "metadata": {},
   "outputs": [],
   "source": [
    "import os\n",
    "from langchain.prompts  import PromptTemplate\n",
    "from langchain.llms import OpenAI\n",
    "from langchain.chains import LLMChain"
   ]
  },
  {
   "cell_type": "code",
   "execution_count": null,
   "metadata": {},
   "outputs": [],
   "source": [
    "# Make sure you have setup your environmental variables beforehand\n",
    "os.environ[\"OPENAI_API_KEY\"]\n",
    "os.environ[\"OPENAI_ORGANIZATION\"]"
   ]
  },
  {
   "cell_type": "markdown",
   "metadata": {},
   "source": [
    "### Basic LLM Chain: Testing fact extraction"
   ]
  },
  {
   "cell_type": "markdown",
   "metadata": {},
   "source": [
    "Start by loading in model of choice"
   ]
  },
  {
   "cell_type": "code",
   "execution_count": 22,
   "metadata": {},
   "outputs": [
    {
     "name": "stderr",
     "output_type": "stream",
     "text": [
      "/opt/homebrew/Caskroom/miniforge/base/envs/open_ai/lib/python3.9/site-packages/langchain/llms/openai.py:200: UserWarning: You are trying to use a chat model. This way of initializing it is no longer supported. Instead, please use: `from langchain.chat_models import ChatOpenAI`\n",
      "  warnings.warn(\n",
      "/opt/homebrew/Caskroom/miniforge/base/envs/open_ai/lib/python3.9/site-packages/langchain/llms/openai.py:785: UserWarning: You are trying to use a chat model. This way of initializing it is no longer supported. Instead, please use: `from langchain.chat_models import ChatOpenAI`\n",
      "  warnings.warn(\n"
     ]
    }
   ],
   "source": [
    "llm_openai = OpenAI(model_name=\"gpt-4-0613\", temperature=0, max_tokens=512)"
   ]
  },
  {
   "cell_type": "markdown",
   "metadata": {},
   "source": [
    "Let's feed an article to extract facts from, this is the free completely unstructured text"
   ]
  },
  {
   "cell_type": "code",
   "execution_count": 6,
   "metadata": {},
   "outputs": [],
   "source": [
    "article = \"\"\"\n",
    "Paris Saint-Germain soccer superstar Neymar has reportedly agreed a two-year deal to join Saudi Arabian club Al-Hilal.\n",
    "\n",
    "France’s leading sports daily L’Equipe said on its website Sunday that the PSG and Brazil forward will receive a total of 160 million euros ($175 million) over two seasons. No details were given as to how much the transfer fee would be for Neymar, who has also been linked with a return to Barcelona.\n",
    "\n",
    "The Associated Press has asked defending French champion PSG to confirm the deal. The request was not immediately answered.\n",
    "\n",
    "Neymar missed PSG’s season-opening 0-0 draw against Lorient in the French league on Saturday after training alone on Friday, with the club saying it was because he was recovering from a viral infection. But Neymar is heading for a PSG exit and could leave during the summer transfer window.\n",
    "\n",
    "The 31-year-old Brazilian joined PSG from Barcelona for a world-record fee of 222 million euros (now $244 million) six years ago, the same year Kylian Mbappe joined from Monaco in a deal worth 180 million euros.\n",
    "\n",
    "PSG had already received a world-record $332 million bid from Al-Hilal for Mbappe, who is in the last year of his contract and has been mired in a transfer standoff. Mbappe, who reportedly refused to meet with representatives from the Saudi club when they were in Paris last month, has been strongly linked with a move to Real Madrid next season on a free transfer.\n",
    "\n",
    "Tensions between Mbappe and PSG eased a little on Sunday after he was allowed to return to training following “constructive and positive talks” between the two parties.\n",
    "\n",
    "Mbappe sat out Saturday’s draw with Lorient after being left out of training. Midfielder Marco Verratti was also not selected by new coach Luis Enrique, and has been linked with a move to the Saudi league after joining PSG in 2012.\n",
    "\n",
    "\"\"\""
   ]
  },
  {
   "cell_type": "markdown",
   "metadata": {},
   "source": [
    "Article is pretty long, around 1,800 characters"
   ]
  },
  {
   "cell_type": "code",
   "execution_count": 7,
   "metadata": {},
   "outputs": [
    {
     "data": {
      "text/plain": [
       "1823"
      ]
     },
     "execution_count": 7,
     "metadata": {},
     "output_type": "execute_result"
    }
   ],
   "source": [
    "len(article)"
   ]
  },
  {
   "cell_type": "markdown",
   "metadata": {},
   "source": [
    "Example of general PromptTemplate usage"
   ]
  },
  {
   "cell_type": "code",
   "execution_count": 19,
   "metadata": {},
   "outputs": [
    {
     "name": "stdout",
     "output_type": "stream",
     "text": [
      "Extract the key facts about this piece of text. Don't include opinions. Give each fact a number and keep short sentences:\n",
      " \n",
      "Paris Saint-Germain soccer superstar Neymar has reportedly agreed a two-year deal to join Saudi Arabian club Al-Hilal.\n",
      "\n",
      "France’s leading sports daily L’Equipe said on its website Sunday that the PSG and Brazil forward will receive a total of 160 million euros ($175 million) over two seasons. No details were given as to how much the transfer fee would be for Neymar, who has also been linked with a return to Barcelona.\n",
      "\n",
      "The Associated Press has asked defending French champion PSG to confirm the deal. The request was not immediately answered.\n",
      "\n",
      "Neymar missed PSG’s season-opening 0-0 draw against Lorient in the French league on Saturday after training alone on Friday, with the club saying it was because he was recovering from a viral infection. But Neymar is heading for a PSG exit and could leave during the summer transfer window.\n",
      "\n",
      "The 31-year-old Brazilian joined PSG from Barcelona for a world-record fee of 222 million euros (now $244 million) six years ago, the same year Kylian Mbappe joined from Monaco in a deal worth 180 million euros.\n",
      "\n",
      "PSG had already received a world-record $332 million bid from Al-Hilal for Mbappe, who is in the last year of his contract and has been mired in a transfer standoff. Mbappe, who reportedly refused to meet with representatives from the Saudi club when they were in Paris last month, has been strongly linked with a move to Real Madrid next season on a free transfer.\n",
      "\n",
      "Tensions between Mbappe and PSG eased a little on Sunday after he was allowed to return to training following “constructive and positive talks” between the two parties.\n",
      "\n",
      "Mbappe sat out Saturday’s draw with Lorient after being left out of training. Midfielder Marco Verratti was also not selected by new coach Luis Enrique, and has been linked with a move to the Saudi league after joining PSG in 2012.\n",
      "\n",
      "\n"
     ]
    }
   ],
   "source": [
    "instructions = \"Extract the key facts about this piece of text. Don't include opinions. Give each fact a number and keep short sentences:\\n {text_input}\"\n",
    "\n",
    "fact_extraction_prompt = PromptTemplate(input_variables=[\"text_input\"],\n",
    "                                        template=instructions)\n",
    "print(fact_extraction_prompt.format(text_input=article))"
   ]
  },
  {
   "cell_type": "markdown",
   "metadata": {},
   "source": [
    "Now we have a template with the article we are interested on in the template. Let's go ahead to build the chain and input it"
   ]
  },
  {
   "cell_type": "markdown",
   "metadata": {},
   "source": [
    "Notice how build the chain without the actual artcile input in the prompt, but just the prompt template with the instructions"
   ]
  },
  {
   "cell_type": "code",
   "execution_count": 23,
   "metadata": {},
   "outputs": [],
   "source": [
    "fact_extraction_chain = LLMChain(llm=llm_openai, prompt=fact_extraction_prompt)"
   ]
  },
  {
   "cell_type": "markdown",
   "metadata": {},
   "source": [
    "Now we run the extraction chain with the actual article in the input \"text_input\" that we indicated in the prompt template"
   ]
  },
  {
   "cell_type": "code",
   "execution_count": 24,
   "metadata": {},
   "outputs": [
    {
     "name": "stdout",
     "output_type": "stream",
     "text": [
      "1. Paris Saint-Germain (PSG) soccer player Neymar has reportedly agreed to a two-year deal with Saudi Arabian club Al-Hilal.\n",
      "2. Neymar will receive a total of 160 million euros ($175 million) over two seasons.\n",
      "3. No details were given about the transfer fee for Neymar.\n",
      "4. Neymar has been linked with a return to Barcelona.\n",
      "5. The Associated Press has asked PSG to confirm the deal.\n",
      "6. Neymar missed PSG’s season-opening 0-0 draw against Lorient due to recovery from a viral infection.\n",
      "7. Neymar joined PSG from Barcelona for a world-record fee of 222 million euros ($244 million) six years ago.\n",
      "8. PSG received a world-record $332 million bid from Al-Hilal for Kylian Mbappe.\n",
      "9. Mbappe is in the last year of his contract and has been involved in a transfer standoff.\n",
      "10. Mbappe has been strongly linked with a move to Real Madrid next season on a free transfer.\n",
      "11. Mbappe returned to training following “constructive and positive talks” with PSG.\n",
      "12. Marco Verratti was not selected by new coach Luis Enrique and has been linked with a move to the Saudi league. \n",
      "13. Verratti joined PSG in 2012.\n"
     ]
    }
   ],
   "source": [
    "print(fact_extraction_chain.run(article))"
   ]
  },
  {
   "cell_type": "code",
   "execution_count": null,
   "metadata": {},
   "outputs": [],
   "source": []
  }
 ],
 "metadata": {
  "kernelspec": {
   "display_name": "open_ai",
   "language": "python",
   "name": "python3"
  },
  "language_info": {
   "codemirror_mode": {
    "name": "ipython",
    "version": 3
   },
   "file_extension": ".py",
   "mimetype": "text/x-python",
   "name": "python",
   "nbconvert_exporter": "python",
   "pygments_lexer": "ipython3",
   "version": "3.9.16"
  },
  "orig_nbformat": 4
 },
 "nbformat": 4,
 "nbformat_minor": 2
}
