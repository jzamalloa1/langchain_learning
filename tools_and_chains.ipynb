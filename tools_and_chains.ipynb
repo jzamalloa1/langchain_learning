{
 "cells": [
  {
   "cell_type": "markdown",
   "metadata": {},
   "source": [
    "# Tools and Chains\n",
    "\n",
    "Inspiration from: https://www.youtube.com/watch?v=hI2BY7yl_Ac\n",
    "\n",
    "Side note: It might be a fun project to see if we can extract information directly from the youtube video and finalize that output into code"
   ]
  },
  {
   "cell_type": "code",
   "execution_count": 25,
   "metadata": {},
   "outputs": [],
   "source": [
    "import os\n",
    "from langchain.prompts  import PromptTemplate\n",
    "from langchain.llms import OpenAI\n",
    "from langchain.chains import LLMChain"
   ]
  },
  {
   "cell_type": "code",
   "execution_count": null,
   "metadata": {},
   "outputs": [],
   "source": [
    "# Make sure you have setup your environmental variables beforehand\n",
    "os.environ[\"OPENAI_API_KEY\"]\n",
    "os.environ[\"OPENAI_ORGANIZATION\"]"
   ]
  },
  {
   "cell_type": "markdown",
   "metadata": {},
   "source": [
    "### Basic LLM Chain: Testing fact extraction"
   ]
  },
  {
   "cell_type": "markdown",
   "metadata": {},
   "source": [
    "Start by loading in model of choice"
   ]
  },
  {
   "cell_type": "code",
   "execution_count": 27,
   "metadata": {},
   "outputs": [],
   "source": [
    "llm_openai = OpenAI(model_name=\"gpt-4-0613\", temperature=0, max_tokens=512)"
   ]
  },
  {
   "cell_type": "markdown",
   "metadata": {},
   "source": [
    "Let's feed an article to extract facts from, this is the free completely unstructured text"
   ]
  },
  {
   "cell_type": "code",
   "execution_count": 28,
   "metadata": {},
   "outputs": [],
   "source": [
    "article = \"\"\"\n",
    "Paris Saint-Germain soccer superstar Neymar has reportedly agreed a two-year deal to join Saudi Arabian club Al-Hilal.\n",
    "\n",
    "France’s leading sports daily L’Equipe said on its website Sunday that the PSG and Brazil forward will receive a total of 160 million euros ($175 million) over two seasons. No details were given as to how much the transfer fee would be for Neymar, who has also been linked with a return to Barcelona.\n",
    "\n",
    "The Associated Press has asked defending French champion PSG to confirm the deal. The request was not immediately answered.\n",
    "\n",
    "Neymar missed PSG’s season-opening 0-0 draw against Lorient in the French league on Saturday after training alone on Friday, with the club saying it was because he was recovering from a viral infection. But Neymar is heading for a PSG exit and could leave during the summer transfer window.\n",
    "\n",
    "The 31-year-old Brazilian joined PSG from Barcelona for a world-record fee of 222 million euros (now $244 million) six years ago, the same year Kylian Mbappe joined from Monaco in a deal worth 180 million euros.\n",
    "\n",
    "PSG had already received a world-record $332 million bid from Al-Hilal for Mbappe, who is in the last year of his contract and has been mired in a transfer standoff. Mbappe, who reportedly refused to meet with representatives from the Saudi club when they were in Paris last month, has been strongly linked with a move to Real Madrid next season on a free transfer.\n",
    "\n",
    "Tensions between Mbappe and PSG eased a little on Sunday after he was allowed to return to training following “constructive and positive talks” between the two parties.\n",
    "\n",
    "Mbappe sat out Saturday’s draw with Lorient after being left out of training. Midfielder Marco Verratti was also not selected by new coach Luis Enrique, and has been linked with a move to the Saudi league after joining PSG in 2012.\n",
    "\n",
    "\"\"\""
   ]
  },
  {
   "cell_type": "markdown",
   "metadata": {},
   "source": [
    "Article is pretty long, around 1,800 characters"
   ]
  },
  {
   "cell_type": "code",
   "execution_count": 29,
   "metadata": {},
   "outputs": [
    {
     "data": {
      "text/plain": [
       "1823"
      ]
     },
     "execution_count": 29,
     "metadata": {},
     "output_type": "execute_result"
    }
   ],
   "source": [
    "len(article)"
   ]
  },
  {
   "cell_type": "markdown",
   "metadata": {},
   "source": [
    "Example of general PromptTemplate usage"
   ]
  },
  {
   "cell_type": "code",
   "execution_count": 30,
   "metadata": {},
   "outputs": [
    {
     "name": "stdout",
     "output_type": "stream",
     "text": [
      "Extract the key facts about this piece of text. Don't include opinions. Give each fact a number and keep short sentences:\n",
      " \n",
      "Paris Saint-Germain soccer superstar Neymar has reportedly agreed a two-year deal to join Saudi Arabian club Al-Hilal.\n",
      "\n",
      "France’s leading sports daily L’Equipe said on its website Sunday that the PSG and Brazil forward will receive a total of 160 million euros ($175 million) over two seasons. No details were given as to how much the transfer fee would be for Neymar, who has also been linked with a return to Barcelona.\n",
      "\n",
      "The Associated Press has asked defending French champion PSG to confirm the deal. The request was not immediately answered.\n",
      "\n",
      "Neymar missed PSG’s season-opening 0-0 draw against Lorient in the French league on Saturday after training alone on Friday, with the club saying it was because he was recovering from a viral infection. But Neymar is heading for a PSG exit and could leave during the summer transfer window.\n",
      "\n",
      "The 31-year-old Brazilian joined PSG from Barcelona for a world-record fee of 222 million euros (now $244 million) six years ago, the same year Kylian Mbappe joined from Monaco in a deal worth 180 million euros.\n",
      "\n",
      "PSG had already received a world-record $332 million bid from Al-Hilal for Mbappe, who is in the last year of his contract and has been mired in a transfer standoff. Mbappe, who reportedly refused to meet with representatives from the Saudi club when they were in Paris last month, has been strongly linked with a move to Real Madrid next season on a free transfer.\n",
      "\n",
      "Tensions between Mbappe and PSG eased a little on Sunday after he was allowed to return to training following “constructive and positive talks” between the two parties.\n",
      "\n",
      "Mbappe sat out Saturday’s draw with Lorient after being left out of training. Midfielder Marco Verratti was also not selected by new coach Luis Enrique, and has been linked with a move to the Saudi league after joining PSG in 2012.\n",
      "\n",
      "\n"
     ]
    }
   ],
   "source": [
    "template = \"Extract the key facts about this piece of text. Don't include opinions. Give each fact a number and keep short sentences:\\n {text_input}\"\n",
    "\n",
    "fact_extraction_prompt = PromptTemplate(input_variables=[\"text_input\"],\n",
    "                                        template=template)\n",
    "print(fact_extraction_prompt.format(text_input=article))"
   ]
  },
  {
   "cell_type": "markdown",
   "metadata": {},
   "source": [
    "Now we have a template with the article we are interested on in the template. Let's go ahead to build the chain and input it"
   ]
  },
  {
   "cell_type": "markdown",
   "metadata": {},
   "source": [
    "Notice how build the chain without the actual artcile input in the prompt, but just the prompt template with the instructions"
   ]
  },
  {
   "cell_type": "code",
   "execution_count": 31,
   "metadata": {},
   "outputs": [],
   "source": [
    "fact_extraction_chain = LLMChain(llm=llm_openai, prompt=fact_extraction_prompt)"
   ]
  },
  {
   "cell_type": "markdown",
   "metadata": {},
   "source": [
    "Now we run the extraction chain with the actual article in the input \"text_input\" that we indicated in the prompt template"
   ]
  },
  {
   "cell_type": "code",
   "execution_count": 34,
   "metadata": {},
   "outputs": [
    {
     "name": "stdout",
     "output_type": "stream",
     "text": [
      "1. Paris Saint-Germain (PSG) soccer player Neymar has reportedly agreed to a two-year deal with Saudi Arabian club Al-Hilal.\n",
      "2. Neymar will receive a total of 160 million euros ($175 million) over two seasons.\n",
      "3. No details were given about the transfer fee for Neymar.\n",
      "4. Neymar has been linked with a return to Barcelona.\n",
      "5. The Associated Press has asked PSG to confirm the deal.\n",
      "6. Neymar missed PSG’s season-opening 0-0 draw against Lorient due to recovery from a viral infection.\n",
      "7. Neymar joined PSG from Barcelona for a world-record fee of 222 million euros ($244 million) six years ago.\n",
      "8. PSG received a world-record $332 million bid from Al-Hilal for Kylian Mbappe.\n",
      "9. Mbappe is in the last year of his contract and has been involved in a transfer standoff.\n",
      "10. Mbappe has been strongly linked with a move to Real Madrid next season on a free transfer.\n",
      "11. Mbappe returned to training following “constructive and positive talks” with PSG.\n",
      "12. Marco Verratti was not selected by new coach Luis Enrique and has been linked with a move to the Saudi league. \n",
      "13. Verratti joined PSG in 2012.\n"
     ]
    }
   ],
   "source": [
    "facts = fact_extraction_chain.run(article)\n",
    "print(facts)"
   ]
  },
  {
   "cell_type": "markdown",
   "metadata": {},
   "source": [
    "### Building a Chain manually passing sequential LLM outputs"
   ]
  },
  {
   "cell_type": "markdown",
   "metadata": {},
   "source": [
    "We are going to write an additional LLM that is instructed in the PromptTemplate to take a list of facts (i.e. the one we produced before) and use it to write a paragraph to be used to investors in the MLS"
   ]
  },
  {
   "cell_type": "code",
   "execution_count": 35,
   "metadata": {},
   "outputs": [],
   "source": [
    "investor_update_prompt = PromptTemplate(\n",
    "    input_variables=[\"facts\"],\n",
    "    template=\"You are an MLS Soccer Analyst. Take the following list of facts and use them to write a short paragraph for potential ivestors in the league. Don't leave out key info:\\n\\n {facts}\"\n",
    ")"
   ]
  },
  {
   "cell_type": "markdown",
   "metadata": {},
   "source": [
    "We feed in the prompt into a new chain and run it with the facts extracted in the previous LLMChain"
   ]
  },
  {
   "cell_type": "code",
   "execution_count": 36,
   "metadata": {},
   "outputs": [
    {
     "name": "stdout",
     "output_type": "stream",
     "text": [
      "1346\n",
      "Paris Saint-Germain (PSG) soccer star Neymar has reportedly agreed to a two-year deal with Saudi Arabian club Al-Hilal, a move that will see him earn a total of 160 million euros ($175 million) over two seasons. This comes after Neymar's six-year stint with PSG, which he joined from Barcelona for a world-record fee of 222 million euros ($244 million). The details of the transfer fee for Neymar to Al-Hilal have not been disclosed. Neymar's move comes amidst speculation of a return to Barcelona and after missing PSG’s season-opening 0-0 draw against Lorient due to recovery from a viral infection. \n",
      "\n",
      "In addition to Neymar's move, PSG has received a world-record $332 million bid from Al-Hilal for Kylian Mbappe, who is in the last year of his contract and has been involved in a transfer standoff. Mbappe, who has been strongly linked with a move to Real Madrid next season on a free transfer, recently returned to training following “constructive and positive talks” with PSG. \n",
      "\n",
      "Furthermore, Marco Verratti, who joined PSG in 2012, has been linked with a move to the Saudi league after not being selected by new coach Luis Enrique. The Associated Press has asked PSG to confirm these deals, indicating the global interest in these potential transfers. These developments present significant investment opportunities in the MLS Soccer league.\n"
     ]
    }
   ],
   "source": [
    "investor_update_chain = LLMChain(llm=llm_openai, prompt=investor_update_prompt)\n",
    "\n",
    "investor_update = investor_update_chain.run(facts)\n",
    "\n",
    "print(len(investor_update))\n",
    "print(investor_update)"
   ]
  },
  {
   "cell_type": "markdown",
   "metadata": {},
   "source": [
    "Let's show an example of what this would be like for generating something that might be more useful and practical to pass to code/output, like a knowledge graph formatted text"
   ]
  },
  {
   "cell_type": "code",
   "execution_count": 38,
   "metadata": {},
   "outputs": [
    {
     "name": "stdout",
     "output_type": "stream",
     "text": [
      "1. (\"Neymar\", \"agreed to a two-year deal with\", \"Al-Hilal\")\n",
      "2. (\"Neymar\", \"will receive\", \"160 million euros over two seasons\")\n",
      "3. (\"Neymar\", \"transfer fee\", \"unknown\")\n",
      "4. (\"Neymar\", \"has been linked with a return to\", \"Barcelona\")\n",
      "5. (\"The Associated Press\", \"asked\", \"PSG to confirm the deal\")\n",
      "6. (\"Neymar\", \"missed\", \"PSG’s season-opening 0-0 draw against Lorient due to recovery from a viral infection\")\n",
      "7. (\"Neymar\", \"joined\", \"PSG from Barcelona for a world-record fee of 222 million euros six years ago\")\n",
      "8. (\"PSG\", \"received\", \"a world-record $332 million bid from Al-Hilal for Kylian Mbappe\")\n",
      "9. (\"Kylian Mbappe\", \"is in\", \"the last year of his contract and has been involved in a transfer standoff\")\n",
      "10. (\"Kylian Mbappe\", \"has been strongly linked with a move to\", \"Real Madrid next season on a free transfer\")\n",
      "11. (\"Kylian Mbappe\", \"returned to\", \"training following constructive and positive talks with PSG\")\n",
      "12. (\"Marco Verratti\", \"has been linked with a move to\", \"the Saudi league\")\n",
      "13. (\"Marco Verratti\", \"joined\", \"PSG in 2012\").\n"
     ]
    }
   ],
   "source": [
    "kg_prompt = PromptTemplate(\n",
    "    input_variables=[\"facts\"],\n",
    "    template=\"Take this list of facts and turn them into triples for a knowledge graph:\\n\\n {facts}\"\n",
    ")\n",
    "\n",
    "kg_chain = LLMChain(llm=llm_openai, prompt=kg_prompt)\n",
    "\n",
    "print(kg_chain.run(facts))"
   ]
  },
  {
   "cell_type": "markdown",
   "metadata": {},
   "source": [
    "### Now let's actually Chain all of these LLMs together"
   ]
  },
  {
   "cell_type": "code",
   "execution_count": 40,
   "metadata": {},
   "outputs": [],
   "source": [
    "from langchain.chains import SimpleSequentialChain, SequentialChain"
   ]
  },
  {
   "cell_type": "markdown",
   "metadata": {},
   "source": [
    "We'll put both designed chains above in the same Sequential Chain and feed in the original input"
   ]
  },
  {
   "cell_type": "code",
   "execution_count": 41,
   "metadata": {},
   "outputs": [
    {
     "name": "stdout",
     "output_type": "stream",
     "text": [
      "\n",
      "\n",
      "\u001b[1m> Entering new SimpleSequentialChain chain...\u001b[0m\n",
      "\u001b[36;1m\u001b[1;3m1. Paris Saint-Germain (PSG) soccer player Neymar has reportedly agreed to a two-year deal with Saudi Arabian club Al-Hilal.\n",
      "2. Neymar will receive a total of 160 million euros ($175 million) over two seasons.\n",
      "3. No details were given about the transfer fee for Neymar.\n",
      "4. Neymar has been linked with a return to Barcelona.\n",
      "5. The Associated Press has asked PSG to confirm the deal.\n",
      "6. Neymar missed PSG’s season-opening 0-0 draw against Lorient due to recovery from a viral infection.\n",
      "7. Neymar joined PSG from Barcelona for a world-record fee of 222 million euros ($244 million) six years ago.\n",
      "8. PSG received a world-record $332 million bid from Al-Hilal for Kylian Mbappe.\n",
      "9. Mbappe is in the last year of his contract and has been involved in a transfer standoff.\n",
      "10. Mbappe has been strongly linked with a move to Real Madrid next season on a free transfer.\n",
      "11. Tensions between Mbappe and PSG eased after he was allowed to return to training.\n",
      "12. Mbappe sat out Saturday’s draw with Lorient after being left out of training.\n",
      "13. Midfielder Marco Verratti was also not selected by new coach Luis Enrique, and has been linked with a move to the Saudi league.\n",
      "14. Marco Verratti joined PSG in 2012.\u001b[0m\n",
      "\u001b[33;1m\u001b[1;3mParis Saint-Germain (PSG) is experiencing significant player movement, which could potentially impact the Major League Soccer (MLS) market. Neymar, a key player for PSG, has reportedly agreed to a two-year deal with Saudi Arabian club Al-Hilal, worth a total of 160 million euros ($175 million). The transfer fee details remain undisclosed. Neymar's move comes after a period of speculation about a potential return to Barcelona and his absence from PSG's season-opening draw due to a viral infection. \n",
      "\n",
      "In addition to Neymar, PSG is also dealing with a potential transfer of Kylian Mbappe, who has been involved in a standoff over his contract, which is in its final year. Al-Hilal has made a world-record bid of $332 million for Mbappe, who has been strongly linked with a move to Real Madrid next season on a free transfer. \n",
      "\n",
      "Furthermore, midfielder Marco Verratti, who joined PSG in 2012, has been linked with a move to the Saudi league. These developments could potentially open up opportunities for MLS clubs to attract high-profile players, thereby increasing the league's global appeal and market value. The Associated Press has reached out to PSG for confirmation of these deals.\u001b[0m\n",
      "\n",
      "\u001b[1m> Finished chain.\u001b[0m\n"
     ]
    }
   ],
   "source": [
    "full_chain = SimpleSequentialChain(chains=[fact_extraction_chain, investor_update_chain], verbose=True)\n",
    "\n",
    "response = full_chain.run(article)"
   ]
  },
  {
   "cell_type": "markdown",
   "metadata": {},
   "source": [
    "We could actually see process and middle inputs/outputs above. The actual results stored in the variable will be the final chain response"
   ]
  },
  {
   "cell_type": "code",
   "execution_count": 42,
   "metadata": {},
   "outputs": [
    {
     "name": "stdout",
     "output_type": "stream",
     "text": [
      "Paris Saint-Germain (PSG) is experiencing significant player movement, which could potentially impact the Major League Soccer (MLS) market. Neymar, a key player for PSG, has reportedly agreed to a two-year deal with Saudi Arabian club Al-Hilal, worth a total of 160 million euros ($175 million). The transfer fee details remain undisclosed. Neymar's move comes after a period of speculation about a potential return to Barcelona and his absence from PSG's season-opening draw due to a viral infection. \n",
      "\n",
      "In addition to Neymar, PSG is also dealing with a potential transfer of Kylian Mbappe, who has been involved in a standoff over his contract, which is in its final year. Al-Hilal has made a world-record bid of $332 million for Mbappe, who has been strongly linked with a move to Real Madrid next season on a free transfer. \n",
      "\n",
      "Furthermore, midfielder Marco Verratti, who joined PSG in 2012, has been linked with a move to the Saudi league. These developments could potentially open up opportunities for MLS clubs to attract high-profile players, thereby increasing the league's global appeal and market value. The Associated Press has reached out to PSG for confirmation of these deals.\n"
     ]
    }
   ],
   "source": [
    "print(response)"
   ]
  },
  {
   "cell_type": "code",
   "execution_count": null,
   "metadata": {},
   "outputs": [],
   "source": []
  }
 ],
 "metadata": {
  "kernelspec": {
   "display_name": "open_ai",
   "language": "python",
   "name": "python3"
  },
  "language_info": {
   "codemirror_mode": {
    "name": "ipython",
    "version": 3
   },
   "file_extension": ".py",
   "mimetype": "text/x-python",
   "name": "python",
   "nbconvert_exporter": "python",
   "pygments_lexer": "ipython3",
   "version": "3.9.16"
  },
  "orig_nbformat": 4
 },
 "nbformat": 4,
 "nbformat_minor": 2
}
