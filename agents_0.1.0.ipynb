{
 "cells": [
  {
   "cell_type": "markdown",
   "metadata": {},
   "source": [
    "### New Agent Framework with Langchain Release v0.1.0\n",
    "\n",
    "<p>\n",
    "<img src=\"https://blog.langchain.dev/content/images/size/w1248/format/webp/2024/01/V0.1.0_Export--1-.png\" \n",
    "      width=\"35%\" height=\"auto\"\n",
    "      style=\"display: block; margin: 0 auto\" />\n",
    "\n",
    "[Update notes](https://blog.langchain.dev/langchain-v0-1-0/)"
   ]
  },
  {
   "cell_type": "markdown",
   "metadata": {},
   "source": [
    "# Agents\n",
    "\n",
    "We are going to learn how to build tools first, which are the engine making agents work"
   ]
  },
  {
   "cell_type": "markdown",
   "metadata": {},
   "source": [
    "We'll work with two tools: A **search engine tool** and a **RAG tool**"
   ]
  },
  {
   "cell_type": "code",
   "execution_count": 152,
   "metadata": {},
   "outputs": [],
   "source": [
    "import os\n",
    "from langchain.text_splitter import RecursiveCharacterTextSplitter\n",
    "from langchain_community.tools.tavily_search import TavilySearchResults\n",
    "from langchain_community.document_loaders import WebBaseLoader, Docx2txtLoader, UnstructuredWordDocumentLoader, PyPDFLoader\n",
    "from langchain_community.vectorstores import Chroma, FAISS\n",
    "from langchain_core.runnables import RunnableLambda, RunnablePassthrough\n",
    "from langchain_core.output_parsers import StrOutputParser\n",
    "from langchain_openai import OpenAIEmbeddings, ChatOpenAI\n",
    "from langchain import hub\n",
    "from langchain.tools.retriever import create_retriever_tool\n",
    "from langchain.agents import create_openai_functions_agent, AgentExecutor"
   ]
  },
  {
   "cell_type": "code",
   "execution_count": 2,
   "metadata": {},
   "outputs": [],
   "source": [
    "os.environ[\"LANGCHAIN_TRACING_V2\"] = \"true\"\n",
    "os.environ[\"LANGCHAIN_API_KEY\"] = \"\"\n",
    "os.environ[\"TAVILY_API_KEY\"] = \"\"\n",
    "os.environ[\"OPENAI_API_KEY\"] = \"\"\n"
   ]
  },
  {
   "cell_type": "markdown",
   "metadata": {},
   "source": [
    "### Setup the Search Engine Tool\n",
    "\n",
    "Load the Langchain built-in tool Tavily for live online search"
   ]
  },
  {
   "cell_type": "code",
   "execution_count": 3,
   "metadata": {},
   "outputs": [],
   "source": [
    "online_search = TavilySearchResults()"
   ]
  },
  {
   "cell_type": "code",
   "execution_count": 7,
   "metadata": {},
   "outputs": [
    {
     "data": {
      "text/plain": [
       "[{'url': 'https://www.alaskacommons.com/sporting-cristal-vs-sport-boys-live-rimenses-win-3-0-in-liga-1-apertura-2024/123235/',\n",
       "  'content': 'Sporting Cristal vs Sport Boys LIVE: ‘Rimenses’ win 3-0 in Liga 1 Apertura 2024 February 4, 2024 // News Team  duel being between Sporting Cristal and Sport Boys. Both teams have a rich history and aim to be protagonists in League  in defense for Cristal.  Sporting Cristal is leading 3-0 against Sport Boys at the end of the first half. Cazonatti scored a goal for SportingFebruary 4, 2024 // News Team Sporting Cristal is leading 3-0 against Sport Boys at the end of the first half. Cazonatti scored a goal for Sporting Cristal, establishing their lead in Callao. Quispe almost made a mistake by failing to catch a cross from Ignácio. Sport Boys are struggling to put together passes and create offensive plays.'},\n",
       " {'url': 'https://www.vsstats.com/football/2024-02-04/sport-boys-vs-sporting-cristal',\n",
       "  'content': 'Sport Boys VS Sporting Cristal Team Stats Primera Division H2H Last matches Line Up Injuries Standings Primera Division  Sporting Cristal Trend :  Sport Boys Trend :  Share This Match ABOUT VSstats offers you Football Statistics and Livescore covering more than 1000+ leagues.Primera Division Sport Boys vs Sporting Cristal match preview on 04.02.2024: team stats, match H2H, last results, lineups, injuries, standings, pre-match odds, over/under trend, BTTS trend'}]"
      ]
     },
     "execution_count": 7,
     "metadata": {},
     "output_type": "execute_result"
    }
   ],
   "source": [
    "online_search.invoke(\"Cuanto quedo el Boys contra el Cristal?\")"
   ]
  },
  {
   "cell_type": "markdown",
   "metadata": {},
   "source": [
    "### Setup the Retriever tool\n",
    "\n",
    "Recall that retrievers need:\n",
    "1. Source text\n",
    "2. Document loader\n",
    "3. Text splitter\n",
    "4. Embedding model\n",
    "5. Vector store\n",
    "6. Actual retriever"
   ]
  },
  {
   "cell_type": "markdown",
   "metadata": {},
   "source": [
    "<p>\n",
    "<img src=\"ILLUSTRATIONS/retriever_diagram.png\" \n",
    "      width=\"75%\" height=\"auto\"\n",
    "      style=\"display: block; margin: 0 auto\" />\n",
    "\n",
    "Illustration [reference](https://python.langchain.com/docs/use_cases/question_answering/)"
   ]
  },
  {
   "cell_type": "markdown",
   "metadata": {},
   "source": [
    "#### We'll try two different word docx loaders and one pdf loader (word doc converted to pdf)"
   ]
  },
  {
   "cell_type": "code",
   "execution_count": 4,
   "metadata": {},
   "outputs": [],
   "source": [
    "loader = UnstructuredWordDocumentLoader(\"sample_docs/WebMD_PBM_ETL_5.0.1_20170606.docx\", mode=\"elements\")\n",
    "docs = loader.load()"
   ]
  },
  {
   "cell_type": "code",
   "execution_count": 33,
   "metadata": {},
   "outputs": [
    {
     "name": "stdout",
     "output_type": "stream",
     "text": [
      "216\n"
     ]
    },
    {
     "data": {
      "text/plain": [
       "[Document(page_content='Source Data Mapping Approach to CDMV5.0.1', metadata={'source': 'sample_docs/WebMD_PBM_ETL_5.0.1_20170606.docx', 'category_depth': 0, 'last_modified': '2024-02-04T20:19:13', 'page_number': 1, 'languages': ['eng'], 'file_directory': 'sample_docs', 'filename': 'WebMD_PBM_ETL_5.0.1_20170606.docx', 'filetype': 'application/vnd.openxmlformats-officedocument.wordprocessingml.document', 'category': 'Title'}),\n",
       " Document(page_content='', metadata={'source': 'sample_docs/WebMD_PBM_ETL_5.0.1_20170606.docx', 'languages': ['eng'], 'file_directory': 'sample_docs', 'filename': 'WebMD_PBM_ETL_5.0.1_20170606.docx', 'filetype': 'application/vnd.openxmlformats-officedocument.wordprocessingml.document', 'category': 'PageBreak'}),\n",
       " Document(page_content='Table name: stem_table', metadata={'source': 'sample_docs/WebMD_PBM_ETL_5.0.1_20170606.docx', 'category_depth': 0, 'last_modified': '2024-02-04T20:19:13', 'page_number': 2, 'languages': ['eng'], 'file_directory': 'sample_docs', 'filename': 'WebMD_PBM_ETL_5.0.1_20170606.docx', 'filetype': 'application/vnd.openxmlformats-officedocument.wordprocessingml.document', 'category': 'Title'}),\n",
       " Document(page_content='Reading from sample_medical_claims_20170502.csv', metadata={'source': 'sample_docs/WebMD_PBM_ETL_5.0.1_20170606.docx', 'category_depth': 0, 'last_modified': '2024-02-04T20:19:13', 'page_number': 2, 'languages': ['eng'], 'parent_id': 'd5616637803e75a3291f57e33775368d', 'file_directory': 'sample_docs', 'filename': 'WebMD_PBM_ETL_5.0.1_20170606.docx', 'filetype': 'application/vnd.openxmlformats-officedocument.wordprocessingml.document', 'category': 'NarrativeText'}),\n",
       " Document(page_content='We pull all data into the STEM and we then allow the Vocabulary to decide which CDM table the data lands in.', metadata={'source': 'sample_docs/WebMD_PBM_ETL_5.0.1_20170606.docx', 'category_depth': 0, 'last_modified': '2024-02-04T20:19:13', 'page_number': 2, 'languages': ['eng'], 'parent_id': 'd5616637803e75a3291f57e33775368d', 'file_directory': 'sample_docs', 'filename': 'WebMD_PBM_ETL_5.0.1_20170606.docx', 'filetype': 'application/vnd.openxmlformats-officedocument.wordprocessingml.document', 'category': 'NarrativeText'})]"
      ]
     },
     "execution_count": 33,
     "metadata": {},
     "output_type": "execute_result"
    }
   ],
   "source": [
    "print(len(docs))\n",
    "docs[:5]"
   ]
  },
  {
   "cell_type": "code",
   "execution_count": 25,
   "metadata": {},
   "outputs": [
    {
     "data": {
      "text/plain": [
       "47031"
      ]
     },
     "execution_count": 25,
     "metadata": {},
     "output_type": "execute_result"
    }
   ],
   "source": [
    "sum([len(docs[i].dict()[\"page_content\"]) for i in range(len(docs))])"
   ]
  },
  {
   "cell_type": "code",
   "execution_count": 5,
   "metadata": {},
   "outputs": [],
   "source": [
    "pdf_loader = PyPDFLoader(\"sample_docs/WebMD_PBM_ETL_5.0.1_20170606.pdf\")\n",
    "pdf_pages = loader.load_and_split()"
   ]
  },
  {
   "cell_type": "code",
   "execution_count": 34,
   "metadata": {},
   "outputs": [
    {
     "name": "stdout",
     "output_type": "stream",
     "text": [
      "187\n"
     ]
    },
    {
     "data": {
      "text/plain": [
       "[Document(page_content='Source Data Mapping Approach to CDMV5.0.1', metadata={'source': 'sample_docs/WebMD_PBM_ETL_5.0.1_20170606.docx', 'category_depth': 0, 'last_modified': '2024-02-04T20:19:13', 'page_number': 1, 'languages': ['eng'], 'file_directory': 'sample_docs', 'filename': 'WebMD_PBM_ETL_5.0.1_20170606.docx', 'filetype': 'application/vnd.openxmlformats-officedocument.wordprocessingml.document', 'category': 'Title'}),\n",
       " Document(page_content='Table name: stem_table', metadata={'source': 'sample_docs/WebMD_PBM_ETL_5.0.1_20170606.docx', 'category_depth': 0, 'last_modified': '2024-02-04T20:19:13', 'page_number': 2, 'languages': ['eng'], 'file_directory': 'sample_docs', 'filename': 'WebMD_PBM_ETL_5.0.1_20170606.docx', 'filetype': 'application/vnd.openxmlformats-officedocument.wordprocessingml.document', 'category': 'Title'}),\n",
       " Document(page_content='Reading from sample_medical_claims_20170502.csv', metadata={'source': 'sample_docs/WebMD_PBM_ETL_5.0.1_20170606.docx', 'category_depth': 0, 'last_modified': '2024-02-04T20:19:13', 'page_number': 2, 'languages': ['eng'], 'parent_id': 'd5616637803e75a3291f57e33775368d', 'file_directory': 'sample_docs', 'filename': 'WebMD_PBM_ETL_5.0.1_20170606.docx', 'filetype': 'application/vnd.openxmlformats-officedocument.wordprocessingml.document', 'category': 'NarrativeText'}),\n",
       " Document(page_content='We pull all data into the STEM and we then allow the Vocabulary to decide which CDM table the data lands in.', metadata={'source': 'sample_docs/WebMD_PBM_ETL_5.0.1_20170606.docx', 'category_depth': 0, 'last_modified': '2024-02-04T20:19:13', 'page_number': 2, 'languages': ['eng'], 'parent_id': 'd5616637803e75a3291f57e33775368d', 'file_directory': 'sample_docs', 'filename': 'WebMD_PBM_ETL_5.0.1_20170606.docx', 'filetype': 'application/vnd.openxmlformats-officedocument.wordprocessingml.document', 'category': 'NarrativeText'}),\n",
       " Document(page_content='EXTRA COLUMNS FOR STEM', metadata={'source': 'sample_docs/WebMD_PBM_ETL_5.0.1_20170606.docx', 'category_depth': 0, 'last_modified': '2024-02-04T20:19:13', 'page_number': 2, 'languages': ['eng'], 'file_directory': 'sample_docs', 'filename': 'WebMD_PBM_ETL_5.0.1_20170606.docx', 'filetype': 'application/vnd.openxmlformats-officedocument.wordprocessingml.document', 'category': 'Title'})]"
      ]
     },
     "execution_count": 34,
     "metadata": {},
     "output_type": "execute_result"
    }
   ],
   "source": [
    "print(len(pdf_pages))\n",
    "pdf_pages[:5]"
   ]
  },
  {
   "cell_type": "code",
   "execution_count": 32,
   "metadata": {},
   "outputs": [
    {
     "data": {
      "text/plain": [
       "'Using DIAGNOSIS_PRIORITY: 1 = 44786627 - Primary Condition 2+ = 44786629 - Secondary Condition PROCEDURE_CODE: ================ Using PRINCIPAL_PROC_IND 1= 44786630 Primary Procedure NULL/\\'\\' = 44786631-Secondary Procedure =====PHARMACY_CLAIMS===== ========================== NDC_CODE ========= When DATA_VENDOR = \"WebMD\" then 38000175 /*Prescription dispensed in pharmacy*/ When DATA_VENDOR = \"Private Source 17\" then 38000177 /*Prescription written*/ ELSE 0 For \"Private Source 17\" we are requesting a new data type of \"Drug from Claim\" start_date DATE end_date DATE start_time TIME NULL days_supply INTEGER =====MEDICAL_CLAIMS===== ======================== NULL =====PHARMACY_CLAIMS===== ========================== NDC_CODE ========= DAYS_SUPPLY dose_unit_concept_id INTEGER 0 dose_unit_source_value CHARACTER VARYING NULL effective_drug_dose FLOAT NULL lot_number CHARACTER VARYING NULL modifier_concept_id INTEGER =====MEDICAL_CLAIMS===== ======================== DIAGNOSIS_CODE: ================ 0 PROCEDURE_CODE: ================ Using PROCEDURE_MODIFIER_1 Use the code in Section 3.1.1. When mapping PROCEDURE_CODE determine what the VOCABULARY_ID is, then you\\'ll need to use the \"Modifier\" vocabulary for that same VOCABULARY.  Example, if you the PROCEDURE_CODE\\'s VOCABULARY_ID is CPT4 then the MODIFIER_CONCEPT_ID should use the following map: WHERE SOURCE_CONCEPT_CLASS_ID IN (\\'CPT4 Modifier\\') AND TARGET_CONCEPT_CLASS_ID IN (\\'CPT4 Modifier\\') The list of modifiers are: --CPT4 Modifier --HCPC modifier It is limitation that we are not pulling over PROCEDURE_MODIFIER_2-4 however they are only used about 3% of the time. =====PHARMACY_CLAIMS===== ========================== 0 operator_concept_id INTEGER 0 qualifier_concept_id INTEGER 0 qualifier_source_value CHARACTER VARYING NULL quantity INTEGER =====MEDICAL_CLAIMS===== ======================== DIAGNOSIS_CODE: ================ NULL PROCEDURE_CODE: ================ Use PROCEDURE_UNITS as is =====PHARMACY_CLAIMS===== ========================== NDC_CODE: ========= DISPENSED_QUANTITY range_high FLOAT NULL range_low FLOAT NULL refills INTEGER =====MEDICAL_CLAIMS===== ======================== NULL =====PHARMACY_CLAIMS===== ========================== NDC_CODE: ========= REFILL_AUTH_AMOUNT route_concept_id INTEGER 0 route_source_value CHARACTER VARYING NULL sig CHARACTER VARYING NULL stop_reason CHARACTER VARYING NULL unique_device_id CHARACTER VARYING NULL unit_concept_id INTEGER 0 unit_source_value CHARACTER VARYING NULL value_as_concept_id INTEGER 0 value_as_number DECIMAL NULL value_as_string CHARACTER VARYING NULL value_source_value CHARACTER VARYING NULL anatomic_site_concept_id INTEGER 0 disease_status_concept_id INTEGER 0 specimen_source_id INTEGER NULL anatomic_site_source_value CHARACTER VARYING NULL disease_status_source_value CHARACTER VARYING NULL'"
      ]
     },
     "execution_count": 32,
     "metadata": {},
     "output_type": "execute_result"
    }
   ],
   "source": [
    "pdf_pages[-1].dict()[\"page_content\"][-200:]"
   ]
  },
  {
   "cell_type": "code",
   "execution_count": 6,
   "metadata": {},
   "outputs": [
    {
     "data": {
      "text/plain": [
       "30995"
      ]
     },
     "execution_count": 6,
     "metadata": {},
     "output_type": "execute_result"
    }
   ],
   "source": [
    "sum([len(docs[i].dict()[\"page_content\"]) for i in range(len(pdf_pages))])"
   ]
  },
  {
   "cell_type": "markdown",
   "metadata": {},
   "source": [
    "pdfloader() is capturing less characters than docx (unstructured loader()), but, it might be because we are not introducing \"\\n\" or empty characters, which is a good thing"
   ]
  },
  {
   "cell_type": "markdown",
   "metadata": {},
   "source": [
    "#### Let's move on to character splitting now "
   ]
  },
  {
   "cell_type": "code",
   "execution_count": 7,
   "metadata": {},
   "outputs": [],
   "source": [
    "docs_split = RecursiveCharacterTextSplitter(chunk_size=1000, chunk_overlap=200).split_documents(docs)\n",
    "pdf_split = RecursiveCharacterTextSplitter(chunk_size=1000, chunk_overlap=200).split_documents(pdf_pages)"
   ]
  },
  {
   "cell_type": "markdown",
   "metadata": {},
   "source": [
    "We get about the same number of chunks with either method"
   ]
  },
  {
   "cell_type": "code",
   "execution_count": 8,
   "metadata": {},
   "outputs": [
    {
     "name": "stdout",
     "output_type": "stream",
     "text": [
      "213\n",
      "214\n"
     ]
    }
   ],
   "source": [
    "print(len(docs_split))\n",
    "print(len(pdf_split))"
   ]
  },
  {
   "cell_type": "markdown",
   "metadata": {},
   "source": [
    "This what the chunk object looks like"
   ]
  },
  {
   "cell_type": "code",
   "execution_count": 24,
   "metadata": {},
   "outputs": [
    {
     "data": {
      "text/plain": [
       "[Document(page_content='Source Data Mapping Approach to CDMV5.0.1', metadata={'source': 'sample_docs/WebMD_PBM_ETL_5.0.1_20170606.docx', 'category_depth': 0, 'last_modified': '2024-02-04T20:19:13', 'page_number': 1, 'languages': ['eng'], 'file_directory': 'sample_docs', 'filename': 'WebMD_PBM_ETL_5.0.1_20170606.docx', 'filetype': 'application/vnd.openxmlformats-officedocument.wordprocessingml.document', 'category': 'Title'}),\n",
       " Document(page_content='Table name: stem_table', metadata={'source': 'sample_docs/WebMD_PBM_ETL_5.0.1_20170606.docx', 'category_depth': 0, 'last_modified': '2024-02-04T20:19:13', 'page_number': 2, 'languages': ['eng'], 'file_directory': 'sample_docs', 'filename': 'WebMD_PBM_ETL_5.0.1_20170606.docx', 'filetype': 'application/vnd.openxmlformats-officedocument.wordprocessingml.document', 'category': 'Title'}),\n",
       " Document(page_content='Reading from sample_medical_claims_20170502.csv', metadata={'source': 'sample_docs/WebMD_PBM_ETL_5.0.1_20170606.docx', 'category_depth': 0, 'last_modified': '2024-02-04T20:19:13', 'page_number': 2, 'languages': ['eng'], 'parent_id': 'd5616637803e75a3291f57e33775368d', 'file_directory': 'sample_docs', 'filename': 'WebMD_PBM_ETL_5.0.1_20170606.docx', 'filetype': 'application/vnd.openxmlformats-officedocument.wordprocessingml.document', 'category': 'NarrativeText'}),\n",
       " Document(page_content='We pull all data into the STEM and we then allow the Vocabulary to decide which CDM table the data lands in.', metadata={'source': 'sample_docs/WebMD_PBM_ETL_5.0.1_20170606.docx', 'category_depth': 0, 'last_modified': '2024-02-04T20:19:13', 'page_number': 2, 'languages': ['eng'], 'parent_id': 'd5616637803e75a3291f57e33775368d', 'file_directory': 'sample_docs', 'filename': 'WebMD_PBM_ETL_5.0.1_20170606.docx', 'filetype': 'application/vnd.openxmlformats-officedocument.wordprocessingml.document', 'category': 'NarrativeText'}),\n",
       " Document(page_content='EXTRA COLUMNS FOR STEM', metadata={'source': 'sample_docs/WebMD_PBM_ETL_5.0.1_20170606.docx', 'category_depth': 0, 'last_modified': '2024-02-04T20:19:13', 'page_number': 2, 'languages': ['eng'], 'file_directory': 'sample_docs', 'filename': 'WebMD_PBM_ETL_5.0.1_20170606.docx', 'filetype': 'application/vnd.openxmlformats-officedocument.wordprocessingml.document', 'category': 'Title'})]"
      ]
     },
     "execution_count": 24,
     "metadata": {},
     "output_type": "execute_result"
    }
   ],
   "source": [
    "docs_split[:5]"
   ]
  },
  {
   "cell_type": "markdown",
   "metadata": {},
   "source": [
    "This is what each chunk contains"
   ]
  },
  {
   "cell_type": "code",
   "execution_count": 16,
   "metadata": {},
   "outputs": [
    {
     "data": {
      "text/plain": [
       "{'page_content': 'DECIMAL NULL value_as_string CHARACTER VARYING NULL value_source_value CHARACTER VARYING NULL anatomic_site_concept_id INTEGER 0 disease_status_concept_id INTEGER 0 specimen_source_id INTEGER NULL anatomic_site_source_value CHARACTER VARYING NULL disease_status_source_value CHARACTER VARYING NULL',\n",
       " 'metadata': {'source': 'sample_docs/WebMD_PBM_ETL_5.0.1_20170606.docx',\n",
       "  'last_modified': '2024-02-04T20:19:13',\n",
       "  'page_number': 34,\n",
       "  'text_as_html': '<table>\\n<thead>\\n<tr><th>Field                      </th><th>Type             </th><th>Most freq. value  </th><th>Comment                  </th></tr>\\n</thead>\\n<tbody>\\n<tr><td>domain_id                  </td><td>CHARACTER VARYING</td><td>                  </td><td>=====MEDICAL_CLAIMS=====\\n========================\\n\\nDIAGNOSIS_CODE:\\n================\\nDefault domain = CONDITION from unless udpated by a Vocabulary mapping from CONCEPT_ID\\n\\nPROCEDURE_CODE:\\n================\\nDefault domain = PROCEDURE from unless updated by a Vocabulary mapping from CONCEPT_ID\\n\\n=====PHARMACY_CLAIMS=====\\n==========================\\nDefault domain = DRUG from unless updated by a Vocabulary mapping from CONCEPT_ID                          </td></tr>\\n<tr><td>person_id                  </td><td>INTEGER          </td><td>                  </td><td>Lookup in PERSON based on</td></tr>\\n<tr><td>visit_occurrence_id        </td><td>INTEGER          </td><td>                  </td><td>TBD                      </td></tr>\\n<tr><td>provider_id                </td><td>INTEGER          </td><td>                  </td><td>=====MEDICAL_CLAIMS=====\\n========================\\n\\nDIAGNOSIS_CODE &amp; PROCEDURE_CODE:\\n================\\nLookup in the PROVIDER table leveraging NPI\\n\\n=====PHARMACY_CLAIMS=====\\n==========================\\n\\nNDC_CODE:\\n==========\\nLookup in the PROVIDER table leveraging NPI                          </td></tr>\\n<tr><td>id                         </td><td>INTEGER          </td><td>                  </td><td>Autogenerate             </td></tr>\\n<tr><td>concept_id                 </td><td>INTEGER          </td><td>                  </td><td>If no map, map to 0.\\n\\n=====MEDICAL_CLAIMS=====\\n========================\\n\\nDIAGNOSIS_CODE:\\n================\\n01 = ICD9\\n02 = ICD10\\n\\nUse the code in Section 3.1.2.\\nIf diagnosis_code_qual=01 use the filter\\nWHERE SOURCE_VOCABULARY_ID IN (&#x27;ICD9CM&#x27;)\\nAND TARGET_STANDARD_CONCEPT IS NOT NULL\\nAND TARGET_INVALID_REASON IS NULL\\n\\nIf diagnosis_code_qual=02 use the filter\\nWHERE SOURCE_VOCABULARY_ID IN (&#x27;ICD10CM&#x27;)\\nAND TARGET_STANDARD_CONCEPT IS NOT NULL\\nAND TARGET_INVALID_REASON IS NULL\\n\\nPROCEDURE_CODE:\\n================\\nUse the code in Section 3.1.2.\\nWHERE SOURCE_VOCABULARY_ID IN (&#x27;ICD9Proc&#x27;,&#x27;HCPCS&#x27;,&#x27;CPT4&#x27;, &#x27;ICD10PCS&#x27;)\\nAND TARGET_STANDARD_CONCEPT IS NOT NULL\\nAND TARGET_INVALID_REASON IS NULL\\nAND TARGET_CONCEPT_CLASS_ID NOT IN (&#x27;HCPCS Modifier&#x27;,&#x27;CPT4 Modifier&#x27;,&#x27;CPT4 Hierarchy&#x27;, &#x27;ICD10PCS Hierarchy&#x27;)\\n\\n=====PHARMACY_CLAIMS=====\\n==========================\\n\\nNDC_CODE\\n=========\\nUse the code in Section 3.1.2.\\nWHERE SOURCE_VOCABULARY_ID IN (&#x27;NDC&#x27;)\\nAND TARGET_STANDARD_CONCEPT IS NOT NULL\\nAND TARGET_INVALID_REASON IS NULL\\nAND SVCDATE BETWEEN SOURCE_VALID_START_DATE AND SOURCE_VALID_END_DATE\\n\\nWhen mapping prescription drug, try map the 11-digit NDC code to SOURCE_CODE in OMOP vocab first to see if you make a map. If no mapping found, try the first 9 digits of NDC code to SOURCE_CODE to see if you make a map.  To be considered a valid mapping DATE_SERVICE must fall between SOURCE_VALID_START_DATE and SOURCE_VALID_END_DATE                          </td></tr>\\n<tr><td>source_value               </td><td>CHARACTER VARYING</td><td>                  </td><td>=====MEDICAL_CLAIMS=====\\n========================\\n\\nDIAGNOSIS_CODE:\\n================\\nDIAGNOSIS_CODE\\n\\nPROCEDURE_CODE:\\n================\\nPROCEDURE_CODE\\n\\n=====PHARMACY_CLAIMS=====\\n==========================\\n\\nNDC_CODE:\\n==========\\nNDC_CODE\\n\\nDo not change source value if a 9 digit NDC is used over 11 digit.                          </td></tr>\\n<tr><td>source_concept_id          </td><td>INTEGER          </td><td>                  </td><td>If no map, map to 0.\\n\\n=====MEDICAL_CLAIMS=====\\n========================\\n\\nDIAGNOSIS_CODE:\\n================\\nUse the code in Section 3.1.1.\\nIf diagnosis_code_qual=01 use the filter: WHERE SOURCE_VOCABULARY_ID IN (&#x27;ICD9CM&#x27;)\\nAND TARGET_VOCABULARY_ID IN (&#x27;ICD9CM&#x27;) \\n\\nIf diagnosis_code_qual=02 use the filter: WHERE SOURCE_VOCABULARY_ID IN (&#x27;ICD10CM&#x27;)\\nAND TARGET_VOCABULARY_ID IN (&#x27;ICD10CM&#x27;)\\n\\nPROCEDURE_CODE:\\n================\\nUse the code in Section 3.1.1.\\nWHERE SOURCE_VOCABULARY_ID IN (&#x27;ICD9Proc&#x27;,&#x27;HCPCS&#x27;,&#x27;CPT4&#x27;, &#x27;ICD10PCS&#x27;)\\nAND TARGET_VOCABULARY_ID IN (&#x27;ICD9Proc&#x27;,&#x27;HCPCS&#x27;,&#x27;CPT4&#x27;, &#x27;ICD10PCS&#x27;)\\nAND TARGET_CONCEPT_CLASS_ID NOT IN (&#x27;HCPCS Modifier&#x27;,&#x27;CPT4 Modifier&#x27;, &#x27;CPT4 Hierarchy&#x27;, &#x27;ICD10PCS Hierarchy&#x27;)\\n\\n=====PHARMACY_CLAIMS=====\\n==========================\\n\\nNDC_CODE\\n=========\\nUse the code in Section 3.1.1.\\nWHERE SOURCE_VOCABULARY_ID IN (&#x27;NDC&#x27;)\\nAND TARGET_VOCABULARY_ID IN (&#x27;NDC&#x27;)\\nAND SVCDATE BETWEEN SOURCE_VALID_START_DATE AND SOURCE_VALID_END_DATE\\n\\nTo be considered a valid mapping DATE_SERVICE must fall between SOURCE_VALID_START_DATE and SOURCE_VALID_END_DATE                          </td></tr>\\n<tr><td>type_concept_id            </td><td>INTEGER          </td><td>                  </td><td>=====MEDICAL_CLAIMS=====\\n========================\\n\\nDIAGNOSIS_CODE:\\n================\\nUsing DIAGNOSIS_PRIORITY:\\n1 = 44786627 - Primary Condition\\n2+ = 44786629 - Secondary Condition\\n\\nPROCEDURE_CODE:\\n================\\nUsing PRINCIPAL_PROC_IND\\n1= 44786630 Primary Procedure\\nNULL/&#x27;&#x27; = 44786631-Secondary Procedure\\n\\n=====PHARMACY_CLAIMS=====\\n==========================\\n\\nNDC_CODE\\n=========\\nWhen DATA_VENDOR = &quot;WebMD&quot; then 38000175 /*Prescription dispensed in pharmacy*/\\nWhen DATA_VENDOR = &quot;Private Source 17&quot; then 38000177 /*Prescription written*/\\nELSE 0\\n\\nFor &quot;Private Source 17&quot; we are requesting a new data type of &quot;Drug from Claim&quot;                          </td></tr>\\n<tr><td>start_date                 </td><td>DATE             </td><td>                  </td><td>                         </td></tr>\\n<tr><td>end_date                   </td><td>DATE             </td><td>                  </td><td>                         </td></tr>\\n<tr><td>start_time                 </td><td>TIME             </td><td>                  </td><td>NULL                     </td></tr>\\n<tr><td>days_supply                </td><td>INTEGER          </td><td>                  </td><td>=====MEDICAL_CLAIMS=====\\n========================\\nNULL\\n\\n=====PHARMACY_CLAIMS=====\\n==========================\\n\\nNDC_CODE\\n=========\\nDAYS_SUPPLY                          </td></tr>\\n<tr><td>dose_unit_concept_id       </td><td>INTEGER          </td><td>                  </td><td>0                        </td></tr>\\n<tr><td>dose_unit_source_value     </td><td>CHARACTER VARYING</td><td>                  </td><td>NULL                     </td></tr>\\n<tr><td>effective_drug_dose        </td><td>FLOAT            </td><td>                  </td><td>NULL                     </td></tr>\\n<tr><td>lot_number                 </td><td>CHARACTER VARYING</td><td>                  </td><td>NULL                     </td></tr>\\n<tr><td>modifier_concept_id        </td><td>INTEGER          </td><td>                  </td><td>=====MEDICAL_CLAIMS=====\\n========================\\n\\nDIAGNOSIS_CODE:\\n================\\n0\\n\\nPROCEDURE_CODE:\\n================\\nUsing PROCEDURE_MODIFIER_1\\n\\nUse the code in Section 3.1.1.\\nWhen mapping PROCEDURE_CODE determine what the VOCABULARY_ID is, then you&#x27;ll need to use the &quot;Modifier&quot; vocabulary for that same VOCABULARY.  Example, if you the PROCEDURE_CODE&#x27;s VOCABULARY_ID is CPT4 then the MODIFIER_CONCEPT_ID should use the following map:\\nWHERE SOURCE_CONCEPT_CLASS_ID IN (&#x27;CPT4 Modifier&#x27;)\\nAND TARGET_CONCEPT_CLASS_ID IN (&#x27;CPT4 Modifier&#x27;)\\n\\nThe list of modifiers are:\\n--CPT4 Modifier\\n--HCPC modifier\\n\\nIt is limitation that we are not pulling over PROCEDURE_MODIFIER_2-4 however they are only used about 3% of the time.\\n\\n=====PHARMACY_CLAIMS=====\\n==========================\\n0                          </td></tr>\\n<tr><td>operator_concept_id        </td><td>INTEGER          </td><td>                  </td><td>0                        </td></tr>\\n<tr><td>qualifier_concept_id       </td><td>INTEGER          </td><td>                  </td><td>0                        </td></tr>\\n<tr><td>qualifier_source_value     </td><td>CHARACTER VARYING</td><td>                  </td><td>NULL                     </td></tr>\\n<tr><td>quantity                   </td><td>INTEGER          </td><td>                  </td><td>=====MEDICAL_CLAIMS=====\\n========================\\n\\nDIAGNOSIS_CODE:\\n================\\nNULL\\n\\nPROCEDURE_CODE:\\n================\\nUse PROCEDURE_UNITS as is\\n\\n=====PHARMACY_CLAIMS=====\\n==========================\\n\\nNDC_CODE:\\n=========\\nDISPENSED_QUANTITY                          </td></tr>\\n<tr><td>range_high                 </td><td>FLOAT            </td><td>                  </td><td>NULL                     </td></tr>\\n<tr><td>range_low                  </td><td>FLOAT            </td><td>                  </td><td>NULL                     </td></tr>\\n<tr><td>refills                    </td><td>INTEGER          </td><td>                  </td><td>=====MEDICAL_CLAIMS=====\\n========================\\nNULL\\n\\n=====PHARMACY_CLAIMS=====\\n==========================\\n\\nNDC_CODE:\\n=========\\nREFILL_AUTH_AMOUNT                          </td></tr>\\n<tr><td>route_concept_id           </td><td>INTEGER          </td><td>                  </td><td>0                        </td></tr>\\n<tr><td>route_source_value         </td><td>CHARACTER VARYING</td><td>                  </td><td>NULL                     </td></tr>\\n<tr><td>sig                        </td><td>CHARACTER VARYING</td><td>                  </td><td>NULL                     </td></tr>\\n<tr><td>stop_reason                </td><td>CHARACTER VARYING</td><td>                  </td><td>NULL                     </td></tr>\\n<tr><td>unique_device_id           </td><td>CHARACTER VARYING</td><td>                  </td><td>NULL                     </td></tr>\\n<tr><td>unit_concept_id            </td><td>INTEGER          </td><td>                  </td><td>0                        </td></tr>\\n<tr><td>unit_source_value          </td><td>CHARACTER VARYING</td><td>                  </td><td>NULL                     </td></tr>\\n<tr><td>value_as_concept_id        </td><td>INTEGER          </td><td>                  </td><td>0                        </td></tr>\\n<tr><td>value_as_number            </td><td>DECIMAL          </td><td>                  </td><td>NULL                     </td></tr>\\n<tr><td>value_as_string            </td><td>CHARACTER VARYING</td><td>                  </td><td>NULL                     </td></tr>\\n<tr><td>value_source_value         </td><td>CHARACTER VARYING</td><td>                  </td><td>NULL                     </td></tr>\\n<tr><td>anatomic_site_concept_id   </td><td>INTEGER          </td><td>                  </td><td>0                        </td></tr>\\n<tr><td>disease_status_concept_id  </td><td>INTEGER          </td><td>                  </td><td>0                        </td></tr>\\n<tr><td>specimen_source_id         </td><td>INTEGER          </td><td>                  </td><td>NULL                     </td></tr>\\n<tr><td>anatomic_site_source_value </td><td>CHARACTER VARYING</td><td>                  </td><td>NULL                     </td></tr>\\n<tr><td>disease_status_source_value</td><td>CHARACTER VARYING</td><td>                  </td><td>NULL                     </td></tr>\\n</tbody>\\n</table>',\n",
       "  'languages': ['eng'],\n",
       "  'parent_id': 'ae5354ac2bc8a6763e23e55740ca8299',\n",
       "  'file_directory': 'sample_docs',\n",
       "  'filename': 'WebMD_PBM_ETL_5.0.1_20170606.docx',\n",
       "  'filetype': 'application/vnd.openxmlformats-officedocument.wordprocessingml.document',\n",
       "  'category': 'Table'},\n",
       " 'type': 'Document'}"
      ]
     },
     "execution_count": 16,
     "metadata": {},
     "output_type": "execute_result"
    }
   ],
   "source": [
    "docs_split[-1].dict()"
   ]
  },
  {
   "cell_type": "markdown",
   "metadata": {},
   "source": [
    "#### Now let's place them in the vector DB by embedding text into a vector space (embedding)\n",
    "We'll use FAISS DB for this exercise and OpenAI's embedding"
   ]
  },
  {
   "cell_type": "code",
   "execution_count": 41,
   "metadata": {},
   "outputs": [],
   "source": [
    "vector_docs_db = FAISS.from_documents(docs_split, OpenAIEmbeddings())\n",
    "vector_pdfs_db = FAISS.from_documents(pdf_split, OpenAIEmbeddings())"
   ]
  },
  {
   "cell_type": "markdown",
   "metadata": {},
   "source": [
    "We can do simple querying on the Vectorstore"
   ]
  },
  {
   "cell_type": "code",
   "execution_count": 56,
   "metadata": {},
   "outputs": [
    {
     "data": {
      "text/plain": [
       "[Document(page_content='Table name: condition_occurrence', metadata={'source': 'sample_docs/WebMD_PBM_ETL_5.0.1_20170606.docx', 'category_depth': 0, 'last_modified': '2024-02-04T20:19:13', 'page_number': 14, 'languages': ['eng'], 'file_directory': 'sample_docs', 'filename': 'WebMD_PBM_ETL_5.0.1_20170606.docx', 'filetype': 'application/vnd.openxmlformats-officedocument.wordprocessingml.document', 'category': 'Title'}),\n",
       " Document(page_content='Table name: visit_occurrence', metadata={'source': 'sample_docs/WebMD_PBM_ETL_5.0.1_20170606.docx', 'category_depth': 0, 'last_modified': '2024-02-04T20:19:13', 'page_number': 11, 'languages': ['eng'], 'file_directory': 'sample_docs', 'filename': 'WebMD_PBM_ETL_5.0.1_20170606.docx', 'filetype': 'application/vnd.openxmlformats-officedocument.wordprocessingml.document', 'category': 'Title'}),\n",
       " Document(page_content='Table name: procedure_occurrence', metadata={'source': 'sample_docs/WebMD_PBM_ETL_5.0.1_20170606.docx', 'category_depth': 0, 'last_modified': '2024-02-04T20:19:13', 'page_number': 18, 'languages': ['eng'], 'file_directory': 'sample_docs', 'filename': 'WebMD_PBM_ETL_5.0.1_20170606.docx', 'filetype': 'application/vnd.openxmlformats-officedocument.wordprocessingml.document', 'category': 'Title'}),\n",
       " Document(page_content='Destination Field Source Field Logic Comment condition_occurrence_id id person_id person_id condition_concept_id concept_id condition_start_date start_date condition_end_date end_date condition_type_concept_id type_concept_id stop_reason stop_reason provider_id provider_id visit_occurrence_id visit_occurrence_id condition_source_value source_value condition_source_concept_id source_concept_id', metadata={'source': 'sample_docs/WebMD_PBM_ETL_5.0.1_20170606.docx', 'last_modified': '2024-02-04T20:19:13', 'page_number': 14, 'text_as_html': '<table>\\n<thead>\\n<tr><th>Destination Field          </th><th>Source Field       </th><th>Logic  </th><th>Comment  </th></tr>\\n</thead>\\n<tbody>\\n<tr><td>condition_occurrence_id    </td><td>id                 </td><td>       </td><td>         </td></tr>\\n<tr><td>person_id                  </td><td>person_id          </td><td>       </td><td>         </td></tr>\\n<tr><td>condition_concept_id       </td><td>concept_id         </td><td>       </td><td>         </td></tr>\\n<tr><td>condition_start_date       </td><td>start_date         </td><td>       </td><td>         </td></tr>\\n<tr><td>condition_end_date         </td><td>end_date           </td><td>       </td><td>         </td></tr>\\n<tr><td>condition_type_concept_id  </td><td>type_concept_id    </td><td>       </td><td>         </td></tr>\\n<tr><td>stop_reason                </td><td>stop_reason        </td><td>       </td><td>         </td></tr>\\n<tr><td>provider_id                </td><td>provider_id        </td><td>       </td><td>         </td></tr>\\n<tr><td>visit_occurrence_id        </td><td>visit_occurrence_id</td><td>       </td><td>         </td></tr>\\n<tr><td>condition_source_value     </td><td>source_value       </td><td>       </td><td>         </td></tr>\\n<tr><td>condition_source_concept_id</td><td>source_concept_id  </td><td>       </td><td>         </td></tr>\\n</tbody>\\n</table>', 'languages': ['eng'], 'parent_id': 'dfdaa071024a82a82455af99bac4c583', 'file_directory': 'sample_docs', 'filename': 'WebMD_PBM_ETL_5.0.1_20170606.docx', 'filetype': 'application/vnd.openxmlformats-officedocument.wordprocessingml.document', 'category': 'Table'})]"
      ]
     },
     "execution_count": 56,
     "metadata": {},
     "output_type": "execute_result"
    }
   ],
   "source": [
    "query = \"how can I query condition_occurrence?\"\n",
    "query_results = vector_pdfs_db.similarity_search(query)\n",
    "query_results"
   ]
  },
  {
   "cell_type": "code",
   "execution_count": 60,
   "metadata": {},
   "outputs": [
    {
     "data": {
      "text/plain": [
       "'Destination Field Source Field Logic Comment condition_occurrence_id id person_id person_id condition_concept_id concept_id condition_start_date start_date condition_end_date end_date condition_type_concept_id type_concept_id stop_reason stop_reason provider_id provider_id visit_occurrence_id visit_occurrence_id condition_source_value source_value condition_source_concept_id source_concept_id'"
      ]
     },
     "execution_count": 60,
     "metadata": {},
     "output_type": "execute_result"
    }
   ],
   "source": [
    "query_results[3].page_content"
   ]
  },
  {
   "cell_type": "markdown",
   "metadata": {},
   "source": [
    "This retrieval can also be done with a score associated per retrieved entry. This is an **L2** distance, **lower is better**"
   ]
  },
  {
   "cell_type": "code",
   "execution_count": 62,
   "metadata": {},
   "outputs": [
    {
     "data": {
      "text/plain": [
       "[(Document(page_content='Table name: condition_occurrence', metadata={'source': 'sample_docs/WebMD_PBM_ETL_5.0.1_20170606.docx', 'category_depth': 0, 'last_modified': '2024-02-04T20:19:13', 'page_number': 14, 'languages': ['eng'], 'file_directory': 'sample_docs', 'filename': 'WebMD_PBM_ETL_5.0.1_20170606.docx', 'filetype': 'application/vnd.openxmlformats-officedocument.wordprocessingml.document', 'category': 'Title'}),\n",
       "  0.22454166),\n",
       " (Document(page_content='Table name: visit_occurrence', metadata={'source': 'sample_docs/WebMD_PBM_ETL_5.0.1_20170606.docx', 'category_depth': 0, 'last_modified': '2024-02-04T20:19:13', 'page_number': 11, 'languages': ['eng'], 'file_directory': 'sample_docs', 'filename': 'WebMD_PBM_ETL_5.0.1_20170606.docx', 'filetype': 'application/vnd.openxmlformats-officedocument.wordprocessingml.document', 'category': 'Title'}),\n",
       "  0.3295955),\n",
       " (Document(page_content='Table name: procedure_occurrence', metadata={'source': 'sample_docs/WebMD_PBM_ETL_5.0.1_20170606.docx', 'category_depth': 0, 'last_modified': '2024-02-04T20:19:13', 'page_number': 18, 'languages': ['eng'], 'file_directory': 'sample_docs', 'filename': 'WebMD_PBM_ETL_5.0.1_20170606.docx', 'filetype': 'application/vnd.openxmlformats-officedocument.wordprocessingml.document', 'category': 'Title'}),\n",
       "  0.34360984),\n",
       " (Document(page_content='Destination Field Source Field Logic Comment condition_occurrence_id id person_id person_id condition_concept_id concept_id condition_start_date start_date condition_end_date end_date condition_type_concept_id type_concept_id stop_reason stop_reason provider_id provider_id visit_occurrence_id visit_occurrence_id condition_source_value source_value condition_source_concept_id source_concept_id', metadata={'source': 'sample_docs/WebMD_PBM_ETL_5.0.1_20170606.docx', 'last_modified': '2024-02-04T20:19:13', 'page_number': 14, 'text_as_html': '<table>\\n<thead>\\n<tr><th>Destination Field          </th><th>Source Field       </th><th>Logic  </th><th>Comment  </th></tr>\\n</thead>\\n<tbody>\\n<tr><td>condition_occurrence_id    </td><td>id                 </td><td>       </td><td>         </td></tr>\\n<tr><td>person_id                  </td><td>person_id          </td><td>       </td><td>         </td></tr>\\n<tr><td>condition_concept_id       </td><td>concept_id         </td><td>       </td><td>         </td></tr>\\n<tr><td>condition_start_date       </td><td>start_date         </td><td>       </td><td>         </td></tr>\\n<tr><td>condition_end_date         </td><td>end_date           </td><td>       </td><td>         </td></tr>\\n<tr><td>condition_type_concept_id  </td><td>type_concept_id    </td><td>       </td><td>         </td></tr>\\n<tr><td>stop_reason                </td><td>stop_reason        </td><td>       </td><td>         </td></tr>\\n<tr><td>provider_id                </td><td>provider_id        </td><td>       </td><td>         </td></tr>\\n<tr><td>visit_occurrence_id        </td><td>visit_occurrence_id</td><td>       </td><td>         </td></tr>\\n<tr><td>condition_source_value     </td><td>source_value       </td><td>       </td><td>         </td></tr>\\n<tr><td>condition_source_concept_id</td><td>source_concept_id  </td><td>       </td><td>         </td></tr>\\n</tbody>\\n</table>', 'languages': ['eng'], 'parent_id': 'dfdaa071024a82a82455af99bac4c583', 'file_directory': 'sample_docs', 'filename': 'WebMD_PBM_ETL_5.0.1_20170606.docx', 'filetype': 'application/vnd.openxmlformats-officedocument.wordprocessingml.document', 'category': 'Table'}),\n",
       "  0.34496745),\n",
       " (Document(page_content=\"Destination Field Source Field Logic Comment visit_occurrence_id Autogenerate person_id hvid Lookup in PERSON based on visit_concept_id visit_start_date visit_start_time visit_end_date visit_end_time visit_type_concept_id provider_id care_site_id visit_source_value revenue_code place_of_service_std_id procedure_code IF (REVENUE_CODE >= '0100' AND REVENUE_CODE <= '0219') /* Room and Board Charges */ OR (REVENUE_CODE >= '0720' AND REVENUE_CODE <= '0729') /* Labor Room and Delivery */ OR (REVENUE_CODE >= '0800' AND REVENUE_CODE <= '0809') /* Inpatient Renal Dialysis */ THEN IF PLACE_OF_SERVICE_STD_ID IN (13,31,32,34) THEN CLAIM_TYPE = 'LTC' ELSE CLAIM_TYPE = 'IP'; ELSE IF PLACE_OF_SERVICE_STD_ID IN (23) OR (REVENUE_CODE >= '0450' AND REVENUE_CODE <= '0459') OR REVENUE_CODE ='0981' OR PROCEDURE_CODE IN ('99281','99282','99283','99284','99285') THEN CLAIM_TYPE= 'ER'; ELSE CLAIM_TYPE = 'OP'; visit_source_concept_id\", metadata={'source': 'sample_docs/WebMD_PBM_ETL_5.0.1_20170606.docx', 'last_modified': '2024-02-04T20:19:13', 'page_number': 13, 'text_as_html': '<table>\\n<thead>\\n<tr><th>Destination Field      </th><th>Source Field  </th><th>Logic  </th><th>Comment                  </th></tr>\\n</thead>\\n<tbody>\\n<tr><td>visit_occurrence_id    </td><td>              </td><td>       </td><td>Autogenerate             </td></tr>\\n<tr><td>person_id              </td><td>hvid          </td><td>       </td><td>Lookup in PERSON based on</td></tr>\\n<tr><td>visit_concept_id       </td><td>              </td><td>       </td><td>                         </td></tr>\\n<tr><td>visit_start_date       </td><td>              </td><td>       </td><td>                         </td></tr>\\n<tr><td>visit_start_time       </td><td>              </td><td>       </td><td>                         </td></tr>\\n<tr><td>visit_end_date         </td><td>              </td><td>       </td><td>                         </td></tr>\\n<tr><td>visit_end_time         </td><td>              </td><td>       </td><td>                         </td></tr>\\n<tr><td>visit_type_concept_id  </td><td>              </td><td>       </td><td>                         </td></tr>\\n<tr><td>provider_id            </td><td>              </td><td>       </td><td>                         </td></tr>\\n<tr><td>care_site_id           </td><td>              </td><td>       </td><td>                         </td></tr>\\n<tr><td>visit_source_value     </td><td>revenue_code\\nplace_of_service_std_id\\nprocedure_code               </td><td>       </td><td>IF (REVENUE_CODE &gt;= &#x27;0100&#x27; AND REVENUE_CODE &lt;= &#x27;0219&#x27;) /* Room and Board Charges */\\nOR (REVENUE_CODE &gt;= &#x27;0720&#x27; AND REVENUE_CODE &lt;= &#x27;0729&#x27;) /* Labor Room and Delivery */\\nOR (REVENUE_CODE &gt;= &#x27;0800&#x27; AND REVENUE_CODE &lt;= &#x27;0809&#x27;) /* Inpatient Renal Dialysis */\\nTHEN\\nIF PLACE_OF_SERVICE_STD_ID IN (13,31,32,34) THEN CLAIM_TYPE = &#x27;LTC&#x27;\\nELSE CLAIM_TYPE = &#x27;IP&#x27;;\\nELSE IF PLACE_OF_SERVICE_STD_ID IN (23)\\nOR (REVENUE_CODE &gt;= &#x27;0450&#x27; AND REVENUE_CODE &lt;= &#x27;0459&#x27;)\\nOR REVENUE_CODE =&#x27;0981&#x27;\\nOR PROCEDURE_CODE IN (&#x27;99281&#x27;,&#x27;99282&#x27;,&#x27;99283&#x27;,&#x27;99284&#x27;,&#x27;99285&#x27;)\\nTHEN CLAIM_TYPE= &#x27;ER&#x27;;\\nELSE CLAIM_TYPE = &#x27;OP&#x27;;                          </td></tr>\\n<tr><td>visit_source_concept_id</td><td>              </td><td>       </td><td>                         </td></tr>\\n</tbody>\\n</table>', 'languages': ['eng'], 'file_directory': 'sample_docs', 'filename': 'WebMD_PBM_ETL_5.0.1_20170606.docx', 'filetype': 'application/vnd.openxmlformats-officedocument.wordprocessingml.document', 'category': 'Table'}),\n",
       "  0.4086995)]"
      ]
     },
     "execution_count": 62,
     "metadata": {},
     "output_type": "execute_result"
    }
   ],
   "source": [
    "query_results = vector_pdfs_db.similarity_search_with_score(query, 5)\n",
    "query_results"
   ]
  },
  {
   "cell_type": "markdown",
   "metadata": {},
   "source": [
    "#### Now that we have them in a vector store, let's work on finalizing the retrieval\n",
    "\n",
    "This is simply accomplished calling a retriever function on the class"
   ]
  },
  {
   "cell_type": "code",
   "execution_count": 86,
   "metadata": {},
   "outputs": [],
   "source": [
    "docs_retriever = vector_docs_db.as_retriever(search_type=\"similarity\", search_kwargs={\"k\": 6})"
   ]
  },
  {
   "cell_type": "code",
   "execution_count": 87,
   "metadata": {},
   "outputs": [
    {
     "data": {
      "text/plain": [
       "[Document(page_content='Table name: condition_occurrence', metadata={'source': 'sample_docs/WebMD_PBM_ETL_5.0.1_20170606.docx', 'category_depth': 0, 'last_modified': '2024-02-04T20:19:13', 'page_number': 14, 'languages': ['eng'], 'file_directory': 'sample_docs', 'filename': 'WebMD_PBM_ETL_5.0.1_20170606.docx', 'filetype': 'application/vnd.openxmlformats-officedocument.wordprocessingml.document', 'category': 'Title'}),\n",
       " Document(page_content='Table name: visit_occurrence', metadata={'source': 'sample_docs/WebMD_PBM_ETL_5.0.1_20170606.docx', 'category_depth': 0, 'last_modified': '2024-02-04T20:19:13', 'page_number': 11, 'languages': ['eng'], 'file_directory': 'sample_docs', 'filename': 'WebMD_PBM_ETL_5.0.1_20170606.docx', 'filetype': 'application/vnd.openxmlformats-officedocument.wordprocessingml.document', 'category': 'Title'}),\n",
       " Document(page_content='Table name: procedure_occurrence', metadata={'source': 'sample_docs/WebMD_PBM_ETL_5.0.1_20170606.docx', 'category_depth': 0, 'last_modified': '2024-02-04T20:19:13', 'page_number': 18, 'languages': ['eng'], 'file_directory': 'sample_docs', 'filename': 'WebMD_PBM_ETL_5.0.1_20170606.docx', 'filetype': 'application/vnd.openxmlformats-officedocument.wordprocessingml.document', 'category': 'Title'}),\n",
       " Document(page_content='Destination Field Source Field Logic Comment condition_occurrence_id id person_id person_id condition_concept_id concept_id condition_start_date start_date condition_end_date end_date condition_type_concept_id type_concept_id stop_reason stop_reason provider_id provider_id visit_occurrence_id visit_occurrence_id condition_source_value source_value condition_source_concept_id source_concept_id', metadata={'source': 'sample_docs/WebMD_PBM_ETL_5.0.1_20170606.docx', 'last_modified': '2024-02-04T20:19:13', 'page_number': 14, 'text_as_html': '<table>\\n<thead>\\n<tr><th>Destination Field          </th><th>Source Field       </th><th>Logic  </th><th>Comment  </th></tr>\\n</thead>\\n<tbody>\\n<tr><td>condition_occurrence_id    </td><td>id                 </td><td>       </td><td>         </td></tr>\\n<tr><td>person_id                  </td><td>person_id          </td><td>       </td><td>         </td></tr>\\n<tr><td>condition_concept_id       </td><td>concept_id         </td><td>       </td><td>         </td></tr>\\n<tr><td>condition_start_date       </td><td>start_date         </td><td>       </td><td>         </td></tr>\\n<tr><td>condition_end_date         </td><td>end_date           </td><td>       </td><td>         </td></tr>\\n<tr><td>condition_type_concept_id  </td><td>type_concept_id    </td><td>       </td><td>         </td></tr>\\n<tr><td>stop_reason                </td><td>stop_reason        </td><td>       </td><td>         </td></tr>\\n<tr><td>provider_id                </td><td>provider_id        </td><td>       </td><td>         </td></tr>\\n<tr><td>visit_occurrence_id        </td><td>visit_occurrence_id</td><td>       </td><td>         </td></tr>\\n<tr><td>condition_source_value     </td><td>source_value       </td><td>       </td><td>         </td></tr>\\n<tr><td>condition_source_concept_id</td><td>source_concept_id  </td><td>       </td><td>         </td></tr>\\n</tbody>\\n</table>', 'languages': ['eng'], 'parent_id': 'dfdaa071024a82a82455af99bac4c583', 'file_directory': 'sample_docs', 'filename': 'WebMD_PBM_ETL_5.0.1_20170606.docx', 'filetype': 'application/vnd.openxmlformats-officedocument.wordprocessingml.document', 'category': 'Table'}),\n",
       " Document(page_content=\"Destination Field Source Field Logic Comment visit_occurrence_id Autogenerate person_id hvid Lookup in PERSON based on visit_concept_id visit_start_date visit_start_time visit_end_date visit_end_time visit_type_concept_id provider_id care_site_id visit_source_value revenue_code place_of_service_std_id procedure_code IF (REVENUE_CODE >= '0100' AND REVENUE_CODE <= '0219') /* Room and Board Charges */ OR (REVENUE_CODE >= '0720' AND REVENUE_CODE <= '0729') /* Labor Room and Delivery */ OR (REVENUE_CODE >= '0800' AND REVENUE_CODE <= '0809') /* Inpatient Renal Dialysis */ THEN IF PLACE_OF_SERVICE_STD_ID IN (13,31,32,34) THEN CLAIM_TYPE = 'LTC' ELSE CLAIM_TYPE = 'IP'; ELSE IF PLACE_OF_SERVICE_STD_ID IN (23) OR (REVENUE_CODE >= '0450' AND REVENUE_CODE <= '0459') OR REVENUE_CODE ='0981' OR PROCEDURE_CODE IN ('99281','99282','99283','99284','99285') THEN CLAIM_TYPE= 'ER'; ELSE CLAIM_TYPE = 'OP'; visit_source_concept_id\", metadata={'source': 'sample_docs/WebMD_PBM_ETL_5.0.1_20170606.docx', 'last_modified': '2024-02-04T20:19:13', 'page_number': 13, 'text_as_html': '<table>\\n<thead>\\n<tr><th>Destination Field      </th><th>Source Field  </th><th>Logic  </th><th>Comment                  </th></tr>\\n</thead>\\n<tbody>\\n<tr><td>visit_occurrence_id    </td><td>              </td><td>       </td><td>Autogenerate             </td></tr>\\n<tr><td>person_id              </td><td>hvid          </td><td>       </td><td>Lookup in PERSON based on</td></tr>\\n<tr><td>visit_concept_id       </td><td>              </td><td>       </td><td>                         </td></tr>\\n<tr><td>visit_start_date       </td><td>              </td><td>       </td><td>                         </td></tr>\\n<tr><td>visit_start_time       </td><td>              </td><td>       </td><td>                         </td></tr>\\n<tr><td>visit_end_date         </td><td>              </td><td>       </td><td>                         </td></tr>\\n<tr><td>visit_end_time         </td><td>              </td><td>       </td><td>                         </td></tr>\\n<tr><td>visit_type_concept_id  </td><td>              </td><td>       </td><td>                         </td></tr>\\n<tr><td>provider_id            </td><td>              </td><td>       </td><td>                         </td></tr>\\n<tr><td>care_site_id           </td><td>              </td><td>       </td><td>                         </td></tr>\\n<tr><td>visit_source_value     </td><td>revenue_code\\nplace_of_service_std_id\\nprocedure_code               </td><td>       </td><td>IF (REVENUE_CODE &gt;= &#x27;0100&#x27; AND REVENUE_CODE &lt;= &#x27;0219&#x27;) /* Room and Board Charges */\\nOR (REVENUE_CODE &gt;= &#x27;0720&#x27; AND REVENUE_CODE &lt;= &#x27;0729&#x27;) /* Labor Room and Delivery */\\nOR (REVENUE_CODE &gt;= &#x27;0800&#x27; AND REVENUE_CODE &lt;= &#x27;0809&#x27;) /* Inpatient Renal Dialysis */\\nTHEN\\nIF PLACE_OF_SERVICE_STD_ID IN (13,31,32,34) THEN CLAIM_TYPE = &#x27;LTC&#x27;\\nELSE CLAIM_TYPE = &#x27;IP&#x27;;\\nELSE IF PLACE_OF_SERVICE_STD_ID IN (23)\\nOR (REVENUE_CODE &gt;= &#x27;0450&#x27; AND REVENUE_CODE &lt;= &#x27;0459&#x27;)\\nOR REVENUE_CODE =&#x27;0981&#x27;\\nOR PROCEDURE_CODE IN (&#x27;99281&#x27;,&#x27;99282&#x27;,&#x27;99283&#x27;,&#x27;99284&#x27;,&#x27;99285&#x27;)\\nTHEN CLAIM_TYPE= &#x27;ER&#x27;;\\nELSE CLAIM_TYPE = &#x27;OP&#x27;;                          </td></tr>\\n<tr><td>visit_source_concept_id</td><td>              </td><td>       </td><td>                         </td></tr>\\n</tbody>\\n</table>', 'languages': ['eng'], 'file_directory': 'sample_docs', 'filename': 'WebMD_PBM_ETL_5.0.1_20170606.docx', 'filetype': 'application/vnd.openxmlformats-officedocument.wordprocessingml.document', 'category': 'Table'}),\n",
       " Document(page_content='Destination Field Source Field Logic Comment procedure_occurrence_id id person_id person_id procedure_concept_id concept_id procedure_date start_date procedure_type_concept_id type_concept_id modifier_concept_id modifier_concept_id quantity quantity provider_id provider_id visit_occurrence_id visit_occurrence_id procedure_source_value source_value procedure_source_concept_id source_concept_id qualifier_source_value qualifier_source_value', metadata={'source': 'sample_docs/WebMD_PBM_ETL_5.0.1_20170606.docx', 'last_modified': '2024-02-04T20:19:13', 'page_number': 18, 'text_as_html': '<table>\\n<thead>\\n<tr><th>Destination Field          </th><th>Source Field          </th><th>Logic  </th><th>Comment  </th></tr>\\n</thead>\\n<tbody>\\n<tr><td>procedure_occurrence_id    </td><td>id                    </td><td>       </td><td>         </td></tr>\\n<tr><td>person_id                  </td><td>person_id             </td><td>       </td><td>         </td></tr>\\n<tr><td>procedure_concept_id       </td><td>concept_id            </td><td>       </td><td>         </td></tr>\\n<tr><td>procedure_date             </td><td>start_date            </td><td>       </td><td>         </td></tr>\\n<tr><td>procedure_type_concept_id  </td><td>type_concept_id       </td><td>       </td><td>         </td></tr>\\n<tr><td>modifier_concept_id        </td><td>modifier_concept_id   </td><td>       </td><td>         </td></tr>\\n<tr><td>quantity                   </td><td>quantity              </td><td>       </td><td>         </td></tr>\\n<tr><td>provider_id                </td><td>provider_id           </td><td>       </td><td>         </td></tr>\\n<tr><td>visit_occurrence_id        </td><td>visit_occurrence_id   </td><td>       </td><td>         </td></tr>\\n<tr><td>procedure_source_value     </td><td>source_value          </td><td>       </td><td>         </td></tr>\\n<tr><td>procedure_source_concept_id</td><td>source_concept_id     </td><td>       </td><td>         </td></tr>\\n<tr><td>qualifier_source_value     </td><td>qualifier_source_value</td><td>       </td><td>         </td></tr>\\n</tbody>\\n</table>', 'languages': ['eng'], 'parent_id': '4da4466aa9913126d91d78dcb5806371', 'file_directory': 'sample_docs', 'filename': 'WebMD_PBM_ETL_5.0.1_20170606.docx', 'filetype': 'application/vnd.openxmlformats-officedocument.wordprocessingml.document', 'category': 'Table'})]"
      ]
     },
     "execution_count": 87,
     "metadata": {},
     "output_type": "execute_result"
    }
   ],
   "source": [
    "query = 'how can I query condition_occurrence?'\n",
    "\n",
    "docs_retriever.get_relevant_documents(query)"
   ]
  },
  {
   "cell_type": "markdown",
   "metadata": {},
   "source": [
    "### The Retriever is a main component of RAG\n",
    "\n",
    "Let's that up before jumping into tools and agents"
   ]
  },
  {
   "cell_type": "markdown",
   "metadata": {},
   "source": [
    "RAG chains build sequentially through:\n",
    "\n",
    "1. Question\n",
    "2. Retrieve documents from retriever (Built on Vector DB)\n",
    "3. Any formatting (if needed)\n",
    "4. Prompt\n",
    "5. LLM\n",
    "6. Output to user\n"
   ]
  },
  {
   "cell_type": "markdown",
   "metadata": {},
   "source": [
    "<p>\n",
    "<img src=\"ILLUSTRATIONS/rag_diagram.png\" \n",
    "      width=\"65%\" height=\"auto\"\n",
    "      style=\"display: block; margin: 0 auto\" />\n",
    "\n",
    "Illustration [reference](https://python.langchain.com/docs/use_cases/question_answering/)"
   ]
  },
  {
   "cell_type": "markdown",
   "metadata": {},
   "source": [
    "We'll create a function to parse the retrieved docs so that it extracts the \"page_content\" only and joins all docs together. We'll also use a prompt (*you can use your own*) from [langchain hub](https://smith.langchain.com/hub?organizationId=492b1b26-fec0-561f-87a0-ff990d4ecc60)"
   ]
  },
  {
   "cell_type": "code",
   "execution_count": 110,
   "metadata": {},
   "outputs": [
    {
     "data": {
      "text/plain": [
       "ChatPromptTemplate(input_variables=['context', 'question'], messages=[HumanMessagePromptTemplate(prompt=PromptTemplate(input_variables=['context', 'question'], template=\"You are an assistant for question-answering tasks. Use the following pieces of retrieved context to answer the question. If you don't know the answer, just say that you don't know. Use three sentences maximum and keep the answer concise.\\nQuestion: {question} \\nContext: {context} \\nAnswer:\"))])"
      ]
     },
     "execution_count": 110,
     "metadata": {},
     "output_type": "execute_result"
    }
   ],
   "source": [
    "def format_docs(docs):\n",
    "    return \"\\n\\n\".join(i.page_content for i in docs)\n",
    "\n",
    "prompt = hub.pull(\"rlm/rag-prompt\")\n",
    "\n",
    "prompt"
   ]
  },
  {
   "cell_type": "markdown",
   "metadata": {},
   "source": [
    "Notice the **{question}** and **{context}** input variables in the prompt"
   ]
  },
  {
   "cell_type": "code",
   "execution_count": 130,
   "metadata": {},
   "outputs": [
    {
     "data": {
      "text/plain": [
       "{'prompt': {'name': None,\n",
       "  'input_variables': ['context', 'question'],\n",
       "  'input_types': {},\n",
       "  'output_parser': None,\n",
       "  'partial_variables': {},\n",
       "  'template': \"You are an assistant for question-answering tasks. Use the following pieces of retrieved context to answer the question. If you don't know the answer, just say that you don't know. Use three sentences maximum and keep the answer concise.\\nQuestion: {question} \\nContext: {context} \\nAnswer:\",\n",
       "  'template_format': 'f-string',\n",
       "  'validate_template': False,\n",
       "  '_type': 'prompt'},\n",
       " 'additional_kwargs': {}}"
      ]
     },
     "execution_count": 130,
     "metadata": {},
     "output_type": "execute_result"
    }
   ],
   "source": [
    "prompt.messages[0].dict()"
   ]
  },
  {
   "cell_type": "markdown",
   "metadata": {},
   "source": [
    "We'll put this together in the chain using **LCEL**. The initial comma-separated elements within {} in the chain are the input to the chain. Each can be piped to be formatted further. Recall that **RunnablePassthrough()** allows passing of the input *invoked* query in the chain\n",
    "\n",
    "We'll use the **gpt-4-0125-preview** model"
   ]
  },
  {
   "cell_type": "code",
   "execution_count": 140,
   "metadata": {},
   "outputs": [],
   "source": [
    "openai_model_name = \"gpt-4-0125-preview\"\n",
    "llm = ChatOpenAI(model=openai_model_name, temperature=0.5)\n",
    "\n",
    "rag_chain = (\n",
    "    {\"context\": docs_retriever | RunnableLambda(format_docs), \"question\": RunnablePassthrough()} |  #Noticeable RunnableLambda() wrapping is not needed\n",
    "    prompt |\n",
    "    llm |\n",
    "    StrOutputParser()\n",
    ")\n",
    "\n",
    "# rag_chain.invoke(\"how can I query condition_occurrence?\")"
   ]
  },
  {
   "cell_type": "markdown",
   "metadata": {},
   "source": [
    "We can know invoke the chain with our original query to get a very-well formed answer"
   ]
  },
  {
   "cell_type": "code",
   "execution_count": 145,
   "metadata": {},
   "outputs": [
    {
     "name": "stdout",
     "output_type": "stream",
     "text": [
      "To query the `condition_occurrence` table, you can select fields such as `condition_occurrence_id`, `person_id`, `condition_concept_id`, `condition_start_date`, `condition_end_date`, `condition_type_concept_id`, `provider_id`, and `visit_occurrence_id` based on your specific requirements. You can use SQL (Structured Query Language) to write a query that matches your criteria, for example, `SELECT * FROM condition_occurrence WHERE condition_concept_id = [your_concept_id]`. Be sure to replace `[your_concept_id]` with the actual ID you are interested in querying.\n"
     ]
    }
   ],
   "source": [
    "print(rag_chain.invoke(\"how can I query condition_occurrence?\"))"
   ]
  },
  {
   "cell_type": "markdown",
   "metadata": {},
   "source": [
    "We can also at **streaming** added (for better user engagement experience)"
   ]
  },
  {
   "cell_type": "code",
   "execution_count": 137,
   "metadata": {},
   "outputs": [
    {
     "name": "stdout",
     "output_type": "stream",
     "text": [
      "To query the \"condition_occurrence\" table, you should select fields based on your requirements, such as \"condition_occurrence_id\", \"person_id\", \"condition_concept_id\", \"condition_start_date\", \"condition_end_date\", and any other relevant fields listed under the \"condition_occurrence\" context. Use SQL syntax to structure your query, for example: `SELECT * FROM condition_occurrence WHERE condition_concept_id = [desired concept ID];` Replace `[desired concept ID]` with the specific condition concept ID you are interested in. This approach allows you to retrieve specific records based on condition concepts or any other criteria relevant to your query."
     ]
    }
   ],
   "source": [
    "for chunk in rag_chain.stream(\"how can I query condition_occurrence?\"):\n",
    "    print(chunk, end=\"\", flush=True)"
   ]
  },
  {
   "cell_type": "markdown",
   "metadata": {},
   "source": [
    "### After looking at how RAG works, we'll go ahead and create the actual retriever tool\n",
    "\n",
    "This will give it a name and provide tool instructions so the Agent knows how to use it"
   ]
  },
  {
   "cell_type": "code",
   "execution_count": 150,
   "metadata": {},
   "outputs": [],
   "source": [
    "retriever_tool = create_retriever_tool(\n",
    "    docs_retriever,\n",
    "    \"ETL_Retriever\",\n",
    "    \"Search for information about the ETL Data Mapping to CDM V5.0.1\"\n",
    "    )"
   ]
  },
  {
   "cell_type": "markdown",
   "metadata": {},
   "source": [
    "### We'll now use our tools tools to build our Agent"
   ]
  },
  {
   "cell_type": "markdown",
   "metadata": {},
   "source": [
    "Let's pull our tools and define our LLM model"
   ]
  },
  {
   "cell_type": "code",
   "execution_count": 154,
   "metadata": {},
   "outputs": [],
   "source": [
    "agent_tools = [online_search, retriever_tool]\n",
    "\n",
    "openai_model_name = \"gpt-4-0125-preview\"\n",
    "llm = ChatOpenAI(model=openai_model_name, temperature=0.2)"
   ]
  },
  {
   "cell_type": "markdown",
   "metadata": {},
   "source": [
    "We'll use a pre-defined prompt from the hub (which we can modify)"
   ]
  },
  {
   "cell_type": "code",
   "execution_count": 148,
   "metadata": {},
   "outputs": [
    {
     "data": {
      "text/plain": [
       "[SystemMessagePromptTemplate(prompt=PromptTemplate(input_variables=[], template='You are a helpful assistant')),\n",
       " MessagesPlaceholder(variable_name='chat_history', optional=True),\n",
       " HumanMessagePromptTemplate(prompt=PromptTemplate(input_variables=['input'], template='{input}')),\n",
       " MessagesPlaceholder(variable_name='agent_scratchpad')]"
      ]
     },
     "execution_count": 148,
     "metadata": {},
     "output_type": "execute_result"
    }
   ],
   "source": [
    "prompt = hub.pull(\"hwchase17/openai-functions-agent\")\n",
    "prompt.messages"
   ]
  },
  {
   "cell_type": "markdown",
   "metadata": {},
   "source": [
    "Having all: prompt, llm and tools, we'll go ahead and **initialize the agent**"
   ]
  },
  {
   "cell_type": "code",
   "execution_count": 155,
   "metadata": {},
   "outputs": [],
   "source": [
    "etl_plus_agent = create_openai_functions_agent(llm, agent_tools, prompt)"
   ]
  },
  {
   "cell_type": "markdown",
   "metadata": {},
   "source": [
    "Now we'll create the **Agent Executor**, which calls the agent and execute as many times as needed"
   ]
  },
  {
   "cell_type": "code",
   "execution_count": 156,
   "metadata": {},
   "outputs": [],
   "source": [
    "etl_plus_agent_executor = AgentExecutor(\n",
    "    agent=etl_plus_agent, \n",
    "    tools=agent_tools,\n",
    "    verbose=True\n",
    "    )"
   ]
  },
  {
   "cell_type": "markdown",
   "metadata": {},
   "source": [
    "#### Now we can finally call our agent"
   ]
  },
  {
   "cell_type": "code",
   "execution_count": 158,
   "metadata": {},
   "outputs": [
    {
     "name": "stdout",
     "output_type": "stream",
     "text": [
      "\n",
      "\n",
      "\u001b[1m> Entering new AgentExecutor chain...\u001b[0m\n",
      "\u001b[32;1m\u001b[1;3mHello! How can I assist you today?\u001b[0m\n",
      "\n",
      "\u001b[1m> Finished chain.\u001b[0m\n"
     ]
    },
    {
     "data": {
      "text/plain": [
       "{'input': 'Hello!', 'output': 'Hello! How can I assist you today?'}"
      ]
     },
     "execution_count": 158,
     "metadata": {},
     "output_type": "execute_result"
    }
   ],
   "source": [
    "etl_plus_agent_executor.invoke({\"input\":\"Hello!\"})"
   ]
  },
  {
   "cell_type": "code",
   "execution_count": 159,
   "metadata": {},
   "outputs": [
    {
     "name": "stdout",
     "output_type": "stream",
     "text": [
      "\n",
      "\n",
      "\u001b[1m> Entering new AgentExecutor chain...\u001b[0m\n",
      "\u001b[32;1m\u001b[1;3m\n",
      "Invoking: `ETL_Retriever` with `{'query': 'person table'}`\n",
      "\n",
      "\n",
      "\u001b[0m\u001b[33;1m\u001b[1;3m[Document(page_content='Table name: person', metadata={'source': 'sample_docs/WebMD_PBM_ETL_5.0.1_20170606.docx', 'category_depth': 0, 'last_modified': '2024-02-04T20:19:13', 'page_number': 8, 'languages': ['eng'], 'file_directory': 'sample_docs', 'filename': 'WebMD_PBM_ETL_5.0.1_20170606.docx', 'filetype': 'application/vnd.openxmlformats-officedocument.wordprocessingml.document', 'category': 'Title'}), Document(page_content='Table: stem_table', metadata={'source': 'sample_docs/WebMD_PBM_ETL_5.0.1_20170606.docx', 'category_depth': 0, 'last_modified': '2024-02-04T20:19:13', 'page_number': 34, 'languages': ['eng'], 'file_directory': 'sample_docs', 'filename': 'WebMD_PBM_ETL_5.0.1_20170606.docx', 'filetype': 'application/vnd.openxmlformats-officedocument.wordprocessingml.document', 'category': 'Title'}), Document(page_content='Table name: note', metadata={'source': 'sample_docs/WebMD_PBM_ETL_5.0.1_20170606.docx', 'category_depth': 0, 'last_modified': '2024-02-04T20:19:13', 'page_number': 23, 'languages': ['eng'], 'file_directory': 'sample_docs', 'filename': 'WebMD_PBM_ETL_5.0.1_20170606.docx', 'filetype': 'application/vnd.openxmlformats-officedocument.wordprocessingml.document', 'category': 'Title'}), Document(page_content='Table name: specimen', metadata={'source': 'sample_docs/WebMD_PBM_ETL_5.0.1_20170606.docx', 'category_depth': 0, 'last_modified': '2024-02-04T20:19:13', 'page_number': 21, 'languages': ['eng'], 'file_directory': 'sample_docs', 'filename': 'WebMD_PBM_ETL_5.0.1_20170606.docx', 'filetype': 'application/vnd.openxmlformats-officedocument.wordprocessingml.document', 'category': 'Title'}), Document(page_content='Table name: death', metadata={'source': 'sample_docs/WebMD_PBM_ETL_5.0.1_20170606.docx', 'category_depth': 0, 'last_modified': '2024-02-04T20:19:13', 'page_number': 24, 'languages': ['eng'], 'file_directory': 'sample_docs', 'filename': 'WebMD_PBM_ETL_5.0.1_20170606.docx', 'filetype': 'application/vnd.openxmlformats-officedocument.wordprocessingml.document', 'category': 'Title'}), Document(page_content='Table name: location', metadata={'source': 'sample_docs/WebMD_PBM_ETL_5.0.1_20170606.docx', 'category_depth': 0, 'last_modified': '2024-02-04T20:19:13', 'page_number': 4, 'languages': ['eng'], 'file_directory': 'sample_docs', 'filename': 'WebMD_PBM_ETL_5.0.1_20170606.docx', 'filetype': 'application/vnd.openxmlformats-officedocument.wordprocessingml.document', 'category': 'Title'})]\u001b[0m\u001b[32;1m\u001b[1;3mIn the new version of the Common Data Model (CDM), the `person` table is still present. This table is a crucial component of the CDM, designed to store information about individuals whose data is being captured in the model. The documentation does not provide specific details about the schema or the fields within the `person` table, but it confirms the table's existence and its continued importance in the model. If you need detailed information about the schema, fields, or how to query the `person` table, please let me know, and I can provide further assistance.\u001b[0m\n",
      "\n",
      "\u001b[1m> Finished chain.\u001b[0m\n"
     ]
    },
    {
     "data": {
      "text/plain": [
       "{'input': 'how can query the person table in the new version of the CDM?',\n",
       " 'output': \"In the new version of the Common Data Model (CDM), the `person` table is still present. This table is a crucial component of the CDM, designed to store information about individuals whose data is being captured in the model. The documentation does not provide specific details about the schema or the fields within the `person` table, but it confirms the table's existence and its continued importance in the model. If you need detailed information about the schema, fields, or how to query the `person` table, please let me know, and I can provide further assistance.\"}"
      ]
     },
     "execution_count": 159,
     "metadata": {},
     "output_type": "execute_result"
    }
   ],
   "source": [
    "etl_plus_agent_executor.invoke({\"input\":\"how can query the person table in the new version of the CDM?\"})"
   ]
  },
  {
   "cell_type": "code",
   "execution_count": 160,
   "metadata": {},
   "outputs": [
    {
     "name": "stdout",
     "output_type": "stream",
     "text": [
      "\n",
      "\n",
      "\u001b[1m> Entering new AgentExecutor chain...\u001b[0m\n",
      "\u001b[32;1m\u001b[1;3m\n",
      "Invoking: `tavily_search_results_json` with `{'query': 'Universitario game tonight'}`\n",
      "\n",
      "\n",
      "\u001b[0m\u001b[36;1m\u001b[1;3m[{'url': 'https://www.footballtipspredictions.com/alianza-lima-vs-universitario-de-deportes-prediction-odds-betting-tips-2024-02-11', 'content': 'Universitario de Deportes Last Games  Universitario de Deportes  The excitement for the 11 Feb 2024 match in Peru Liga 1 between Alianza Lima and Universitario de Deportes is palpable  Universitario de Deportes Away ResultsThe excitement for the 11 Feb 2024 match in Peru Liga 1 between Alianza Lima and Universitario de Deportes is palpable among the fans and sports pundits. Predictions are circulating, with various scenarios being contemplated for this pivotal game. While Alianza Lima aims to harness the energy of their home supporters, Universitario de Deportes ...'}, {'url': 'https://www.sportsmediawatch.com/college-basketball-tv-schedule-mens-2024-how-watch-games-today/', 'content': \"Wednesday, November 8, 2023 Thursday, November 9, 2023 Friday, November 10, 2023 Saturday, November 11, 2023  Friday, February 2, 2024 Saturday, February 3, 2024 Sunday, February 4, 2024 Monday, February 5, 2024  Monday, November 20, 2023 Tuesday, November 21, 2023 Wednesday, November 22, 2023 Thursday, November 23, 2023  Thursday, November 16, 2023 Friday, November 17, 2023 Saturday, November 18, 2023 Sunday, November 19, 2023College basketball TV schedule 2024: How to watch games today - Sports Media Watch Home » Men's college basketball TV schedule Men's college basketball TV schedule See how to watch or stream games with the 2023-24 men's college basketball TV schedule on the ESPN networks, Fox Sports, CBS, BTN, Pac-12 Network and more.\"}, {'url': 'https://www.usatoday.com/story/sports/nfl/2024/02/07/when-is-the-super-bowl-time-date-location-big-game-nfl-football/72515902007/', 'content': '2024 Super Bowl: Time, date, location for 49ers-Chiefs big game  Francisco 49ers. This game is a rematch of Super Bowl 54 from 2020, a game the Chiefs won 31-20.  2024 Super Bowl: Date, time, location and how to watch When: Sunday, Feb. 11, 2024 Kickoff: 6:30 p.m. ET  There are just a few days left until the 2024 Super Bowl between the Kansas City Chiefs and the San Francisco 49ers.There are just a few days left until the 2024 Super Bowl between the Kansas City Chiefs and the San Francisco 49ers.This game is a rematch of Super Bowl 54 from 2020, a game the Chiefs won 31-20 ...'}]\u001b[0m\u001b[32;1m\u001b[1;3mUniversitario de Deportes will play against Alianza Lima tonight, February 11, 2024, in a match in Peru Liga 1. The excitement for this game is palpable among fans and sports pundits.\u001b[0m\n",
      "\n",
      "\u001b[1m> Finished chain.\u001b[0m\n"
     ]
    },
    {
     "data": {
      "text/plain": [
       "{'input': 'What team will Universitario play against tonight?',\n",
       " 'output': 'Universitario de Deportes will play against Alianza Lima tonight, February 11, 2024, in a match in Peru Liga 1. The excitement for this game is palpable among fans and sports pundits.'}"
      ]
     },
     "execution_count": 160,
     "metadata": {},
     "output_type": "execute_result"
    }
   ],
   "source": [
    "etl_plus_agent_executor.invoke({\"input\":\"What team will Universitario play against tonight?\"})"
   ]
  },
  {
   "cell_type": "markdown",
   "metadata": {},
   "source": [
    "#### As seen the Agent knows how to call which tool as needed.\n",
    "\n",
    "While there might be edge, the better we describe, provide data in Vector DB and prompt, the better the Agent will be."
   ]
  },
  {
   "cell_type": "code",
   "execution_count": null,
   "metadata": {},
   "outputs": [],
   "source": []
  }
 ],
 "metadata": {
  "kernelspec": {
   "display_name": "open_ai",
   "language": "python",
   "name": "python3"
  },
  "language_info": {
   "codemirror_mode": {
    "name": "ipython",
    "version": 3
   },
   "file_extension": ".py",
   "mimetype": "text/x-python",
   "name": "python",
   "nbconvert_exporter": "python",
   "pygments_lexer": "ipython3",
   "version": "3.9.16"
  }
 },
 "nbformat": 4,
 "nbformat_minor": 2
}
