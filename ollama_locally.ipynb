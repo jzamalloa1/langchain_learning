{
 "cells": [
  {
   "cell_type": "markdown",
   "metadata": {},
   "source": [
    "### Testing how to Run Ollama locally"
   ]
  },
  {
   "cell_type": "code",
   "execution_count": 22,
   "metadata": {},
   "outputs": [],
   "source": [
    "from langchain.prompts import ChatPromptTemplate\n",
    "from langchain.schema.output_parser import StrOutputParser\n",
    "from langchain.chat_models import ChatOllama\n",
    "from langchain.schema import HumanMessage\n",
    "from langchain.memory import ConversationSummaryBufferMemory\n",
    "from langchain.chains import ConversationChain\n",
    "import requests\n",
    "from bs4 import BeautifulSoup\n",
    "import json\n",
    "from IPython.display import display, Markdown, Latex"
   ]
  },
  {
   "cell_type": "markdown",
   "metadata": {},
   "source": [
    "Load model. Make sure to have followed instructions [here](https://github.com/jmorganca/ollama) to get started with Ollama"
   ]
  },
  {
   "cell_type": "code",
   "execution_count": 12,
   "metadata": {},
   "outputs": [],
   "source": [
    "ollama_llm = \"llama2\""
   ]
  },
  {
   "cell_type": "markdown",
   "metadata": {},
   "source": [
    "Dummy run"
   ]
  },
  {
   "cell_type": "code",
   "execution_count": 14,
   "metadata": {},
   "outputs": [
    {
     "data": {
      "text/plain": [
       "'I apologize, but I\\'m a large language model, I cannot provide an answer to the question \"what is langsmith\" as it is not a valid or recognized term in any field of study. It is possible that you may have misspelled the term or it could be a made-up word with no actual meaning. Can you please provide more context or clarify the term you are asking about?'"
      ]
     },
     "execution_count": 14,
     "metadata": {},
     "output_type": "execute_result"
    }
   ],
   "source": [
    "summary_template = \"\"\"\n",
    "\n",
    "Using internal knowledgre, answer in short the following question\n",
    "\n",
    "> {question}\n",
    "\n",
    "---\n",
    "if the question cannot be answered using your internal knowledge, simply summarize the text. Include all factual information, numbers, stats, etc.\n",
    "\"\"\"\n",
    "\n",
    "summary_prompt = ChatPromptTemplate.from_template(summary_template)\n",
    "\n",
    "\n",
    "chain = summary_prompt | ChatOllama(model=ollama_llm, temperature=0) | StrOutputParser()\n",
    "\n",
    "chain.invoke(\n",
    "    {\n",
    "        \"question\":\"what is langsmith\",\n",
    "    }\n",
    ")\n"
   ]
  },
  {
   "cell_type": "code",
   "execution_count": 15,
   "metadata": {},
   "outputs": [
    {
     "data": {
      "text/plain": [
       "'One Piece is a popular Japanese manga and anime series created by Eiichiro Oda. The story follows the adventures of Monkey D. Luffy, a young boy who becomes a pirate after eating the Gum-Gum Fruit, which gives him the ability to stretch and manipulate his body like rubber.\\n\\nHere are some key facts about One Piece:\\n\\n* The series was first published in 1997 and has been ongoing since then.\\n* There are currently over 900 chapters of the manga and 20 seasons of the anime.\\n* The series has sold over 430 million copies worldwide, making it one of the best-selling manga series of all time.\\n* The anime has been dubbed into many languages and has a global following, with episodes airing in over 80 countries.\\n* The series has also spawned various spin-offs, including video games, movies, and merchandise.\\n* The main character, Monkey D. Luffy, is known for his unique abilities and his strong sense of justice, which drives him to search for the ultimate treasure known as \"One Piece\" in order to become the Pirate King.\\n* Other notable characters include Roronoa Zoro, a skilled swordsman and the first member to join Luffy\\'s crew; Usopp, a talented marksman and storyteller; Sanji, a skilled cook and ladies\\' man; Tony Tony Chopper, a reindeer doctor who can transform into a human-sized version of himself; Nico Robin, an archaeologist and historian who can also transform into a giant bird; Franky, a cyborg shipwright who builds and repairs ships; and Brook, a skeleton musician who can play musical instruments with his bones.\\n* The series is known for its blend of action, adventure, comedy, and drama, as well as its colorful and imaginative world-building.\\n\\nI hope this information helps! Let me know if you have any other questions.'"
      ]
     },
     "execution_count": 15,
     "metadata": {},
     "output_type": "execute_result"
    }
   ],
   "source": [
    "chain.invoke(\n",
    "    {\n",
    "        \"question\":\"what is One Piece?\",\n",
    "    }\n",
    ")"
   ]
  },
  {
   "cell_type": "markdown",
   "metadata": {},
   "source": [
    "Great, the above works just as with the OpenAI model tested before [here](https://github.com/jzamalloa1/langchain_learning/blob/main/ra.ipynb)"
   ]
  },
  {
   "cell_type": "markdown",
   "metadata": {},
   "source": [
    "Now let's try to interact with it using information from the web as a RAG"
   ]
  },
  {
   "cell_type": "code",
   "execution_count": 16,
   "metadata": {},
   "outputs": [],
   "source": [
    "def scrape_text(url: str):\n",
    "    # Send a GET request to the webpage\n",
    "    try:\n",
    "        response = requests.get(url)\n",
    "\n",
    "        # Check if the request was successful\n",
    "        if response.status_code == 200:\n",
    "            # Parse the content of the request with BeautifulSoup\n",
    "            soup = BeautifulSoup(response.text, \"html.parser\")\n",
    "\n",
    "            # Extract all text from the webpage\n",
    "            page_text = soup.get_text(separator=\" \", strip=True)\n",
    "\n",
    "            # Print the extracted text\n",
    "            return page_text\n",
    "        else:\n",
    "            return f\"Failed to retrieve the webpage: Status code {response.status_code}\"\n",
    "    except Exception as e:\n",
    "        print(e)\n",
    "        return f\"Failed to retrieve the webpage: {e}\""
   ]
  },
  {
   "cell_type": "code",
   "execution_count": 19,
   "metadata": {},
   "outputs": [],
   "source": [
    "url = \"https://blog.langchain.dev/announcing-langsmith/\" # example url to play with\n",
    "\n",
    "page_content = scrape_text(url)"
   ]
  },
  {
   "cell_type": "code",
   "execution_count": 21,
   "metadata": {},
   "outputs": [],
   "source": [
    "template = \"\"\"Summarize the following question based on the context:\n",
    "\n",
    "Question: {question}\n",
    "\n",
    "Context:\n",
    "{context}\n",
    "\"\"\"\n",
    "\n",
    "prompt = ChatPromptTemplate.from_template(template)"
   ]
  },
  {
   "cell_type": "code",
   "execution_count": 26,
   "metadata": {},
   "outputs": [],
   "source": [
    "chain = prompt | ChatOllama(model=ollama_llm, temperature=0) | StrOutputParser()\n",
    "\n",
    "chain.invoke({\n",
    "    \"question\":\"what is langsmith\",\n",
    "    \"context\":page_content\n",
    "})"
   ]
  },
  {
   "cell_type": "code",
   "execution_count": null,
   "metadata": {},
   "outputs": [],
   "source": []
  }
 ],
 "metadata": {
  "kernelspec": {
   "display_name": "open_ai",
   "language": "python",
   "name": "python3"
  },
  "language_info": {
   "codemirror_mode": {
    "name": "ipython",
    "version": 3
   },
   "file_extension": ".py",
   "mimetype": "text/x-python",
   "name": "python",
   "nbconvert_exporter": "python",
   "pygments_lexer": "ipython3",
   "version": "3.9.16"
  }
 },
 "nbformat": 4,
 "nbformat_minor": 2
}
