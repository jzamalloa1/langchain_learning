{
 "cells": [
  {
   "cell_type": "markdown",
   "metadata": {},
   "source": [
    "### Testing how to Run Ollama locally"
   ]
  },
  {
   "cell_type": "code",
   "execution_count": 5,
   "metadata": {},
   "outputs": [],
   "source": [
    "from langchain.chat_models import ChatOllama\n",
    "from langchain.schema import HumanMessage"
   ]
  },
  {
   "cell_type": "code",
   "execution_count": 9,
   "metadata": {},
   "outputs": [],
   "source": [
    "ollama_llm = \"llama2\"\n",
    "\n",
    "chat_model = ChatOllama(\n",
    "    model=ollama_llm,\n",
    ")"
   ]
  },
  {
   "cell_type": "code",
   "execution_count": 10,
   "metadata": {},
   "outputs": [
    {
     "data": {
      "text/plain": [
       "AIMessage(content='\\nThe history of artificial intelligence (AI) dates back to ancient civilizations, where myths and legends tell stories of machines and computers that could think and act like humans. However, the modern field of AI began in the mid-20th century, when computer scientists like Alan Turing, Marvin Minsky, and John McCarthy started exploring ways to create machines that could simulate human intelligence. Here\\'s a brief overview of the history of AI:\\n\\n1. Early Years (1950s-1960s): The term \"Artificial Intelligence\" was coined in 1956 by John McCarthy, and the field began to take shape with the establishment of the first AI research laboratory at Dartmouth College in 1957. Early AI research focused on developing rule-based systems, logic reasoning, and problem-solving algorithms.\\n2. Rule-Based Expert Systems (1970s-1980s): The development of rule-based expert systems, such as Mycin and ELIZA, marked a significant milestone in AI history. These systems could reason and provide answers to complex questions by following a set of rules and logical statements.\\n3. Machine Learning (1990s-2000s): With the rise of machine learning, AI research shifted towards developing algorithms that could learn from data without being explicitly programmed. This led to the development of neural networks, decision trees, and other machine learning models.\\n4. Deep Learning (2010s-present): The resurgence of interest in AI, fueled by advances in computing power and the availability of large datasets, has led to the development of deep learning techniques such as convolutional neural networks (CNNs) and recurrent neural networks (RNNs). These algorithms have been successful in solving complex tasks like image recognition, natural language processing, and speech recognition.\\n5. Natural Language Processing (NLP): NLP is a subfield of AI that focuses on the interaction between computers and human language. The development of NLP has enabled computers to understand and generate text, recognize speech, and even create new languages.\\n6. Robotics and Computer Vision: Robotics and computer vision are other important areas within AI. Advances in these fields have led to the development of autonomous vehicles, robotic arms, and other machines that can interact with their environment and perform tasks independently.\\n7. Ethical and Social Implications: As AI becomes more advanced and integrated into various aspects of society, there is a growing concern about its ethical and social implications. Questions around bias, privacy, and job displacement have become increasingly relevant in the field of AI.\\n8. Current Trends and Future Directions: Today, AI is being applied to a wide range of industries, including healthcare, finance, education, and entertainment. As the field continues to evolve, we can expect to see further advancements in areas like reinforcement learning, transfer learning, and edge AI.\\n9. Challenges and Limitations: Despite the significant progress made in AI, there are still several challenges and limitations that need to be addressed. These include the lack of transparency and explainability in many AI systems, as well as concerns around their potential impact on society.\\n10. Future of Work and Society: The impact of AI on work and society is a topic of much debate. While some predict that AI will lead to significant job displacement, others argue that it will create new opportunities and improve overall quality of life.\\n\\nThis brief history of AI provides a glimpse into the field\\'s evolution over the years. As AI continues to advance, it is important to consider both its potential benefits and limitations, as well as the ethical and social implications of its widespread adoption.')"
      ]
     },
     "execution_count": 10,
     "metadata": {},
     "output_type": "execute_result"
    }
   ],
   "source": [
    "messages = [HumanMessage(content=\"Tell me about the history of AI\")]\n",
    "\n",
    "chat_model(messages)"
   ]
  },
  {
   "cell_type": "code",
   "execution_count": null,
   "metadata": {},
   "outputs": [],
   "source": []
  }
 ],
 "metadata": {
  "kernelspec": {
   "display_name": "open_ai",
   "language": "python",
   "name": "python3"
  },
  "language_info": {
   "codemirror_mode": {
    "name": "ipython",
    "version": 3
   },
   "file_extension": ".py",
   "mimetype": "text/x-python",
   "name": "python",
   "nbconvert_exporter": "python",
   "pygments_lexer": "ipython3",
   "version": "3.9.16"
  }
 },
 "nbformat": 4,
 "nbformat_minor": 2
}
