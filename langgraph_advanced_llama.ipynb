{
 "cells": [
  {
   "cell_type": "markdown",
   "metadata": {},
   "source": [
    "# LangGraph Advanced with Llama 3\n",
    "\n",
    "Will apply [Llama 3 (8B Model)](https://llama.meta.com/docs/model-cards-and-prompt-formats/meta-llama-3) through [Ollama](https://python.langchain.com/docs/integrations/chat/ollama/) to build [LangGraph](https://python.langchain.com/docs/langgraph/) multi-agent RAG Sytems\n",
    "\n",
    "Ensure that you have `Ollama` running and have pulled `Llama3:8B` model "
   ]
  },
  {
   "cell_type": "code",
   "execution_count": 76,
   "metadata": {},
   "outputs": [],
   "source": [
    "import os\n",
    "from langchain_community.chat_models import ChatOllama\n",
    "from langchain_core.output_parsers import StrOutputParser, JsonOutputParser\n",
    "from langchain_core.prompts import ChatPromptTemplate\n",
    "from langchain.callbacks.manager import CallbackManager\n",
    "from langchain.callbacks.streaming_stdout import StreamingStdOutCallbackHandler\n",
    "from langchain_community.document_loaders import WebBaseLoader\n",
    "from langchain.text_splitter import RecursiveCharacterTextSplitter\n",
    "from langchain_community.document_loaders import YoutubeLoader\n",
    "from langchain_community.vectorstores import Chroma\n",
    "from langchain.prompts import PromptTemplate\n",
    "from langchain_openai import OpenAIEmbeddings\n",
    "from langchain_community.retrievers import TavilySearchAPIRetriever\n",
    "from typing_extensions import TypedDict\n",
    "from typing import Dict, List\n",
    "from langchain_core.pydantic_v1 import BaseModel, Field\n",
    "from langchain_core.vectorstores import VectorStoreRetriever\n",
    "from langchain_community.docstore.document import Document\n",
    "from langgraph.graph import END, StateGraph\n",
    "from langchain_core.runnables.graph import CurveStyle, NodeColors, MermaidDrawMethod\n",
    "from IPython.display import display, HTML\n",
    "import base64\n",
    "import nest_asyncio\n",
    "from pprint import pprint"
   ]
  },
  {
   "cell_type": "markdown",
   "metadata": {},
   "source": [
    "Inspiration from [Langchain Videos](https://www.youtube.com/watch?v=-ROS6gfYIts) and [previous notebook](https://github.com/jzamalloa1/langchain_learning/blob/main/langgraph_testing.ipynb)\n",
    "\n",
    "<p>\n",
    "<img src=\"ILLUSTRATIONS/langgraph_advanced_flow.png\" \n",
    "      width=\"65%\" height=\"auto\"\n",
    "      style=\"display: block; margin: 0 auto\" />\n",
    "\n",
    "Illustration [reference](https://github.com/jzamalloa1/langchain_learning/blob/main/langgraph_testing.ipynb)"
   ]
  },
  {
   "cell_type": "code",
   "execution_count": 4,
   "metadata": {},
   "outputs": [],
   "source": [
    "# OpenAI API Key solely to use embedding model\n",
    "os.environ[\"OPENAI_API_KEY\"] = \"\"\n",
    "os.environ[\"TAVILY_API_KEY\"] = \"\""
   ]
  },
  {
   "cell_type": "code",
   "execution_count": 5,
   "metadata": {},
   "outputs": [],
   "source": [
    "llama_model = \"llama3:8b\""
   ]
  },
  {
   "cell_type": "markdown",
   "metadata": {},
   "source": [
    "#### Source for Vector Stores"
   ]
  },
  {
   "cell_type": "code",
   "execution_count": 6,
   "metadata": {},
   "outputs": [],
   "source": [
    "llm_urls = [\n",
    "    \"https://lilianweng.github.io/posts/2023-06-23-agent/\",\n",
    "    \"https://lilianweng.github.io/posts/2023-03-15-prompt-engineering/\",\n",
    "    \"https://lilianweng.github.io/posts/2023-10-25-adv-attack-llm/\",\n",
    "    \n",
    "]\n",
    "\n",
    "plotly_yt_urls = [\n",
    "    \"https://www.youtube.com/watch?v=Qx5eFVUdDxk&list=PLYD54mj9I2JevdabetHsJ3RLCeMyBNKYV&index=1\",\n",
    "    \"https://www.youtube.com/watch?v=Z9YUejzkFa0&list=PLYD54mj9I2JevdabetHsJ3RLCeMyBNKYV&index=2\",\n",
    "    \"https://www.youtube.com/watch?v=4bP66rRxVBw&list=PLYD54mj9I2JevdabetHsJ3RLCeMyBNKYV&index=3\",\n",
    "    \"https://www.youtube.com/watch?v=a1qzu5GKIf0&list=PLYD54mj9I2JevdabetHsJ3RLCeMyBNKYV&index=4\",\n",
    "    \"https://www.youtube.com/watch?v=Fm7DC-Z5R7A&list=PLYD54mj9I2JevdabetHsJ3RLCeMyBNKYV&index=5\",\n",
    "    \"https://www.youtube.com/watch?v=4jcWJ30HqSY&list=PLYD54mj9I2JevdabetHsJ3RLCeMyBNKYV&index=6\"\n",
    "]"
   ]
  },
  {
   "cell_type": "markdown",
   "metadata": {},
   "source": [
    "#### Build Retrievers - One for LLM docs and one for Plotly docs"
   ]
  },
  {
   "cell_type": "code",
   "execution_count": 7,
   "metadata": {},
   "outputs": [
    {
     "name": "stdout",
     "output_type": "stream",
     "text": [
      "Split into 194 chunks\n",
      "Split into 109 chunks\n"
     ]
    }
   ],
   "source": [
    "#### LLM DOCS VECTOR STORE #####\n",
    "llm_docs = [WebBaseLoader(url).load() for url in llm_urls] # Each loader produced a list of one element\n",
    "llm_docs = [i for j in llm_docs for i in j] # Decoupling lists of one element\n",
    "\n",
    "text_splitter_class = RecursiveCharacterTextSplitter.from_tiktoken_encoder(\n",
    "    chunk_size=250, chunk_overlap=0\n",
    ")\n",
    "\n",
    "chunks = text_splitter_class.split_documents(llm_docs)\n",
    "print(f\"Split into {len(chunks)} chunks\")\n",
    "\n",
    "embedding_model = OpenAIEmbeddings(model=\"text-embedding-3-small\")\n",
    "\n",
    "llm_llw_vectorstore = Chroma.from_documents(\n",
    "    documents = chunks,\n",
    "    embedding = embedding_model,\n",
    "    collection_name = \"chroma_llm_llw\"\n",
    ")\n",
    "\n",
    "llm_llw_retriever = llm_llw_vectorstore.as_retriever()\n",
    "\n",
    "\n",
    "#### YOUTUBE PLOTLY VECTOR STORE #####\n",
    "yt_docs = [YoutubeLoader.from_youtube_url(url, add_video_info=False).load() for url in plotly_yt_urls] # Each loader produced a list of one element\n",
    "yt_docs = [i for j in yt_docs for i in j] # Decoupling lists of one element\n",
    "\n",
    "text_splitter_class = RecursiveCharacterTextSplitter.from_tiktoken_encoder(\n",
    "    chunk_size=250, chunk_overlap=0\n",
    ")\n",
    "\n",
    "chunks = text_splitter_class.split_documents(yt_docs)\n",
    "print(f\"Split into {len(chunks)} chunks\")\n",
    "\n",
    "plotly_yt_vectorstore = Chroma.from_documents(\n",
    "    documents = chunks,\n",
    "    embedding = embedding_model,\n",
    "    collection_name = \"chroma_plotly_yt\"\n",
    ")\n",
    "\n",
    "plotly_yt_retriever = plotly_yt_vectorstore.as_retriever()"
   ]
  },
  {
   "cell_type": "code",
   "execution_count": 8,
   "metadata": {},
   "outputs": [
    {
     "name": "stdout",
     "output_type": "stream",
     "text": [
      "<class 'langchain_core.vectorstores.VectorStoreRetriever'>\n",
      "<class 'langchain_core.vectorstores.VectorStoreRetriever'>\n"
     ]
    }
   ],
   "source": [
    "print(type(llm_llw_retriever))\n",
    "print(type(plotly_yt_retriever))"
   ]
  },
  {
   "cell_type": "markdown",
   "metadata": {},
   "source": [
    "#### Build Routers function for Conditional Graph node"
   ]
  },
  {
   "cell_type": "markdown",
   "metadata": {},
   "source": [
    "**Ollama** has `format=\"json\"`. This ensures output from llm is a JSON. Recall that in the [ChatOpenAI implementation](https://github.com/jzamalloa1/langchain_learning/blob/main/langgraph_testing.ipynb) we tested before we had to create a pydantic object and bind it to our ChatOpenAI llm to ensure structured output. We don't have to do that here.\n",
    "\n",
    "Note: One way that we could have addressed that could have been by adding `model_kwargs={\"response_format\":{\"type\":\"json_object\"}}` to **ChatOpenAI**, but not sure if this works 100% (or perhaps does work as well as Ollama's json mode)"
   ]
  },
  {
   "cell_type": "code",
   "execution_count": 24,
   "metadata": {},
   "outputs": [
    {
     "name": "stdout",
     "output_type": "stream",
     "text": [
      "{\"datasource\": \"vectorstore\"} \n",
      "\n",
      "  \n",
      "\n",
      "\n",
      "\n",
      " \n",
      "\n",
      "\n",
      "\n",
      "\n",
      "\n",
      "\n",
      " \n",
      "\n",
      "\n",
      "\n",
      "\n",
      "\n",
      "\n",
      " \n",
      "\n",
      "\n",
      "\n",
      "\n",
      "\n",
      "\n",
      " \n",
      "\n",
      "\n",
      "\n",
      "\n",
      "\n",
      "\n",
      " \n",
      "\n",
      "\n",
      "\n",
      "\n",
      "\n",
      "\n",
      " \n",
      "\n",
      "\n",
      "\n",
      "\n",
      "\n",
      "\n",
      " \n",
      "\n",
      "\n",
      "\n",
      "\n",
      "\n",
      "\n",
      " \n",
      "\n",
      "\n",
      "\n",
      "\n",
      "\n",
      "\n",
      " \n",
      "\n",
      "\n",
      "\n",
      "\n",
      "\n",
      "\n",
      " \n",
      "\n",
      "\n",
      "\n",
      "\n",
      "\n",
      "\n",
      " \n",
      "\n",
      "\n",
      "\n",
      "\n",
      "\n",
      "\n",
      " \n",
      "\n",
      "\n",
      "\n",
      "\n",
      "\n",
      "\n",
      " \n",
      "\n",
      "\n",
      "\n",
      "\n",
      "\n",
      "\n",
      " \n",
      "\n",
      "\n",
      "\n",
      "\n",
      "\n",
      "\n"
     ]
    },
    {
     "data": {
      "text/plain": [
       "{'datasource': 'vectorstore'}"
      ]
     },
     "execution_count": 24,
     "metadata": {},
     "output_type": "execute_result"
    }
   ],
   "source": [
    "#### FIRST ROUTER TO DECIDE IF WE SHOULD USE WEB SEARCH OR INTERNAL VECTOR STORES #####\n",
    "llm = ChatOllama(model=llama_model, format=\"json\", temperature=0,\n",
    "                 callback_manager=CallbackManager([StreamingStdOutCallbackHandler()]))\n",
    "\n",
    "prompt = PromptTemplate(\n",
    "    template=\"\"\"\n",
    "    <|begin_of_text|>\n",
    "    <|start_header_id|>system<|end_header_id|> \n",
    "    You are an expert at routing a user question to a vectorstore or web search. \n",
    "    Use the vectorstore for questions on LLM  agents, \n",
    "    prompt engineering, adversarial attacks and developing charts with Plotly. \n",
    "    You do not need to be stringent with the keywords in the question related to these topics. \n",
    "    Otherwise, use web-search. Give a binary choice 'web_search' \n",
    "    or 'vectorstore' based on the question. Return the a JSON with a single key 'datasource' and \n",
    "    no preamble or explanation. \n",
    "    Question to route: {question} <|eot_id|>\n",
    "    \n",
    "    <|start_header_id|>assistant<|end_header_id|>\n",
    "    \"\"\",\n",
    "    input_variables=[\"question\"],\n",
    ")\n",
    "\n",
    "initial_router_chain = prompt | llm | JsonOutputParser()\n",
    "\n",
    "initial_router_chain.invoke({\"question\":\"How can I build a histogram using plotly?\"})"
   ]
  },
  {
   "cell_type": "code",
   "execution_count": 25,
   "metadata": {},
   "outputs": [
    {
     "name": "stdout",
     "output_type": "stream",
     "text": [
      "{\"datasource\": \"llm_agent\"} \n",
      "\n",
      "  \t\t\t\t\t\t\t\t\t\t\t\t\t\t\t\t\t\t\t   \t\t\t\t\t\t\t\t\t\t\t\t\t\t\t\t\t\t\t   \t\t\t\t\t\t\t\t\t\t\t\t\t\t\t\t\t\t\t   \t\t\t\t\t\t\t\t\t\t\t\t\t\t\t\t\t\t\t   \t\t\t\t\t\t\t\t\t\t\t\t\t\t\t\t\t\t\t   \t\t\t\t\t\t\t\t\t\t\t\t\t\t\t\t\t\t\t   \t\t\t\t\t\t\t\t\t\t\t\t\t\t\t\t\t\t\t   "
     ]
    },
    {
     "data": {
      "text/plain": [
       "{'datasource': 'llm_agent'}"
      ]
     },
     "execution_count": 25,
     "metadata": {},
     "output_type": "execute_result"
    }
   ],
   "source": [
    "#### SECOND ROUTER (IF VECTORSTORE IS CHOSEN) TO DECIDE IF WE SHOULD USE THE LLM OR THE PLOTLY RETRIEVER #####\n",
    "llm = ChatOllama(model=llama_model, format=\"json\", temperature=0,\n",
    "                 callback_manager=CallbackManager([StreamingStdOutCallbackHandler()]))\n",
    "\n",
    "prompt = PromptTemplate(\n",
    "    template=\"\"\"\n",
    "    <|begin_of_text|>\n",
    "    <|start_header_id|>system<|end_header_id|> \n",
    "    You are an expert at routing a user question to an LLM documentation vectorstore or a Plotly vectorstore. \n",
    "    Use the LLM vectorstore for questions on LLM  agents, \n",
    "    prompt engineering and adversarial attacks. \n",
    "    You do not need to be stringent with the keywords in the question related to these topics. \n",
    "    Otherwise, use the plotly vectorstore for things like Plotly charts. Give a binary choice 'llm_agent' \n",
    "    or 'plotly' based on the question. Return the a JSON with a single key 'datasource' and \n",
    "    no preamble or explanation. \n",
    "    Question to route: {question} <|eot_id|>\n",
    "    \n",
    "    <|start_header_id|>assistant<|end_header_id|>\n",
    "    \"\"\",\n",
    "    input_variables=[\"question\"],\n",
    ")\n",
    "\n",
    "vector_router_chain = prompt | llm | JsonOutputParser()\n",
    "\n",
    "vector_router_chain.invoke({\"question\":\"what are adversarial agents?\"})"
   ]
  },
  {
   "cell_type": "markdown",
   "metadata": {},
   "source": [
    "#### Build Retrieval Grader"
   ]
  },
  {
   "cell_type": "code",
   "execution_count": 78,
   "metadata": {},
   "outputs": [
    {
     "name": "stdout",
     "output_type": "stream",
     "text": [
      "{\"score\": \"yes\"} \n",
      "\n",
      "    \n",
      "\n",
      "\n",
      "\n",
      "    \n",
      "\n",
      "\n",
      "\n",
      "    \n",
      "\n",
      "\n",
      "\n",
      "    \n",
      "\n",
      "\n",
      "\n",
      "    \n",
      "\n",
      "\n",
      "\n",
      "    \n",
      "\n",
      "\n",
      "\n",
      "    \n",
      "\n",
      "\n",
      "\n",
      "    \n",
      "\n",
      "\n",
      "\n",
      "    \n",
      "\n",
      "\n",
      "\n",
      "    \n",
      "\n",
      "\n",
      "\n",
      "    \n",
      "\n",
      "\n",
      "\n",
      "    \n",
      "\n",
      "\n",
      "\n",
      "    \n",
      "\n",
      "\n",
      "\n",
      "    \n",
      "\n",
      "\n",
      "\n",
      "    \n",
      "\n",
      "\n",
      "\n"
     ]
    }
   ],
   "source": [
    "# Retrieval Grader\n",
    "llm = ChatOllama(model=llama_model, format=\"json\", temperature=0,\n",
    "                 callback_manager=CallbackManager([StreamingStdOutCallbackHandler()]))\n",
    "\n",
    "prompt = PromptTemplate(\n",
    "    template=\"\"\"\n",
    "    <|begin_of_text|>\n",
    "    <|start_header_id|>system<|end_header_id|>\n",
    "    You are a grader assessing relevance of a retrieved document to a user question. \n",
    "    If the document contains keywords related to the user question, \n",
    "    grade it as relevant. It does not need to be a stringent test. The goal is to filter out erroneous retrievals. \\n\n",
    "    Give a binary score 'yes' or 'no' score to indicate whether the document is relevant to the question. \\n\n",
    "    Provide the binary score as a JSON with a single key 'score' and no preamble or explanation.\n",
    "    <|eot_id|>\n",
    "    \n",
    "    <|start_header_id|>user<|end_header_id|>\n",
    "    Here is the retrieved document: \\n\\n {document} \\n\\n\n",
    "    Here is the user question: {question} \\n <|eot_id|>\n",
    "    \n",
    "    <|start_header_id|>assistant<|end_header_id|>\n",
    "    \"\"\",\n",
    "\n",
    "    input_variables=[\"question\", \"document\"],\n",
    ")\n",
    "\n",
    "retrieval_grader = prompt | llm | JsonOutputParser()\n",
    "question = \"langchain memory use\"\n",
    "docs = llm_llw_retriever.invoke(question)\n",
    "doc_txt = docs[1].page_content\n",
    "\n",
    "grader_output = retrieval_grader.invoke({\"question\": question, \"document\": doc_txt})\n"
   ]
  },
  {
   "cell_type": "code",
   "execution_count": 81,
   "metadata": {},
   "outputs": [
    {
     "name": "stdout",
     "output_type": "stream",
     "text": [
      "<class 'dict'>\n",
      "{'score': 'yes'}\n",
      "yes\n"
     ]
    }
   ],
   "source": [
    "print(type(grader_output))\n",
    "print(grader_output)\n",
    "print(grader_output[\"score\"])"
   ]
  },
  {
   "cell_type": "markdown",
   "metadata": {},
   "source": [
    "#### Build Retrieval Generator"
   ]
  },
  {
   "cell_type": "code",
   "execution_count": 12,
   "metadata": {},
   "outputs": [],
   "source": [
    "# LLM (Without json mode since we want inference text)\n",
    "llm = ChatOllama(model=llama_model, temperature=0,\n",
    "                 callback_manager=CallbackManager([StreamingStdOutCallbackHandler()]))\n",
    "\n",
    "# Prompt\n",
    "prompt = PromptTemplate(\n",
    "    template=\"\"\"\n",
    "    <|begin_of_text|>\n",
    "    <|start_header_id|>system<|end_header_id|> \n",
    "    You are an assistant for question-answering tasks. \n",
    "    Use the following pieces of retrieved context to answer the question. \n",
    "    If you don't know the answer, just say that you don't know. \n",
    "    Keep the answer concise and to the point. <|eot_id|>\n",
    "    \n",
    "    <|start_header_id|>user<|end_header_id|>\n",
    "    Question: {question} \n",
    "    Context: {context} \n",
    "    Answer: <|eot_id|>\n",
    "    \n",
    "    <|start_header_id|>assistant<|end_header_id|>\"\"\",\n",
    "    \n",
    "    input_variables=[\"question\", \"document\"],\n",
    ")\n",
    "\n",
    "# Post-processing\n",
    "def format_docs(docs):\n",
    "    return \"\\n\\n\".join(doc.page_content for doc in docs)\n",
    "\n",
    "# Chain\n",
    "rag_chain = prompt | llm | StrOutputParser()"
   ]
  },
  {
   "cell_type": "code",
   "execution_count": 13,
   "metadata": {},
   "outputs": [
    {
     "name": "stdout",
     "output_type": "stream",
     "text": [
      "To create a lineplot, you can use Plotly Express in Dash. Here's an example:\n",
      "\n",
      "```\n",
      "import plotly.express as px\n",
      "import pandas as pd\n",
      "\n",
      "# Create a sample dataset\n",
      "df = pd.DataFrame({\n",
      "    'Year': [2015, 2016, 2017, 2018, 2019],\n",
      "    'Value': [10, 20, 30, 40, 50]\n",
      "})\n",
      "\n",
      "# Create the lineplot\n",
      "fig = px.line(df, x='Year', y='Value')\n",
      "\n",
      "# Update the figure reference\n",
      "fig.update_layout(title='Lineplot Example')\n",
      "```\n",
      "\n",
      "In this example, we create a sample dataset using Pandas, and then use Plotly Express to create a lineplot. The `px.line()` function takes in the dataset and specifies the x-axis (`'Year'`) and y-axis (`'Value'`) columns.\n",
      "\n",
      "You can customize your lineplot by adding more attributes, such as colors, markers, and ranges. For example, you can add a color attribute to differentiate between different lines:\n",
      "\n",
      "```\n",
      "fig = px.line(df, x='Year', y='Value', color='Value')\n",
      "```\n",
      "\n",
      "This will create a lineplot with different colors for each year's data point.\n",
      "\n",
      "You can also use the `range` attribute to limit the range of your x-axis. For example:\n",
      "\n",
      "```\n",
      "fig = px.line(df, x='Year', y='Value', range_x=[2015, 2019])\n",
      "```\n",
      "\n",
      "This will create a lineplot that only shows data points from 2015 to 2019.\n",
      "\n",
      "Remember to review the Plotly Express documentation page for more information on how to customize your graphs."
     ]
    },
    {
     "data": {
      "text/plain": [
       "\"To create a lineplot, you can use Plotly Express in Dash. Here's an example:\\n\\n```\\nimport plotly.express as px\\nimport pandas as pd\\n\\n# Create a sample dataset\\ndf = pd.DataFrame({\\n    'Year': [2015, 2016, 2017, 2018, 2019],\\n    'Value': [10, 20, 30, 40, 50]\\n})\\n\\n# Create the lineplot\\nfig = px.line(df, x='Year', y='Value')\\n\\n# Update the figure reference\\nfig.update_layout(title='Lineplot Example')\\n```\\n\\nIn this example, we create a sample dataset using Pandas, and then use Plotly Express to create a lineplot. The `px.line()` function takes in the dataset and specifies the x-axis (`'Year'`) and y-axis (`'Value'`) columns.\\n\\nYou can customize your lineplot by adding more attributes, such as colors, markers, and ranges. For example, you can add a color attribute to differentiate between different lines:\\n\\n```\\nfig = px.line(df, x='Year', y='Value', color='Value')\\n```\\n\\nThis will create a lineplot with different colors for each year's data point.\\n\\nYou can also use the `range` attribute to limit the range of your x-axis. For example:\\n\\n```\\nfig = px.line(df, x='Year', y='Value', range_x=[2015, 2019])\\n```\\n\\nThis will create a lineplot that only shows data points from 2015 to 2019.\\n\\nRemember to review the Plotly Express documentation page for more information on how to customize your graphs.\""
      ]
     },
     "execution_count": 13,
     "metadata": {},
     "output_type": "execute_result"
    }
   ],
   "source": [
    "# Example run\n",
    "question = \"how can I create a lineplot?\"\n",
    "docs = plotly_yt_retriever.invoke(question)\n",
    "rag_chain.invoke({\"context\":format_docs(docs), \"question\":question})"
   ]
  },
  {
   "cell_type": "markdown",
   "metadata": {},
   "source": [
    "Does the code actually work?? - A simple plot does work"
   ]
  },
  {
   "cell_type": "code",
   "execution_count": 17,
   "metadata": {},
   "outputs": [
    {
     "data": {
      "application/vnd.plotly.v1+json": {
       "config": {
        "plotlyServerURL": "https://plot.ly"
       },
       "data": [
        {
         "hovertemplate": "Year=%{x}<br>Value=%{y}<extra></extra>",
         "legendgroup": "",
         "line": {
          "color": "#636efa",
          "dash": "solid"
         },
         "marker": {
          "symbol": "circle"
         },
         "mode": "lines",
         "name": "",
         "orientation": "v",
         "showlegend": false,
         "type": "scatter",
         "x": [
          2015,
          2016,
          2017,
          2018,
          2019
         ],
         "xaxis": "x",
         "y": [
          10,
          20,
          30,
          40,
          50
         ],
         "yaxis": "y"
        }
       ],
       "layout": {
        "legend": {
         "tracegroupgap": 0
        },
        "margin": {
         "t": 60
        },
        "template": {
         "data": {
          "bar": [
           {
            "error_x": {
             "color": "#2a3f5f"
            },
            "error_y": {
             "color": "#2a3f5f"
            },
            "marker": {
             "line": {
              "color": "#E5ECF6",
              "width": 0.5
             },
             "pattern": {
              "fillmode": "overlay",
              "size": 10,
              "solidity": 0.2
             }
            },
            "type": "bar"
           }
          ],
          "barpolar": [
           {
            "marker": {
             "line": {
              "color": "#E5ECF6",
              "width": 0.5
             },
             "pattern": {
              "fillmode": "overlay",
              "size": 10,
              "solidity": 0.2
             }
            },
            "type": "barpolar"
           }
          ],
          "carpet": [
           {
            "aaxis": {
             "endlinecolor": "#2a3f5f",
             "gridcolor": "white",
             "linecolor": "white",
             "minorgridcolor": "white",
             "startlinecolor": "#2a3f5f"
            },
            "baxis": {
             "endlinecolor": "#2a3f5f",
             "gridcolor": "white",
             "linecolor": "white",
             "minorgridcolor": "white",
             "startlinecolor": "#2a3f5f"
            },
            "type": "carpet"
           }
          ],
          "choropleth": [
           {
            "colorbar": {
             "outlinewidth": 0,
             "ticks": ""
            },
            "type": "choropleth"
           }
          ],
          "contour": [
           {
            "colorbar": {
             "outlinewidth": 0,
             "ticks": ""
            },
            "colorscale": [
             [
              0,
              "#0d0887"
             ],
             [
              0.1111111111111111,
              "#46039f"
             ],
             [
              0.2222222222222222,
              "#7201a8"
             ],
             [
              0.3333333333333333,
              "#9c179e"
             ],
             [
              0.4444444444444444,
              "#bd3786"
             ],
             [
              0.5555555555555556,
              "#d8576b"
             ],
             [
              0.6666666666666666,
              "#ed7953"
             ],
             [
              0.7777777777777778,
              "#fb9f3a"
             ],
             [
              0.8888888888888888,
              "#fdca26"
             ],
             [
              1,
              "#f0f921"
             ]
            ],
            "type": "contour"
           }
          ],
          "contourcarpet": [
           {
            "colorbar": {
             "outlinewidth": 0,
             "ticks": ""
            },
            "type": "contourcarpet"
           }
          ],
          "heatmap": [
           {
            "colorbar": {
             "outlinewidth": 0,
             "ticks": ""
            },
            "colorscale": [
             [
              0,
              "#0d0887"
             ],
             [
              0.1111111111111111,
              "#46039f"
             ],
             [
              0.2222222222222222,
              "#7201a8"
             ],
             [
              0.3333333333333333,
              "#9c179e"
             ],
             [
              0.4444444444444444,
              "#bd3786"
             ],
             [
              0.5555555555555556,
              "#d8576b"
             ],
             [
              0.6666666666666666,
              "#ed7953"
             ],
             [
              0.7777777777777778,
              "#fb9f3a"
             ],
             [
              0.8888888888888888,
              "#fdca26"
             ],
             [
              1,
              "#f0f921"
             ]
            ],
            "type": "heatmap"
           }
          ],
          "heatmapgl": [
           {
            "colorbar": {
             "outlinewidth": 0,
             "ticks": ""
            },
            "colorscale": [
             [
              0,
              "#0d0887"
             ],
             [
              0.1111111111111111,
              "#46039f"
             ],
             [
              0.2222222222222222,
              "#7201a8"
             ],
             [
              0.3333333333333333,
              "#9c179e"
             ],
             [
              0.4444444444444444,
              "#bd3786"
             ],
             [
              0.5555555555555556,
              "#d8576b"
             ],
             [
              0.6666666666666666,
              "#ed7953"
             ],
             [
              0.7777777777777778,
              "#fb9f3a"
             ],
             [
              0.8888888888888888,
              "#fdca26"
             ],
             [
              1,
              "#f0f921"
             ]
            ],
            "type": "heatmapgl"
           }
          ],
          "histogram": [
           {
            "marker": {
             "pattern": {
              "fillmode": "overlay",
              "size": 10,
              "solidity": 0.2
             }
            },
            "type": "histogram"
           }
          ],
          "histogram2d": [
           {
            "colorbar": {
             "outlinewidth": 0,
             "ticks": ""
            },
            "colorscale": [
             [
              0,
              "#0d0887"
             ],
             [
              0.1111111111111111,
              "#46039f"
             ],
             [
              0.2222222222222222,
              "#7201a8"
             ],
             [
              0.3333333333333333,
              "#9c179e"
             ],
             [
              0.4444444444444444,
              "#bd3786"
             ],
             [
              0.5555555555555556,
              "#d8576b"
             ],
             [
              0.6666666666666666,
              "#ed7953"
             ],
             [
              0.7777777777777778,
              "#fb9f3a"
             ],
             [
              0.8888888888888888,
              "#fdca26"
             ],
             [
              1,
              "#f0f921"
             ]
            ],
            "type": "histogram2d"
           }
          ],
          "histogram2dcontour": [
           {
            "colorbar": {
             "outlinewidth": 0,
             "ticks": ""
            },
            "colorscale": [
             [
              0,
              "#0d0887"
             ],
             [
              0.1111111111111111,
              "#46039f"
             ],
             [
              0.2222222222222222,
              "#7201a8"
             ],
             [
              0.3333333333333333,
              "#9c179e"
             ],
             [
              0.4444444444444444,
              "#bd3786"
             ],
             [
              0.5555555555555556,
              "#d8576b"
             ],
             [
              0.6666666666666666,
              "#ed7953"
             ],
             [
              0.7777777777777778,
              "#fb9f3a"
             ],
             [
              0.8888888888888888,
              "#fdca26"
             ],
             [
              1,
              "#f0f921"
             ]
            ],
            "type": "histogram2dcontour"
           }
          ],
          "mesh3d": [
           {
            "colorbar": {
             "outlinewidth": 0,
             "ticks": ""
            },
            "type": "mesh3d"
           }
          ],
          "parcoords": [
           {
            "line": {
             "colorbar": {
              "outlinewidth": 0,
              "ticks": ""
             }
            },
            "type": "parcoords"
           }
          ],
          "pie": [
           {
            "automargin": true,
            "type": "pie"
           }
          ],
          "scatter": [
           {
            "fillpattern": {
             "fillmode": "overlay",
             "size": 10,
             "solidity": 0.2
            },
            "type": "scatter"
           }
          ],
          "scatter3d": [
           {
            "line": {
             "colorbar": {
              "outlinewidth": 0,
              "ticks": ""
             }
            },
            "marker": {
             "colorbar": {
              "outlinewidth": 0,
              "ticks": ""
             }
            },
            "type": "scatter3d"
           }
          ],
          "scattercarpet": [
           {
            "marker": {
             "colorbar": {
              "outlinewidth": 0,
              "ticks": ""
             }
            },
            "type": "scattercarpet"
           }
          ],
          "scattergeo": [
           {
            "marker": {
             "colorbar": {
              "outlinewidth": 0,
              "ticks": ""
             }
            },
            "type": "scattergeo"
           }
          ],
          "scattergl": [
           {
            "marker": {
             "colorbar": {
              "outlinewidth": 0,
              "ticks": ""
             }
            },
            "type": "scattergl"
           }
          ],
          "scattermapbox": [
           {
            "marker": {
             "colorbar": {
              "outlinewidth": 0,
              "ticks": ""
             }
            },
            "type": "scattermapbox"
           }
          ],
          "scatterpolar": [
           {
            "marker": {
             "colorbar": {
              "outlinewidth": 0,
              "ticks": ""
             }
            },
            "type": "scatterpolar"
           }
          ],
          "scatterpolargl": [
           {
            "marker": {
             "colorbar": {
              "outlinewidth": 0,
              "ticks": ""
             }
            },
            "type": "scatterpolargl"
           }
          ],
          "scatterternary": [
           {
            "marker": {
             "colorbar": {
              "outlinewidth": 0,
              "ticks": ""
             }
            },
            "type": "scatterternary"
           }
          ],
          "surface": [
           {
            "colorbar": {
             "outlinewidth": 0,
             "ticks": ""
            },
            "colorscale": [
             [
              0,
              "#0d0887"
             ],
             [
              0.1111111111111111,
              "#46039f"
             ],
             [
              0.2222222222222222,
              "#7201a8"
             ],
             [
              0.3333333333333333,
              "#9c179e"
             ],
             [
              0.4444444444444444,
              "#bd3786"
             ],
             [
              0.5555555555555556,
              "#d8576b"
             ],
             [
              0.6666666666666666,
              "#ed7953"
             ],
             [
              0.7777777777777778,
              "#fb9f3a"
             ],
             [
              0.8888888888888888,
              "#fdca26"
             ],
             [
              1,
              "#f0f921"
             ]
            ],
            "type": "surface"
           }
          ],
          "table": [
           {
            "cells": {
             "fill": {
              "color": "#EBF0F8"
             },
             "line": {
              "color": "white"
             }
            },
            "header": {
             "fill": {
              "color": "#C8D4E3"
             },
             "line": {
              "color": "white"
             }
            },
            "type": "table"
           }
          ]
         },
         "layout": {
          "annotationdefaults": {
           "arrowcolor": "#2a3f5f",
           "arrowhead": 0,
           "arrowwidth": 1
          },
          "autotypenumbers": "strict",
          "coloraxis": {
           "colorbar": {
            "outlinewidth": 0,
            "ticks": ""
           }
          },
          "colorscale": {
           "diverging": [
            [
             0,
             "#8e0152"
            ],
            [
             0.1,
             "#c51b7d"
            ],
            [
             0.2,
             "#de77ae"
            ],
            [
             0.3,
             "#f1b6da"
            ],
            [
             0.4,
             "#fde0ef"
            ],
            [
             0.5,
             "#f7f7f7"
            ],
            [
             0.6,
             "#e6f5d0"
            ],
            [
             0.7,
             "#b8e186"
            ],
            [
             0.8,
             "#7fbc41"
            ],
            [
             0.9,
             "#4d9221"
            ],
            [
             1,
             "#276419"
            ]
           ],
           "sequential": [
            [
             0,
             "#0d0887"
            ],
            [
             0.1111111111111111,
             "#46039f"
            ],
            [
             0.2222222222222222,
             "#7201a8"
            ],
            [
             0.3333333333333333,
             "#9c179e"
            ],
            [
             0.4444444444444444,
             "#bd3786"
            ],
            [
             0.5555555555555556,
             "#d8576b"
            ],
            [
             0.6666666666666666,
             "#ed7953"
            ],
            [
             0.7777777777777778,
             "#fb9f3a"
            ],
            [
             0.8888888888888888,
             "#fdca26"
            ],
            [
             1,
             "#f0f921"
            ]
           ],
           "sequentialminus": [
            [
             0,
             "#0d0887"
            ],
            [
             0.1111111111111111,
             "#46039f"
            ],
            [
             0.2222222222222222,
             "#7201a8"
            ],
            [
             0.3333333333333333,
             "#9c179e"
            ],
            [
             0.4444444444444444,
             "#bd3786"
            ],
            [
             0.5555555555555556,
             "#d8576b"
            ],
            [
             0.6666666666666666,
             "#ed7953"
            ],
            [
             0.7777777777777778,
             "#fb9f3a"
            ],
            [
             0.8888888888888888,
             "#fdca26"
            ],
            [
             1,
             "#f0f921"
            ]
           ]
          },
          "colorway": [
           "#636efa",
           "#EF553B",
           "#00cc96",
           "#ab63fa",
           "#FFA15A",
           "#19d3f3",
           "#FF6692",
           "#B6E880",
           "#FF97FF",
           "#FECB52"
          ],
          "font": {
           "color": "#2a3f5f"
          },
          "geo": {
           "bgcolor": "white",
           "lakecolor": "white",
           "landcolor": "#E5ECF6",
           "showlakes": true,
           "showland": true,
           "subunitcolor": "white"
          },
          "hoverlabel": {
           "align": "left"
          },
          "hovermode": "closest",
          "mapbox": {
           "style": "light"
          },
          "paper_bgcolor": "white",
          "plot_bgcolor": "#E5ECF6",
          "polar": {
           "angularaxis": {
            "gridcolor": "white",
            "linecolor": "white",
            "ticks": ""
           },
           "bgcolor": "#E5ECF6",
           "radialaxis": {
            "gridcolor": "white",
            "linecolor": "white",
            "ticks": ""
           }
          },
          "scene": {
           "xaxis": {
            "backgroundcolor": "#E5ECF6",
            "gridcolor": "white",
            "gridwidth": 2,
            "linecolor": "white",
            "showbackground": true,
            "ticks": "",
            "zerolinecolor": "white"
           },
           "yaxis": {
            "backgroundcolor": "#E5ECF6",
            "gridcolor": "white",
            "gridwidth": 2,
            "linecolor": "white",
            "showbackground": true,
            "ticks": "",
            "zerolinecolor": "white"
           },
           "zaxis": {
            "backgroundcolor": "#E5ECF6",
            "gridcolor": "white",
            "gridwidth": 2,
            "linecolor": "white",
            "showbackground": true,
            "ticks": "",
            "zerolinecolor": "white"
           }
          },
          "shapedefaults": {
           "line": {
            "color": "#2a3f5f"
           }
          },
          "ternary": {
           "aaxis": {
            "gridcolor": "white",
            "linecolor": "white",
            "ticks": ""
           },
           "baxis": {
            "gridcolor": "white",
            "linecolor": "white",
            "ticks": ""
           },
           "bgcolor": "#E5ECF6",
           "caxis": {
            "gridcolor": "white",
            "linecolor": "white",
            "ticks": ""
           }
          },
          "title": {
           "x": 0.05
          },
          "xaxis": {
           "automargin": true,
           "gridcolor": "white",
           "linecolor": "white",
           "ticks": "",
           "title": {
            "standoff": 15
           },
           "zerolinecolor": "white",
           "zerolinewidth": 2
          },
          "yaxis": {
           "automargin": true,
           "gridcolor": "white",
           "linecolor": "white",
           "ticks": "",
           "title": {
            "standoff": 15
           },
           "zerolinecolor": "white",
           "zerolinewidth": 2
          }
         }
        },
        "title": {
         "text": "Lineplot Example"
        },
        "xaxis": {
         "anchor": "y",
         "domain": [
          0,
          1
         ],
         "title": {
          "text": "Year"
         }
        },
        "yaxis": {
         "anchor": "x",
         "domain": [
          0,
          1
         ],
         "title": {
          "text": "Value"
         }
        }
       }
      }
     },
     "metadata": {},
     "output_type": "display_data"
    }
   ],
   "source": [
    "import plotly.express as px\n",
    "import pandas as pd\n",
    "\n",
    "# Create a sample dataset\n",
    "df = pd.DataFrame({\n",
    "    'Year': [2015, 2016, 2017, 2018, 2019],\n",
    "    'Value': [10, 20, 30, 40, 50]\n",
    "})\n",
    "\n",
    "# Create the lineplot\n",
    "fig = px.line(df, x='Year', y='Value')\n",
    "# fig = px.line(df, x='Year', y='Value', color='Value')\n",
    "\n",
    "# Update the figure reference\n",
    "fig.update_layout(title='Lineplot Example')"
   ]
  },
  {
   "cell_type": "code",
   "execution_count": 18,
   "metadata": {},
   "outputs": [
    {
     "name": "stdout",
     "output_type": "stream",
     "text": [
      "I don't know what the One Piece is. The context provided appears to be about a course on Plotly and Dash, but it doesn't mention anything related to \"One Piece\"."
     ]
    },
    {
     "data": {
      "text/plain": [
       "'I don\\'t know what the One Piece is. The context provided appears to be about a course on Plotly and Dash, but it doesn\\'t mention anything related to \"One Piece\".'"
      ]
     },
     "execution_count": 18,
     "metadata": {},
     "output_type": "execute_result"
    }
   ],
   "source": [
    "# Example run with unrelated question, info not found in vector store\n",
    "question = \"what is the One Piece?\"\n",
    "docs = plotly_yt_retriever.invoke(question)\n",
    "rag_chain.invoke({\"context\":format_docs(docs), \"question\":question})"
   ]
  },
  {
   "cell_type": "markdown",
   "metadata": {},
   "source": [
    "#### Build Websearch Tool"
   ]
  },
  {
   "cell_type": "code",
   "execution_count": 19,
   "metadata": {},
   "outputs": [],
   "source": [
    "web_tool = TavilySearchAPIRetriever(k=5)"
   ]
  },
  {
   "cell_type": "code",
   "execution_count": 20,
   "metadata": {},
   "outputs": [
    {
     "data": {
      "text/plain": [
       "[Document(page_content='El conjunto de Andahuaylas cuenta hasta el momento con el 50% de los puntos que se pusieron en juego. En casa derrotó a Unión Comercio, ADT y en la pasada fecha a Sport Boys (2-0).', metadata={'title': 'Goles, Mannucci vs. Los Chankas: ver 2-1, resumen y VIDEO del partido ...', 'source': 'https://rpp.pe/futbol/descentralizado/mannucci-vs-los-chankas-en-vivo-golperu-ver-liga-1-2024-online-link-gratis-apertura-fecha-7-trujillo-noticia-1539796', 'score': 0.97491, 'images': None}),\n",
       " Document(page_content='Visita ESPN DEPORTES y disfruta de resultados en vivo, highlights y las últimas noticias de Los Chankas. Conoce la tabla de posiciones y el calendario completo de la temporada 2024.', metadata={'title': 'Los Chankas Resultados, estadísticas y highlights - ESPN Deportes', 'source': 'https://espndeportes.espn.com/futbol/equipo/_/id/22168', 'score': 0.95997, 'images': None}),\n",
       " Document(page_content='Los Chankas derrotaron 2-0 a Santos FC en el cierre del Torneo Apertura de la Liga 2. Con este resultado, el equipo dirigido por Gustavo Cisneros terminó ubicado en el tercer lugar de las clasificaciones con 20 puntos; mientras que los nasqueños finalizaron en el sexto casillero con 16 unidades. ... que no tuvo acción el pasado fin de semana ...', metadata={'title': 'Los Chankas derrotaron 2-0 a Santos FC en el cierre del Torneo Apertura ...', 'source': 'https://www.futbolperuano.com/liga-2/noticias/los-chankas-vs-santos-fc-en-vivo-online-por-la-fecha-13-del-torneo-apertura-de-la-liga-2-358470', 'score': 0.94727, 'images': None}),\n",
       " Document(page_content='Visita ESPN (CO) y disfruta de resultados en vivo, highlights y las últimas noticias de Los Chankas. Conoce la tabla de posiciones y el calendario completo de la temporada 2024. Salta al contenido principal Ir a la navegación. ESPN. Fútbol ... El equipo de Enderson Moreira volvió al triunfo y llegó a los 10 puntos en la tabla del Apertura. 2M;', metadata={'title': 'Los Chankas Resultados, estadísticas y highlights - ESPN (CO)', 'source': 'https://www.espn.com.co/futbol/equipo/_/id/22168', 'score': 0.94264, 'images': None}),\n",
       " Document(page_content='Con un Martín Cauteruccio intratable, Sporting Cristal goleó 4-1 a Los Chankas por la fecha 4 del Torneo Apertura de la Liga 1 Te Apuesto 2024.El uruguayo anotó tres goles en 20 minutos y es ...', metadata={'title': 'VER RESUMEN y GOLES Sporting Cristal vs. Los Chankas: VIDEO 4-1 por la ...', 'source': 'https://rpp.pe/futbol/descentralizado/sporting-cristal-vs-los-chankas-via-liga-1-max-en-vivo-ver-online-en-directo-partido-en-estadio-nacional-por-fecha-4-del-torneo-apertura-2024-noticia-1534477', 'score': 0.91005, 'images': None})]"
      ]
     },
     "execution_count": 20,
     "metadata": {},
     "output_type": "execute_result"
    }
   ],
   "source": [
    "web_tool.invoke(\"A que equipo derrotaron Los Chankas el fin de semana pasado?\")"
   ]
  },
  {
   "cell_type": "markdown",
   "metadata": {},
   "source": [
    "#### Build Answer Grader"
   ]
  },
  {
   "cell_type": "code",
   "execution_count": 21,
   "metadata": {},
   "outputs": [],
   "source": [
    "llm = ChatOllama(model=llama_model, format=\"json\", temperature=0,\n",
    "                 callback_manager=CallbackManager([StreamingStdOutCallbackHandler()]))\n",
    "\n",
    "# Prompt\n",
    "prompt = PromptTemplate(\n",
    "    template=\"\"\"\n",
    "    <|begin_of_text|>\n",
    "    <|start_header_id|>system<|end_header_id|> \n",
    "    You are a grader assessing whether an \n",
    "    answer is useful to resolve a question. Give a binary score 'yes' or 'no' to indicate whether the answer is \n",
    "    useful to resolve a question. Provide the binary score as a JSON with a single key 'score' and no preamble or explanation.\n",
    "     <|eot_id|>\n",
    "     \n",
    "     <|start_header_id|>user<|end_header_id|> \n",
    "     Here is the answer:\n",
    "    \\n ------- \\n\n",
    "    {generation} \n",
    "    \\n ------- \\n\n",
    "    Here is the question: \n",
    "    {question} \n",
    "    <|eot_id|>\n",
    "    \n",
    "    <|start_header_id|>assistant<|end_header_id|>\"\"\",\n",
    "\n",
    "    input_variables=[\"generation\", \"question\"],\n",
    ")\n",
    "\n",
    "answer_grader = prompt | llm | JsonOutputParser()"
   ]
  },
  {
   "cell_type": "code",
   "execution_count": 22,
   "metadata": {},
   "outputs": [
    {
     "name": "stdout",
     "output_type": "stream",
     "text": [
      "{\"score\": \"no\"} \n",
      "\n",
      "\n",
      "\n",
      "\n",
      "\n",
      "\n",
      "    \n",
      "\n",
      "\n",
      "\n",
      "  \n",
      "\n",
      "\n",
      "\n",
      "\n",
      "\n",
      "  \n",
      "\n",
      "\n",
      "\n",
      "\n",
      "\n",
      "  \n",
      "\n",
      "\n",
      "\n",
      "\n",
      "\n",
      "  \n",
      "\n",
      "\n",
      "\n",
      "\n",
      "\n",
      "  \n",
      "\n",
      "\n",
      "\n",
      "\n",
      "\n",
      "  \n",
      "\n",
      "\n",
      "\n",
      "\n",
      "\n",
      "  \n",
      "\n",
      "\n",
      "\n",
      "\n",
      "\n",
      "  \n",
      "\n",
      "\n",
      "\n",
      "\n",
      "\n",
      "  \n",
      "\n",
      "\n",
      "\n",
      "\n",
      "\n"
     ]
    },
    {
     "data": {
      "text/plain": [
       "{'score': 'no'}"
      ]
     },
     "execution_count": 22,
     "metadata": {},
     "output_type": "execute_result"
    }
   ],
   "source": [
    "# Test answer grader\n",
    "answer_grader.invoke({\"question\": \"How do we build graphs in plotly?\",\n",
    "                      \"generation\": \"The One Piece is the best manga in the world\"})"
   ]
  },
  {
   "cell_type": "markdown",
   "metadata": {},
   "source": [
    "#### Build Query Improve (Re-generate query)"
   ]
  },
  {
   "cell_type": "code",
   "execution_count": 56,
   "metadata": {},
   "outputs": [
    {
     "name": "stdout",
     "output_type": "stream",
     "text": [
      "How can I effectively utilize Plotly to create well-structured and informative line charts, considering various visualization options and customization possibilities?"
     ]
    }
   ],
   "source": [
    "# LLM (Without json mode since we want inference text)\n",
    "llm = ChatOllama(model=llama_model, temperature=0,\n",
    "                 callback_manager=CallbackManager([StreamingStdOutCallbackHandler()]))\n",
    "\n",
    "prompt = PromptTemplate(\n",
    "    template=\"\"\"\n",
    "    <|begin_of_text|>\n",
    "    <|start_header_id|>system<|end_header_id|> \n",
    "    You are question re-writer that converts an input question to a better \n",
    "    version that is optimized for vectorstore retrieval.\n",
    "    Look at the input and try to reason about the underlying \n",
    "    semantic intent / meaning and re-write it.\n",
    "    Don't provide a preamble.\n",
    "    <|eot_id|>\n",
    "    \n",
    "    <|start_header_id|>user<|end_header_id|>\n",
    "    Here is the initial question:\n",
    "    \\n ------- \\n\n",
    "    {question}\n",
    "    \\n ------- \\n\n",
    "    <|eot_id|>\n",
    "    \n",
    "    <|start_header_id|>assistant<|end_header_id|>\"\"\",\n",
    "    \n",
    "    input_variables=[\"question\"],\n",
    ")\n",
    "\n",
    "re_write_chain = prompt | llm | StrOutputParser()\n",
    "\n",
    "# Improve query example\n",
    "question = \"what is the write way to use plotly to define line charts?\"\n",
    "improved_question = re_write_chain.invoke({\"question\":question})"
   ]
  },
  {
   "cell_type": "markdown",
   "metadata": {},
   "source": [
    "### Build Graph - Initialize"
   ]
  },
  {
   "cell_type": "code",
   "execution_count": 26,
   "metadata": {},
   "outputs": [],
   "source": [
    "class GraphState(TypedDict):\n",
    "    \n",
    "    question: str\n",
    "    generation: str\n",
    "    docs: List[str]\n",
    "    run_web_search: str\n",
    "    retriever: VectorStoreRetriever"
   ]
  },
  {
   "cell_type": "markdown",
   "metadata": {},
   "source": [
    "### Build Graph - Define Nodes and Edges"
   ]
  },
  {
   "cell_type": "code",
   "execution_count": 82,
   "metadata": {},
   "outputs": [],
   "source": [
    "##### NODES #####\n",
    "\n",
    "# RETRIEVER SELECTOR NODE - WILL RETURN APPROPRIATE RETRIEVER BASED ON VECTOR_ROUTER OUTPUT\n",
    "def retriever_selector(state): \n",
    "\n",
    "    \"\"\"\n",
    "    Selects retriever to be used from either plotly or llm agent vector store retrievers based on vector_router llm output\n",
    "    \"\"\"\n",
    "\n",
    "    print(\"---VECTOR STORE SOURCE ROUTER---\")\n",
    "\n",
    "    question = state[\"question\"]\n",
    "    vector_source_response = vector_router_chain.invoke({\"question\":question})\n",
    "\n",
    "    if vector_source_response[\"datasource\"] == \"llm_agent\":\n",
    "        print(\"---VECTOR ROUTING TO: LLM AGENT DOCS---\")\n",
    "        # return \"llm_agent_vdb\"\n",
    "        db_retriever =llm_llw_retriever\n",
    "\n",
    "    elif vector_source_response[\"datasource\"] == \"plotly\":\n",
    "        print(\"---INITIAL ROUTE TO: PLOTLY DOCS---\")\n",
    "        db_retriever =plotly_yt_retriever\n",
    "    \n",
    "    # Return updated state with selected retriever\n",
    "    return {\"question\":question, \"retriever\":db_retriever}\n",
    "    \n",
    "# RETRIEVER NODE\n",
    "def retrieve(state):\n",
    "\n",
    "    print(\"---RETRIEVE---\")\n",
    "\n",
    "    # Get a question from the state dictionary\n",
    "    question = state[\"question\"]\n",
    "    retriever = state[\"retriever\"] # Of class VectorStoreRetriever (either llm_llw_retriever or plotly_yt_retriever in our case)\n",
    "\n",
    "    # Execute retriever to get documents\n",
    "    docs = retriever.get_relevant_documents(question)\n",
    "\n",
    "    # Return to write back (update) state\n",
    "    return {\"docs\":docs, \"question\":question}\n",
    "\n",
    "# GENERATE NODE\n",
    "def generate(state):\n",
    "\n",
    "    print(\"---GENERATE---\")\n",
    "\n",
    "    # Get question from dictionary\n",
    "    question = state[\"question\"]\n",
    "\n",
    "    # Get documents stored in update state (theoretically retrieved using retriever)\n",
    "    docs = state[\"docs\"]\n",
    "\n",
    "    # Generate\n",
    "    generation = rag_chain.invoke({\"context\":format_docs(docs), \"question\":question})\n",
    "\n",
    "    # Return generation to update state\n",
    "    return {\"docs\":docs, \"question\":question, \"generation\":generation}\n",
    "\n",
    "# GRADING DOCUMENTS NODE\n",
    "def grading_docs(state):\n",
    "\n",
    "    print(\"---GRADE DOCS WITH REGARDS TO QUESTION---\")\n",
    "\n",
    "    question = state[\"question\"]\n",
    "    docs = state[\"docs\"]\n",
    "\n",
    "    # Grade retrieved docs with grader_chain AND add `web_search` if at least one document irrelevant\n",
    "    filtered_docs = []\n",
    "    run_web_search = \"no\" # Start variable as \"no\" and change only if we get a single irrelevant document\n",
    "    for i in docs:\n",
    "        score = retrieval_grader.invoke({\"question\":question, \"document\":i.page_content})\n",
    "                \n",
    "        grade = score[\"score\"]\n",
    "\n",
    "        if grade.lower() == \"yes\":\n",
    "            print(\"---Doc is relevant---\")\n",
    "            filtered_docs.append(i)\n",
    "        else:\n",
    "            print(\"---Doc is not relevant\")\n",
    "            run_web_search = \"yes\" # WILL PERFORM WEB SEARCH if we have an irrelevant document\n",
    "            continue\n",
    "    \n",
    "    # Update state with filtered docs\n",
    "    return {\"docs\": filtered_docs, \"question\":question, \"run_web_search\":run_web_search}\n",
    "\n",
    "# IMPROVE QUERY NODE\n",
    "def improve_query(state):\n",
    "    \"\"\"\n",
    "    Improve query being asked by re-generating it with an LLM\n",
    "    \"\"\"\n",
    "\n",
    "    print(\"---IMPROVE QUERY---\")\n",
    "\n",
    "    question  = state[\"question\"]\n",
    "    docs = state[\"docs\"]\n",
    "\n",
    "    # Improve query\n",
    "    improved_question = re_write_chain.invoke({\"question\":question})\n",
    "\n",
    "    # Update state with improved question\n",
    "    return {\"docs\": docs, \"question\":improved_question}\n",
    "\n",
    "\n",
    "# WEB SEARCH NODE - REVISE!!! EITHER IF WEB SEARCH DUE TO INITIAL ROUTING OR WEB SEARCH BECAUSE OF YES IN GRADER. THIS AFFECT DOCS FED AND EXTEND!\n",
    "def web_search(state):\n",
    "\n",
    "    \"\"\"\n",
    "    Web search using query to retrieve relevant docs\n",
    "    \"\"\"\n",
    "\n",
    "    print(\"---WEB SEARCH FOR DOCS---\")\n",
    "\n",
    "    question = state[\"question\"]\n",
    "    docs = state[\"docs\"] # MAY NOT HAVE DOCS AT FIRST, NEED TO PROBABLY INITIALY WITH NONE!!!\n",
    "\n",
    "    # Retrieve relevant web documents\n",
    "    web_results = web_tool.invoke(question)\n",
    "    web_docs = [Document(page_content = i.page_content) for i in web_results]\n",
    "\n",
    "    if docs is not None: # DOES NOT HAVE DOCS ON INITIAL ROUTER!!\n",
    "        # Add to running document list\n",
    "        docs.extend(web_docs)\n",
    "\n",
    "    else: #PROBABLY WHAT HAPPENS ON INITIAL ROUTING\n",
    "        docs = web_docs\n",
    "\n",
    "    # Return updated document list into state\n",
    "    return {\"docs\":docs, \"question\":question}\n",
    "\n",
    "\n",
    "###### CONDITIONAL EDGES #######\n",
    "\n",
    "# INITIAL ROUTING EDGE\n",
    "\n",
    "def initial_router(state):\n",
    "\n",
    "    \"\"\"\n",
    "    Routes query to web search or vector database\n",
    "    \"\"\"\n",
    "\n",
    "    print(\"---INITIAL ROUTER----\")\n",
    "\n",
    "    question = state[\"question\"]\n",
    "    source_choice_response = initial_router_chain.invoke({\"question\":question})\n",
    "\n",
    "    if source_choice_response[\"datasource\"] == \"web_search\":\n",
    "        print(\"---INITIAL ROUTE TO: WEB SEARCH---\")\n",
    "        return \"websearch\"\n",
    "\n",
    "    elif source_choice_response[\"datasource\"] == \"vectorstore\":\n",
    "        print(\"---INITIAL ROUTE TO: VECTOR STORE---\")\n",
    "        return \"vectorstore\"\n",
    "\n",
    "def retrieved_decission_maker_with_web_search(state):\n",
    "    \"\"\"\n",
    "    Will decide to re-formulate query + pass that to web search if at least\n",
    "    one retrieved document was found to be non-relevant\n",
    "    \"\"\"\n",
    "\n",
    "    print(\"---COND EDGE: ASSESS IF NEEDS TO RE-GENERATE QUERY AND ADD WEB SEARCH RESULTS OR NO WEB SEARCH NEEDED---\")\n",
    "\n",
    "    question = state[\"question\"]\n",
    "    filtered_docs = state[\"docs\"]\n",
    "    run_web_search = state[\"run_web_search\"]\n",
    "\n",
    "    if run_web_search==\"yes\":\n",
    "        print(\"---FOUND AT LEAST ONE DOC IRRELEVANT: WILL IMPROVE QUERY AND RUN WEB SEARCH TO RETRIEVE ADDITIONAL RELEVANT DOCS\")\n",
    "        return \"improve_query\"\n",
    "    else:\n",
    "        print(\"---ALL DOCS FOUNDS TO BE RELEVANT: NO NEED TO RUN WEB SEARCH, WILL GO AHEAD AND GENERATE ANSWER---\")\n",
    "        return \"generate\"\n"
   ]
  },
  {
   "cell_type": "markdown",
   "metadata": {},
   "source": [
    "### Build Graph - Define Structure"
   ]
  },
  {
   "cell_type": "markdown",
   "metadata": {},
   "source": [
    "Notice how we use `set_conditional_entry_point` instead of `set_entry_point` since we are using a conditional edge on entry"
   ]
  },
  {
   "cell_type": "code",
   "execution_count": 83,
   "metadata": {},
   "outputs": [],
   "source": [
    "workflow = StateGraph(GraphState)\n",
    "\n",
    "workflow.add_node(\"retriever_selector\", retriever_selector)\n",
    "workflow.add_node(\"retrieve\", retrieve)\n",
    "workflow.add_node(\"generate\", generate)\n",
    "workflow.add_node(\"grading_docs\", grading_docs)\n",
    "workflow.add_node(\"improve_query\", improve_query)\n",
    "workflow.add_node(\"websearch\", web_search) # Notice key_name versus function being called\n",
    "\n",
    "workflow.set_conditional_entry_point( \n",
    "    initial_router,\n",
    "    {\n",
    "        \"websearch\":\"websearch\", # Notice key_name used as decision output and second argument is the node to follow\n",
    "        \"vectorstore\":\"retriever_selector\" # More visible here, first argument is output of \"initial_router\", and second argument is decision node/edge\n",
    "    }\n",
    ")\n",
    "\n",
    "# RETRIEVE_SELECTOR PATH (INTERNAL VECTOR DB)\n",
    "workflow.add_edge(\"retriever_selector\", \"retrieve\")\n",
    "workflow.add_edge(\"retrieve\", \"grading_docs\")\n",
    "workflow.add_conditional_edges(\n",
    "    \"grading_docs\", # Source node\n",
    "    retrieved_decission_maker_with_web_search, # End node, notice how end node in conditional edges are the actual function variables\n",
    "    {\n",
    "        \"improve_query\":\"improve_query\", # If conditional edge output is \"improve_query\", then \"improve_query\" node will be called\n",
    "        \"generate\":\"generate\" # If conditional edge output is \"generate\", then \"generate\" node will be called\n",
    "    }\n",
    "    \n",
    ")\n",
    "workflow.add_edge(\"improve_query\", \"websearch\")\n",
    "workflow.add_edge(\"websearch\", \"generate\")\n",
    "\n",
    "# WEB_SEARCH PATH (EXTERNAL WEB NON-VECTOR DB)\n",
    "# workflow.add_edge(\"websearch\", \"....\") # NEED TO MODIFY!!\n",
    "\n",
    "# ENDING EDGE WITH GENERATION\n",
    "workflow.add_edge(\"generate\", END)"
   ]
  },
  {
   "cell_type": "markdown",
   "metadata": {},
   "source": [
    "### Compile Graph and visualize Graph Structure"
   ]
  },
  {
   "cell_type": "code",
   "execution_count": 84,
   "metadata": {},
   "outputs": [],
   "source": [
    "multi_agent_app = workflow.compile()"
   ]
  },
  {
   "cell_type": "code",
   "execution_count": 63,
   "metadata": {},
   "outputs": [
    {
     "name": "stdout",
     "output_type": "stream",
     "text": [
      "                                     +-----------+                       \n",
      "                                     | __start__ |                       \n",
      "                                     +-----------+                       \n",
      "                                           *                             \n",
      "                                           *                             \n",
      "                                           *                             \n",
      "                                  +----------------+                     \n",
      "                                  | initial_router |                     \n",
      "                                  +----------------+...                  \n",
      "                                ...                    .....             \n",
      "                            ....                            ....         \n",
      "                          ..                                    ....     \n",
      "            +--------------------+                                  ...  \n",
      "            | retriever_selector |                                    .  \n",
      "            +--------------------+                                    .  \n",
      "                      *                                               .  \n",
      "                      *                                               .  \n",
      "                      *                                               .  \n",
      "                +----------+                                          .  \n",
      "                | retrieve |                                          .  \n",
      "                +----------+                                          .  \n",
      "                      *                                               .  \n",
      "                      *                                               .  \n",
      "                      *                                               .  \n",
      "              +--------------+                                        .  \n",
      "              | grading_docs |                                        .  \n",
      "              +--------------+                                        .  \n",
      "                      *                                               .  \n",
      "                      *                                               .  \n",
      "                      *                                               .  \n",
      "+-------------------------------------------+                         .  \n",
      "| retrieved_decission_maker_with_web_search |                         .  \n",
      "+-------------------------------------------+                         .  \n",
      "               ..            ..                                       .  \n",
      "             ..                ..                                     .  \n",
      "           ..                    ..                                   .  \n",
      "+---------------+                  ..                            ......  \n",
      "| improve_query |                   .                 ...........        \n",
      "+---------------+                   .      ...........                   \n",
      "         *                      ...........                              \n",
      "         *           ...........    .                                    \n",
      "         *     ......               .                                    \n",
      "  +-----------+                    ..                                    \n",
      "  | websearch |                  ..                                      \n",
      "  +-----------+                ..                                        \n",
      "               **            ..                                          \n",
      "                 **        ..                                            \n",
      "                   **    ..                                              \n",
      "                +----------+                                             \n",
      "                | generate |                                             \n",
      "                +----------+                                             \n",
      "                      *                                                  \n",
      "                      *                                                  \n",
      "                      *                                                  \n",
      "                 +---------+                                             \n",
      "                 | __end__ |                                             \n",
      "                 +---------+                                             \n"
     ]
    }
   ],
   "source": [
    "multi_agent_app.get_graph().print_ascii()"
   ]
  },
  {
   "cell_type": "code",
   "execution_count": 75,
   "metadata": {},
   "outputs": [
    {
     "data": {
      "text/html": [
       "<img src=\"data:image/png;base64,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\" style=\"width: 500px;\" />"
      ],
      "text/plain": [
       "<IPython.core.display.HTML object>"
      ]
     },
     "metadata": {},
     "output_type": "display_data"
    }
   ],
   "source": [
    "nest_asyncio.apply() # Required for Jupyter Notebook to run async functions\n",
    "\n",
    "def display_image(image_bytes: bytes, width=500):\n",
    "    decoded_img_bytes = base64.b64encode(image_bytes).decode('utf-8')\n",
    "    html = f'<img src=\"data:image/png;base64,{decoded_img_bytes}\" style=\"width: {width}px;\" />'\n",
    "    display(HTML(html))\n",
    "\n",
    "display_image(multi_agent_app.get_graph().draw_mermaid_png(\n",
    "    curve_style=CurveStyle.LINEAR,\n",
    "    node_colors=NodeColors(start=\"#ffdfba\", end=\"#baffc9\", other=\"#fad7de\"),\n",
    "    wrap_label_n_words=9,\n",
    "    output_file_path=None,\n",
    "    draw_method=MermaidDrawMethod.PYPPETEER,\n",
    "    background_color=\"white\",\n",
    "    padding=10\n",
    "))"
   ]
  },
  {
   "cell_type": "markdown",
   "metadata": {},
   "source": [
    "### Finally, Run Graph Multi-Agent with query of interest"
   ]
  },
  {
   "cell_type": "code",
   "execution_count": 85,
   "metadata": {},
   "outputs": [
    {
     "name": "stdout",
     "output_type": "stream",
     "text": [
      "---INITIAL ROUTER----\n",
      "{\"datasource\": \"vectorstore\"} \n",
      "\n",
      "  \n",
      "\n",
      "\n",
      "\n",
      " \n",
      "\n",
      "\n",
      "\n",
      "\n",
      "\n",
      "\n",
      " \n",
      "\n",
      "\n",
      "\n",
      "\n",
      "\n",
      "\n",
      " \n",
      "\n",
      "\n",
      "\n",
      "\n",
      "\n",
      "\n",
      " \n",
      "\n",
      "\n",
      "\n",
      "\n",
      "\n",
      "\n",
      " \n",
      "\n",
      "\n",
      "\n",
      "\n",
      "\n",
      "\n",
      " \n",
      "\n",
      "\n",
      "\n",
      "\n",
      "\n",
      "\n",
      " \n",
      "\n",
      "\n",
      "\n",
      "\n",
      "\n",
      "\n",
      " \n",
      "\n",
      "\n",
      "\n",
      "\n",
      "\n",
      "\n",
      " \n",
      "\n",
      "\n",
      "\n",
      "\n",
      "\n",
      "\n",
      " \n",
      "\n",
      "\n",
      "\n",
      "\n",
      "\n",
      "\n",
      " \n",
      "\n",
      "\n",
      "\n",
      "\n",
      "\n",
      "\n",
      " \n",
      "\n",
      "\n",
      "\n",
      "\n",
      "\n",
      "\n",
      " \n",
      "\n",
      "\n",
      "\n",
      "\n",
      "\n",
      "\n",
      " \n",
      "\n",
      "\n",
      "\n",
      "\n",
      "\n",
      "\n",
      "---INITIAL ROUTE TO: VECTOR STORE---\n",
      "---VECTOR STORE SOURCE ROUTER---\n",
      "{\"datasource\": \"plotly\"} \n",
      "\n",
      "    \n",
      "\n",
      "\n",
      "\n",
      "    \n",
      "\n",
      "\n",
      "\n",
      "    \n",
      "\n",
      "\n",
      "\n",
      "    \n",
      "\n",
      "\n",
      "\n",
      "    \n",
      "\n",
      "\n",
      "\n",
      "    \n",
      "\n",
      "\n",
      "\n",
      "    \n",
      "\n",
      "\n",
      "\n",
      "    \n",
      "\n",
      "\n",
      "\n",
      "    \n",
      "\n",
      "\n",
      "\n",
      "    \n",
      "\n",
      "\n",
      "\n",
      "    \n",
      "\n",
      "\n",
      "\n",
      "    \n",
      "\n",
      "\n",
      "\n",
      "    \n",
      "\n",
      "\n",
      "\n",
      "    \n",
      "\n",
      "\n",
      "\n",
      "    \n",
      "\n",
      "\n",
      "\n",
      "---INITIAL ROUTE TO: PLOTLY DOCS---\n",
      "\"Node 'retriever_selector':\"\n",
      "'\\n---\\n'\n",
      "---RETRIEVE---\n",
      "\"Node 'retrieve':\"\n",
      "'\\n---\\n'\n",
      "---GRADE DOCS WITH REGARDS TO QUESTION---\n",
      "{\"score\": \"yes\"} \n",
      "\n",
      "  \n",
      "\n",
      "\n",
      "\n",
      "\n",
      "\n",
      "  \n",
      "\n",
      "\n",
      "\n",
      "\n",
      "\n",
      "  \n",
      "\n",
      "\n",
      "\n",
      "\n",
      "\n",
      "  \n",
      "\n",
      "\n",
      "\n",
      "\n",
      "\n",
      "  \n",
      "\n",
      "\n",
      "\n",
      "\n",
      "\n",
      "  \n",
      "\n",
      "\n",
      "\n",
      "\n",
      "\n",
      "  \n",
      "\n",
      "\n",
      "\n",
      "\n",
      "\n",
      "  \n",
      "\n",
      "\n",
      "\n",
      "\n",
      "\n",
      "  \n",
      "\n",
      "\n",
      "\n",
      "\n",
      "\n",
      "  \n",
      "\n",
      "\n",
      "\n",
      "\n",
      "\n",
      "---Doc is relevant---\n",
      "{\"score\": \"yes\"} \n",
      "\n",
      " \n",
      "\n",
      "\n",
      "\n",
      "\n",
      "\n",
      " \n",
      "\n",
      "\n",
      "\n",
      "\n",
      "\n",
      " \n",
      "\n",
      "\n",
      "\n",
      "\n",
      "\n",
      " \n",
      "\n",
      "\n",
      "\n",
      "\n",
      "\n",
      " \n",
      "\n",
      "\n",
      "\n",
      "\n",
      "\n",
      " \n",
      "\n",
      "\n",
      "\n",
      "\n",
      "\n",
      " \n",
      "\n",
      "\n",
      "\n",
      "\n",
      "\n",
      " \n",
      "\n",
      "\n",
      "\n",
      "\n",
      "\n",
      " \n",
      "\n",
      "\n",
      "\n",
      "\n",
      "\n",
      " \n",
      "\n",
      "\n",
      "\n",
      "\n",
      "\n",
      " \n",
      "\n",
      "\n",
      "\n",
      "\n",
      "\n",
      " \n",
      "\n",
      "\n",
      "\n",
      "\n",
      "\n",
      " \n",
      "\n",
      "\n",
      "\n",
      "\n",
      "\n",
      " \n",
      "\n",
      "\n",
      "\n",
      "\n",
      "\n",
      " \n",
      "\n",
      "\n",
      "\n",
      "\n",
      "\n",
      "---Doc is relevant---\n",
      "{\"score\": \"yes\"} \n",
      "\n",
      "  \n",
      "\n",
      "\n",
      "\n",
      "\n",
      "\n",
      "  \n",
      "\n",
      "\n",
      "\n",
      "\n",
      "\n",
      "  \n",
      "\n",
      "\n",
      "\n",
      "\n",
      "\n",
      "  \n",
      "\n",
      "\n",
      "\n",
      "\n",
      "\n",
      "  \n",
      "\n",
      "\n",
      "\n",
      "\n",
      "\n",
      "  \n",
      "\n",
      "\n",
      "\n",
      "\n",
      "\n",
      "  \n",
      "\n",
      "\n",
      "\n",
      "\n",
      "\n",
      "  \n",
      "\n",
      "\n",
      "\n",
      "\n",
      "\n",
      "  \n",
      "\n",
      "\n",
      "\n",
      "\n",
      "\n",
      "  \n",
      "\n",
      "\n",
      "\n",
      "\n",
      "\n",
      "---Doc is relevant---\n",
      "{\"score\": \"yes\"} \n",
      "\n",
      " \n",
      "\n",
      "\n",
      "\n",
      "\n",
      "\n",
      " \n",
      "\n",
      "\n",
      "\n",
      "\n",
      "\n",
      " \n",
      "\n",
      "\n",
      "\n",
      "\n",
      "\n",
      " \n",
      "\n",
      "\n",
      "\n",
      "\n",
      "\n",
      " \n",
      "\n",
      "\n",
      "\n",
      "\n",
      "\n",
      " \n",
      "\n",
      "\n",
      "\n",
      "\n",
      "\n",
      " \n",
      "\n",
      "\n",
      "\n",
      "\n",
      "\n",
      " \n",
      "\n",
      "\n",
      "\n",
      "\n",
      "\n",
      " \n",
      "\n",
      "\n",
      "\n",
      "\n",
      "\n",
      " \n",
      "\n",
      "\n",
      "\n",
      "\n",
      "\n",
      " \n",
      "\n",
      "\n",
      "\n",
      "\n",
      "\n",
      " \n",
      "\n",
      "\n",
      "\n",
      "\n",
      "\n",
      " \n",
      "\n",
      "\n",
      "\n",
      "\n",
      "\n",
      " \n",
      "\n",
      "\n",
      "\n",
      "\n",
      "\n",
      " \n",
      "\n",
      "\n",
      "\n",
      "\n",
      "\n",
      "---Doc is relevant---\n",
      "---COND EDGE: ASSESS IF NEEDS TO RE-GENERATE QUERY AND ADD WEB SEARCH RESULTS OR NO WEB SEARCH NEEDED---\n",
      "---ALL DOCS FOUNDS TO BE RELEVANT: NO NEED TO RUN WEB SEARCH, WILL GO AHEAD AND GENERATE ANSWER---\n",
      "\"Node 'grading_docs':\"\n",
      "'\\n---\\n'\n",
      "---GENERATE---\n",
      "To generate histograms using Plotly, you can use the `histogram` function from Plotly Express. Here's an example:\n",
      "\n",
      "```\n",
      "import plotly.express as px\n",
      "\n",
      "df = ...  # your data frame\n",
      "fig = px.histogram(df, x=\"column_name\", y=\"column_name\")\n",
      "fig.show()\n",
      "```\n",
      "\n",
      "In this example, replace `\"column_name\"` with the name of the column you want to use for the x-axis and y-axis. You can also customize the histogram by adding additional arguments, such as `color` or `pattern`, to change the appearance of the bars.\n",
      "\n",
      "For example, to add a pattern attribute to the histogram, you can use the following code:\n",
      "\n",
      "```\n",
      "fig = px.histogram(df, x=\"column_name\", y=\"column_name\", pattern=\"custom_pattern\")\n",
      "```\n",
      "\n",
      "Replace `\"custom_pattern\"` with the desired pattern shape.\"Node 'generate':\"\n",
      "'\\n---\\n'\n",
      "('To generate histograms using Plotly, you can use the `histogram` function '\n",
      " \"from Plotly Express. Here's an example:\\n\"\n",
      " '\\n'\n",
      " '```\\n'\n",
      " 'import plotly.express as px\\n'\n",
      " '\\n'\n",
      " 'df = ...  # your data frame\\n'\n",
      " 'fig = px.histogram(df, x=\"column_name\", y=\"column_name\")\\n'\n",
      " 'fig.show()\\n'\n",
      " '```\\n'\n",
      " '\\n'\n",
      " 'In this example, replace `\"column_name\"` with the name of the column you '\n",
      " 'want to use for the x-axis and y-axis. You can also customize the histogram '\n",
      " 'by adding additional arguments, such as `color` or `pattern`, to change the '\n",
      " 'appearance of the bars.\\n'\n",
      " '\\n'\n",
      " 'For example, to add a pattern attribute to the histogram, you can use the '\n",
      " 'following code:\\n'\n",
      " '\\n'\n",
      " '```\\n'\n",
      " 'fig = px.histogram(df, x=\"column_name\", y=\"column_name\", '\n",
      " 'pattern=\"custom_pattern\")\\n'\n",
      " '```\\n'\n",
      " '\\n'\n",
      " 'Replace `\"custom_pattern\"` with the desired pattern shape.')\n"
     ]
    }
   ],
   "source": [
    "# Run\n",
    "inputs = {\"question\": \"Explain how one can use plotly to generate histograms?\"}\n",
    "for output in multi_agent_app.stream(inputs):\n",
    "    for key, value in output.items():\n",
    "        # Node\n",
    "        pprint(f\"Node '{key}':\")\n",
    "        # Optional: print full state at each node\n",
    "        # pprint.pprint(value[\"keys\"], indent=2, width=80, depth=None)\n",
    "    pprint(\"\\n---\\n\")\n",
    "\n",
    "# Final generation\n",
    "pprint(value[\"generation\"])"
   ]
  },
  {
   "cell_type": "code",
   "execution_count": 86,
   "metadata": {},
   "outputs": [
    {
     "name": "stdout",
     "output_type": "stream",
     "text": [
      "---INITIAL ROUTER----\n",
      "{\"datasource\": \"web_search\"} \n",
      "\n",
      "    \n",
      "\n",
      "\n",
      "\n",
      "    \n",
      "\n",
      "\n",
      "\n",
      "    \n",
      "\n",
      "\n",
      "\n",
      "    \n",
      "\n",
      "\n",
      "\n",
      "    \n",
      "\n",
      "\n",
      "\n",
      "    \n",
      "\n",
      "\n",
      "\n",
      "    \n",
      "\n",
      "\n",
      "\n",
      "    \n",
      "\n",
      "\n",
      "\n",
      "    \n",
      "\n",
      "\n",
      "\n",
      "    \n",
      "\n",
      "\n",
      "\n",
      "    \n",
      "\n",
      "\n",
      "\n",
      "    \n",
      "\n",
      "\n",
      "\n",
      "    \n",
      "\n",
      "\n",
      "\n",
      "    \n",
      "\n",
      "\n",
      "\n",
      "    \n",
      "\n",
      "\n",
      "\n",
      "---INITIAL ROUTE TO: WEB SEARCH---\n",
      "---WEB SEARCH FOR DOCS---\n",
      "\"Node 'websearch':\"\n",
      "'\\n---\\n'\n",
      "---GENERATE---\n",
      "The One Piece is a mythical treasure that serves as the central plot point in the story, with Monkey D. Luffy's quest to find and claim it as his goal.\n",
      "\n",
      "As for why there are so many fans interested in it, One Piece has become a fan favorite due to its engaging storyline, memorable characters, and impressive animation sequences. The series has broken numerous records, including sales and audience demand, making it one of the most popular manga and anime series of all time.\"Node 'generate':\"\n",
      "'\\n---\\n'\n",
      "('The One Piece is a mythical treasure that serves as the central plot point '\n",
      " \"in the story, with Monkey D. Luffy's quest to find and claim it as his \"\n",
      " 'goal.\\n'\n",
      " '\\n'\n",
      " 'As for why there are so many fans interested in it, One Piece has become a '\n",
      " 'fan favorite due to its engaging storyline, memorable characters, and '\n",
      " 'impressive animation sequences. The series has broken numerous records, '\n",
      " 'including sales and audience demand, making it one of the most popular manga '\n",
      " 'and anime series of all time.')\n"
     ]
    }
   ],
   "source": [
    "# Run\n",
    "inputs = {\"question\": \"What is the One Piece, and why are there so many fans interested in it?\"}\n",
    "for output in multi_agent_app.stream(inputs):\n",
    "    for key, value in output.items():\n",
    "        # Node\n",
    "        pprint(f\"Node '{key}':\")\n",
    "        # Optional: print full state at each node\n",
    "        # pprint.pprint(value[\"keys\"], indent=2, width=80, depth=None)\n",
    "    pprint(\"\\n---\\n\")\n",
    "\n",
    "# Final generation\n",
    "pprint(value[\"generation\"])"
   ]
  },
  {
   "cell_type": "code",
   "execution_count": null,
   "metadata": {},
   "outputs": [],
   "source": []
  }
 ],
 "metadata": {
  "kernelspec": {
   "display_name": "Python 3",
   "language": "python",
   "name": "python3"
  },
  "language_info": {
   "codemirror_mode": {
    "name": "ipython",
    "version": 3
   },
   "file_extension": ".py",
   "mimetype": "text/x-python",
   "name": "python",
   "nbconvert_exporter": "python",
   "pygments_lexer": "ipython3",
   "version": "3.9.13"
  }
 },
 "nbformat": 4,
 "nbformat_minor": 2
}
