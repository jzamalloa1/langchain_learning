{
 "cells": [
  {
   "cell_type": "markdown",
   "metadata": {},
   "source": [
    "# Playground\n",
    "\n",
    "Like the name states, a notebook to play around with code based on learning from other notebooks"
   ]
  },
  {
   "cell_type": "code",
   "execution_count": 1,
   "metadata": {},
   "outputs": [],
   "source": [
    "import os\n",
    "from langchain.prompts  import PromptTemplate\n",
    "from langchain.llms import OpenAI\n",
    "from langchain.chains import LLMChain\n",
    "from langchain.callbacks import get_openai_callback\n",
    "import tiktoken"
   ]
  },
  {
   "cell_type": "markdown",
   "metadata": {},
   "source": [
    "Useful functions below (e.g. get a sense of token usage)"
   ]
  },
  {
   "cell_type": "code",
   "execution_count": 2,
   "metadata": {},
   "outputs": [],
   "source": [
    "# Functions\n",
    "def num_tokens_from_string(string: str, encoding_name: str) -> int:\n",
    "    \"\"\"Returns the number of tokens in a text string.\"\"\"\n",
    "    encoding = tiktoken.get_encoding(encoding_name)\n",
    "    num_tokens = len(encoding.encode(string))\n",
    "    return num_tokens"
   ]
  },
  {
   "cell_type": "code",
   "execution_count": 3,
   "metadata": {},
   "outputs": [
    {
     "data": {
      "text/plain": [
       "'org-HCpyLwy1gf2wzE49sCGQRU79'"
      ]
     },
     "execution_count": 3,
     "metadata": {},
     "output_type": "execute_result"
    }
   ],
   "source": [
    "# Make sure you have setup your environmental variables beforehand\n",
    "os.environ[\"OPENAI_API_KEY\"]\n",
    "os.environ[\"OPENAI_ORGANIZATION\"]"
   ]
  },
  {
   "cell_type": "code",
   "execution_count": 4,
   "metadata": {},
   "outputs": [
    {
     "name": "stderr",
     "output_type": "stream",
     "text": [
      "/opt/homebrew/Caskroom/miniforge/base/envs/open_ai/lib/python3.9/site-packages/langchain/llms/openai.py:200: UserWarning: You are trying to use a chat model. This way of initializing it is no longer supported. Instead, please use: `from langchain.chat_models import ChatOpenAI`\n",
      "  warnings.warn(\n",
      "/opt/homebrew/Caskroom/miniforge/base/envs/open_ai/lib/python3.9/site-packages/langchain/llms/openai.py:785: UserWarning: You are trying to use a chat model. This way of initializing it is no longer supported. Instead, please use: `from langchain.chat_models import ChatOpenAI`\n",
      "  warnings.warn(\n"
     ]
    }
   ],
   "source": [
    "llm_openai = OpenAI(model_name = \"gpt-4-0613\", temperature=0)\n"
   ]
  },
  {
   "cell_type": "markdown",
   "metadata": {},
   "source": [
    "We'll be testing use of a prompt that requires answers to be based on quotes from One Piece. <b>Make sure to clean any pasted text prior to feeding into model to avoid errors </b>\n",
    "\n",
    "Quotes source at: https://everydaypower.com/one-piece-quotes/"
   ]
  },
  {
   "cell_type": "code",
   "execution_count": 5,
   "metadata": {},
   "outputs": [],
   "source": [
    "op_quotes = \"\"\"\n",
    "\"I've been picking fights all along!\" - Luffy\n",
    "\"You are too from that generation.\" - Luffy\n",
    "\"Are we friends? Or are we foes? That kind of thing you decide yourselves!\" - Luffy\n",
    "“I don't wanna conquer anything. It's just that the person with the most freedom on the sea is the pirate king.” - Luffy\n",
    "“If you don't take risks you can't create a future.” - Luffy\n",
    "“Power isn't determined by your size, but by the size of your heart and dreams.” - Luffy\n",
    "“Being alone is more painful than getting hurt.” - Luffy\n",
    "“It's not about whether it's impossible or not, I'm doing it because I want to.” - Luffy\n",
    "\"Life is like a pencil that will surely run out, but will leave the beautiful writing of life.\" - Nami\n",
    "\"Everyone's weak when they hesitate.\" - Nami\n",
    "\"Everyone is expecting help from you, but you come here and don't think about doing anything to help those people?\" - Nami\n",
    "“I'm the smartest member in the Straw Hat group.” - Nami\n",
    "“If you think I'm just another cute girl, you're dead wrong!” - Nami\n",
    "“I'll have mapped out the entire world!” - Nami\n",
    "“Just one more time and everything will be the same. Everything will come back to me. And I will be free from Arlong. Bellemere-san. Finally, I can laugh with all my heart.” - Nami\n",
    "\"\"\"\n",
    "\n",
    "op_prompt = \"\"\"You are an AI assistant that provides life advice based on the quotes below. \n",
    "The name after the dash is the author. Please reference quotes in answers. Include the author name. \n",
    "If you cannot answer based on the quotes, simply state that you don't know.\"\n",
    "\n",
    "Quotes:\n",
    "{quotes}\n",
    "\n",
    "Question: {query}\n",
    "\n",
    "Answer: \"\"\""
   ]
  },
  {
   "cell_type": "code",
   "execution_count": 6,
   "metadata": {},
   "outputs": [],
   "source": [
    "op_prompt_template = PromptTemplate(\n",
    "    input_variables=[\"query\", \"quotes\"],\n",
    "    template=op_prompt\n",
    ")"
   ]
  },
  {
   "cell_type": "markdown",
   "metadata": {},
   "source": [
    "Test that the prompt works. <b>Notice how we adjust the prompt to take in multiple input variables</b>"
   ]
  },
  {
   "cell_type": "code",
   "execution_count": 7,
   "metadata": {},
   "outputs": [
    {
     "name": "stdout",
     "output_type": "stream",
     "text": [
      "You are an AI assistant that provides life advice based on the quotes below. \n",
      "The name after the dash is the author. Please reference quotes in answers. Include the author name. \n",
      "If you cannot answer based on the quotes, simply state that you don't know.\"\n",
      "\n",
      "Quotes:\n",
      "\n",
      "\"I've been picking fights all along!\" - Luffy\n",
      "\"You are too from that generation.\" - Luffy\n",
      "\"Are we friends? Or are we foes? That kind of thing you decide yourselves!\" - Luffy\n",
      "“I don't wanna conquer anything. It's just that the person with the most freedom on the sea is the pirate king.” - Luffy\n",
      "“If you don't take risks you can't create a future.” - Luffy\n",
      "“Power isn't determined by your size, but by the size of your heart and dreams.” - Luffy\n",
      "“Being alone is more painful than getting hurt.” - Luffy\n",
      "“It's not about whether it's impossible or not, I'm doing it because I want to.” - Luffy\n",
      "\"Life is like a pencil that will surely run out, but will leave the beautiful writing of life.\" - Nami\n",
      "\"Everyone's weak when they hesitate.\" - Nami\n",
      "\"Everyone is expecting help from you, but you come here and don't think about doing anything to help those people?\" - Nami\n",
      "“I'm the smartest member in the Straw Hat group.” - Nami\n",
      "“If you think I'm just another cute girl, you're dead wrong!” - Nami\n",
      "“I'll have mapped out the entire world!” - Nami\n",
      "“Just one more time and everything will be the same. Everything will come back to me. And I will be free from Arlong. Bellemere-san. Finally, I can laugh with all my heart.” - Nami\n",
      "\n",
      "\n",
      "Question: What should we do when we lose?\n",
      "\n",
      "Answer: \n"
     ]
    }
   ],
   "source": [
    "print(op_prompt_template.format(query = \"What should we do when we lose?\", quotes=op_quotes))"
   ]
  },
  {
   "cell_type": "markdown",
   "metadata": {},
   "source": [
    "Ensure we are within the token limit"
   ]
  },
  {
   "cell_type": "code",
   "execution_count": 8,
   "metadata": {},
   "outputs": [
    {
     "name": "stdout",
     "output_type": "stream",
     "text": [
      "Number of words: 1536\n",
      "Number of tokens: 381\n"
     ]
    }
   ],
   "source": [
    "print(\"Number of words: {}\".format(\n",
    "    len(op_prompt_template.format(query = \"What should we do when we lose?\", quotes=op_quotes))\n",
    "    ))\n",
    "\n",
    "n_tokens = num_tokens_from_string(\n",
    "    string=op_prompt_template.format(query = \"What should we do when we lose?\", quotes=op_quotes),\n",
    "    encoding_name=\"cl100k_base\"\n",
    ")\n",
    "\n",
    "print(\"Number of tokens: {}\".format(n_tokens))"
   ]
  },
  {
   "cell_type": "markdown",
   "metadata": {},
   "source": [
    "Feed a negative control ensuring LLM is not supposed what is not supposed to do according to prompt instructions"
   ]
  },
  {
   "cell_type": "code",
   "execution_count": 9,
   "metadata": {},
   "outputs": [
    {
     "data": {
      "text/plain": [
       "\"I'm sorry, but I cannot provide an answer based on the quotes provided.\""
      ]
     },
     "execution_count": 9,
     "metadata": {},
     "output_type": "execute_result"
    }
   ],
   "source": [
    "llm_openai(op_prompt_template.format(query = \"What is Doge?\", quotes=op_quotes))"
   ]
  },
  {
   "cell_type": "markdown",
   "metadata": {},
   "source": [
    "Now feed it actual prompt of interest"
   ]
  },
  {
   "cell_type": "code",
   "execution_count": 10,
   "metadata": {},
   "outputs": [
    {
     "name": "stdout",
     "output_type": "stream",
     "text": [
      "Based on the quotes, it's important to remember that \"Power isn't determined by your size, but by the size of your heart and dreams.\" - Luffy. This means that even if someone appears weak, they may have a strong heart and big dreams. It's also important to remember that \"Everyone's weak when they hesitate.\" - Nami. This suggests that weakness can be temporary and is often related to uncertainty or fear. Therefore, around weak people, we should be supportive, encourage them to follow their dreams, and help them overcome their fears and uncertainties.\n"
     ]
    }
   ],
   "source": [
    "print(\n",
    "    llm_openai(\n",
    "        op_prompt_template.format(query = \"What should we do around weak people?\", quotes=op_quotes)\n",
    "        )\n",
    "    )"
   ]
  },
  {
   "cell_type": "markdown",
   "metadata": {},
   "source": [
    "Now let's go ahead and test this with chains"
   ]
  },
  {
   "cell_type": "markdown",
   "metadata": {},
   "source": [
    "We are printing a traditional prompt below to remind you what is doing. Recall that the original prompt does not contain the query and that this is just a placeholder which we replace with the actual user input"
   ]
  },
  {
   "cell_type": "code",
   "execution_count": 11,
   "metadata": {},
   "outputs": [
    {
     "name": "stdout",
     "output_type": "stream",
     "text": [
      "You are an AI assistant that provides life advice based on the quotes below. \n",
      "The name after the dash is the author. Please reference quotes in answers. Include the author name. \n",
      "If you cannot answer based on the quotes, simply state that you don't know.\"\n",
      "\n",
      "Quotes:\n",
      "\n",
      "\"I've been picking fights all along!\" - Luffy\n",
      "\"You are too from that generation.\" - Luffy\n",
      "\"Are we friends? Or are we foes? That kind of thing you decide yourselves!\" - Luffy\n",
      "“I don't wanna conquer anything. It's just that the person with the most freedom on the sea is the pirate king.” - Luffy\n",
      "“If you don't take risks you can't create a future.” - Luffy\n",
      "“Power isn't determined by your size, but by the size of your heart and dreams.” - Luffy\n",
      "“Being alone is more painful than getting hurt.” - Luffy\n",
      "“It's not about whether it's impossible or not, I'm doing it because I want to.” - Luffy\n",
      "\"Life is like a pencil that will surely run out, but will leave the beautiful writing of life.\" - Nami\n",
      "\"Everyone's weak when they hesitate.\" - Nami\n",
      "\"Everyone is expecting help from you, but you come here and don't think about doing anything to help those people?\" - Nami\n",
      "“I'm the smartest member in the Straw Hat group.” - Nami\n",
      "“If you think I'm just another cute girl, you're dead wrong!” - Nami\n",
      "“I'll have mapped out the entire world!” - Nami\n",
      "“Just one more time and everything will be the same. Everything will come back to me. And I will be free from Arlong. Bellemere-san. Finally, I can laugh with all my heart.” - Nami\n",
      "\n",
      "\n",
      "Question: What is life?\n",
      "\n",
      "Answer: \n"
     ]
    }
   ],
   "source": [
    "print(op_prompt_template.format(query=\"What is life?\", quotes=op_quotes))"
   ]
  },
  {
   "cell_type": "markdown",
   "metadata": {},
   "source": [
    "We are going to re-design the prompt around the important piece of info: the quotes. The template will contain instructions to output specific information. The template will not contain the information where to draw this info from, so it will have the input query blank to later enter the quotes of interest. This will be our <b>personality fact extraction prompt template</b>\n",
    "\n",
    "Recall that the previous prompt had specific instructions on what it was instructed to (ie. life advice AI) and was required to provide a specific type of answer (ie. ensure to use a quote of the list + author in answer). Therefore, it cannot be used here. <u>Make sure to understand the difference between what each prompt is intended to do</u>"
   ]
  },
  {
   "cell_type": "code",
   "execution_count": 19,
   "metadata": {},
   "outputs": [
    {
     "name": "stdout",
     "output_type": "stream",
     "text": [
      "\n",
      "Each quote below lists its author right after a dash. Based on each author's quotes, provide 3 key facts about each of them.\n",
      "Don't provide the actual quotes in the answer.\n",
      "Give each fact a number:\n",
      "\n",
      "\"I've been picking fights all along!\" - Luffy\n",
      "\"You are too from that generation.\" - Luffy\n",
      "\"Are we friends? Or are we foes? That kind of thing you decide yourselves!\" - Luffy\n",
      "“I don't wanna conquer anything. It's just that the person with the most freedom on the sea is the pirate king.” - Luffy\n",
      "“If you don't take risks you can't create a future.” - Luffy\n",
      "“Power isn't determined by your size, but by the size of your heart and dreams.” - Luffy\n",
      "“Being alone is more painful than getting hurt.” - Luffy\n",
      "“It's not about whether it's impossible or not, I'm doing it because I want to.” - Luffy\n",
      "\"Life is like a pencil that will surely run out, but will leave the beautiful writing of life.\" - Nami\n",
      "\"Everyone's weak when they hesitate.\" - Nami\n",
      "\"Everyone is expecting help from you, but you come here and don't think about doing anything to help those people?\" - Nami\n",
      "“I'm the smartest member in the Straw Hat group.” - Nami\n",
      "“If you think I'm just another cute girl, you're dead wrong!” - Nami\n",
      "“I'll have mapped out the entire world!” - Nami\n",
      "“Just one more time and everything will be the same. Everything will come back to me. And I will be free from Arlong. Bellemere-san. Finally, I can laugh with all my heart.” - Nami\n",
      "\n",
      "\n"
     ]
    }
   ],
   "source": [
    "rank_template = \"\"\"\n",
    "Each quote below lists its author right after a dash. Based on each author's quotes, provide 3 key facts about each of them.\n",
    "Don't provide the actual quotes in the answer.\n",
    "Give each fact a number:\\n{quotes}\n",
    "\"\"\"\n",
    "\n",
    "personality_facts_prompt = PromptTemplate(input_variables=[\"quotes\"],\n",
    "                                          template=rank_template)\n",
    "\n",
    "print(personality_facts_prompt.format(quotes=op_quotes))"
   ]
  },
  {
   "cell_type": "code",
   "execution_count": 20,
   "metadata": {},
   "outputs": [
    {
     "name": "stdout",
     "output_type": "stream",
     "text": [
      "Number of tokens in prompt: 357\n"
     ]
    }
   ],
   "source": [
    "n_tokens = num_tokens_from_string(\n",
    "    string=personality_facts_prompt.format(quotes=op_quotes),\n",
    "    encoding_name=\"cl100k_base\"\n",
    ")\n",
    "print(\"Number of tokens in prompt: {}\".format(n_tokens))"
   ]
  },
  {
   "cell_type": "markdown",
   "metadata": {},
   "source": [
    "Now that we have the personality fact prompt, let's run it"
   ]
  },
  {
   "cell_type": "code",
   "execution_count": 21,
   "metadata": {},
   "outputs": [
    {
     "data": {
      "text/plain": [
       "LLMChain(memory=None, callbacks=None, callback_manager=None, verbose=False, tags=None, metadata=None, prompt=PromptTemplate(input_variables=['quotes'], output_parser=None, partial_variables={}, template=\"\\nEach quote below lists its author right after a dash. Based on each author's quotes, provide 3 key facts about each of them.\\nDon't provide the actual quotes in the answer.\\nGive each fact a number:\\n{quotes}\\n\", template_format='f-string', validate_template=True), llm=OpenAIChat(cache=None, verbose=False, callbacks=None, callback_manager=None, tags=None, metadata=None, client=<class 'openai.api_resources.chat_completion.ChatCompletion'>, model_name='gpt-4-0613', model_kwargs={'temperature': 0}, openai_api_key=None, openai_api_base=None, openai_proxy=None, max_retries=6, prefix_messages=[], streaming=False, allowed_special=set(), disallowed_special='all'), output_key='text', output_parser=StrOutputParser(), return_final_only=True, llm_kwargs={})"
      ]
     },
     "execution_count": 21,
     "metadata": {},
     "output_type": "execute_result"
    }
   ],
   "source": [
    "op_fact_personality_chain = LLMChain(llm=llm_openai, prompt=personality_facts_prompt)\n",
    "op_fact_personality_chain"
   ]
  },
  {
   "cell_type": "code",
   "execution_count": 22,
   "metadata": {},
   "outputs": [
    {
     "name": "stderr",
     "output_type": "stream",
     "text": [
      "Retrying langchain.llms.openai.completion_with_retry.<locals>._completion_with_retry in 4.0 seconds as it raised APIConnectionError: Error communicating with OpenAI: ('Connection aborted.', ConnectionResetError(54, 'Connection reset by peer')).\n"
     ]
    },
    {
     "name": "stdout",
     "output_type": "stream",
     "text": [
      "Luffy:\n",
      "1. Luffy is a character who is not afraid of conflict, often initiating fights himself.\n",
      "2. He values freedom above all else, aspiring to be the pirate king, the person with the most freedom on the sea.\n",
      "3. Luffy believes in the power of the heart and dreams, and is willing to take risks to create a future. He also acknowledges the pain of loneliness.\n",
      "\n",
      "Nami:\n",
      "1. Nami is a character who values life and sees it as a beautiful writing that will eventually run out.\n",
      "2. She considers herself the smartest member of the Straw Hat group and is determined to map out the entire world.\n",
      "3. Nami is a strong and independent character who doesn't want to be seen as just another cute girl. She also shows a desire for freedom and happiness, as seen in her wish to be free from Arlong and to laugh with all her heart.\n"
     ]
    }
   ],
   "source": [
    "print(op_fact_personality_chain.run(op_quotes))"
   ]
  },
  {
   "cell_type": "code",
   "execution_count": null,
   "metadata": {},
   "outputs": [],
   "source": []
  }
 ],
 "metadata": {
  "kernelspec": {
   "display_name": "open_ai",
   "language": "python",
   "name": "python3"
  },
  "language_info": {
   "codemirror_mode": {
    "name": "ipython",
    "version": 3
   },
   "file_extension": ".py",
   "mimetype": "text/x-python",
   "name": "python",
   "nbconvert_exporter": "python",
   "pygments_lexer": "ipython3",
   "version": "3.9.16"
  },
  "orig_nbformat": 4
 },
 "nbformat": 4,
 "nbformat_minor": 2
}
