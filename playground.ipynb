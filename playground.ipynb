{
 "cells": [
  {
   "cell_type": "markdown",
   "metadata": {},
   "source": [
    "# Playground\n",
    "\n",
    "Like the name states, a notebook to play around with code based on learning from other notebooks"
   ]
  },
  {
   "cell_type": "code",
   "execution_count": 24,
   "metadata": {},
   "outputs": [],
   "source": [
    "import os\n",
    "from langchain.prompts  import PromptTemplate\n",
    "from langchain.llms import OpenAI\n",
    "from langchain.chains import LLMChain\n",
    "from langchain.chains import SimpleSequentialChain, SequentialChain\n",
    "from langchain.callbacks import get_openai_callback\n",
    "import tiktoken"
   ]
  },
  {
   "cell_type": "markdown",
   "metadata": {},
   "source": [
    "Useful functions below (e.g. get a sense of token usage)"
   ]
  },
  {
   "cell_type": "code",
   "execution_count": 2,
   "metadata": {},
   "outputs": [],
   "source": [
    "# Functions\n",
    "def num_tokens_from_string(string: str, encoding_name: str) -> int:\n",
    "    \"\"\"Returns the number of tokens in a text string.\"\"\"\n",
    "    encoding = tiktoken.get_encoding(encoding_name)\n",
    "    num_tokens = len(encoding.encode(string))\n",
    "    return num_tokens"
   ]
  },
  {
   "cell_type": "code",
   "execution_count": 3,
   "metadata": {},
   "outputs": [
    {
     "data": {
      "text/plain": [
       "'org-HCpyLwy1gf2wzE49sCGQRU79'"
      ]
     },
     "execution_count": 3,
     "metadata": {},
     "output_type": "execute_result"
    }
   ],
   "source": [
    "# Make sure you have setup your environmental variables beforehand\n",
    "os.environ[\"OPENAI_API_KEY\"]\n",
    "os.environ[\"OPENAI_ORGANIZATION\"]"
   ]
  },
  {
   "cell_type": "code",
   "execution_count": 4,
   "metadata": {},
   "outputs": [
    {
     "name": "stderr",
     "output_type": "stream",
     "text": [
      "/opt/homebrew/Caskroom/miniforge/base/envs/open_ai/lib/python3.9/site-packages/langchain/llms/openai.py:200: UserWarning: You are trying to use a chat model. This way of initializing it is no longer supported. Instead, please use: `from langchain.chat_models import ChatOpenAI`\n",
      "  warnings.warn(\n",
      "/opt/homebrew/Caskroom/miniforge/base/envs/open_ai/lib/python3.9/site-packages/langchain/llms/openai.py:785: UserWarning: You are trying to use a chat model. This way of initializing it is no longer supported. Instead, please use: `from langchain.chat_models import ChatOpenAI`\n",
      "  warnings.warn(\n"
     ]
    }
   ],
   "source": [
    "llm_openai = OpenAI(model_name = \"gpt-4-0613\", temperature=0)\n"
   ]
  },
  {
   "cell_type": "markdown",
   "metadata": {},
   "source": [
    "#### Let's play around first with our prompt engineering"
   ]
  },
  {
   "cell_type": "markdown",
   "metadata": {},
   "source": [
    "We'll be testing use of a prompt that requires answers to be based on quotes from One Piece. <b>Make sure to clean any pasted text prior to feeding into model to avoid errors </b>\n",
    "\n",
    "Quotes source at: https://everydaypower.com/one-piece-quotes/"
   ]
  },
  {
   "cell_type": "code",
   "execution_count": 5,
   "metadata": {},
   "outputs": [],
   "source": [
    "op_quotes = \"\"\"\n",
    "\"I've been picking fights all along!\" - Luffy\n",
    "\"You are too from that generation.\" - Luffy\n",
    "\"Are we friends? Or are we foes? That kind of thing you decide yourselves!\" - Luffy\n",
    "“I don't wanna conquer anything. It's just that the person with the most freedom on the sea is the pirate king.” - Luffy\n",
    "“If you don't take risks you can't create a future.” - Luffy\n",
    "“Power isn't determined by your size, but by the size of your heart and dreams.” - Luffy\n",
    "“Being alone is more painful than getting hurt.” - Luffy\n",
    "“It's not about whether it's impossible or not, I'm doing it because I want to.” - Luffy\n",
    "\"Life is like a pencil that will surely run out, but will leave the beautiful writing of life.\" - Nami\n",
    "\"Everyone's weak when they hesitate.\" - Nami\n",
    "\"Everyone is expecting help from you, but you come here and don't think about doing anything to help those people?\" - Nami\n",
    "“I'm the smartest member in the Straw Hat group.” - Nami\n",
    "“If you think I'm just another cute girl, you're dead wrong!” - Nami\n",
    "“I'll have mapped out the entire world!” - Nami\n",
    "“Just one more time and everything will be the same. Everything will come back to me. And I will be free from Arlong. Bellemere-san. Finally, I can laugh with all my heart.” - Nami\n",
    "\"\"\"\n",
    "\n",
    "op_prompt = \"\"\"You are an AI assistant that provides life advice based on the quotes below. \n",
    "The name after the dash is the author. Please reference quotes in answers. Include the author name. \n",
    "If you cannot answer based on the quotes, simply state that you don't know.\"\n",
    "\n",
    "Quotes:\n",
    "{quotes}\n",
    "\n",
    "Question: {query}\n",
    "\n",
    "Answer: \"\"\""
   ]
  },
  {
   "cell_type": "code",
   "execution_count": 6,
   "metadata": {},
   "outputs": [],
   "source": [
    "op_prompt_template = PromptTemplate(\n",
    "    input_variables=[\"query\", \"quotes\"],\n",
    "    template=op_prompt\n",
    ")"
   ]
  },
  {
   "cell_type": "markdown",
   "metadata": {},
   "source": [
    "Test that the prompt works. <b>Notice how we adjust the prompt to take in multiple input variables</b>"
   ]
  },
  {
   "cell_type": "code",
   "execution_count": 7,
   "metadata": {},
   "outputs": [
    {
     "name": "stdout",
     "output_type": "stream",
     "text": [
      "You are an AI assistant that provides life advice based on the quotes below. \n",
      "The name after the dash is the author. Please reference quotes in answers. Include the author name. \n",
      "If you cannot answer based on the quotes, simply state that you don't know.\"\n",
      "\n",
      "Quotes:\n",
      "\n",
      "\"I've been picking fights all along!\" - Luffy\n",
      "\"You are too from that generation.\" - Luffy\n",
      "\"Are we friends? Or are we foes? That kind of thing you decide yourselves!\" - Luffy\n",
      "“I don't wanna conquer anything. It's just that the person with the most freedom on the sea is the pirate king.” - Luffy\n",
      "“If you don't take risks you can't create a future.” - Luffy\n",
      "“Power isn't determined by your size, but by the size of your heart and dreams.” - Luffy\n",
      "“Being alone is more painful than getting hurt.” - Luffy\n",
      "“It's not about whether it's impossible or not, I'm doing it because I want to.” - Luffy\n",
      "\"Life is like a pencil that will surely run out, but will leave the beautiful writing of life.\" - Nami\n",
      "\"Everyone's weak when they hesitate.\" - Nami\n",
      "\"Everyone is expecting help from you, but you come here and don't think about doing anything to help those people?\" - Nami\n",
      "“I'm the smartest member in the Straw Hat group.” - Nami\n",
      "“If you think I'm just another cute girl, you're dead wrong!” - Nami\n",
      "“I'll have mapped out the entire world!” - Nami\n",
      "“Just one more time and everything will be the same. Everything will come back to me. And I will be free from Arlong. Bellemere-san. Finally, I can laugh with all my heart.” - Nami\n",
      "\n",
      "\n",
      "Question: What should we do when we lose?\n",
      "\n",
      "Answer: \n"
     ]
    }
   ],
   "source": [
    "print(op_prompt_template.format(query = \"What should we do when we lose?\", quotes=op_quotes))"
   ]
  },
  {
   "cell_type": "markdown",
   "metadata": {},
   "source": [
    "#### Knowing token needed per prompt is important, these functions will help us keep track of that"
   ]
  },
  {
   "cell_type": "markdown",
   "metadata": {},
   "source": [
    "Ensure we are within the token limit"
   ]
  },
  {
   "cell_type": "code",
   "execution_count": 8,
   "metadata": {},
   "outputs": [
    {
     "name": "stdout",
     "output_type": "stream",
     "text": [
      "Number of words: 1536\n",
      "Number of tokens: 381\n"
     ]
    }
   ],
   "source": [
    "print(\"Number of words: {}\".format(\n",
    "    len(op_prompt_template.format(query = \"What should we do when we lose?\", quotes=op_quotes))\n",
    "    ))\n",
    "\n",
    "n_tokens = num_tokens_from_string(\n",
    "    string=op_prompt_template.format(query = \"What should we do when we lose?\", quotes=op_quotes),\n",
    "    encoding_name=\"cl100k_base\"\n",
    ")\n",
    "\n",
    "print(\"Number of tokens: {}\".format(n_tokens))"
   ]
  },
  {
   "cell_type": "markdown",
   "metadata": {},
   "source": [
    "Feed a negative control ensuring LLM is not supposed what is not supposed to do according to prompt instructions"
   ]
  },
  {
   "cell_type": "code",
   "execution_count": 9,
   "metadata": {},
   "outputs": [
    {
     "data": {
      "text/plain": [
       "\"I'm sorry, but I cannot provide an answer based on the quotes provided.\""
      ]
     },
     "execution_count": 9,
     "metadata": {},
     "output_type": "execute_result"
    }
   ],
   "source": [
    "llm_openai(op_prompt_template.format(query = \"What is Doge?\", quotes=op_quotes))"
   ]
  },
  {
   "cell_type": "markdown",
   "metadata": {},
   "source": [
    "Now feed it actual prompt of interest"
   ]
  },
  {
   "cell_type": "code",
   "execution_count": 10,
   "metadata": {},
   "outputs": [
    {
     "name": "stdout",
     "output_type": "stream",
     "text": [
      "Based on the quotes, it's important to remember that \"Power isn't determined by your size, but by the size of your heart and dreams.\" - Luffy. This means that even if someone appears weak, they may have a strong heart and big dreams. It's also important to remember that \"Everyone's weak when they hesitate.\" - Nami. This suggests that weakness can be temporary and is often related to uncertainty or fear. Therefore, around weak people, we should be supportive, encourage them to follow their dreams, and help them overcome their fears and uncertainties.\n"
     ]
    }
   ],
   "source": [
    "print(\n",
    "    llm_openai(\n",
    "        op_prompt_template.format(query = \"What should we do around weak people?\", quotes=op_quotes)\n",
    "        )\n",
    "    )"
   ]
  },
  {
   "cell_type": "markdown",
   "metadata": {},
   "source": [
    "#### Now let's go ahead and combine prompt engineering with chains"
   ]
  },
  {
   "cell_type": "markdown",
   "metadata": {},
   "source": [
    "We are printing a traditional prompt below to remind you what is doing. Recall that the original prompt does not contain the query and that this is just a placeholder which we replace with the actual user input"
   ]
  },
  {
   "cell_type": "code",
   "execution_count": 11,
   "metadata": {},
   "outputs": [
    {
     "name": "stdout",
     "output_type": "stream",
     "text": [
      "You are an AI assistant that provides life advice based on the quotes below. \n",
      "The name after the dash is the author. Please reference quotes in answers. Include the author name. \n",
      "If you cannot answer based on the quotes, simply state that you don't know.\"\n",
      "\n",
      "Quotes:\n",
      "\n",
      "\"I've been picking fights all along!\" - Luffy\n",
      "\"You are too from that generation.\" - Luffy\n",
      "\"Are we friends? Or are we foes? That kind of thing you decide yourselves!\" - Luffy\n",
      "“I don't wanna conquer anything. It's just that the person with the most freedom on the sea is the pirate king.” - Luffy\n",
      "“If you don't take risks you can't create a future.” - Luffy\n",
      "“Power isn't determined by your size, but by the size of your heart and dreams.” - Luffy\n",
      "“Being alone is more painful than getting hurt.” - Luffy\n",
      "“It's not about whether it's impossible or not, I'm doing it because I want to.” - Luffy\n",
      "\"Life is like a pencil that will surely run out, but will leave the beautiful writing of life.\" - Nami\n",
      "\"Everyone's weak when they hesitate.\" - Nami\n",
      "\"Everyone is expecting help from you, but you come here and don't think about doing anything to help those people?\" - Nami\n",
      "“I'm the smartest member in the Straw Hat group.” - Nami\n",
      "“If you think I'm just another cute girl, you're dead wrong!” - Nami\n",
      "“I'll have mapped out the entire world!” - Nami\n",
      "“Just one more time and everything will be the same. Everything will come back to me. And I will be free from Arlong. Bellemere-san. Finally, I can laugh with all my heart.” - Nami\n",
      "\n",
      "\n",
      "Question: What is life?\n",
      "\n",
      "Answer: \n"
     ]
    }
   ],
   "source": [
    "print(op_prompt_template.format(query=\"What is life?\", quotes=op_quotes))"
   ]
  },
  {
   "cell_type": "markdown",
   "metadata": {},
   "source": [
    "We are going to re-design the prompt around the important piece of info: the quotes. The template will contain instructions to output specific information. The template will not contain the information where to draw this info from, so it will have the input query blank to later enter the quotes of interest. This will be our <b>personality fact extraction prompt template</b>\n",
    "\n",
    "Recall that the previous prompt had specific instructions on what it was instructed to (ie. life advice AI) and was required to provide a specific type of answer (ie. ensure to use a quote of the list + author in answer). Therefore, it cannot be used here. <u>Make sure to understand the difference between what each prompt is intended to do</u>"
   ]
  },
  {
   "cell_type": "code",
   "execution_count": 19,
   "metadata": {},
   "outputs": [
    {
     "name": "stdout",
     "output_type": "stream",
     "text": [
      "\n",
      "Each quote below lists its author right after a dash. Based on each author's quotes, provide 3 key facts about each of them.\n",
      "Don't provide the actual quotes in the answer.\n",
      "Give each fact a number:\n",
      "\n",
      "\"I've been picking fights all along!\" - Luffy\n",
      "\"You are too from that generation.\" - Luffy\n",
      "\"Are we friends? Or are we foes? That kind of thing you decide yourselves!\" - Luffy\n",
      "“I don't wanna conquer anything. It's just that the person with the most freedom on the sea is the pirate king.” - Luffy\n",
      "“If you don't take risks you can't create a future.” - Luffy\n",
      "“Power isn't determined by your size, but by the size of your heart and dreams.” - Luffy\n",
      "“Being alone is more painful than getting hurt.” - Luffy\n",
      "“It's not about whether it's impossible or not, I'm doing it because I want to.” - Luffy\n",
      "\"Life is like a pencil that will surely run out, but will leave the beautiful writing of life.\" - Nami\n",
      "\"Everyone's weak when they hesitate.\" - Nami\n",
      "\"Everyone is expecting help from you, but you come here and don't think about doing anything to help those people?\" - Nami\n",
      "“I'm the smartest member in the Straw Hat group.” - Nami\n",
      "“If you think I'm just another cute girl, you're dead wrong!” - Nami\n",
      "“I'll have mapped out the entire world!” - Nami\n",
      "“Just one more time and everything will be the same. Everything will come back to me. And I will be free from Arlong. Bellemere-san. Finally, I can laugh with all my heart.” - Nami\n",
      "\n",
      "\n"
     ]
    }
   ],
   "source": [
    "rank_template = \"\"\"\n",
    "Each quote below lists its author right after a dash. Based on each author's quotes, provide 3 key facts about each of them.\n",
    "Don't provide the actual quotes in the answer.\n",
    "Give each fact a number:\\n{quotes}\n",
    "\"\"\"\n",
    "\n",
    "personality_facts_prompt = PromptTemplate(input_variables=[\"quotes\"],\n",
    "                                          template=rank_template)\n",
    "\n",
    "print(personality_facts_prompt.format(quotes=op_quotes))"
   ]
  },
  {
   "cell_type": "code",
   "execution_count": 20,
   "metadata": {},
   "outputs": [
    {
     "name": "stdout",
     "output_type": "stream",
     "text": [
      "Number of tokens in prompt: 357\n"
     ]
    }
   ],
   "source": [
    "n_tokens = num_tokens_from_string(\n",
    "    string=personality_facts_prompt.format(quotes=op_quotes),\n",
    "    encoding_name=\"cl100k_base\"\n",
    ")\n",
    "print(\"Number of tokens in prompt: {}\".format(n_tokens))"
   ]
  },
  {
   "cell_type": "markdown",
   "metadata": {},
   "source": [
    "Now that we have the personality fact prompt, let's run it"
   ]
  },
  {
   "cell_type": "code",
   "execution_count": 21,
   "metadata": {},
   "outputs": [
    {
     "data": {
      "text/plain": [
       "LLMChain(memory=None, callbacks=None, callback_manager=None, verbose=False, tags=None, metadata=None, prompt=PromptTemplate(input_variables=['quotes'], output_parser=None, partial_variables={}, template=\"\\nEach quote below lists its author right after a dash. Based on each author's quotes, provide 3 key facts about each of them.\\nDon't provide the actual quotes in the answer.\\nGive each fact a number:\\n{quotes}\\n\", template_format='f-string', validate_template=True), llm=OpenAIChat(cache=None, verbose=False, callbacks=None, callback_manager=None, tags=None, metadata=None, client=<class 'openai.api_resources.chat_completion.ChatCompletion'>, model_name='gpt-4-0613', model_kwargs={'temperature': 0}, openai_api_key=None, openai_api_base=None, openai_proxy=None, max_retries=6, prefix_messages=[], streaming=False, allowed_special=set(), disallowed_special='all'), output_key='text', output_parser=StrOutputParser(), return_final_only=True, llm_kwargs={})"
      ]
     },
     "execution_count": 21,
     "metadata": {},
     "output_type": "execute_result"
    }
   ],
   "source": [
    "op_fact_personality_chain = LLMChain(llm=llm_openai, prompt=personality_facts_prompt)\n",
    "op_fact_personality_chain"
   ]
  },
  {
   "cell_type": "code",
   "execution_count": 22,
   "metadata": {},
   "outputs": [
    {
     "name": "stderr",
     "output_type": "stream",
     "text": [
      "Retrying langchain.llms.openai.completion_with_retry.<locals>._completion_with_retry in 4.0 seconds as it raised APIConnectionError: Error communicating with OpenAI: ('Connection aborted.', ConnectionResetError(54, 'Connection reset by peer')).\n"
     ]
    },
    {
     "name": "stdout",
     "output_type": "stream",
     "text": [
      "Luffy:\n",
      "1. Luffy is a character who is not afraid of conflict, often initiating fights himself.\n",
      "2. He values freedom above all else, aspiring to be the pirate king, the person with the most freedom on the sea.\n",
      "3. Luffy believes in the power of the heart and dreams, and is willing to take risks to create a future. He also acknowledges the pain of loneliness.\n",
      "\n",
      "Nami:\n",
      "1. Nami is a character who values life and sees it as a beautiful writing that will eventually run out.\n",
      "2. She considers herself the smartest member of the Straw Hat group and is determined to map out the entire world.\n",
      "3. Nami is a strong and independent character who doesn't want to be seen as just another cute girl. She also shows a desire for freedom and happiness, as seen in her wish to be free from Arlong and to laugh with all her heart.\n"
     ]
    }
   ],
   "source": [
    "print(op_fact_personality_chain.run(op_quotes))"
   ]
  },
  {
   "cell_type": "markdown",
   "metadata": {},
   "source": [
    "#### Now to the fun part, let's build an actual chain that takes as input quotes, generates personality traits from such quotes and then predicts how a person may respond in varying situtations"
   ]
  },
  {
   "cell_type": "markdown",
   "metadata": {},
   "source": [
    "First we need to generate the prompt template chain portion that extracts the person's traits based on their name <b>Find out if there is a less costly way of doing this</b>"
   ]
  },
  {
   "cell_type": "code",
   "execution_count": 41,
   "metadata": {},
   "outputs": [],
   "source": [
    "personality_selection_template = \"\"\"\n",
    "Use the following name: {non_ai_person} and extract their corresponding numbered list from the paragraph below. Don't deviate from the text.\n",
    "If you can't identify the person, answer with: \"I don't know\"\\n{people_facts}\n",
    "\"\"\"\n",
    "\n",
    "personality_selection_prompt = PromptTemplate(\n",
    "    input_variables=[\"people_facts\", \"non_ai_person\"],\n",
    "    template=personality_selection_template\n",
    ")"
   ]
  },
  {
   "cell_type": "markdown",
   "metadata": {},
   "source": [
    "Then convert it into a chain (Don't forget that the sequential chain needs chains, not prompts)"
   ]
  },
  {
   "cell_type": "code",
   "execution_count": 42,
   "metadata": {},
   "outputs": [
    {
     "data": {
      "text/plain": [
       "LLMChain(memory=None, callbacks=None, callback_manager=None, verbose=False, tags=None, metadata=None, prompt=PromptTemplate(input_variables=['people_facts', 'non_ai_person'], output_parser=None, partial_variables={}, template='\\nUse the following name: {non_ai_person} and extract their corresponding numbered list from the paragraph below. Don\\'t deviate from the text.\\nIf you can\\'t identify the person, answer with: \"I don\\'t know\"\\n{people_facts}\\n', template_format='f-string', validate_template=True), llm=OpenAIChat(cache=None, verbose=False, callbacks=None, callback_manager=None, tags=None, metadata=None, client=<class 'openai.api_resources.chat_completion.ChatCompletion'>, model_name='gpt-4-0613', model_kwargs={'temperature': 0}, openai_api_key=None, openai_api_base=None, openai_proxy=None, max_retries=6, prefix_messages=[], streaming=False, allowed_special=set(), disallowed_special='all'), output_key='text', output_parser=StrOutputParser(), return_final_only=True, llm_kwargs={})"
      ]
     },
     "execution_count": 42,
     "metadata": {},
     "output_type": "execute_result"
    }
   ],
   "source": [
    "personality_selection_chain = LLMChain(llm=llm_openai, prompt=personality_selection_prompt)\n",
    "personality_selection_chain"
   ]
  },
  {
   "cell_type": "markdown",
   "metadata": {},
   "source": [
    "Now chain it with the previous chain that extract personality facts from quotes"
   ]
  },
  {
   "cell_type": "code",
   "execution_count": 43,
   "metadata": {},
   "outputs": [
    {
     "ename": "ValidationError",
     "evalue": "1 validation error for SimpleSequentialChain\n__root__\n  Chains used in SimplePipeline should all have one input, got memory=None callbacks=None callback_manager=None verbose=False tags=None metadata=None prompt=PromptTemplate(input_variables=['people_facts', 'non_ai_person'], output_parser=None, partial_variables={}, template='\\nUse the following name: {non_ai_person} and extract their corresponding numbered list from the paragraph below. Don\\'t deviate from the text.\\nIf you can\\'t identify the person, answer with: \"I don\\'t know\"\\n{people_facts}\\n', template_format='f-string', validate_template=True) llm=OpenAIChat(cache=None, verbose=False, callbacks=None, callback_manager=None, tags=None, metadata=None, client=<class 'openai.api_resources.chat_completion.ChatCompletion'>, model_name='gpt-4-0613', model_kwargs={'temperature': 0}, openai_api_key=None, openai_api_base=None, openai_proxy=None, max_retries=6, prefix_messages=[], streaming=False, allowed_special=set(), disallowed_special='all') output_key='text' output_parser=StrOutputParser() return_final_only=True llm_kwargs={} with 2 inputs. (type=value_error)",
     "output_type": "error",
     "traceback": [
      "\u001b[0;31m---------------------------------------------------------------------------\u001b[0m",
      "\u001b[0;31mValidationError\u001b[0m                           Traceback (most recent call last)",
      "Cell \u001b[0;32mIn[43], line 1\u001b[0m\n\u001b[0;32m----> 1\u001b[0m personality_extraction_chain \u001b[39m=\u001b[39m SimpleSequentialChain(\n\u001b[1;32m      2\u001b[0m     chains\u001b[39m=\u001b[39;49m[op_fact_personality_chain, personality_selection_chain],\n\u001b[1;32m      3\u001b[0m     verbose\u001b[39m=\u001b[39;49m\u001b[39mTrue\u001b[39;49;00m\n\u001b[1;32m      4\u001b[0m )\n\u001b[1;32m      6\u001b[0m \u001b[39m# personality_response = personality_extraction_chain.run(quotes=op_quotes, non_ai_person=\"Doge\")\u001b[39;00m\n\u001b[1;32m      7\u001b[0m personality_response \u001b[39m=\u001b[39m personality_extraction_chain({\u001b[39m\"\u001b[39m\u001b[39minput\u001b[39m\u001b[39m\"\u001b[39m:op_quotes, \u001b[39m\"\u001b[39m\u001b[39mnon_ai_person\u001b[39m\u001b[39m\"\u001b[39m:\u001b[39m\"\u001b[39m\u001b[39mNami\u001b[39m\u001b[39m\"\u001b[39m})\n",
      "File \u001b[0;32m/opt/homebrew/Caskroom/miniforge/base/envs/open_ai/lib/python3.9/site-packages/langchain/load/serializable.py:74\u001b[0m, in \u001b[0;36mSerializable.__init__\u001b[0;34m(self, **kwargs)\u001b[0m\n\u001b[1;32m     73\u001b[0m \u001b[39mdef\u001b[39;00m \u001b[39m__init__\u001b[39m(\u001b[39mself\u001b[39m, \u001b[39m*\u001b[39m\u001b[39m*\u001b[39mkwargs: Any) \u001b[39m-\u001b[39m\u001b[39m>\u001b[39m \u001b[39mNone\u001b[39;00m:\n\u001b[0;32m---> 74\u001b[0m     \u001b[39msuper\u001b[39;49m()\u001b[39m.\u001b[39;49m\u001b[39m__init__\u001b[39;49m(\u001b[39m*\u001b[39;49m\u001b[39m*\u001b[39;49mkwargs)\n\u001b[1;32m     75\u001b[0m     \u001b[39mself\u001b[39m\u001b[39m.\u001b[39m_lc_kwargs \u001b[39m=\u001b[39m kwargs\n",
      "File \u001b[0;32m/opt/homebrew/Caskroom/miniforge/base/envs/open_ai/lib/python3.9/site-packages/pydantic/main.py:341\u001b[0m, in \u001b[0;36mpydantic.main.BaseModel.__init__\u001b[0;34m()\u001b[0m\n",
      "\u001b[0;31mValidationError\u001b[0m: 1 validation error for SimpleSequentialChain\n__root__\n  Chains used in SimplePipeline should all have one input, got memory=None callbacks=None callback_manager=None verbose=False tags=None metadata=None prompt=PromptTemplate(input_variables=['people_facts', 'non_ai_person'], output_parser=None, partial_variables={}, template='\\nUse the following name: {non_ai_person} and extract their corresponding numbered list from the paragraph below. Don\\'t deviate from the text.\\nIf you can\\'t identify the person, answer with: \"I don\\'t know\"\\n{people_facts}\\n', template_format='f-string', validate_template=True) llm=OpenAIChat(cache=None, verbose=False, callbacks=None, callback_manager=None, tags=None, metadata=None, client=<class 'openai.api_resources.chat_completion.ChatCompletion'>, model_name='gpt-4-0613', model_kwargs={'temperature': 0}, openai_api_key=None, openai_api_base=None, openai_proxy=None, max_retries=6, prefix_messages=[], streaming=False, allowed_special=set(), disallowed_special='all') output_key='text' output_parser=StrOutputParser() return_final_only=True llm_kwargs={} with 2 inputs. (type=value_error)"
     ]
    }
   ],
   "source": [
    "personality_extraction_chain = SimpleSequentialChain(\n",
    "    chains=[op_fact_personality_chain, personality_selection_chain],\n",
    "    verbose=True\n",
    ")\n",
    "\n",
    "# personality_response = personality_extraction_chain.run(quotes=op_quotes, non_ai_person=\"Doge\")\n",
    "personality_response = personality_extraction_chain({\"input\":op_quotes, \"non_ai_person\":\"Nami\"})\n",
    "personality_response"
   ]
  },
  {
   "cell_type": "markdown",
   "metadata": {},
   "source": [
    "Notice the error, SimpleSequentialChain expects one input per one output it produces. We need to modify these chain calls by including <b>the output_key argument</b> and rather use the <b>SequentialChain</b> function which allows for multiple input/output calls"
   ]
  },
  {
   "cell_type": "code",
   "execution_count": 56,
   "metadata": {},
   "outputs": [
    {
     "name": "stdout",
     "output_type": "stream",
     "text": [
      "\n",
      "\n",
      "\u001b[1m> Entering new SequentialChain chain...\u001b[0m\n",
      "\n",
      "\n",
      "\u001b[1m> Entering new LLMChain chain...\u001b[0m\n",
      "Prompt after formatting:\n",
      "\u001b[32;1m\u001b[1;3m\n",
      "Each quote below lists its author right after a dash. Based on each author's quotes, provide 3 key facts about each of them.\n",
      "Don't provide the actual quotes in the answer.\n",
      "Give each fact a number:\n",
      "\n",
      "\"I've been picking fights all along!\" - Luffy\n",
      "\"You are too from that generation.\" - Luffy\n",
      "\"Are we friends? Or are we foes? That kind of thing you decide yourselves!\" - Luffy\n",
      "“I don't wanna conquer anything. It's just that the person with the most freedom on the sea is the pirate king.” - Luffy\n",
      "“If you don't take risks you can't create a future.” - Luffy\n",
      "“Power isn't determined by your size, but by the size of your heart and dreams.” - Luffy\n",
      "“Being alone is more painful than getting hurt.” - Luffy\n",
      "“It's not about whether it's impossible or not, I'm doing it because I want to.” - Luffy\n",
      "\"Life is like a pencil that will surely run out, but will leave the beautiful writing of life.\" - Nami\n",
      "\"Everyone's weak when they hesitate.\" - Nami\n",
      "\"Everyone is expecting help from you, but you come here and don't think about doing anything to help those people?\" - Nami\n",
      "“I'm the smartest member in the Straw Hat group.” - Nami\n",
      "“If you think I'm just another cute girl, you're dead wrong!” - Nami\n",
      "“I'll have mapped out the entire world!” - Nami\n",
      "“Just one more time and everything will be the same. Everything will come back to me. And I will be free from Arlong. Bellemere-san. Finally, I can laugh with all my heart.” - Nami\n",
      "\n",
      "\u001b[0m\n",
      "\n",
      "\u001b[1m> Finished chain.\u001b[0m\n",
      "\n",
      "\n",
      "\u001b[1m> Entering new LLMChain chain...\u001b[0m\n",
      "Prompt after formatting:\n",
      "\u001b[32;1m\u001b[1;3m\n",
      "Use the following name: Nami and extract their corresponding numbered list from the paragraph below. Don't deviate from the text.\n",
      "If you can't identify the person, answer with: \"I don't know\"\n",
      "Luffy:\n",
      "1. Luffy is a character who is not afraid of confrontation, often seeking out fights.\n",
      "2. He values freedom above all else, aspiring to be the pirate king, the person with the most freedom on the sea.\n",
      "3. Luffy is a risk-taker who believes in the power of the heart and dreams over physical size. He also believes that being alone is more painful than getting hurt and is motivated by his desires rather than the feasibility of his goals.\n",
      "\n",
      "Nami:\n",
      "1. Nami is a character who values life and sees it as a beautiful writing that will eventually run out.\n",
      "2. She considers herself the smartest member of the Straw Hat group and is determined to map out the entire world.\n",
      "3. Nami is a strong and independent character who doesn't like being underestimated because of her appearance. She also shows a desire for freedom and happiness, as seen in her wish to be free from Arlong and to laugh wholeheartedly.\n",
      "\u001b[0m\n",
      "\n",
      "\u001b[1m> Finished chain.\u001b[0m\n",
      "\n",
      "\u001b[1m> Finished chain.\u001b[0m\n"
     ]
    },
    {
     "data": {
      "text/plain": [
       "{'quotes': '\\n\"I\\'ve been picking fights all along!\" - Luffy\\n\"You are too from that generation.\" - Luffy\\n\"Are we friends? Or are we foes? That kind of thing you decide yourselves!\" - Luffy\\n“I don\\'t wanna conquer anything. It\\'s just that the person with the most freedom on the sea is the pirate king.” - Luffy\\n“If you don\\'t take risks you can\\'t create a future.” - Luffy\\n“Power isn\\'t determined by your size, but by the size of your heart and dreams.” - Luffy\\n“Being alone is more painful than getting hurt.” - Luffy\\n“It\\'s not about whether it\\'s impossible or not, I\\'m doing it because I want to.” - Luffy\\n\"Life is like a pencil that will surely run out, but will leave the beautiful writing of life.\" - Nami\\n\"Everyone\\'s weak when they hesitate.\" - Nami\\n\"Everyone is expecting help from you, but you come here and don\\'t think about doing anything to help those people?\" - Nami\\n“I\\'m the smartest member in the Straw Hat group.” - Nami\\n“If you think I\\'m just another cute girl, you\\'re dead wrong!” - Nami\\n“I\\'ll have mapped out the entire world!” - Nami\\n“Just one more time and everything will be the same. Everything will come back to me. And I will be free from Arlong. Bellemere-san. Finally, I can laugh with all my heart.” - Nami\\n',\n",
       " 'non_ai_person': 'Nami',\n",
       " 'people_facts': \"Luffy:\\n1. Luffy is a character who is not afraid of confrontation, often seeking out fights.\\n2. He values freedom above all else, aspiring to be the pirate king, the person with the most freedom on the sea.\\n3. Luffy is a risk-taker who believes in the power of the heart and dreams over physical size. He also believes that being alone is more painful than getting hurt and is motivated by his desires rather than the feasibility of his goals.\\n\\nNami:\\n1. Nami is a character who values life and sees it as a beautiful writing that will eventually run out.\\n2. She considers herself the smartest member of the Straw Hat group and is determined to map out the entire world.\\n3. Nami is a strong and independent character who doesn't like being underestimated because of her appearance. She also shows a desire for freedom and happiness, as seen in her wish to be free from Arlong and to laugh wholeheartedly.\",\n",
       " 'person_facts': \"Nami:\\n1. Nami is a character who values life and sees it as a beautiful writing that will eventually run out.\\n2. She considers herself the smartest member of the Straw Hat group and is determined to map out the entire world.\\n3. Nami is a strong and independent character who doesn't like being underestimated because of her appearance. She also shows a desire for freedom and happiness, as seen in her wish to be free from Arlong and to laugh wholeheartedly.\"}"
      ]
     },
     "execution_count": 56,
     "metadata": {},
     "output_type": "execute_result"
    }
   ],
   "source": [
    "op_fact_personality_chain = LLMChain(\n",
    "    llm=llm_openai, \n",
    "    prompt=personality_facts_prompt, # has the \"quotes\" input variable\n",
    "    output_key=\"people_facts\",\n",
    "    verbose=True\n",
    "    )\n",
    "\n",
    "personality_selection_chain = LLMChain(\n",
    "    llm=llm_openai, \n",
    "    prompt=personality_selection_prompt, # has both \"people_facts\" and \"non_ai_person\" as input variables\n",
    "    output_key=\"person_facts\",\n",
    "    verbose=True\n",
    "    )\n",
    "\n",
    "personality_extraction_chain = SequentialChain(\n",
    "    input_variables=[\"quotes\", \"non_ai_person\"],\n",
    "    output_variables=[\"people_facts\", \"person_facts\"],\n",
    "    chains=[op_fact_personality_chain, personality_selection_chain],\n",
    "    verbose=True\n",
    ")\n",
    "\n",
    "personality_response = personality_extraction_chain({\"quotes\":op_quotes, \"non_ai_person\":\"Nami\"})\n",
    "personality_response\n"
   ]
  },
  {
   "cell_type": "markdown",
   "metadata": {},
   "source": [
    "We got our desired response. Notice how we are able to store the mid-chain outputs as well in the dictionary object"
   ]
  },
  {
   "cell_type": "code",
   "execution_count": 57,
   "metadata": {},
   "outputs": [
    {
     "name": "stdout",
     "output_type": "stream",
     "text": [
      "Nami:\n",
      "1. Nami is a character who values life and sees it as a beautiful writing that will eventually run out.\n",
      "2. She considers herself the smartest member of the Straw Hat group and is determined to map out the entire world.\n",
      "3. Nami is a strong and independent character who doesn't like being underestimated because of her appearance. She also shows a desire for freedom and happiness, as seen in her wish to be free from Arlong and to laugh wholeheartedly.\n"
     ]
    }
   ],
   "source": [
    "print(personality_response[\"person_facts\"])"
   ]
  },
  {
   "cell_type": "code",
   "execution_count": 59,
   "metadata": {},
   "outputs": [
    {
     "name": "stdout",
     "output_type": "stream",
     "text": [
      "dict_keys(['quotes', 'non_ai_person', 'people_facts', 'person_facts'])\n"
     ]
    }
   ],
   "source": [
    "print(personality_response.keys())"
   ]
  },
  {
   "cell_type": "markdown",
   "metadata": {},
   "source": [
    "Do a negative test to ensure it is working as expected. Input a person's name not found in the personality list"
   ]
  },
  {
   "cell_type": "code",
   "execution_count": 60,
   "metadata": {},
   "outputs": [
    {
     "name": "stderr",
     "output_type": "stream",
     "text": [
      "Retrying langchain.llms.openai.completion_with_retry.<locals>._completion_with_retry in 4.0 seconds as it raised APIConnectionError: Error communicating with OpenAI: ('Connection aborted.', ConnectionResetError(54, 'Connection reset by peer')).\n"
     ]
    },
    {
     "name": "stdout",
     "output_type": "stream",
     "text": [
      "\n",
      "\n",
      "\u001b[1m> Entering new SequentialChain chain...\u001b[0m\n",
      "\n",
      "\n",
      "\u001b[1m> Entering new LLMChain chain...\u001b[0m\n",
      "Prompt after formatting:\n",
      "\u001b[32;1m\u001b[1;3m\n",
      "Each quote below lists its author right after a dash. Based on each author's quotes, provide 3 key facts about each of them.\n",
      "Don't provide the actual quotes in the answer.\n",
      "Give each fact a number:\n",
      "\n",
      "\"I've been picking fights all along!\" - Luffy\n",
      "\"You are too from that generation.\" - Luffy\n",
      "\"Are we friends? Or are we foes? That kind of thing you decide yourselves!\" - Luffy\n",
      "“I don't wanna conquer anything. It's just that the person with the most freedom on the sea is the pirate king.” - Luffy\n",
      "“If you don't take risks you can't create a future.” - Luffy\n",
      "“Power isn't determined by your size, but by the size of your heart and dreams.” - Luffy\n",
      "“Being alone is more painful than getting hurt.” - Luffy\n",
      "“It's not about whether it's impossible or not, I'm doing it because I want to.” - Luffy\n",
      "\"Life is like a pencil that will surely run out, but will leave the beautiful writing of life.\" - Nami\n",
      "\"Everyone's weak when they hesitate.\" - Nami\n",
      "\"Everyone is expecting help from you, but you come here and don't think about doing anything to help those people?\" - Nami\n",
      "“I'm the smartest member in the Straw Hat group.” - Nami\n",
      "“If you think I'm just another cute girl, you're dead wrong!” - Nami\n",
      "“I'll have mapped out the entire world!” - Nami\n",
      "“Just one more time and everything will be the same. Everything will come back to me. And I will be free from Arlong. Bellemere-san. Finally, I can laugh with all my heart.” - Nami\n",
      "\n",
      "\u001b[0m\n",
      "\n",
      "\u001b[1m> Finished chain.\u001b[0m\n",
      "\n",
      "\n",
      "\u001b[1m> Entering new LLMChain chain...\u001b[0m\n",
      "Prompt after formatting:\n",
      "\u001b[32;1m\u001b[1;3m\n",
      "Use the following name: Doge and extract their corresponding numbered list from the paragraph below. Don't deviate from the text.\n",
      "If you can't identify the person, answer with: \"I don't know\"\n",
      "Luffy:\n",
      "1. Luffy is a character who is not afraid of conflict, often initiating fights himself.\n",
      "2. He values freedom above all else, aspiring to be the pirate king, the person with the most freedom on the sea.\n",
      "3. Luffy believes in the power of the heart and dreams, and is willing to take risks to create a future. He also acknowledges the pain of loneliness.\n",
      "\n",
      "Nami:\n",
      "1. Nami is a character who values life and sees it as a beautiful writing that will eventually run out.\n",
      "2. She considers herself the smartest member of the Straw Hat group and is determined to map out the entire world.\n",
      "3. Nami is a strong and independent character who doesn't want to be seen as just another cute girl. She also has a past involving a character named Arlong and Bellemere-san, which she hopes to overcome.\n",
      "\u001b[0m\n",
      "\n",
      "\u001b[1m> Finished chain.\u001b[0m\n",
      "\n",
      "\u001b[1m> Finished chain.\u001b[0m\n"
     ]
    },
    {
     "data": {
      "text/plain": [
       "{'quotes': '\\n\"I\\'ve been picking fights all along!\" - Luffy\\n\"You are too from that generation.\" - Luffy\\n\"Are we friends? Or are we foes? That kind of thing you decide yourselves!\" - Luffy\\n“I don\\'t wanna conquer anything. It\\'s just that the person with the most freedom on the sea is the pirate king.” - Luffy\\n“If you don\\'t take risks you can\\'t create a future.” - Luffy\\n“Power isn\\'t determined by your size, but by the size of your heart and dreams.” - Luffy\\n“Being alone is more painful than getting hurt.” - Luffy\\n“It\\'s not about whether it\\'s impossible or not, I\\'m doing it because I want to.” - Luffy\\n\"Life is like a pencil that will surely run out, but will leave the beautiful writing of life.\" - Nami\\n\"Everyone\\'s weak when they hesitate.\" - Nami\\n\"Everyone is expecting help from you, but you come here and don\\'t think about doing anything to help those people?\" - Nami\\n“I\\'m the smartest member in the Straw Hat group.” - Nami\\n“If you think I\\'m just another cute girl, you\\'re dead wrong!” - Nami\\n“I\\'ll have mapped out the entire world!” - Nami\\n“Just one more time and everything will be the same. Everything will come back to me. And I will be free from Arlong. Bellemere-san. Finally, I can laugh with all my heart.” - Nami\\n',\n",
       " 'non_ai_person': 'Doge',\n",
       " 'people_facts': \"Luffy:\\n1. Luffy is a character who is not afraid of conflict, often initiating fights himself.\\n2. He values freedom above all else, aspiring to be the pirate king, the person with the most freedom on the sea.\\n3. Luffy believes in the power of the heart and dreams, and is willing to take risks to create a future. He also acknowledges the pain of loneliness.\\n\\nNami:\\n1. Nami is a character who values life and sees it as a beautiful writing that will eventually run out.\\n2. She considers herself the smartest member of the Straw Hat group and is determined to map out the entire world.\\n3. Nami is a strong and independent character who doesn't want to be seen as just another cute girl. She also has a past involving a character named Arlong and Bellemere-san, which she hopes to overcome.\",\n",
       " 'person_facts': \"I don't know\"}"
      ]
     },
     "execution_count": 60,
     "metadata": {},
     "output_type": "execute_result"
    }
   ],
   "source": [
    "personality_response = personality_extraction_chain({\"quotes\":op_quotes, \"non_ai_person\":\"Doge\"})\n",
    "personality_response\n"
   ]
  },
  {
   "cell_type": "markdown",
   "metadata": {},
   "source": [
    "As expected and to proof it is specific to our personality traits, the final output yields a negative response"
   ]
  },
  {
   "cell_type": "code",
   "execution_count": 61,
   "metadata": {},
   "outputs": [
    {
     "name": "stdout",
     "output_type": "stream",
     "text": [
      "I don't know\n"
     ]
    }
   ],
   "source": [
    "print(personality_response[\"person_facts\"])"
   ]
  },
  {
   "cell_type": "markdown",
   "metadata": {},
   "source": [
    "Let's take the exercise one last step further an request to provide a <b>generated AI person response's to a situational environment</b>\n",
    "\n",
    "Generate the additional LLM prompt and single chain below. We are copying the chains from above to keep tracks of variables used"
   ]
  },
  {
   "cell_type": "code",
   "execution_count": null,
   "metadata": {},
   "outputs": [],
   "source": [
    "op_fact_personality_chain = LLMChain(\n",
    "    llm=llm_openai, \n",
    "    prompt=personality_facts_prompt, # has the \"quotes\" input variable\n",
    "    output_key=\"people_facts\",\n",
    "    verbose=True\n",
    "    )\n",
    "\n",
    "personality_selection_chain = LLMChain(\n",
    "    llm=llm_openai, \n",
    "    prompt=personality_selection_prompt, # has both \"people_facts\" and \"non_ai_person\" as input variables\n",
    "    output_key=\"person_facts\",\n",
    "    verbose=True\n",
    "    )"
   ]
  },
  {
   "cell_type": "code",
   "execution_count": 68,
   "metadata": {},
   "outputs": [],
   "source": [
    "situational_response_template = \"\"\"\n",
    "You are an AI whose aim is to emulate how a person will respond to real-life scenarios. \n",
    "You will only use the personality traits listed below to answer how this person would react under the scenario presented at the end.\n",
    "\n",
    "Traits: {person_facts}\\n\\n\n",
    "\n",
    "Scenario: {simulated_scenario}\\n\n",
    "\"\"\"\n",
    "\n",
    "situational_response_prompt = PromptTemplate(\n",
    "    input_variables= [\"person_facts\", \"simulated_scenario\"],\n",
    "    template=situational_response_template\n",
    ")\n",
    "\n",
    "situation_response_chain = LLMChain(\n",
    "    llm=llm_openai,\n",
    "    prompt=situational_response_prompt,\n",
    "    output_key=\"gen_ai_situational_response\",\n",
    "    verbose=True\n",
    ")"
   ]
  },
  {
   "cell_type": "markdown",
   "metadata": {},
   "source": [
    "Now incorporate it into full chain. <u>Note:</u> Keep track of variable names. Notice how output variables include all those generated throughout the process, and that they are not placed as \"input_variables\" even if they do enter a mid-chain. This is important to keep in mind"
   ]
  },
  {
   "cell_type": "code",
   "execution_count": 71,
   "metadata": {},
   "outputs": [
    {
     "name": "stdout",
     "output_type": "stream",
     "text": [
      "\n",
      "\n",
      "\u001b[1m> Entering new SequentialChain chain...\u001b[0m\n",
      "\n",
      "\n",
      "\u001b[1m> Entering new LLMChain chain...\u001b[0m\n",
      "Prompt after formatting:\n",
      "\u001b[32;1m\u001b[1;3m\n",
      "Each quote below lists its author right after a dash. Based on each author's quotes, provide 3 key facts about each of them.\n",
      "Don't provide the actual quotes in the answer.\n",
      "Give each fact a number:\n",
      "\n",
      "\"I've been picking fights all along!\" - Luffy\n",
      "\"You are too from that generation.\" - Luffy\n",
      "\"Are we friends? Or are we foes? That kind of thing you decide yourselves!\" - Luffy\n",
      "“I don't wanna conquer anything. It's just that the person with the most freedom on the sea is the pirate king.” - Luffy\n",
      "“If you don't take risks you can't create a future.” - Luffy\n",
      "“Power isn't determined by your size, but by the size of your heart and dreams.” - Luffy\n",
      "“Being alone is more painful than getting hurt.” - Luffy\n",
      "“It's not about whether it's impossible or not, I'm doing it because I want to.” - Luffy\n",
      "\"Life is like a pencil that will surely run out, but will leave the beautiful writing of life.\" - Nami\n",
      "\"Everyone's weak when they hesitate.\" - Nami\n",
      "\"Everyone is expecting help from you, but you come here and don't think about doing anything to help those people?\" - Nami\n",
      "“I'm the smartest member in the Straw Hat group.” - Nami\n",
      "“If you think I'm just another cute girl, you're dead wrong!” - Nami\n",
      "“I'll have mapped out the entire world!” - Nami\n",
      "“Just one more time and everything will be the same. Everything will come back to me. And I will be free from Arlong. Bellemere-san. Finally, I can laugh with all my heart.” - Nami\n",
      "\n",
      "\u001b[0m\n",
      "\n",
      "\u001b[1m> Finished chain.\u001b[0m\n",
      "\n",
      "\n",
      "\u001b[1m> Entering new LLMChain chain...\u001b[0m\n",
      "Prompt after formatting:\n",
      "\u001b[32;1m\u001b[1;3m\n",
      "Use the following name: Nami and extract their corresponding numbered list from the paragraph below. Don't deviate from the text.\n",
      "If you can't identify the person, answer with: \"I don't know\"\n",
      "Luffy:\n",
      "1. Luffy is a character who is not afraid of conflict, often initiating it himself.\n",
      "2. He values freedom above all else, aspiring to be the pirate king, the person with the most freedom on the sea.\n",
      "3. Luffy believes in the power of the heart and dreams, and is willing to take risks to create a future.\n",
      "\n",
      "Nami:\n",
      "1. Nami is a character who values life and sees it as a beautiful writing that will eventually run out.\n",
      "2. She considers herself the smartest member of the Straw Hat group and has a goal to map out the entire world.\n",
      "3. Nami is a strong and independent character, warning others not to underestimate her because she is a girl.\n",
      "\u001b[0m\n",
      "\n",
      "\u001b[1m> Finished chain.\u001b[0m\n",
      "\n",
      "\n",
      "\u001b[1m> Entering new LLMChain chain...\u001b[0m\n",
      "Prompt after formatting:\n",
      "\u001b[32;1m\u001b[1;3m\n",
      "You are an AI whose aim is to emulate how a person will respond to real-life scenarios. \n",
      "You will only use the personality traits listed below to answer how this person would react under the scenario presented at the end.\n",
      "\n",
      "Traits: 1. Nami is a character who values life and sees it as a beautiful writing that will eventually run out.\n",
      "2. She considers herself the smartest member of the Straw Hat group and has a goal to map out the entire world.\n",
      "3. Nami is a strong and independent character, warning others not to underestimate her because she is a girl.\n",
      "\n",
      "\n",
      "\n",
      "Scenario: \n",
      "Your best friend comes to you devasted by the loss of their dog. What would you say to them to cheer them up? \n",
      "Speak from a first person point of view\n",
      "\n",
      "\n",
      "\u001b[0m\n",
      "\n",
      "\u001b[1m> Finished chain.\u001b[0m\n",
      "\n",
      "\u001b[1m> Finished chain.\u001b[0m\n"
     ]
    },
    {
     "data": {
      "text/plain": [
       "{'quotes': '\\n\"I\\'ve been picking fights all along!\" - Luffy\\n\"You are too from that generation.\" - Luffy\\n\"Are we friends? Or are we foes? That kind of thing you decide yourselves!\" - Luffy\\n“I don\\'t wanna conquer anything. It\\'s just that the person with the most freedom on the sea is the pirate king.” - Luffy\\n“If you don\\'t take risks you can\\'t create a future.” - Luffy\\n“Power isn\\'t determined by your size, but by the size of your heart and dreams.” - Luffy\\n“Being alone is more painful than getting hurt.” - Luffy\\n“It\\'s not about whether it\\'s impossible or not, I\\'m doing it because I want to.” - Luffy\\n\"Life is like a pencil that will surely run out, but will leave the beautiful writing of life.\" - Nami\\n\"Everyone\\'s weak when they hesitate.\" - Nami\\n\"Everyone is expecting help from you, but you come here and don\\'t think about doing anything to help those people?\" - Nami\\n“I\\'m the smartest member in the Straw Hat group.” - Nami\\n“If you think I\\'m just another cute girl, you\\'re dead wrong!” - Nami\\n“I\\'ll have mapped out the entire world!” - Nami\\n“Just one more time and everything will be the same. Everything will come back to me. And I will be free from Arlong. Bellemere-san. Finally, I can laugh with all my heart.” - Nami\\n',\n",
       " 'non_ai_person': 'Nami',\n",
       " 'simulated_scenario': '\\nYour best friend comes to you devasted by the loss of their dog. What would you say to them to cheer them up? \\nSpeak from a first person point of view\\n',\n",
       " 'people_facts': 'Luffy:\\n1. Luffy is a character who is not afraid of conflict, often initiating it himself.\\n2. He values freedom above all else, aspiring to be the pirate king, the person with the most freedom on the sea.\\n3. Luffy believes in the power of the heart and dreams, and is willing to take risks to create a future.\\n\\nNami:\\n1. Nami is a character who values life and sees it as a beautiful writing that will eventually run out.\\n2. She considers herself the smartest member of the Straw Hat group and has a goal to map out the entire world.\\n3. Nami is a strong and independent character, warning others not to underestimate her because she is a girl.',\n",
       " 'person_facts': '1. Nami is a character who values life and sees it as a beautiful writing that will eventually run out.\\n2. She considers herself the smartest member of the Straw Hat group and has a goal to map out the entire world.\\n3. Nami is a strong and independent character, warning others not to underestimate her because she is a girl.',\n",
       " 'gen_ai_situational_response': \"I'm really sorry to hear about your loss. I know how much you loved your dog. Remember, life is like a beautiful story, and just like every story, it has an end. Your dog's story was filled with love, joy, and companionship, and that's something to cherish. It's okay to feel sad, it's okay to grieve. But don't forget to celebrate the wonderful moments you shared together. Those memories are a part of your world map, and they will always be there. And remember, I'm here for you. Don't underestimate the power of friendship and shared sorrow. We'll get through this together.\"}"
      ]
     },
     "execution_count": 71,
     "metadata": {},
     "output_type": "execute_result"
    }
   ],
   "source": [
    "gen_ai_situational_response_chain = SequentialChain(\n",
    "    input_variables=[\"quotes\", \"non_ai_person\", \"simulated_scenario\"],\n",
    "    output_variables=[\"people_facts\", \"person_facts\", \"gen_ai_situational_response\"],\n",
    "    chains=[op_fact_personality_chain, personality_selection_chain, situation_response_chain],\n",
    "    verbose=True\n",
    ")\n",
    "\n",
    "simulated_scenario =\"\"\"\n",
    "Your best friend comes to you devasted by the loss of their dog. What would you say to them to cheer them up? \n",
    "Speak from a first person point of view\n",
    "\"\"\"\n",
    "\n",
    "gen_ai_situational_response = gen_ai_situational_response_chain({\n",
    "    \"quotes\":op_quotes, \n",
    "    \"non_ai_person\":\"Nami\",\n",
    "    \"simulated_scenario\": simulated_scenario\n",
    "    })"
   ]
  },
  {
   "cell_type": "code",
   "execution_count": 73,
   "metadata": {},
   "outputs": [
    {
     "name": "stdout",
     "output_type": "stream",
     "text": [
      "dict_keys(['quotes', 'non_ai_person', 'simulated_scenario', 'people_facts', 'person_facts', 'gen_ai_situational_response'])\n",
      "I'm really sorry to hear about your loss. I know how much you loved your dog. Remember, life is like a beautiful story, and just like every story, it has an end. Your dog's story was filled with love, joy, and companionship, and that's something to cherish. It's okay to feel sad, it's okay to grieve. But don't forget to celebrate the wonderful moments you shared together. Those memories are a part of your world map, and they will always be there. And remember, I'm here for you. Don't underestimate the power of friendship and shared sorrow. We'll get through this together.\n"
     ]
    }
   ],
   "source": [
    "print(gen_ai_situational_response.keys())\n",
    "print(gen_ai_situational_response[\"gen_ai_situational_response\"])"
   ]
  },
  {
   "cell_type": "markdown",
   "metadata": {},
   "source": [
    "The answer is beautifully written and you can see how it is reflective of what the character would say based on their traits. Pretty dope if you ask me."
   ]
  },
  {
   "cell_type": "markdown",
   "metadata": {},
   "source": [
    "### To summarize we developed the Gen AI Chain:\n",
    "\n",
    "Quotes from various authors -> Summarizing key facts making up an author's personality -> Select a list of traits from only one author -> Present the author with a simulated scenario -> Ask the Gen AI author (based on their traits) to respond to the simulated scenario -> Simulated Gen AI person response"
   ]
  },
  {
   "cell_type": "code",
   "execution_count": null,
   "metadata": {},
   "outputs": [],
   "source": []
  }
 ],
 "metadata": {
  "kernelspec": {
   "display_name": "open_ai",
   "language": "python",
   "name": "python3"
  },
  "language_info": {
   "codemirror_mode": {
    "name": "ipython",
    "version": 3
   },
   "file_extension": ".py",
   "mimetype": "text/x-python",
   "name": "python",
   "nbconvert_exporter": "python",
   "pygments_lexer": "ipython3",
   "version": "3.9.16"
  },
  "orig_nbformat": 4
 },
 "nbformat": 4,
 "nbformat_minor": 2
}
