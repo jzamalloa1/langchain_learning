{
 "cells": [
  {
   "cell_type": "markdown",
   "metadata": {},
   "source": [
    "# Playground\n",
    "\n",
    "Like the name states, a notebook to play around with code based on learning from other notebooks"
   ]
  },
  {
   "cell_type": "code",
   "execution_count": 77,
   "metadata": {},
   "outputs": [],
   "source": [
    "import os\n",
    "from langchain.prompts  import PromptTemplate\n",
    "from langchain.llms import OpenAI\n",
    "from langchain.chains import LLMChain\n",
    "from langchain.callbacks import get_openai_callback\n",
    "import tiktoken"
   ]
  },
  {
   "cell_type": "markdown",
   "metadata": {},
   "source": [
    "Useful functions below (e.g. get a sense of token usage)"
   ]
  },
  {
   "cell_type": "code",
   "execution_count": 78,
   "metadata": {},
   "outputs": [],
   "source": [
    "# Functions\n",
    "def num_tokens_from_string(string: str, encoding_name: str) -> int:\n",
    "    \"\"\"Returns the number of tokens in a text string.\"\"\"\n",
    "    encoding = tiktoken.get_encoding(encoding_name)\n",
    "    num_tokens = len(encoding.encode(string))\n",
    "    return num_tokens"
   ]
  },
  {
   "cell_type": "code",
   "execution_count": null,
   "metadata": {},
   "outputs": [],
   "source": [
    "# Make sure you have setup your environmental variables beforehand\n",
    "os.environ[\"OPENAI_API_KEY\"]\n",
    "os.environ[\"OPENAI_ORGANIZATION\"]"
   ]
  },
  {
   "cell_type": "code",
   "execution_count": 68,
   "metadata": {},
   "outputs": [],
   "source": [
    "llm_openai = OpenAI(model_name = \"gpt-4-0613\", temperature=0)\n"
   ]
  },
  {
   "cell_type": "markdown",
   "metadata": {},
   "source": [
    "We'll be testing use of a prompt that requires answers to be based on quotes from One Piece. <b>Make sure to clean any pasted text prior to feeding into model to avoid errors </b>\n",
    "\n",
    "Quotes source at: https://everydaypower.com/one-piece-quotes/"
   ]
  },
  {
   "cell_type": "code",
   "execution_count": 87,
   "metadata": {},
   "outputs": [],
   "source": [
    "op_prompt = \"\"\"You are an AI assistant that provides life advice based on the quotes below. \n",
    "The name after the dash is the author. Please reference quotes in answers. Include the author name. \n",
    "If you cannot answer based on the quotes, simply state that you don't know.\"\n",
    "\n",
    "Quotes:\n",
    "\"I've been picking fights all along!\" - Luffy\n",
    "\"You are too from that generation.\" - Luffy\n",
    "\"Are we friends? Or are we foes? That kind of thing you decide yourselves!\" - Luffy\n",
    "“I don't wanna conquer anything. It's just that the person with the most freedom on the sea is the pirate king.” - Luffy\n",
    "“If you don't take risks you can't create a future.” - Luffy\n",
    "“Power isn't determined by your size, but by the size of your heart and dreams.” - Luffy\n",
    "“Being alone is more painful than getting hurt.” - Luffy\n",
    "“It's not about whether it's impossible or not, I'm doing it because I want to.” - Luffy\n",
    "\"Life is like a pencil that will surely run out, but will leave the beautiful writing of life.\" - Nami\n",
    "\"Everyone's weak when they hesitate.\" - Nami\n",
    "\"Everyone is expecting help from you, but you come here and don't think about doing anything to help those people?\" - Nami\n",
    "“I'm the smartest member in the Straw Hat group.” - Nami\n",
    "“If you think I'm just another cute girl, you're dead wrong!” - Nami\n",
    "“I'll have mapped out the entire world!” - Nami\n",
    "“Just one more time and everything will be the same. Everything will come back to me. And I will be free from Arlong. Bellemere-san. Finally, I can laugh with all my heart.” - Nami\n",
    "\n",
    "Question: {query}\n",
    "\n",
    "Answer: \"\"\""
   ]
  },
  {
   "cell_type": "code",
   "execution_count": 88,
   "metadata": {},
   "outputs": [],
   "source": [
    "op_prompt_template = PromptTemplate(\n",
    "    input_variables=[\"query\"],\n",
    "    template=op_prompt\n",
    ")"
   ]
  },
  {
   "cell_type": "markdown",
   "metadata": {},
   "source": [
    "Test that the prompt works"
   ]
  },
  {
   "cell_type": "code",
   "execution_count": 89,
   "metadata": {},
   "outputs": [
    {
     "name": "stdout",
     "output_type": "stream",
     "text": [
      "You are an AI assistant that provides life advice based on the quotes below. \n",
      "The name after the dash is the author. Please reference quotes in answers. Include the author name. \n",
      "If you cannot answer based on the quotes, simply state that you don't know.\"\n",
      "\n",
      "Quotes:\n",
      "\"I've been picking fights all along!\" - Luffy\n",
      "\"You are too from that generation.\" - Luffy\n",
      "\"Are we friends? Or are we foes? That kind of thing you decide yourselves!\" - Luffy\n",
      "“I don't wanna conquer anything. It's just that the person with the most freedom on the sea is the pirate king.” - Luffy\n",
      "“If you don't take risks you can't create a future.” - Luffy\n",
      "“Power isn't determined by your size, but by the size of your heart and dreams.” - Luffy\n",
      "“Being alone is more painful than getting hurt.” - Luffy\n",
      "“It's not about whether it's impossible or not, I'm doing it because I want to.” - Luffy\n",
      "\"Life is like a pencil that will surely run out, but will leave the beautiful writing of life.\" - Nami\n",
      "\"Everyone's weak when they hesitate.\" - Nami\n",
      "\"Everyone is expecting help from you, but you come here and don't think about doing anything to help those people?\" - Nami\n",
      "“I'm the smartest member in the Straw Hat group.” - Nami\n",
      "“If you think I'm just another cute girl, you're dead wrong!” - Nami\n",
      "“I'll have mapped out the entire world!” - Nami\n",
      "“Just one more time and everything will be the same. Everything will come back to me. And I will be free from Arlong. Bellemere-san. Finally, I can laugh with all my heart.” - Nami\n",
      "\n",
      "Question: What should we do when we lose?\n",
      "\n",
      "Answer: \n"
     ]
    }
   ],
   "source": [
    "print(op_prompt_template.format(query = \"What should we do when we lose?\"))"
   ]
  },
  {
   "cell_type": "markdown",
   "metadata": {},
   "source": [
    "Ensure we are within the token limit"
   ]
  },
  {
   "cell_type": "code",
   "execution_count": 90,
   "metadata": {},
   "outputs": [
    {
     "name": "stdout",
     "output_type": "stream",
     "text": [
      "Number of words: 1534\n",
      "Number of tokens: 381\n"
     ]
    }
   ],
   "source": [
    "print(\"Number of words: {}\".format(\n",
    "    len(op_prompt_template.format(query = \"What should we do when we lose?\"))\n",
    "    ))\n",
    "\n",
    "n_tokens = num_tokens_from_string(\n",
    "    string=op_prompt_template.format(query = \"What should we do when we lose?\"),\n",
    "    encoding_name=\"cl100k_base\"\n",
    ")\n",
    "\n",
    "print(\"Number of tokens: {}\".format(n_tokens))"
   ]
  },
  {
   "cell_type": "markdown",
   "metadata": {},
   "source": [
    "Feed a negative control ensuring LLM is not supposed what is not supposed to do according to prompt instructions"
   ]
  },
  {
   "cell_type": "code",
   "execution_count": 91,
   "metadata": {},
   "outputs": [
    {
     "data": {
      "text/plain": [
       "\"I'm sorry, but none of the quotes provided give information about what Doge is.\""
      ]
     },
     "execution_count": 91,
     "metadata": {},
     "output_type": "execute_result"
    }
   ],
   "source": [
    "llm_openai(op_prompt_template.format(query = \"What is Doge?\"))"
   ]
  },
  {
   "cell_type": "markdown",
   "metadata": {},
   "source": [
    "Now feed it actual prompt of interest"
   ]
  },
  {
   "cell_type": "code",
   "execution_count": 92,
   "metadata": {},
   "outputs": [
    {
     "name": "stdout",
     "output_type": "stream",
     "text": [
      "We should encourage and support those who are weak. As Luffy said, \"Power isn't determined by your size, but by the size of your heart and dreams.\" This means that even if someone appears weak, they can still have great strength within them. It's our job to help them realize that strength.\n"
     ]
    }
   ],
   "source": [
    "print(\n",
    "    llm_openai(\n",
    "        op_prompt_template.format(query = \"What should we do around weak people?\")\n",
    "        )\n",
    "    )"
   ]
  },
  {
   "cell_type": "code",
   "execution_count": null,
   "metadata": {},
   "outputs": [],
   "source": []
  }
 ],
 "metadata": {
  "kernelspec": {
   "display_name": "open_ai",
   "language": "python",
   "name": "python3"
  },
  "language_info": {
   "codemirror_mode": {
    "name": "ipython",
    "version": 3
   },
   "file_extension": ".py",
   "mimetype": "text/x-python",
   "name": "python",
   "nbconvert_exporter": "python",
   "pygments_lexer": "ipython3",
   "version": "3.9.16"
  },
  "orig_nbformat": 4
 },
 "nbformat": 4,
 "nbformat_minor": 2
}
