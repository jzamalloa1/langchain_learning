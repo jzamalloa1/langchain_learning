{
 "cells": [
  {
   "cell_type": "markdown",
   "metadata": {},
   "source": [
    "# LangChain Agent Conversation and Memory\n",
    "\n",
    "Inspiration taken from https://www.youtube.com/watch?v=X550Zbz_ROE\n",
    "\n",
    "This is important to consider because amount of tokens is not limitless meaning that we need to be wise about the way we store context during an conversation with the LLM"
   ]
  },
  {
   "cell_type": "code",
   "execution_count": 5,
   "metadata": {},
   "outputs": [],
   "source": [
    "import os\n",
    "from langchain.prompts  import PromptTemplate\n",
    "from langchain.llms import OpenAI\n",
    "from langchain.chains import LLMChain, ConversationChain\n",
    "from langchain.chains.conversation.memory import ConversationBufferMemory"
   ]
  },
  {
   "cell_type": "code",
   "execution_count": null,
   "metadata": {},
   "outputs": [],
   "source": [
    "# Make sure you have setup your environmental variables beforehand\n",
    "os.environ[\"OPENAI_API_KEY\"]\n",
    "os.environ[\"OPENAI_ORGANIZATION\"]"
   ]
  },
  {
   "cell_type": "markdown",
   "metadata": {},
   "source": [
    "Initiate model as usual"
   ]
  },
  {
   "cell_type": "code",
   "execution_count": 6,
   "metadata": {},
   "outputs": [
    {
     "name": "stderr",
     "output_type": "stream",
     "text": [
      "/opt/homebrew/Caskroom/miniforge/base/envs/open_ai/lib/python3.9/site-packages/langchain/llms/openai.py:200: UserWarning: You are trying to use a chat model. This way of initializing it is no longer supported. Instead, please use: `from langchain.chat_models import ChatOpenAI`\n",
      "  warnings.warn(\n",
      "/opt/homebrew/Caskroom/miniforge/base/envs/open_ai/lib/python3.9/site-packages/langchain/llms/openai.py:785: UserWarning: You are trying to use a chat model. This way of initializing it is no longer supported. Instead, please use: `from langchain.chat_models import ChatOpenAI`\n",
      "  warnings.warn(\n"
     ]
    }
   ],
   "source": [
    "llm_openai = OpenAI(model_name=\"gpt-4-0613\", temperature=0, max_tokens=512)"
   ]
  },
  {
   "cell_type": "markdown",
   "metadata": {},
   "source": [
    "### Look at first ConversationBufferMemory for simpler tasks"
   ]
  },
  {
   "cell_type": "markdown",
   "metadata": {},
   "source": [
    "Instiate memory where log will be stored. This will be track what user & AI exchange, and stack that into prompt"
   ]
  },
  {
   "cell_type": "code",
   "execution_count": 7,
   "metadata": {},
   "outputs": [],
   "source": [
    "ai_memory = ConversationBufferMemory()"
   ]
  },
  {
   "cell_type": "markdown",
   "metadata": {},
   "source": [
    "Start conversational chain. This like LLMChain, can also include a prompt (let's test that in the Playground notebooks)"
   ]
  },
  {
   "cell_type": "code",
   "execution_count": 8,
   "metadata": {},
   "outputs": [],
   "source": [
    "conversation_chain = ConversationChain(\n",
    "    llm=llm_openai,\n",
    "    memory=ai_memory,\n",
    "    verbose=True\n",
    ")"
   ]
  },
  {
   "cell_type": "code",
   "execution_count": 10,
   "metadata": {},
   "outputs": [
    {
     "name": "stdout",
     "output_type": "stream",
     "text": [
      "\n",
      "\n",
      "\u001b[1m> Entering new ConversationChain chain...\u001b[0m\n",
      "Prompt after formatting:\n",
      "\u001b[32;1m\u001b[1;3mThe following is a friendly conversation between a human and an AI. The AI is talkative and provides lots of specific details from its context. If the AI does not know the answer to a question, it truthfully says it does not know.\n",
      "\n",
      "Current conversation:\n",
      "\n",
      "Human: Hi, I'm El Brian\n",
      "AI:\u001b[0m\n",
      "\n",
      "\u001b[1m> Finished chain.\u001b[0m\n"
     ]
    },
    {
     "data": {
      "text/plain": [
       "\"Hello El Brian! It's a pleasure to meet you. I'm an AI developed to assist with information and tasks. How can I help you today?\""
      ]
     },
     "execution_count": 10,
     "metadata": {},
     "output_type": "execute_result"
    }
   ],
   "source": [
    "conversation_chain.predict(input=\"Hi, I'm El Brian\")"
   ]
  },
  {
   "cell_type": "markdown",
   "metadata": {},
   "source": [
    "Notice how it keeps track of the conversation even as new queries are requested"
   ]
  },
  {
   "cell_type": "code",
   "execution_count": 20,
   "metadata": {},
   "outputs": [
    {
     "name": "stdout",
     "output_type": "stream",
     "text": [
      "\n",
      "\n",
      "\u001b[1m> Entering new ConversationChain chain...\u001b[0m\n",
      "Prompt after formatting:\n",
      "\u001b[32;1m\u001b[1;3mThe following is a friendly conversation between a human and an AI. The AI is talkative and provides lots of specific details from its context. If the AI does not know the answer to a question, it truthfully says it does not know.\n",
      "\n",
      "Current conversation:\n",
      "Human: Hi, I'm El Brian\n",
      "AI: Hello El Brian! It's a pleasure to meet you. I'm an AI developed to assist with information and tasks. How can I help you today?\n",
      "Human: how is your afternoon so far?\n",
      "AI:\u001b[0m\n",
      "\n",
      "\u001b[1m> Finished chain.\u001b[0m\n"
     ]
    },
    {
     "data": {
      "text/plain": [
       "\"As an artificial intelligence, I don't experience time or have personal feelings. But thank you for asking! How can I assist you further?\""
      ]
     },
     "execution_count": 20,
     "metadata": {},
     "output_type": "execute_result"
    }
   ],
   "source": [
    "conversation_chain.predict(input=\"how is your afternoon so far?\")"
   ]
  },
  {
   "cell_type": "markdown",
   "metadata": {},
   "source": [
    "Notice below the memory object where AI/User exchange is logged"
   ]
  },
  {
   "cell_type": "code",
   "execution_count": 22,
   "metadata": {},
   "outputs": [
    {
     "name": "stdout",
     "output_type": "stream",
     "text": [
      "[HumanMessage(content=\"Hi, I'm El Brian\", additional_kwargs={}, example=False), AIMessage(content=\"Hello El Brian! It's a pleasure to meet you. I'm an AI developed to assist with information and tasks. How can I help you today?\", additional_kwargs={}, example=False), HumanMessage(content='how is your afternoon so far?', additional_kwargs={}, example=False), AIMessage(content=\"As an artificial intelligence, I don't experience time or have personal feelings. But thank you for asking! How can I assist you further?\", additional_kwargs={}, example=False)]\n"
     ]
    }
   ],
   "source": [
    "print(ai_memory.chat_memory.messages)"
   ]
  },
  {
   "cell_type": "markdown",
   "metadata": {},
   "source": [
    "This is also stored in the actual Conversation Chain object"
   ]
  },
  {
   "cell_type": "code",
   "execution_count": 23,
   "metadata": {},
   "outputs": [
    {
     "name": "stdout",
     "output_type": "stream",
     "text": [
      "Human: Hi, I'm El Brian\n",
      "AI: Hello El Brian! It's a pleasure to meet you. I'm an AI developed to assist with information and tasks. How can I help you today?\n",
      "Human: how is your afternoon so far?\n",
      "AI: As an artificial intelligence, I don't experience time or have personal feelings. But thank you for asking! How can I assist you further?\n"
     ]
    }
   ],
   "source": [
    "print(conversation_chain.memory.buffer)"
   ]
  },
  {
   "cell_type": "markdown",
   "metadata": {},
   "source": [
    "The above type of memory (ConversationBufferMemory) works well where limited exchanges are expected (~5). Let's look at longer memory types below"
   ]
  },
  {
   "cell_type": "markdown",
   "metadata": {},
   "source": [
    "### Let's explore ConversationSummaryMemory for some more exchange intensives scenarios"
   ]
  },
  {
   "cell_type": "code",
   "execution_count": 24,
   "metadata": {},
   "outputs": [],
   "source": [
    "from langchain.memory import ConversationSummaryMemory"
   ]
  },
  {
   "cell_type": "markdown",
   "metadata": {},
   "source": [
    "Notice how this initiation of conversation memory does require the llm input (unlike ConversationMemory above)\n",
    "\n",
    "<u>Why the difference?</u> Because it uses an additional LLM to summarise the log, besides the LLM use for the  (Test multi-LLM usage in Playground)"
   ]
  },
  {
   "cell_type": "code",
   "execution_count": 26,
   "metadata": {},
   "outputs": [],
   "source": [
    "ai_summary_memory = ConversationSummaryMemory(llm=llm_openai)"
   ]
  },
  {
   "cell_type": "code",
   "execution_count": 28,
   "metadata": {},
   "outputs": [],
   "source": [
    "conversation_chain = ConversationChain(\n",
    "    llm=llm_openai,\n",
    "    memory=ai_summary_memory,\n",
    "    verbose=True\n",
    ")"
   ]
  },
  {
   "cell_type": "code",
   "execution_count": 29,
   "metadata": {},
   "outputs": [
    {
     "name": "stdout",
     "output_type": "stream",
     "text": [
      "\n",
      "\n",
      "\u001b[1m> Entering new ConversationChain chain...\u001b[0m\n",
      "Prompt after formatting:\n",
      "\u001b[32;1m\u001b[1;3mThe following is a friendly conversation between a human and an AI. The AI is talkative and provides lots of specific details from its context. If the AI does not know the answer to a question, it truthfully says it does not know.\n",
      "\n",
      "Current conversation:\n",
      "\n",
      "Human: Hi, I'm El Brian\n",
      "AI:\u001b[0m\n",
      "\n",
      "\u001b[1m> Finished chain.\u001b[0m\n"
     ]
    },
    {
     "data": {
      "text/plain": [
       "\"Hello El Brian! It's a pleasure to meet you. I'm an AI developed to assist with information and answer any questions you might have. How can I assist you today?\""
      ]
     },
     "execution_count": 29,
     "metadata": {},
     "output_type": "execute_result"
    }
   ],
   "source": [
    "conversation_chain.predict(input=\"Hi, I'm El Brian\")"
   ]
  },
  {
   "cell_type": "markdown",
   "metadata": {},
   "source": [
    "Notice the key summary difference now"
   ]
  },
  {
   "cell_type": "code",
   "execution_count": 30,
   "metadata": {},
   "outputs": [
    {
     "name": "stdout",
     "output_type": "stream",
     "text": [
      "\n",
      "\n",
      "\u001b[1m> Entering new ConversationChain chain...\u001b[0m\n",
      "Prompt after formatting:\n",
      "\u001b[32;1m\u001b[1;3mThe following is a friendly conversation between a human and an AI. The AI is talkative and provides lots of specific details from its context. If the AI does not know the answer to a question, it truthfully says it does not know.\n",
      "\n",
      "Current conversation:\n",
      "The human, El Brian, introduces himself to the AI. The AI responds by introducing itself as an assistant developed to provide information and answer questions. It then asks El Brian how it can assist him.\n",
      "Human: How are you doing this evening?\n",
      "AI:\u001b[0m\n",
      "\n",
      "\u001b[1m> Finished chain.\u001b[0m\n"
     ]
    },
    {
     "data": {
      "text/plain": [
       "\"As an artificial intelligence, I don't have feelings or personal experiences, but I'm here and ready to assist you. How can I help you this evening?\""
      ]
     },
     "execution_count": 30,
     "metadata": {},
     "output_type": "execute_result"
    }
   ],
   "source": [
    "conversation_chain.predict(input=\"How are you doing this evening?\")"
   ]
  },
  {
   "cell_type": "markdown",
   "metadata": {},
   "source": [
    "They AI summarizes the prior conversation, rather than logging the entire conversation"
   ]
  },
  {
   "cell_type": "code",
   "execution_count": 33,
   "metadata": {},
   "outputs": [
    {
     "name": "stdout",
     "output_type": "stream",
     "text": [
      "El Brian introduces himself to the AI, which identifies itself as an assistant designed to provide information and answer questions. When El Brian asks how the AI is doing, it explains that as an AI, it doesn't have feelings or personal experiences, but is ready to assist. It then reiterates its readiness to help El Brian.\n"
     ]
    }
   ],
   "source": [
    "print(conversation_chain.memory.buffer)"
   ]
  },
  {
   "cell_type": "markdown",
   "metadata": {},
   "source": [
    "Notice however in the example that at first we are using more tokens. Let's add more to the log to keep seeing how summarization works"
   ]
  },
  {
   "cell_type": "code",
   "execution_count": 34,
   "metadata": {},
   "outputs": [
    {
     "name": "stderr",
     "output_type": "stream",
     "text": [
      "Retrying langchain.llms.openai.completion_with_retry.<locals>._completion_with_retry in 4.0 seconds as it raised APIConnectionError: Error communicating with OpenAI: ('Connection aborted.', ConnectionResetError(54, 'Connection reset by peer')).\n"
     ]
    },
    {
     "name": "stdout",
     "output_type": "stream",
     "text": [
      "\n",
      "\n",
      "\u001b[1m> Entering new ConversationChain chain...\u001b[0m\n",
      "Prompt after formatting:\n",
      "\u001b[32;1m\u001b[1;3mThe following is a friendly conversation between a human and an AI. The AI is talkative and provides lots of specific details from its context. If the AI does not know the answer to a question, it truthfully says it does not know.\n",
      "\n",
      "Current conversation:\n",
      "El Brian introduces himself to the AI, which identifies itself as an assistant designed to provide information and answer questions. When El Brian asks how the AI is doing, it explains that as an AI, it doesn't have feelings or personal experiences, but is ready to assist. It then reiterates its readiness to help El Brian.\n",
      "Human: Can you help me with identifying the best country to visit in the summer?\n",
      "AI:\u001b[0m\n",
      "\n",
      "\u001b[1m> Finished chain.\u001b[0m\n"
     ]
    },
    {
     "data": {
      "text/plain": [
       "'Of course, I\\'d be happy to help with that! However, the \"best\" country to visit in the summer can depend on a variety of factors, such as your personal interests, budget, and tolerance for heat. \\n\\nIf you\\'re a fan of mild weather, you might consider visiting Iceland. The average temperature in the summer is around 10-13 degrees Celsius (50-55 degrees Fahrenheit), and the country is known for its stunning natural beauty, including waterfalls, geysers, and hot springs.\\n\\nIf you\\'re interested in history and culture, Italy could be a great choice. Summer is a popular time to visit cities like Rome, Florence, and Venice, where you can see famous landmarks like the Colosseum, the Uffizi Gallery, and the Grand Canal.\\n\\nFor beach lovers, the Maldives offers beautiful white sand beaches and clear, warm waters. The country is also known for its luxury resorts, many of which are located on their own private islands.\\n\\nIf you\\'re a foodie, you might consider visiting Japan. The country is known for its culinary scene, and summer is a great time to try traditional dishes like somen (cold noodles) and kakigori (shaved ice).\\n\\nOf course, these are just a few examples. If you could provide more information about what you\\'re looking for in a summer vacation, I could give a more tailored recommendation.'"
      ]
     },
     "execution_count": 34,
     "metadata": {},
     "output_type": "execute_result"
    }
   ],
   "source": [
    "conversation_chain.predict(input=\"Can you help me with identifying the best country to visit in the summer?\")"
   ]
  },
  {
   "cell_type": "code",
   "execution_count": 35,
   "metadata": {},
   "outputs": [
    {
     "name": "stdout",
     "output_type": "stream",
     "text": [
      "El Brian introduces himself to the AI, which identifies itself as an assistant designed to provide information and answer questions. When El Brian asks how the AI is doing, it explains that as an AI, it doesn't have feelings or personal experiences, but is ready to assist. El Brian then asks the AI to help identify the best country to visit in the summer. The AI responds that the \"best\" country can depend on various factors like personal interests, budget, and heat tolerance. It suggests Iceland for mild weather and natural beauty, Italy for history and culture, the Maldives for beaches and luxury resorts, and Japan for food lovers. The AI also offers to provide a more tailored recommendation if given more information about El Brian's preferences for a summer vacation.\n"
     ]
    }
   ],
   "source": [
    "print(conversation_chain.memory.buffer)"
   ]
  },
  {
   "cell_type": "markdown",
   "metadata": {},
   "source": [
    "The above is a nice option to store memory in summary so that the 'important' context is maximized in memory (tokens). Let's look at an alternate version of the memory where we store memory (tokens) based on a pre-defined token window"
   ]
  },
  {
   "cell_type": "markdown",
   "metadata": {},
   "source": [
    "### Let's explore ConversationBufferWindowMemory to test this pre-defined token-windowed approach"
   ]
  },
  {
   "cell_type": "code",
   "execution_count": 36,
   "metadata": {},
   "outputs": [],
   "source": [
    "from langchain.memory import ConversationBufferWindowMemory"
   ]
  },
  {
   "cell_type": "markdown",
   "metadata": {},
   "source": [
    "The conversation buffer window memory function sets the last number of interactions we want to keep. We are using 2 as an example below"
   ]
  },
  {
   "cell_type": "code",
   "execution_count": 37,
   "metadata": {},
   "outputs": [],
   "source": [
    "window_memory = ConversationBufferWindowMemory(k=2)"
   ]
  },
  {
   "cell_type": "markdown",
   "metadata": {},
   "source": [
    "We pass it to the conversation chain memory argument (as before)"
   ]
  },
  {
   "cell_type": "code",
   "execution_count": 38,
   "metadata": {},
   "outputs": [],
   "source": [
    "conversation_chain = ConversationChain(\n",
    "    llm=llm_openai,\n",
    "    memory=window_memory,\n",
    "    verbose=True\n",
    ")"
   ]
  },
  {
   "cell_type": "code",
   "execution_count": 39,
   "metadata": {},
   "outputs": [
    {
     "name": "stderr",
     "output_type": "stream",
     "text": [
      "Retrying langchain.llms.openai.completion_with_retry.<locals>._completion_with_retry in 4.0 seconds as it raised APIConnectionError: Error communicating with OpenAI: ('Connection aborted.', ConnectionResetError(54, 'Connection reset by peer')).\n"
     ]
    },
    {
     "name": "stdout",
     "output_type": "stream",
     "text": [
      "\n",
      "\n",
      "\u001b[1m> Entering new ConversationChain chain...\u001b[0m\n",
      "Prompt after formatting:\n",
      "\u001b[32;1m\u001b[1;3mThe following is a friendly conversation between a human and an AI. The AI is talkative and provides lots of specific details from its context. If the AI does not know the answer to a question, it truthfully says it does not know.\n",
      "\n",
      "Current conversation:\n",
      "\n",
      "Human: I'm looking for travel support\n",
      "AI:\u001b[0m\n",
      "\n",
      "\u001b[1m> Finished chain.\u001b[0m\n"
     ]
    },
    {
     "data": {
      "text/plain": [
       "\"Sure, I'd be happy to help you with that. When it comes to travel support, there are several areas I can assist with. \\n\\n1. Destination Research: I can provide information about various destinations, including popular tourist spots, local cuisine, culture, and more.\\n\\n2. Flight and Accommodation: I can help you find the best deals on flights and accommodations based on your preferences and budget.\\n\\n3. Itinerary Planning: I can suggest an itinerary based on your interests and the duration of your stay.\\n\\n4. Travel Tips: I can provide tips on packing, local customs, currency exchange, and more.\\n\\n5. Emergency Support: I can provide information on what to do in case of emergencies, including local emergency numbers, nearest hospitals, etc.\\n\\nPlease let me know which area you need help with, or if there's something specific you're looking for.\""
      ]
     },
     "execution_count": 39,
     "metadata": {},
     "output_type": "execute_result"
    }
   ],
   "source": [
    "conversation_chain.predict(input=\"I'm looking for travel support\")"
   ]
  },
  {
   "cell_type": "code",
   "execution_count": 40,
   "metadata": {},
   "outputs": [
    {
     "name": "stdout",
     "output_type": "stream",
     "text": [
      "\n",
      "\n",
      "\u001b[1m> Entering new ConversationChain chain...\u001b[0m\n",
      "Prompt after formatting:\n",
      "\u001b[32;1m\u001b[1;3mThe following is a friendly conversation between a human and an AI. The AI is talkative and provides lots of specific details from its context. If the AI does not know the answer to a question, it truthfully says it does not know.\n",
      "\n",
      "Current conversation:\n",
      "Human: I'm looking for travel support\n",
      "AI: Sure, I'd be happy to help you with that. When it comes to travel support, there are several areas I can assist with. \n",
      "\n",
      "1. Destination Research: I can provide information about various destinations, including popular tourist spots, local cuisine, culture, and more.\n",
      "\n",
      "2. Flight and Accommodation: I can help you find the best deals on flights and accommodations based on your preferences and budget.\n",
      "\n",
      "3. Itinerary Planning: I can suggest an itinerary based on your interests and the duration of your stay.\n",
      "\n",
      "4. Travel Tips: I can provide tips on packing, local customs, currency exchange, and more.\n",
      "\n",
      "5. Emergency Support: I can provide information on what to do in case of emergencies, including local emergency numbers, nearest hospitals, etc.\n",
      "\n",
      "Please let me know which area you need help with, or if there's something specific you're looking for.\n",
      "Human: I would like suggestions for the best places to travel in the US with a low budget\n",
      "AI:\u001b[0m\n",
      "\n",
      "\u001b[1m> Finished chain.\u001b[0m\n"
     ]
    },
    {
     "data": {
      "text/plain": [
       "\"Absolutely, I'd be happy to provide some suggestions. Traveling on a budget in the US is definitely possible, and there are many beautiful and affordable destinations to choose from. Here are a few:\\n\\n1. **Yellowstone National Park, Wyoming**: This is one of the most famous national parks in the US. You can camp, hike, and enjoy the natural beauty. The entrance fee is relatively low, and camping can be a cost-effective accommodation option.\\n\\n2. **Austin, Texas**: Known for its vibrant music scene and delicious food, Austin can be a great destination for budget travelers. There are many free or low-cost attractions like Zilker Park and the State Capitol.\\n\\n3. **Savannah, Georgia**: This charming southern city offers beautiful parks, historic architecture, and delicious food. Many of the city's attractions are free or low-cost.\\n\\n4. **Portland, Oregon**: Known for its food trucks, microbreweries, and beautiful parks, Portland can be a great destination for budget travelers. The city also has a good public transportation system which can save you on transportation costs.\\n\\n5. **Grand Canyon, Arizona**: One of the seven natural wonders of the world, the Grand Canyon offers breathtaking views. Entrance fees are reasonable, and there are many free activities like hiking.\\n\\n6. **Washington, D.C.**: The capital of the US has many free attractions, including the Smithsonian museums and the National Zoo. \\n\\nRemember, one of the best ways to save money when traveling is to plan ahead. Look for deals on accommodations and flights, consider visiting in the off-peak season, and try to prepare some of your own meals.\""
      ]
     },
     "execution_count": 40,
     "metadata": {},
     "output_type": "execute_result"
    }
   ],
   "source": [
    "conversation_chain.predict(input=\"I would like suggestions for the best places to travel in the US with a low budget\")"
   ]
  },
  {
   "cell_type": "markdown",
   "metadata": {},
   "source": [
    "Notice that as before (non-summary chain) we have our two past outputs"
   ]
  },
  {
   "cell_type": "code",
   "execution_count": 41,
   "metadata": {},
   "outputs": [
    {
     "name": "stdout",
     "output_type": "stream",
     "text": [
      "Human: I'm looking for travel support\n",
      "AI: Sure, I'd be happy to help you with that. When it comes to travel support, there are several areas I can assist with. \n",
      "\n",
      "1. Destination Research: I can provide information about various destinations, including popular tourist spots, local cuisine, culture, and more.\n",
      "\n",
      "2. Flight and Accommodation: I can help you find the best deals on flights and accommodations based on your preferences and budget.\n",
      "\n",
      "3. Itinerary Planning: I can suggest an itinerary based on your interests and the duration of your stay.\n",
      "\n",
      "4. Travel Tips: I can provide tips on packing, local customs, currency exchange, and more.\n",
      "\n",
      "5. Emergency Support: I can provide information on what to do in case of emergencies, including local emergency numbers, nearest hospitals, etc.\n",
      "\n",
      "Please let me know which area you need help with, or if there's something specific you're looking for.\n",
      "Human: I would like suggestions for the best places to travel in the US with a low budget\n",
      "AI: Absolutely, I'd be happy to provide some suggestions. Traveling on a budget in the US is definitely possible, and there are many beautiful and affordable destinations to choose from. Here are a few:\n",
      "\n",
      "1. **Yellowstone National Park, Wyoming**: This is one of the most famous national parks in the US. You can camp, hike, and enjoy the natural beauty. The entrance fee is relatively low, and camping can be a cost-effective accommodation option.\n",
      "\n",
      "2. **Austin, Texas**: Known for its vibrant music scene and delicious food, Austin can be a great destination for budget travelers. There are many free or low-cost attractions like Zilker Park and the State Capitol.\n",
      "\n",
      "3. **Savannah, Georgia**: This charming southern city offers beautiful parks, historic architecture, and delicious food. Many of the city's attractions are free or low-cost.\n",
      "\n",
      "4. **Portland, Oregon**: Known for its food trucks, microbreweries, and beautiful parks, Portland can be a great destination for budget travelers. The city also has a good public transportation system which can save you on transportation costs.\n",
      "\n",
      "5. **Grand Canyon, Arizona**: One of the seven natural wonders of the world, the Grand Canyon offers breathtaking views. Entrance fees are reasonable, and there are many free activities like hiking.\n",
      "\n",
      "6. **Washington, D.C.**: The capital of the US has many free attractions, including the Smithsonian museums and the National Zoo. \n",
      "\n",
      "Remember, one of the best ways to save money when traveling is to plan ahead. Look for deals on accommodations and flights, consider visiting in the off-peak season, and try to prepare some of your own meals.\n"
     ]
    }
   ],
   "source": [
    "print(conversation_chain.memory.buffer)"
   ]
  },
  {
   "cell_type": "code",
   "execution_count": 42,
   "metadata": {},
   "outputs": [
    {
     "name": "stdout",
     "output_type": "stream",
     "text": [
      "\n",
      "\n",
      "\u001b[1m> Entering new ConversationChain chain...\u001b[0m\n",
      "Prompt after formatting:\n",
      "\u001b[32;1m\u001b[1;3mThe following is a friendly conversation between a human and an AI. The AI is talkative and provides lots of specific details from its context. If the AI does not know the answer to a question, it truthfully says it does not know.\n",
      "\n",
      "Current conversation:\n",
      "Human: I'm looking for travel support\n",
      "AI: Sure, I'd be happy to help you with that. When it comes to travel support, there are several areas I can assist with. \n",
      "\n",
      "1. Destination Research: I can provide information about various destinations, including popular tourist spots, local cuisine, culture, and more.\n",
      "\n",
      "2. Flight and Accommodation: I can help you find the best deals on flights and accommodations based on your preferences and budget.\n",
      "\n",
      "3. Itinerary Planning: I can suggest an itinerary based on your interests and the duration of your stay.\n",
      "\n",
      "4. Travel Tips: I can provide tips on packing, local customs, currency exchange, and more.\n",
      "\n",
      "5. Emergency Support: I can provide information on what to do in case of emergencies, including local emergency numbers, nearest hospitals, etc.\n",
      "\n",
      "Please let me know which area you need help with, or if there's something specific you're looking for.\n",
      "Human: I would like suggestions for the best places to travel in the US with a low budget\n",
      "AI: Absolutely, I'd be happy to provide some suggestions. Traveling on a budget in the US is definitely possible, and there are many beautiful and affordable destinations to choose from. Here are a few:\n",
      "\n",
      "1. **Yellowstone National Park, Wyoming**: This is one of the most famous national parks in the US. You can camp, hike, and enjoy the natural beauty. The entrance fee is relatively low, and camping can be a cost-effective accommodation option.\n",
      "\n",
      "2. **Austin, Texas**: Known for its vibrant music scene and delicious food, Austin can be a great destination for budget travelers. There are many free or low-cost attractions like Zilker Park and the State Capitol.\n",
      "\n",
      "3. **Savannah, Georgia**: This charming southern city offers beautiful parks, historic architecture, and delicious food. Many of the city's attractions are free or low-cost.\n",
      "\n",
      "4. **Portland, Oregon**: Known for its food trucks, microbreweries, and beautiful parks, Portland can be a great destination for budget travelers. The city also has a good public transportation system which can save you on transportation costs.\n",
      "\n",
      "5. **Grand Canyon, Arizona**: One of the seven natural wonders of the world, the Grand Canyon offers breathtaking views. Entrance fees are reasonable, and there are many free activities like hiking.\n",
      "\n",
      "6. **Washington, D.C.**: The capital of the US has many free attractions, including the Smithsonian museums and the National Zoo. \n",
      "\n",
      "Remember, one of the best ways to save money when traveling is to plan ahead. Look for deals on accommodations and flights, consider visiting in the off-peak season, and try to prepare some of your own meals.\n",
      "Human: Where should I stay in Austin Texas?\n",
      "AI:\u001b[0m\n",
      "\n",
      "\u001b[1m> Finished chain.\u001b[0m\n"
     ]
    },
    {
     "data": {
      "text/plain": [
       "\"Austin, Texas, has a variety of neighborhoods that cater to different interests and budgets. Here are a few suggestions:\\n\\n1. **Downtown Austin**: This is the heart of the city, where you'll find a lot of the action. It's home to many of Austin's famous music venues, restaurants, and bars. There are a variety of hotels here, ranging from luxury to budget.\\n\\n2. **East Austin**: This is a trendy, up-and-coming area with a lot of character. It's known for its food scene, with many food trucks and unique restaurants. There are a variety of accommodation options here, including boutique hotels and budget-friendly hostels.\\n\\n3. **South Congress (SoCo)**: This area is known for its shopping, dining, and entertainment. It's a great place to stay if you want to experience Austin's quirky side. Accommodations here range from stylish boutique hotels to more affordable motels.\\n\\n4. **The University of Texas area**: If you're looking for a more budget-friendly area, the vicinity around the University of Texas might be a good option. There are several budget hotels and guesthouses here.\\n\\n5. **Rainey Street**: This area is known for its historic homes turned into bars and restaurants. It's a fun and lively place to stay, with a mix of luxury and mid-range accommodations.\\n\\nRemember to book in advance, especially if you're traveling during popular events like South by Southwest or Austin City Limits.\""
      ]
     },
     "execution_count": 42,
     "metadata": {},
     "output_type": "execute_result"
    }
   ],
   "source": [
    "conversation_chain.predict(input=\"Where should I stay in Austin Texas?\")"
   ]
  },
  {
   "cell_type": "markdown",
   "metadata": {},
   "source": [
    "Notice now that it has lost the first interaction. <u>This is what window memory buffer does</u>, it allows the user to manually set how many windows of memory to keep, therefore reducing the amount of tokens required at the end"
   ]
  },
  {
   "cell_type": "code",
   "execution_count": 43,
   "metadata": {},
   "outputs": [
    {
     "name": "stdout",
     "output_type": "stream",
     "text": [
      "Human: I would like suggestions for the best places to travel in the US with a low budget\n",
      "AI: Absolutely, I'd be happy to provide some suggestions. Traveling on a budget in the US is definitely possible, and there are many beautiful and affordable destinations to choose from. Here are a few:\n",
      "\n",
      "1. **Yellowstone National Park, Wyoming**: This is one of the most famous national parks in the US. You can camp, hike, and enjoy the natural beauty. The entrance fee is relatively low, and camping can be a cost-effective accommodation option.\n",
      "\n",
      "2. **Austin, Texas**: Known for its vibrant music scene and delicious food, Austin can be a great destination for budget travelers. There are many free or low-cost attractions like Zilker Park and the State Capitol.\n",
      "\n",
      "3. **Savannah, Georgia**: This charming southern city offers beautiful parks, historic architecture, and delicious food. Many of the city's attractions are free or low-cost.\n",
      "\n",
      "4. **Portland, Oregon**: Known for its food trucks, microbreweries, and beautiful parks, Portland can be a great destination for budget travelers. The city also has a good public transportation system which can save you on transportation costs.\n",
      "\n",
      "5. **Grand Canyon, Arizona**: One of the seven natural wonders of the world, the Grand Canyon offers breathtaking views. Entrance fees are reasonable, and there are many free activities like hiking.\n",
      "\n",
      "6. **Washington, D.C.**: The capital of the US has many free attractions, including the Smithsonian museums and the National Zoo. \n",
      "\n",
      "Remember, one of the best ways to save money when traveling is to plan ahead. Look for deals on accommodations and flights, consider visiting in the off-peak season, and try to prepare some of your own meals.\n",
      "Human: Where should I stay in Austin Texas?\n",
      "AI: Austin, Texas, has a variety of neighborhoods that cater to different interests and budgets. Here are a few suggestions:\n",
      "\n",
      "1. **Downtown Austin**: This is the heart of the city, where you'll find a lot of the action. It's home to many of Austin's famous music venues, restaurants, and bars. There are a variety of hotels here, ranging from luxury to budget.\n",
      "\n",
      "2. **East Austin**: This is a trendy, up-and-coming area with a lot of character. It's known for its food scene, with many food trucks and unique restaurants. There are a variety of accommodation options here, including boutique hotels and budget-friendly hostels.\n",
      "\n",
      "3. **South Congress (SoCo)**: This area is known for its shopping, dining, and entertainment. It's a great place to stay if you want to experience Austin's quirky side. Accommodations here range from stylish boutique hotels to more affordable motels.\n",
      "\n",
      "4. **The University of Texas area**: If you're looking for a more budget-friendly area, the vicinity around the University of Texas might be a good option. There are several budget hotels and guesthouses here.\n",
      "\n",
      "5. **Rainey Street**: This area is known for its historic homes turned into bars and restaurants. It's a fun and lively place to stay, with a mix of luxury and mid-range accommodations.\n",
      "\n",
      "Remember to book in advance, especially if you're traveling during popular events like South by Southwest or Austin City Limits.\n"
     ]
    }
   ],
   "source": [
    "print(conversation_chain.memory.buffer)"
   ]
  },
  {
   "cell_type": "markdown",
   "metadata": {},
   "source": [
    "Let's look at now an alternative version, which is a combination of memory buffer of sorts, which mixes a max token limit over re-created summaries"
   ]
  },
  {
   "cell_type": "markdown",
   "metadata": {},
   "source": [
    "### Let's explore ConversationSummaryBufferMemory which applies a maximum token threshold over summaries"
   ]
  },
  {
   "cell_type": "code",
   "execution_count": 44,
   "metadata": {},
   "outputs": [],
   "source": [
    "from langchain.memory import ConversationSummaryBufferMemory"
   ]
  },
  {
   "cell_type": "markdown",
   "metadata": {},
   "source": [
    "Let's load the memory class, and as before with ConversationSummaryMemory(), notice that it needs an llm to also summarize context. Rather than a window also notice that we are using max tokens to threshold memory usage"
   ]
  },
  {
   "cell_type": "code",
   "execution_count": 46,
   "metadata": {},
   "outputs": [],
   "source": [
    "memory = ConversationSummaryBufferMemory(llm=llm_openai,\n",
    "                                          max_token_limit=50)"
   ]
  },
  {
   "cell_type": "code",
   "execution_count": 47,
   "metadata": {},
   "outputs": [],
   "source": [
    "conversation_chain = ConversationChain(\n",
    "    llm=llm_openai,\n",
    "    memory=memory,\n",
    "    verbose=True\n",
    ")"
   ]
  },
  {
   "cell_type": "code",
   "execution_count": 48,
   "metadata": {},
   "outputs": [
    {
     "name": "stdout",
     "output_type": "stream",
     "text": [
      "\n",
      "\n",
      "\u001b[1m> Entering new ConversationChain chain...\u001b[0m\n",
      "Prompt after formatting:\n",
      "\u001b[32;1m\u001b[1;3mThe following is a friendly conversation between a human and an AI. The AI is talkative and provides lots of specific details from its context. If the AI does not know the answer to a question, it truthfully says it does not know.\n",
      "\n",
      "Current conversation:\n",
      "\n",
      "Human: Hi, this is El Brain\n",
      "AI:\u001b[0m\n",
      "\n",
      "\u001b[1m> Finished chain.\u001b[0m\n"
     ]
    },
    {
     "data": {
      "text/plain": [
       "\"Hello El Brain! It's a pleasure to meet you. I'm an AI developed to assist with a variety of tasks and answer any questions you might have to the best of my ability. How can I assist you today?\""
      ]
     },
     "execution_count": 48,
     "metadata": {},
     "output_type": "execute_result"
    }
   ],
   "source": [
    "conversation_chain.predict(input=\"Hi, this is El Brain\")"
   ]
  },
  {
   "cell_type": "code",
   "execution_count": 49,
   "metadata": {},
   "outputs": [
    {
     "name": "stdout",
     "output_type": "stream",
     "text": [
      "\n",
      "\n",
      "\u001b[1m> Entering new ConversationChain chain...\u001b[0m\n",
      "Prompt after formatting:\n",
      "\u001b[32;1m\u001b[1;3mThe following is a friendly conversation between a human and an AI. The AI is talkative and provides lots of specific details from its context. If the AI does not know the answer to a question, it truthfully says it does not know.\n",
      "\n",
      "Current conversation:\n",
      "System: The human introduces themselves as El Brain.\n",
      "AI: Hello El Brain! It's a pleasure to meet you. I'm an AI developed to assist with a variety of tasks and answer any questions you might have to the best of my ability. How can I assist you today?\n",
      "Human: I need help with travel arrengement within the US\n",
      "AI:\u001b[0m\n",
      "\n",
      "\u001b[1m> Finished chain.\u001b[0m\n"
     ]
    },
    {
     "data": {
      "text/plain": [
       "\"Of course, El Brain! I'd be happy to assist you with your travel arrangements. Could you please provide me with more details? For instance, your departure and destination cities, preferred dates of travel, whether you need a round trip or one-way ticket, and any other preferences you might have such as direct flights, specific airlines, or budget constraints.\""
      ]
     },
     "execution_count": 49,
     "metadata": {},
     "output_type": "execute_result"
    }
   ],
   "source": [
    "conversation_chain.predict(input=\"I need help with travel arrengement within the US\")"
   ]
  },
  {
   "cell_type": "code",
   "execution_count": 54,
   "metadata": {},
   "outputs": [
    {
     "name": "stdout",
     "output_type": "stream",
     "text": [
      "\n",
      "\n",
      "\u001b[1m> Entering new ConversationChain chain...\u001b[0m\n",
      "Prompt after formatting:\n",
      "\u001b[32;1m\u001b[1;3mThe following is a friendly conversation between a human and an AI. The AI is talkative and provides lots of specific details from its context. If the AI does not know the answer to a question, it truthfully says it does not know.\n",
      "\n",
      "Current conversation:\n",
      "System: El Brain introduces themselves to the AI, which responds by offering its assistance with a variety of tasks. El Brain asks for help with travel arrangements within the US, and the AI asks for more details such as departure and destination cities, dates of travel, type of ticket, and any other preferences.\n",
      "Human: I want to travel over the summer within low budget\n",
      "AI:\u001b[0m\n",
      "\n",
      "\u001b[1m> Finished chain.\u001b[0m\n"
     ]
    },
    {
     "data": {
      "text/plain": [
       "\"That sounds like a great plan! To help you better, I'll need a bit more information. Could you please provide:\\n\\n1. Your departure city and destination city.\\n2. The specific dates or range of dates you're considering for your travel.\\n3. Any flexibility you might have with your travel dates.\\n4. Your preference for direct flights or if you're open to flights with stops (which can sometimes be cheaper).\\n5. Any airline preference you might have.\\n6. If you have any hotel preferences or if you're open to suggestions.\\n7. Any other specific requirements or preferences you might have, such as rental car needs, dietary restrictions for airline meals, etc.\\n\\nWith these details, I can provide a more accurate and tailored travel plan for you.\""
      ]
     },
     "execution_count": 54,
     "metadata": {},
     "output_type": "execute_result"
    }
   ],
   "source": [
    "conversation_chain.predict(input=\"I want to travel over the summer within low budget\")"
   ]
  },
  {
   "cell_type": "code",
   "execution_count": 64,
   "metadata": {},
   "outputs": [
    {
     "name": "stdout",
     "output_type": "stream",
     "text": [
      "\n",
      "\n",
      "\u001b[1m> Entering new ConversationChain chain...\u001b[0m\n",
      "Prompt after formatting:\n",
      "\u001b[32;1m\u001b[1;3mThe following is a friendly conversation between a human and an AI. The AI is talkative and provides lots of specific details from its context. If the AI does not know the answer to a question, it truthfully says it does not know.\n",
      "\n",
      "Current conversation:\n",
      "System: El Brain introduces themselves to the AI, which responds by offering its assistance with a variety of tasks. El Brain asks for help with travel arrangements within the US, and the AI asks for more details such as departure and destination cities, dates of travel, type of ticket, and any other preferences. El Brain specifies they want to travel over the summer on a low budget. The AI then asks for more specific information including departure and destination cities, specific dates or range of dates, flexibility with travel dates, preference for direct flights or flights with stops, airline preference, hotel preferences, and any other specific requirements or preferences such as rental car needs or dietary restrictions for airline meals.\n",
      "Human: I'm looking into cities in the mid west\n",
      "AI:\u001b[0m\n",
      "\n",
      "\u001b[1m> Finished chain.\u001b[0m\n"
     ]
    },
    {
     "data": {
      "text/plain": [
       "\"That's great! The Midwest has a lot to offer. Some popular cities to visit are Chicago, Illinois; Minneapolis, Minnesota; Indianapolis, Indiana; and Kansas City, Missouri. Each of these cities has its own unique attractions and charm. Do you have any specific cities in mind or are you open to suggestions? Also, do you have any specific interests or activities you would like to do during your visit? This will help me provide more tailored recommendations.\""
      ]
     },
     "execution_count": 64,
     "metadata": {},
     "output_type": "execute_result"
    }
   ],
   "source": [
    "conversation_chain.predict(input=\"I'm looking into cities in the mid west\")"
   ]
  },
  {
   "cell_type": "markdown",
   "metadata": {},
   "source": [
    "Notice two things. The return object contain within the conversation chain is \"moving_summary_buffer\" rather than \"buffer\" AND the summary window is constrained to the 50 token limit"
   ]
  },
  {
   "cell_type": "code",
   "execution_count": 70,
   "metadata": {},
   "outputs": [
    {
     "name": "stdout",
     "output_type": "stream",
     "text": [
      "El Brain introduces themselves to the AI, which offers its assistance with a variety of tasks, including travel arrangements within the US. El Brain wants to travel over the summer on a low budget and is looking into cities in the Midwest. The AI suggests popular cities like Chicago, Minneapolis, Indianapolis, and Kansas City, and asks for specific interests or activities El Brain would like to do during the visit for more tailored recommendations. The AI also asks for more specific information including departure and destination cities, specific dates or range of dates, flexibility with travel dates, preference for direct flights or flights with stops, airline preference, hotel preferences, and any other specific requirements or preferences such as rental car needs or dietary restrictions for airline meals.\n"
     ]
    }
   ],
   "source": [
    "print(conversation_chain.memory.moving_summary_buffer)"
   ]
  },
  {
   "cell_type": "markdown",
   "metadata": {},
   "source": [
    "This is a great way to summarize memory with token limit. Let's look at alternative more algorithmically way to handle memory"
   ]
  },
  {
   "cell_type": "markdown",
   "metadata": {},
   "source": [
    "### Let's take a look at Conversation Knowledge Graph Memory (ConversationKGMemory)"
   ]
  },
  {
   "cell_type": "code",
   "execution_count": 71,
   "metadata": {},
   "outputs": [],
   "source": [
    "from langchain.memory import ConversationKGMemory"
   ]
  },
  {
   "cell_type": "code",
   "execution_count": null,
   "metadata": {},
   "outputs": [],
   "source": []
  }
 ],
 "metadata": {
  "kernelspec": {
   "display_name": "open_ai",
   "language": "python",
   "name": "python3"
  },
  "language_info": {
   "codemirror_mode": {
    "name": "ipython",
    "version": 3
   },
   "file_extension": ".py",
   "mimetype": "text/x-python",
   "name": "python",
   "nbconvert_exporter": "python",
   "pygments_lexer": "ipython3",
   "version": "3.9.16"
  },
  "orig_nbformat": 4
 },
 "nbformat": 4,
 "nbformat_minor": 2
}
