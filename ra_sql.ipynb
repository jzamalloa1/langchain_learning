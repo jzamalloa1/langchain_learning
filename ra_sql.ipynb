{
 "cells": [
  {
   "cell_type": "markdown",
   "metadata": {},
   "source": [
    "### Research Assistant over SQL Database\n",
    "\n",
    "Similar to what we built before in [this notebook](https://github.com/jzamalloa1/langchain_learning/blob/main/ra.ipynb) + [langserved](https://github.com/jzamalloa1/langchain_learning/blob/main/ra_pilot.py), but over a SQL DB.\n",
    "\n",
    "In addition, we'll generate the SQL query using an LLM and hooking that chain to the LLM generating the question that aligns with the SQL query\n",
    "\n",
    "Inspiration taken from [here](https://www.youtube.com/watch?v=es-9MgxB-uc)"
   ]
  },
  {
   "cell_type": "code",
   "execution_count": null,
   "metadata": {},
   "outputs": [],
   "source": []
  },
  {
   "cell_type": "code",
   "execution_count": null,
   "metadata": {},
   "outputs": [],
   "source": []
  }
 ],
 "metadata": {
  "language_info": {
   "name": "python"
  }
 },
 "nbformat": 4,
 "nbformat_minor": 2
}
