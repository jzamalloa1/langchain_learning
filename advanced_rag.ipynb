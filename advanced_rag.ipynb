{
 "cells": [
  {
   "cell_type": "code",
   "execution_count": 1,
   "metadata": {},
   "outputs": [],
   "source": [
    "import pandas as pd\n",
    "import numpy as np\n",
    "import json, os, pprint\n",
    "import matplotlib.pyplot as plt\n",
    "import plotly.express as px\n",
    "import random\n",
    "from langchain_openai import OpenAIEmbeddings\n",
    "from langchain_openai.chat_models import ChatOpenAI\n",
    "from langchain_core.utils.function_calling import convert_to_openai_tool\n",
    "from langchain_core.tools import tool\n",
    "from langchain_core.messages import AIMessage, HumanMessage, SystemMessage\n",
    "from langchain_core.output_parsers import StrOutputParser\n",
    "from langchain.output_parsers import JsonOutputToolsParser, JsonOutputKeyToolsParser\n",
    "from langchain.agents import AgentExecutor, create_openai_tools_agent, create_react_agent, Tool\n",
    "from langchain.agents.format_scratchpad.openai_tools import format_to_openai_tool_messages\n",
    "from langchain.agents.output_parsers.openai_tools import OpenAIToolsAgentOutputParser\n",
    "from langchain_experimental.utilities import PythonREPL\n",
    "from langchain_experimental.tools import PythonREPLTool\n",
    "from langchain import hub\n",
    "from typing import List\n",
    "from langchain_core.pydantic_v1 import BaseModel, Field\n",
    "from langchain_core.callbacks import Callbacks\n",
    "from langchain.prompts import ChatPromptTemplate, HumanMessagePromptTemplate, MessagesPlaceholder"
   ]
  },
  {
   "cell_type": "code",
   "execution_count": 2,
   "metadata": {},
   "outputs": [],
   "source": [
    "os.environ[\"OPENAI_API_KEY\"] = \"\""
   ]
  },
  {
   "cell_type": "code",
   "execution_count": 3,
   "metadata": {},
   "outputs": [],
   "source": [
    "llm = ChatOpenAI(model=\"gpt-4-turbo-preview\", temperature=0.1, streaming=True)"
   ]
  },
  {
   "cell_type": "code",
   "execution_count": 20,
   "metadata": {},
   "outputs": [
    {
     "name": "stdout",
     "output_type": "stream",
     "text": [
      "(1403710, 10)\n"
     ]
    },
    {
     "name": "stderr",
     "output_type": "stream",
     "text": [
      "/var/folders/96/lf090n1d5wz8rqsjs80m1fg80000gn/T/ipykernel_43296/2625536625.py:2: DtypeWarning: Columns (6,9) have mixed types. Specify dtype option on import or set low_memory=False.\n",
      "  concept_ndc = pd.read_csv(ndc_dir + \"/CONCEPT.csv\", sep=\"\\t\")\n"
     ]
    },
    {
     "data": {
      "text/html": [
       "<div>\n",
       "<style scoped>\n",
       "    .dataframe tbody tr th:only-of-type {\n",
       "        vertical-align: middle;\n",
       "    }\n",
       "\n",
       "    .dataframe tbody tr th {\n",
       "        vertical-align: top;\n",
       "    }\n",
       "\n",
       "    .dataframe thead th {\n",
       "        text-align: right;\n",
       "    }\n",
       "</style>\n",
       "<table border=\"1\" class=\"dataframe\">\n",
       "  <thead>\n",
       "    <tr style=\"text-align: right;\">\n",
       "      <th></th>\n",
       "      <th>concept_id</th>\n",
       "      <th>concept_name</th>\n",
       "      <th>domain_id</th>\n",
       "      <th>vocabulary_id</th>\n",
       "      <th>concept_class_id</th>\n",
       "      <th>standard_concept</th>\n",
       "      <th>concept_code</th>\n",
       "      <th>valid_start_date</th>\n",
       "      <th>valid_end_date</th>\n",
       "      <th>invalid_reason</th>\n",
       "    </tr>\n",
       "  </thead>\n",
       "  <tbody>\n",
       "    <tr>\n",
       "      <th>0</th>\n",
       "      <td>36189414</td>\n",
       "      <td>hemorrhoidal cream 10mg/g / 144mg/g / 150mg/g ...</td>\n",
       "      <td>Drug</td>\n",
       "      <td>NDC</td>\n",
       "      <td>9-digit NDC</td>\n",
       "      <td>NaN</td>\n",
       "      <td>003630641</td>\n",
       "      <td>20180325</td>\n",
       "      <td>20991231</td>\n",
       "      <td>NaN</td>\n",
       "    </tr>\n",
       "    <tr>\n",
       "      <th>1</th>\n",
       "      <td>1220863</td>\n",
       "      <td>fulvestrant 250mg/5mL INTRAMUSCULAR INJECTION</td>\n",
       "      <td>Drug</td>\n",
       "      <td>NDC</td>\n",
       "      <td>9-digit NDC</td>\n",
       "      <td>NaN</td>\n",
       "      <td>167290436</td>\n",
       "      <td>20210121</td>\n",
       "      <td>20991231</td>\n",
       "      <td>NaN</td>\n",
       "    </tr>\n",
       "    <tr>\n",
       "      <th>2</th>\n",
       "      <td>35110579</td>\n",
       "      <td>kali muriaticum, carbo vegetabilis, lung (suis...</td>\n",
       "      <td>Drug</td>\n",
       "      <td>NDC</td>\n",
       "      <td>11-digit NDC</td>\n",
       "      <td>NaN</td>\n",
       "      <td>43742164901</td>\n",
       "      <td>20200626</td>\n",
       "      <td>20280919</td>\n",
       "      <td>D</td>\n",
       "    </tr>\n",
       "    <tr>\n",
       "      <th>3</th>\n",
       "      <td>36321712</td>\n",
       "      <td>pulsatilla (pratensis), euphorbium officinarum...</td>\n",
       "      <td>Drug</td>\n",
       "      <td>NDC</td>\n",
       "      <td>11-digit NDC</td>\n",
       "      <td>NaN</td>\n",
       "      <td>43742206101</td>\n",
       "      <td>20221201</td>\n",
       "      <td>20280908</td>\n",
       "      <td>D</td>\n",
       "    </tr>\n",
       "    <tr>\n",
       "      <th>4</th>\n",
       "      <td>36321592</td>\n",
       "      <td>influenzinum (2022-2023), herpes simplex 1 nos...</td>\n",
       "      <td>Drug</td>\n",
       "      <td>NDC</td>\n",
       "      <td>11-digit NDC</td>\n",
       "      <td>NaN</td>\n",
       "      <td>43742206201</td>\n",
       "      <td>20221205</td>\n",
       "      <td>20281117</td>\n",
       "      <td>D</td>\n",
       "    </tr>\n",
       "  </tbody>\n",
       "</table>\n",
       "</div>"
      ],
      "text/plain": [
       "   concept_id                                       concept_name domain_id   \n",
       "0    36189414  hemorrhoidal cream 10mg/g / 144mg/g / 150mg/g ...      Drug  \\\n",
       "1     1220863      fulvestrant 250mg/5mL INTRAMUSCULAR INJECTION      Drug   \n",
       "2    35110579  kali muriaticum, carbo vegetabilis, lung (suis...      Drug   \n",
       "3    36321712  pulsatilla (pratensis), euphorbium officinarum...      Drug   \n",
       "4    36321592  influenzinum (2022-2023), herpes simplex 1 nos...      Drug   \n",
       "\n",
       "  vocabulary_id concept_class_id standard_concept concept_code   \n",
       "0           NDC      9-digit NDC              NaN    003630641  \\\n",
       "1           NDC      9-digit NDC              NaN    167290436   \n",
       "2           NDC     11-digit NDC              NaN  43742164901   \n",
       "3           NDC     11-digit NDC              NaN  43742206101   \n",
       "4           NDC     11-digit NDC              NaN  43742206201   \n",
       "\n",
       "   valid_start_date  valid_end_date invalid_reason  \n",
       "0          20180325        20991231            NaN  \n",
       "1          20210121        20991231            NaN  \n",
       "2          20200626        20280919              D  \n",
       "3          20221201        20280908              D  \n",
       "4          20221205        20281117              D  "
      ]
     },
     "execution_count": 20,
     "metadata": {},
     "output_type": "execute_result"
    }
   ],
   "source": [
    "ndc_dir = \"/Users/jzamalloa/Documents/PROJECTS/LLM/DBs/033024_ndc\"\n",
    "concept_ndc = pd.read_csv(ndc_dir + \"/CONCEPT.csv\", sep=\"\\t\")\n",
    "\n",
    "print(concept_ndc.shape)\n",
    "concept_ndc.head()"
   ]
  },
  {
   "cell_type": "code",
   "execution_count": null,
   "metadata": {},
   "outputs": [],
   "source": []
  },
  {
   "cell_type": "code",
   "execution_count": null,
   "metadata": {},
   "outputs": [],
   "source": []
  }
 ],
 "metadata": {
  "kernelspec": {
   "display_name": "open_ai",
   "language": "python",
   "name": "python3"
  },
  "language_info": {
   "codemirror_mode": {
    "name": "ipython",
    "version": 3
   },
   "file_extension": ".py",
   "mimetype": "text/x-python",
   "name": "python",
   "nbconvert_exporter": "python",
   "pygments_lexer": "ipython3",
   "version": "3.9.16"
  }
 },
 "nbformat": 4,
 "nbformat_minor": 2
}
