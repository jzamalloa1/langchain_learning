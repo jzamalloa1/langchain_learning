{
 "cells": [
  {
   "cell_type": "markdown",
   "metadata": {},
   "source": [
    "# Advanced RAG\n",
    "\n",
    "- Additional metadata vector store filtering [info](https://akash-mathur.medium.com/vector-database-vs-indexing-path-to-efficient-data-handling-382cc1207491#:~:text=Metadata%20storage%20and%20filtering%3A%20Vector,filters%20for%20finer%2Dgrained%20queries.)"
   ]
  },
  {
   "cell_type": "code",
   "execution_count": 2,
   "metadata": {},
   "outputs": [],
   "source": [
    "import pandas as pd\n",
    "import numpy as np\n",
    "import json, os, pprint\n",
    "import matplotlib.pyplot as plt\n",
    "import plotly.express as px\n",
    "import random\n",
    "from langchain_openai import OpenAIEmbeddings\n",
    "from langchain_openai.chat_models import ChatOpenAI\n",
    "from langchain_core.utils.function_calling import convert_to_openai_tool\n",
    "from langchain_core.tools import tool\n",
    "from langchain_core.messages import AIMessage, HumanMessage, SystemMessage\n",
    "from langchain_core.output_parsers import StrOutputParser\n",
    "from langchain.output_parsers import JsonOutputToolsParser, JsonOutputKeyToolsParser\n",
    "from langchain.agents import AgentExecutor, create_openai_tools_agent, create_react_agent, Tool\n",
    "from langchain.agents.format_scratchpad.openai_tools import format_to_openai_tool_messages\n",
    "from langchain.agents.output_parsers.openai_tools import OpenAIToolsAgentOutputParser\n",
    "from langchain_experimental.utilities import PythonREPL\n",
    "from langchain_experimental.tools import PythonREPLTool\n",
    "from langchain import hub\n",
    "from typing import List\n",
    "from langchain_core.pydantic_v1 import BaseModel, Field\n",
    "from langchain_core.callbacks import Callbacks\n",
    "from langchain.prompts import ChatPromptTemplate, HumanMessagePromptTemplate, MessagesPlaceholder\n",
    "from langchain_community.document_loaders.csv_loader import CSVLoader\n",
    "from langchain_community.vectorstores import Chroma, FAISS\n",
    "from langchain_core.runnables import RunnablePassthrough"
   ]
  },
  {
   "cell_type": "code",
   "execution_count": 3,
   "metadata": {},
   "outputs": [],
   "source": [
    "os.environ[\"OPENAI_API_KEY\"] = \"\""
   ]
  },
  {
   "cell_type": "code",
   "execution_count": 3,
   "metadata": {},
   "outputs": [],
   "source": [
    "llm = ChatOpenAI(model=\"gpt-4-turbo-preview\", temperature=0.1, streaming=True)"
   ]
  },
  {
   "cell_type": "code",
   "execution_count": 4,
   "metadata": {},
   "outputs": [
    {
     "name": "stdout",
     "output_type": "stream",
     "text": [
      "(1403710, 10)\n"
     ]
    },
    {
     "name": "stderr",
     "output_type": "stream",
     "text": [
      "/var/folders/96/lf090n1d5wz8rqsjs80m1fg80000gn/T/ipykernel_48783/509760579.py:3: DtypeWarning: Columns (6,9) have mixed types. Specify dtype option on import or set low_memory=False.\n",
      "  concept_ndc = pd.read_csv(ndc_dir + \"/CONCEPT.csv\", sep=\"\\t\")\n"
     ]
    },
    {
     "data": {
      "text/html": [
       "<div>\n",
       "<style scoped>\n",
       "    .dataframe tbody tr th:only-of-type {\n",
       "        vertical-align: middle;\n",
       "    }\n",
       "\n",
       "    .dataframe tbody tr th {\n",
       "        vertical-align: top;\n",
       "    }\n",
       "\n",
       "    .dataframe thead th {\n",
       "        text-align: right;\n",
       "    }\n",
       "</style>\n",
       "<table border=\"1\" class=\"dataframe\">\n",
       "  <thead>\n",
       "    <tr style=\"text-align: right;\">\n",
       "      <th></th>\n",
       "      <th>concept_id</th>\n",
       "      <th>concept_name</th>\n",
       "      <th>domain_id</th>\n",
       "      <th>vocabulary_id</th>\n",
       "      <th>concept_class_id</th>\n",
       "      <th>standard_concept</th>\n",
       "      <th>concept_code</th>\n",
       "      <th>valid_start_date</th>\n",
       "      <th>valid_end_date</th>\n",
       "      <th>invalid_reason</th>\n",
       "    </tr>\n",
       "  </thead>\n",
       "  <tbody>\n",
       "    <tr>\n",
       "      <th>0</th>\n",
       "      <td>36189414</td>\n",
       "      <td>hemorrhoidal cream 10mg/g / 144mg/g / 150mg/g ...</td>\n",
       "      <td>Drug</td>\n",
       "      <td>NDC</td>\n",
       "      <td>9-digit NDC</td>\n",
       "      <td>NaN</td>\n",
       "      <td>003630641</td>\n",
       "      <td>20180325</td>\n",
       "      <td>20991231</td>\n",
       "      <td>NaN</td>\n",
       "    </tr>\n",
       "    <tr>\n",
       "      <th>1</th>\n",
       "      <td>1220863</td>\n",
       "      <td>fulvestrant 250mg/5mL INTRAMUSCULAR INJECTION</td>\n",
       "      <td>Drug</td>\n",
       "      <td>NDC</td>\n",
       "      <td>9-digit NDC</td>\n",
       "      <td>NaN</td>\n",
       "      <td>167290436</td>\n",
       "      <td>20210121</td>\n",
       "      <td>20991231</td>\n",
       "      <td>NaN</td>\n",
       "    </tr>\n",
       "    <tr>\n",
       "      <th>2</th>\n",
       "      <td>35110579</td>\n",
       "      <td>kali muriaticum, carbo vegetabilis, lung (suis...</td>\n",
       "      <td>Drug</td>\n",
       "      <td>NDC</td>\n",
       "      <td>11-digit NDC</td>\n",
       "      <td>NaN</td>\n",
       "      <td>43742164901</td>\n",
       "      <td>20200626</td>\n",
       "      <td>20280919</td>\n",
       "      <td>D</td>\n",
       "    </tr>\n",
       "    <tr>\n",
       "      <th>3</th>\n",
       "      <td>36321712</td>\n",
       "      <td>pulsatilla (pratensis), euphorbium officinarum...</td>\n",
       "      <td>Drug</td>\n",
       "      <td>NDC</td>\n",
       "      <td>11-digit NDC</td>\n",
       "      <td>NaN</td>\n",
       "      <td>43742206101</td>\n",
       "      <td>20221201</td>\n",
       "      <td>20280908</td>\n",
       "      <td>D</td>\n",
       "    </tr>\n",
       "    <tr>\n",
       "      <th>4</th>\n",
       "      <td>36321592</td>\n",
       "      <td>influenzinum (2022-2023), herpes simplex 1 nos...</td>\n",
       "      <td>Drug</td>\n",
       "      <td>NDC</td>\n",
       "      <td>11-digit NDC</td>\n",
       "      <td>NaN</td>\n",
       "      <td>43742206201</td>\n",
       "      <td>20221205</td>\n",
       "      <td>20281117</td>\n",
       "      <td>D</td>\n",
       "    </tr>\n",
       "  </tbody>\n",
       "</table>\n",
       "</div>"
      ],
      "text/plain": [
       "   concept_id                                       concept_name domain_id   \n",
       "0    36189414  hemorrhoidal cream 10mg/g / 144mg/g / 150mg/g ...      Drug  \\\n",
       "1     1220863      fulvestrant 250mg/5mL INTRAMUSCULAR INJECTION      Drug   \n",
       "2    35110579  kali muriaticum, carbo vegetabilis, lung (suis...      Drug   \n",
       "3    36321712  pulsatilla (pratensis), euphorbium officinarum...      Drug   \n",
       "4    36321592  influenzinum (2022-2023), herpes simplex 1 nos...      Drug   \n",
       "\n",
       "  vocabulary_id concept_class_id standard_concept concept_code   \n",
       "0           NDC      9-digit NDC              NaN    003630641  \\\n",
       "1           NDC      9-digit NDC              NaN    167290436   \n",
       "2           NDC     11-digit NDC              NaN  43742164901   \n",
       "3           NDC     11-digit NDC              NaN  43742206101   \n",
       "4           NDC     11-digit NDC              NaN  43742206201   \n",
       "\n",
       "   valid_start_date  valid_end_date invalid_reason  \n",
       "0          20180325        20991231            NaN  \n",
       "1          20210121        20991231            NaN  \n",
       "2          20200626        20280919              D  \n",
       "3          20221201        20280908              D  \n",
       "4          20221205        20281117              D  "
      ]
     },
     "execution_count": 4,
     "metadata": {},
     "output_type": "execute_result"
    }
   ],
   "source": [
    "# Download files from https://athena.ohdsi.org/\n",
    "ndc_dir = \"/Users/jzamalloa/Documents/PROJECTS/LLM/DBs/033024_ndc\"\n",
    "concept_ndc = pd.read_csv(ndc_dir + \"/CONCEPT.csv\", sep=\"\\t\")\n",
    "\n",
    "print(concept_ndc.shape)\n",
    "concept_ndc.head()"
   ]
  },
  {
   "cell_type": "code",
   "execution_count": 30,
   "metadata": {},
   "outputs": [
    {
     "data": {
      "text/html": [
       "<div>\n",
       "<style scoped>\n",
       "    .dataframe tbody tr th:only-of-type {\n",
       "        vertical-align: middle;\n",
       "    }\n",
       "\n",
       "    .dataframe tbody tr th {\n",
       "        vertical-align: top;\n",
       "    }\n",
       "\n",
       "    .dataframe thead th {\n",
       "        text-align: right;\n",
       "    }\n",
       "</style>\n",
       "<table border=\"1\" class=\"dataframe\">\n",
       "  <thead>\n",
       "    <tr style=\"text-align: right;\">\n",
       "      <th></th>\n",
       "      <th>concept_id</th>\n",
       "      <th>concept_name</th>\n",
       "      <th>domain_id</th>\n",
       "      <th>vocabulary_id</th>\n",
       "      <th>concept_class_id</th>\n",
       "      <th>standard_concept</th>\n",
       "      <th>concept_code</th>\n",
       "      <th>valid_start_date</th>\n",
       "      <th>valid_end_date</th>\n",
       "      <th>invalid_reason</th>\n",
       "    </tr>\n",
       "  </thead>\n",
       "  <tbody>\n",
       "    <tr>\n",
       "      <th>2135</th>\n",
       "      <td>45201605</td>\n",
       "      <td>SM BANDAGES FLEXIBLE</td>\n",
       "      <td>Device</td>\n",
       "      <td>NDC</td>\n",
       "      <td>Device</td>\n",
       "      <td>S</td>\n",
       "      <td>10939005233</td>\n",
       "      <td>20130805</td>\n",
       "      <td>20991231</td>\n",
       "      <td>NaN</td>\n",
       "    </tr>\n",
       "    <tr>\n",
       "      <th>2136</th>\n",
       "      <td>45304229</td>\n",
       "      <td>SM FABRIC BANDAGES</td>\n",
       "      <td>Device</td>\n",
       "      <td>NDC</td>\n",
       "      <td>Device</td>\n",
       "      <td>S</td>\n",
       "      <td>10939005933</td>\n",
       "      <td>20130805</td>\n",
       "      <td>20991231</td>\n",
       "      <td>NaN</td>\n",
       "    </tr>\n",
       "    <tr>\n",
       "      <th>2137</th>\n",
       "      <td>45355381</td>\n",
       "      <td>SM FABRIC BANDAGES</td>\n",
       "      <td>Device</td>\n",
       "      <td>NDC</td>\n",
       "      <td>Device</td>\n",
       "      <td>S</td>\n",
       "      <td>10939008511</td>\n",
       "      <td>20130805</td>\n",
       "      <td>20991231</td>\n",
       "      <td>NaN</td>\n",
       "    </tr>\n",
       "    <tr>\n",
       "      <th>2138</th>\n",
       "      <td>44979982</td>\n",
       "      <td>FLEXIBLE EX-LARGE BANDAGE</td>\n",
       "      <td>Device</td>\n",
       "      <td>NDC</td>\n",
       "      <td>Device</td>\n",
       "      <td>S</td>\n",
       "      <td>10939008611</td>\n",
       "      <td>20130805</td>\n",
       "      <td>20991231</td>\n",
       "      <td>NaN</td>\n",
       "    </tr>\n",
       "    <tr>\n",
       "      <th>2139</th>\n",
       "      <td>45235976</td>\n",
       "      <td>SUNBLOCK SPF15 LOTION</td>\n",
       "      <td>Device</td>\n",
       "      <td>NDC</td>\n",
       "      <td>Device</td>\n",
       "      <td>S</td>\n",
       "      <td>10939036711</td>\n",
       "      <td>20130805</td>\n",
       "      <td>20991231</td>\n",
       "      <td>NaN</td>\n",
       "    </tr>\n",
       "    <tr>\n",
       "      <th>...</th>\n",
       "      <td>...</td>\n",
       "      <td>...</td>\n",
       "      <td>...</td>\n",
       "      <td>...</td>\n",
       "      <td>...</td>\n",
       "      <td>...</td>\n",
       "      <td>...</td>\n",
       "      <td>...</td>\n",
       "      <td>...</td>\n",
       "      <td>...</td>\n",
       "    </tr>\n",
       "    <tr>\n",
       "      <th>1403226</th>\n",
       "      <td>37140214</td>\n",
       "      <td>sunscreen spf 30 3g/100g / 5g/100g / 10g/100g ...</td>\n",
       "      <td>Device</td>\n",
       "      <td>NDC</td>\n",
       "      <td>Device</td>\n",
       "      <td>S</td>\n",
       "      <td>80489023201</td>\n",
       "      <td>20240101</td>\n",
       "      <td>20991231</td>\n",
       "      <td>NaN</td>\n",
       "    </tr>\n",
       "    <tr>\n",
       "      <th>1403227</th>\n",
       "      <td>37140215</td>\n",
       "      <td>sunscreen spf 30 3g/100g / 5g/100g / 10g/100g ...</td>\n",
       "      <td>Device</td>\n",
       "      <td>NDC</td>\n",
       "      <td>Device</td>\n",
       "      <td>S</td>\n",
       "      <td>80489023202</td>\n",
       "      <td>20240101</td>\n",
       "      <td>20991231</td>\n",
       "      <td>NaN</td>\n",
       "    </tr>\n",
       "    <tr>\n",
       "      <th>1403228</th>\n",
       "      <td>37140216</td>\n",
       "      <td>sunscreen spf 50 3g/100g / 5g/100g / 10g/100g ...</td>\n",
       "      <td>Device</td>\n",
       "      <td>NDC</td>\n",
       "      <td>Device</td>\n",
       "      <td>S</td>\n",
       "      <td>80489023501</td>\n",
       "      <td>20240101</td>\n",
       "      <td>20991231</td>\n",
       "      <td>NaN</td>\n",
       "    </tr>\n",
       "    <tr>\n",
       "      <th>1403229</th>\n",
       "      <td>37140217</td>\n",
       "      <td>sunscreen spf 50 3g/100g / 5g/100g / 10g/100g ...</td>\n",
       "      <td>Device</td>\n",
       "      <td>NDC</td>\n",
       "      <td>Device</td>\n",
       "      <td>S</td>\n",
       "      <td>80489023502</td>\n",
       "      <td>20240101</td>\n",
       "      <td>20991231</td>\n",
       "      <td>NaN</td>\n",
       "    </tr>\n",
       "    <tr>\n",
       "      <th>1403230</th>\n",
       "      <td>37140218</td>\n",
       "      <td>sunscreen spf 70 3g/100g / 5g/100g / 10g/100g ...</td>\n",
       "      <td>Device</td>\n",
       "      <td>NDC</td>\n",
       "      <td>Device</td>\n",
       "      <td>S</td>\n",
       "      <td>80489023401</td>\n",
       "      <td>20240101</td>\n",
       "      <td>20991231</td>\n",
       "      <td>NaN</td>\n",
       "    </tr>\n",
       "  </tbody>\n",
       "</table>\n",
       "<p>11667 rows × 10 columns</p>\n",
       "</div>"
      ],
      "text/plain": [
       "         concept_id                                       concept_name   \n",
       "2135       45201605                               SM BANDAGES FLEXIBLE  \\\n",
       "2136       45304229                                 SM FABRIC BANDAGES   \n",
       "2137       45355381                                 SM FABRIC BANDAGES   \n",
       "2138       44979982                          FLEXIBLE EX-LARGE BANDAGE   \n",
       "2139       45235976                              SUNBLOCK SPF15 LOTION   \n",
       "...             ...                                                ...   \n",
       "1403226    37140214  sunscreen spf 30 3g/100g / 5g/100g / 10g/100g ...   \n",
       "1403227    37140215  sunscreen spf 30 3g/100g / 5g/100g / 10g/100g ...   \n",
       "1403228    37140216  sunscreen spf 50 3g/100g / 5g/100g / 10g/100g ...   \n",
       "1403229    37140217  sunscreen spf 50 3g/100g / 5g/100g / 10g/100g ...   \n",
       "1403230    37140218  sunscreen spf 70 3g/100g / 5g/100g / 10g/100g ...   \n",
       "\n",
       "        domain_id vocabulary_id concept_class_id standard_concept   \n",
       "2135       Device           NDC           Device                S  \\\n",
       "2136       Device           NDC           Device                S   \n",
       "2137       Device           NDC           Device                S   \n",
       "2138       Device           NDC           Device                S   \n",
       "2139       Device           NDC           Device                S   \n",
       "...           ...           ...              ...              ...   \n",
       "1403226    Device           NDC           Device                S   \n",
       "1403227    Device           NDC           Device                S   \n",
       "1403228    Device           NDC           Device                S   \n",
       "1403229    Device           NDC           Device                S   \n",
       "1403230    Device           NDC           Device                S   \n",
       "\n",
       "        concept_code  valid_start_date  valid_end_date invalid_reason  \n",
       "2135     10939005233          20130805        20991231            NaN  \n",
       "2136     10939005933          20130805        20991231            NaN  \n",
       "2137     10939008511          20130805        20991231            NaN  \n",
       "2138     10939008611          20130805        20991231            NaN  \n",
       "2139     10939036711          20130805        20991231            NaN  \n",
       "...              ...               ...             ...            ...  \n",
       "1403226  80489023201          20240101        20991231            NaN  \n",
       "1403227  80489023202          20240101        20991231            NaN  \n",
       "1403228  80489023501          20240101        20991231            NaN  \n",
       "1403229  80489023502          20240101        20991231            NaN  \n",
       "1403230  80489023401          20240101        20991231            NaN  \n",
       "\n",
       "[11667 rows x 10 columns]"
      ]
     },
     "execution_count": 30,
     "metadata": {},
     "output_type": "execute_result"
    }
   ],
   "source": [
    "(concept_ndc\n",
    " .query(\"standard_concept==standard_concept\")\n",
    "#  .concept_class_id.unique()\n",
    " .query(\"vocabulary_id=='NDC'\")\n",
    " )"
   ]
  },
  {
   "cell_type": "code",
   "execution_count": 6,
   "metadata": {},
   "outputs": [
    {
     "data": {
      "text/html": [
       "<div>\n",
       "<style scoped>\n",
       "    .dataframe tbody tr th:only-of-type {\n",
       "        vertical-align: middle;\n",
       "    }\n",
       "\n",
       "    .dataframe tbody tr th {\n",
       "        vertical-align: top;\n",
       "    }\n",
       "\n",
       "    .dataframe thead th {\n",
       "        text-align: right;\n",
       "    }\n",
       "</style>\n",
       "<table border=\"1\" class=\"dataframe\">\n",
       "  <thead>\n",
       "    <tr style=\"text-align: right;\">\n",
       "      <th></th>\n",
       "      <th>concept_id</th>\n",
       "      <th>concept_name</th>\n",
       "      <th>concept_class_id</th>\n",
       "      <th>concept_code</th>\n",
       "    </tr>\n",
       "  </thead>\n",
       "  <tbody>\n",
       "    <tr>\n",
       "      <th>0</th>\n",
       "      <td>36189414</td>\n",
       "      <td>hemorrhoidal cream 10mg/g / 144mg/g / 150mg/g ...</td>\n",
       "      <td>9-digit NDC</td>\n",
       "      <td>003630641</td>\n",
       "    </tr>\n",
       "    <tr>\n",
       "      <th>1</th>\n",
       "      <td>1220863</td>\n",
       "      <td>fulvestrant 250mg/5mL INTRAMUSCULAR INJECTION</td>\n",
       "      <td>9-digit NDC</td>\n",
       "      <td>167290436</td>\n",
       "    </tr>\n",
       "    <tr>\n",
       "      <th>2</th>\n",
       "      <td>35110579</td>\n",
       "      <td>kali muriaticum, carbo vegetabilis, lung (suis...</td>\n",
       "      <td>11-digit NDC</td>\n",
       "      <td>43742164901</td>\n",
       "    </tr>\n",
       "    <tr>\n",
       "      <th>3</th>\n",
       "      <td>36321712</td>\n",
       "      <td>pulsatilla (pratensis), euphorbium officinarum...</td>\n",
       "      <td>11-digit NDC</td>\n",
       "      <td>43742206101</td>\n",
       "    </tr>\n",
       "    <tr>\n",
       "      <th>4</th>\n",
       "      <td>36321592</td>\n",
       "      <td>influenzinum (2022-2023), herpes simplex 1 nos...</td>\n",
       "      <td>11-digit NDC</td>\n",
       "      <td>43742206201</td>\n",
       "    </tr>\n",
       "    <tr>\n",
       "      <th>...</th>\n",
       "      <td>...</td>\n",
       "      <td>...</td>\n",
       "      <td>...</td>\n",
       "      <td>...</td>\n",
       "    </tr>\n",
       "    <tr>\n",
       "      <th>1403704</th>\n",
       "      <td>37143425</td>\n",
       "      <td>zolmitriptan 2.5 MG Oral Tablet</td>\n",
       "      <td>11-digit NDC</td>\n",
       "      <td>62332046206</td>\n",
       "    </tr>\n",
       "    <tr>\n",
       "      <th>1403705</th>\n",
       "      <td>37143427</td>\n",
       "      <td>zolmitriptan 5 MG Oral Tablet</td>\n",
       "      <td>11-digit NDC</td>\n",
       "      <td>62332046303</td>\n",
       "    </tr>\n",
       "    <tr>\n",
       "      <th>1403706</th>\n",
       "      <td>37143429</td>\n",
       "      <td>zolpidem tartrate 10 MG Oral Tablet</td>\n",
       "      <td>11-digit NDC</td>\n",
       "      <td>72789032314</td>\n",
       "    </tr>\n",
       "    <tr>\n",
       "      <th>1403707</th>\n",
       "      <td>37143426</td>\n",
       "      <td>zolmitriptan 2.5 MG Disintegrating Oral Tablet</td>\n",
       "      <td>11-digit NDC</td>\n",
       "      <td>62332018116</td>\n",
       "    </tr>\n",
       "    <tr>\n",
       "      <th>1403708</th>\n",
       "      <td>37143428</td>\n",
       "      <td>zolmitriptan 5 MG Disintegrating Oral Tablet</td>\n",
       "      <td>11-digit NDC</td>\n",
       "      <td>62332018213</td>\n",
       "    </tr>\n",
       "  </tbody>\n",
       "</table>\n",
       "<p>1183702 rows × 4 columns</p>\n",
       "</div>"
      ],
      "text/plain": [
       "         concept_id                                       concept_name   \n",
       "0          36189414  hemorrhoidal cream 10mg/g / 144mg/g / 150mg/g ...  \\\n",
       "1           1220863      fulvestrant 250mg/5mL INTRAMUSCULAR INJECTION   \n",
       "2          35110579  kali muriaticum, carbo vegetabilis, lung (suis...   \n",
       "3          36321712  pulsatilla (pratensis), euphorbium officinarum...   \n",
       "4          36321592  influenzinum (2022-2023), herpes simplex 1 nos...   \n",
       "...             ...                                                ...   \n",
       "1403704    37143425                    zolmitriptan 2.5 MG Oral Tablet   \n",
       "1403705    37143427                      zolmitriptan 5 MG Oral Tablet   \n",
       "1403706    37143429                zolpidem tartrate 10 MG Oral Tablet   \n",
       "1403707    37143426     zolmitriptan 2.5 MG Disintegrating Oral Tablet   \n",
       "1403708    37143428       zolmitriptan 5 MG Disintegrating Oral Tablet   \n",
       "\n",
       "        concept_class_id concept_code  \n",
       "0            9-digit NDC    003630641  \n",
       "1            9-digit NDC    167290436  \n",
       "2           11-digit NDC  43742164901  \n",
       "3           11-digit NDC  43742206101  \n",
       "4           11-digit NDC  43742206201  \n",
       "...                  ...          ...  \n",
       "1403704     11-digit NDC  62332046206  \n",
       "1403705     11-digit NDC  62332046303  \n",
       "1403706     11-digit NDC  72789032314  \n",
       "1403707     11-digit NDC  62332018116  \n",
       "1403708     11-digit NDC  62332018213  \n",
       "\n",
       "[1183702 rows x 4 columns]"
      ]
     },
     "execution_count": 6,
     "metadata": {},
     "output_type": "execute_result"
    }
   ],
   "source": [
    "concept_ndc_filtered = (concept_ndc\n",
    " .query(\"standard_concept!=standard_concept\")\n",
    " .query(\"domain_id=='Drug'\")\n",
    "#  .query(\"vocabulary_id!='NDC'\")\n",
    " .loc[:,[\"concept_id\", \"concept_name\", \"concept_class_id\", \"concept_code\"]]\n",
    " )\n",
    "\n",
    "concept_ndc_filtered"
   ]
  },
  {
   "cell_type": "code",
   "execution_count": 7,
   "metadata": {},
   "outputs": [],
   "source": [
    "# Test Vectorizing sample sub-sample first\n",
    "\n",
    "(concept_ndc_filtered.sample(1)).to_csv(ndc_dir + \"/CONCEPT_FILTERED.csv\", index=False, sep=\"\\t\")\n"
   ]
  },
  {
   "cell_type": "code",
   "execution_count": 8,
   "metadata": {},
   "outputs": [],
   "source": [
    "loader = CSVLoader(file_path=ndc_dir + \"/CONCEPT_FILTERED.csv\", \n",
    "                   source_column=\"concept_class_id\",\n",
    "                   metadata_columns=[\"concept_id\", \"concept_code\", \"concept_class_id\"],\n",
    "                   csv_args={'delimiter':'\\t'}\n",
    "                             )\n",
    "ndc_loaded = loader.load()"
   ]
  },
  {
   "cell_type": "code",
   "execution_count": 9,
   "metadata": {},
   "outputs": [
    {
     "name": "stdout",
     "output_type": "stream",
     "text": [
      "1\n"
     ]
    },
    {
     "data": {
      "text/plain": [
       "[Document(page_content='concept_name: Chlordiazepoxide Hydrochloride 5 MG Oral Capsule', metadata={'source': '11-digit NDC', 'row': 0, 'concept_id': '44977739', 'concept_code': '00771061004', 'concept_class_id': '11-digit NDC'})]"
      ]
     },
     "execution_count": 9,
     "metadata": {},
     "output_type": "execute_result"
    }
   ],
   "source": [
    "print(len(ndc_loaded))\n",
    "ndc_loaded[:3]"
   ]
  },
  {
   "cell_type": "code",
   "execution_count": 10,
   "metadata": {},
   "outputs": [
    {
     "data": {
      "text/plain": [
       "'concept_name: Chlordiazepoxide Hydrochloride 5 MG Oral Capsule'"
      ]
     },
     "execution_count": 10,
     "metadata": {},
     "output_type": "execute_result"
    }
   ],
   "source": [
    "ndc_loaded[0].page_content"
   ]
  },
  {
   "cell_type": "markdown",
   "metadata": {},
   "source": [
    "### Embed NDC Sample Doc into VectoStore"
   ]
  },
  {
   "cell_type": "code",
   "execution_count": 11,
   "metadata": {},
   "outputs": [],
   "source": [
    "embeddings_model = OpenAIEmbeddings(model=\"text-embedding-3-small\")"
   ]
  },
  {
   "cell_type": "code",
   "execution_count": 140,
   "metadata": {},
   "outputs": [],
   "source": [
    "# Embedding speed:\n",
    "# 100 samples - Instantaneous\n",
    "# 1000 samples - 5.8s\n",
    "# 10000 samples - 50.5s\n",
    "# 133224 samples - 11min 30s\n",
    "\n",
    "ndc_db = Chroma.from_documents(ndc_loaded, embedding=embeddings_model, \n",
    "                              #  persist_directory=\"/Users/jzamalloa/Documents/PROJECTS/LLM/DBs/033024_ndc\",\n",
    "                               collection_metadata={\"hnsw:space\": \"cosine\"}\n",
    "                               )"
   ]
  },
  {
   "cell_type": "markdown",
   "metadata": {},
   "source": [
    "### Evaluate similarity"
   ]
  },
  {
   "cell_type": "code",
   "execution_count": 128,
   "metadata": {},
   "outputs": [
    {
     "name": "stdout",
     "output_type": "stream",
     "text": [
      "1536\n"
     ]
    },
    {
     "data": {
      "text/plain": [
       "[0.005644810386002064, 0.019334683194756508, -0.04998311027884483]"
      ]
     },
     "execution_count": 128,
     "metadata": {},
     "output_type": "execute_result"
    }
   ],
   "source": [
    "# Embedding from vector store\n",
    "print(len(ndc_db.get(include=['embeddings'])[\"embeddings\"][0]))\n",
    "ndc_db.get(include=['embeddings'])[\"embeddings\"][0][:3]"
   ]
  },
  {
   "cell_type": "code",
   "execution_count": 112,
   "metadata": {},
   "outputs": [
    {
     "data": {
      "text/plain": [
       "[0.005644810395135876, 0.01933468322604177, -0.04998311035972201]"
      ]
     },
     "execution_count": 112,
     "metadata": {},
     "output_type": "execute_result"
    }
   ],
   "source": [
    "# Embedding from original document vector \"page_content\" only\n",
    "doc_embed = embeddings_model.embed_documents(\n",
    "    [ndc_loaded[0].page_content]\n",
    ")\n",
    "\n",
    "doc_embed[0][:3] "
   ]
  },
  {
   "cell_type": "code",
   "execution_count": 146,
   "metadata": {},
   "outputs": [
    {
     "name": "stdout",
     "output_type": "stream",
     "text": [
      "Cosine Similarity:  [[1.]]\n",
      "Cosine Similarity Manual:  1.0000000000000004\n",
      "Cosine Distance:  [[0.]]\n",
      "L2 Distance:  [[0.]]\n"
     ]
    }
   ],
   "source": [
    "# Their similarity (page_content original without metadata to vector store embedded)\n",
    "from sklearn.metrics.pairwise import cosine_similarity\n",
    "from sklearn.metrics import pairwise_distances\n",
    "import numpy as np\n",
    "from numpy.linalg import norm\n",
    "\n",
    "def cosine_similarity_manual(A, B):\n",
    "    cosine = np.dot(A,B)/(norm(A)*norm(B))\n",
    "    return cosine\n",
    "\n",
    "print(\"Cosine Similarity: \", cosine_similarity(\n",
    "    np.array([ndc_db.get(include=['embeddings'])[\"embeddings\"][0]]),\n",
    "    np.array([doc_embed[0]])\n",
    "))  # Between -1 to 1, -1 absolutely opposite vectors, 0 no correlation, 1 absolutely similar\n",
    "\n",
    "print(\"Cosine Similarity Manual: \", cosine_similarity_manual(\n",
    "    ndc_db.get(include=['embeddings'])[\"embeddings\"][0],\n",
    "    doc_embed[0]\n",
    "))\n",
    "\n",
    "print(\"Cosine Distance: \", pairwise_distances(\n",
    "    np.array([ndc_db.get(include=['embeddings'])[\"embeddings\"][0]]),\n",
    "    np.array([doc_embed[0]]),\n",
    "    metric=\"cosine\" #distance - Range of cosine distance is from 0 to 2, 0 — identical vectors, 1 — no correlation, 2 — absolutely different.\n",
    "))\n",
    "\n",
    "print(\"L2 Distance: \", pairwise_distances(\n",
    "    np.array([ndc_db.get(include=['embeddings'])[\"embeddings\"][0]]),\n",
    "    np.array([doc_embed[0]]),\n",
    "    metric=\"l2\" #distance - Range 0-Inf. Larger then farther apart they are\n",
    "))\n"
   ]
  },
  {
   "cell_type": "code",
   "execution_count": 147,
   "metadata": {},
   "outputs": [
    {
     "name": "stdout",
     "output_type": "stream",
     "text": [
      "Cosine Similarity:  [[0.1386754]]\n",
      "Cosine Similarity Manual:  0.1386753966698643\n",
      "Cosine Distance:  [[0.8613246]]\n",
      "L2 Distance:  [[1.31249732]]\n"
     ]
    }
   ],
   "source": [
    "# Simality of sample embedded vector to target query\n",
    "sample_query = embeddings_model.embed_query(\"what are drugs associated with prostate cancer?\")\n",
    "\n",
    "print(\"Cosine Similarity: \",cosine_similarity(\n",
    "    np.array([ndc_db.get(include=['embeddings'])[\"embeddings\"][0]]),\n",
    "    np.array([sample_query])\n",
    "))\n",
    "\n",
    "print(\"Cosine Similarity Manual: \", cosine_similarity_manual(\n",
    "    ndc_db.get(include=['embeddings'])[\"embeddings\"][0],\n",
    "    sample_query\n",
    "))\n",
    "\n",
    "print(\"Cosine Distance: \",pairwise_distances(\n",
    "    np.array([ndc_db.get(include=['embeddings'])[\"embeddings\"][0]]),\n",
    "    np.array([sample_query]),\n",
    "    metric=\"cosine\"\n",
    "))\n",
    "\n",
    "print(\"L2 Distance: \",pairwise_distances(\n",
    "    np.array([ndc_db.get(include=['embeddings'])[\"embeddings\"][0]]),\n",
    "    np.array([sample_query]),\n",
    "    metric=\"l2\"\n",
    "))\n"
   ]
  },
  {
   "cell_type": "markdown",
   "metadata": {},
   "source": [
    "### Test Vector DB Similarity search on target sample"
   ]
  },
  {
   "cell_type": "code",
   "execution_count": 142,
   "metadata": {},
   "outputs": [
    {
     "data": {
      "text/plain": [
       "[(Document(page_content='concept_name: Chlordiazepoxide Hydrochloride 5 MG Oral Capsule', metadata={'concept_class_id': '11-digit NDC', 'concept_code': '00771061004', 'concept_id': '44977739', 'row': 0, 'source': '11-digit NDC'}),\n",
       "  1.7226483821868896)]"
      ]
     },
     "execution_count": 142,
     "metadata": {},
     "output_type": "execute_result"
    }
   ],
   "source": [
    "ndc_db.similarity_search_with_score(\"what are drugs associated with prostate cancer?\", 1)"
   ]
  },
  {
   "cell_type": "code",
   "execution_count": 141,
   "metadata": {},
   "outputs": [
    {
     "name": "stderr",
     "output_type": "stream",
     "text": [
      "/opt/homebrew/Caskroom/miniforge/base/envs/open_ai/lib/python3.9/site-packages/langchain_core/vectorstores.py:331: UserWarning: Relevance scores must be between 0 and 1, got [(Document(page_content='concept_name: Chlordiazepoxide Hydrochloride 5 MG Oral Capsule', metadata={'concept_class_id': '11-digit NDC', 'concept_code': '00771061004', 'concept_id': '44977739', 'row': 0, 'source': '11-digit NDC'}), -0.7226483821868896)]\n",
      "  warnings.warn(\n"
     ]
    },
    {
     "data": {
      "text/plain": [
       "[(Document(page_content='concept_name: Chlordiazepoxide Hydrochloride 5 MG Oral Capsule', metadata={'concept_class_id': '11-digit NDC', 'concept_code': '00771061004', 'concept_id': '44977739', 'row': 0, 'source': '11-digit NDC'}),\n",
       "  -0.7226483821868896)]"
      ]
     },
     "execution_count": 141,
     "metadata": {},
     "output_type": "execute_result"
    }
   ],
   "source": [
    "ndc_db.similarity_search_with_relevance_scores(\"what are drugs associated with prostate cancer?\", 1)"
   ]
  },
  {
   "cell_type": "markdown",
   "metadata": {},
   "source": [
    "The above by default show the exact cosine DISTANCE score **but** they somehow **multiply it by 2** resulting exactly on the output of `similarity_search_with_score`"
   ]
  },
  {
   "cell_type": "code",
   "execution_count": 153,
   "metadata": {},
   "outputs": [
    {
     "data": {
      "text/plain": [
       "array([[1.72264921]])"
      ]
     },
     "execution_count": 153,
     "metadata": {},
     "output_type": "execute_result"
    }
   ],
   "source": [
    "pairwise_distances(\n",
    "    np.array([ndc_db.get(include=['embeddings'])[\"embeddings\"][0]]),\n",
    "    np.array([sample_query]),\n",
    "    metric=\"cosine\" #Distance\n",
    ")*2"
   ]
  },
  {
   "cell_type": "markdown",
   "metadata": {},
   "source": [
    "And the `similarity_search_with_relevance_scores` is just `1-cosine distance` or:"
   ]
  },
  {
   "cell_type": "code",
   "execution_count": 149,
   "metadata": {},
   "outputs": [
    {
     "data": {
      "text/plain": [
       "array([[-0.72264921]])"
      ]
     },
     "execution_count": 149,
     "metadata": {},
     "output_type": "execute_result"
    }
   ],
   "source": [
    "1 - (\n",
    "   pairwise_distances(\n",
    "    np.array([ndc_db.get(include=['embeddings'])[\"embeddings\"][0]]),\n",
    "    np.array([sample_query]),\n",
    "    metric=\"cosine\"\n",
    "    )*2 \n",
    ")"
   ]
  },
  {
   "cell_type": "markdown",
   "metadata": {},
   "source": [
    "### Now test Vector Store Embedding on entire Vector Corpus of interest"
   ]
  },
  {
   "cell_type": "code",
   "execution_count": 169,
   "metadata": {},
   "outputs": [
    {
     "name": "stderr",
     "output_type": "stream",
     "text": [
      "/var/folders/96/lf090n1d5wz8rqsjs80m1fg80000gn/T/ipykernel_48783/3416642860.py:1: DtypeWarning: Columns (3) have mixed types. Specify dtype option on import or set low_memory=False.\n",
      "  (pd.read_csv( ndc_dir + \"/CONCEPT_FILTERED.csv\", sep=\"\\t\")\n"
     ]
    },
    {
     "data": {
      "text/html": [
       "<div>\n",
       "<style scoped>\n",
       "    .dataframe tbody tr th:only-of-type {\n",
       "        vertical-align: middle;\n",
       "    }\n",
       "\n",
       "    .dataframe tbody tr th {\n",
       "        vertical-align: top;\n",
       "    }\n",
       "\n",
       "    .dataframe thead th {\n",
       "        text-align: right;\n",
       "    }\n",
       "</style>\n",
       "<table border=\"1\" class=\"dataframe\">\n",
       "  <thead>\n",
       "    <tr style=\"text-align: right;\">\n",
       "      <th></th>\n",
       "      <th>concept_id</th>\n",
       "      <th>concept_name</th>\n",
       "      <th>concept_class_id</th>\n",
       "      <th>concept_code</th>\n",
       "    </tr>\n",
       "  </thead>\n",
       "  <tbody>\n",
       "    <tr>\n",
       "      <th>90743</th>\n",
       "      <td>36116548</td>\n",
       "      <td>7 ML amivantamab-vmjw 50 MG/ML Injection [Rybr...</td>\n",
       "      <td>11-digit NDC</td>\n",
       "      <td>57894050101</td>\n",
       "    </tr>\n",
       "    <tr>\n",
       "      <th>133181</th>\n",
       "      <td>36115799</td>\n",
       "      <td>amivantamab 350mg/1 INTRAVENOUS INJECTION</td>\n",
       "      <td>9-digit NDC</td>\n",
       "      <td>578940501</td>\n",
       "    </tr>\n",
       "    <tr>\n",
       "      <th>133182</th>\n",
       "      <td>36116547</td>\n",
       "      <td>7 ML amivantamab-vmjw 50 MG/ML Injection [Rybr...</td>\n",
       "      <td>11-digit NDC</td>\n",
       "      <td>57894050100</td>\n",
       "    </tr>\n",
       "  </tbody>\n",
       "</table>\n",
       "</div>"
      ],
      "text/plain": [
       "        concept_id                                       concept_name   \n",
       "90743     36116548  7 ML amivantamab-vmjw 50 MG/ML Injection [Rybr...  \\\n",
       "133181    36115799          amivantamab 350mg/1 INTRAVENOUS INJECTION   \n",
       "133182    36116547  7 ML amivantamab-vmjw 50 MG/ML Injection [Rybr...   \n",
       "\n",
       "       concept_class_id concept_code  \n",
       "90743      11-digit NDC  57894050101  \n",
       "133181      9-digit NDC    578940501  \n",
       "133182     11-digit NDC  57894050100  "
      ]
     },
     "execution_count": 169,
     "metadata": {},
     "output_type": "execute_result"
    }
   ],
   "source": [
    "(pd.read_csv( ndc_dir + \"/CONCEPT_FILTERED.csv\", sep=\"\\t\")\n",
    " .query(\"concept_name.str.upper().str.contains('AMIVAN')\", engine=\"python\")\n",
    " )"
   ]
  },
  {
   "cell_type": "code",
   "execution_count": 152,
   "metadata": {},
   "outputs": [],
   "source": [
    "# Write rows of interest to CSV\n",
    "(\n",
    "    pd.concat(\n",
    "        [\n",
    "            (concept_ndc_filtered\n",
    "             .sample(100000)\n",
    "             ),\n",
    "            (concept_ndc_filtered\n",
    "             .query(\"concept_name.str.upper().str.contains('TINIB')\", engine=\"python\")\n",
    "             ),\n",
    "             (concept_ndc_filtered\n",
    "             .query(\"concept_name.str.upper().str.contains('MIDE')\", engine=\"python\")\n",
    "             ),\n",
    "             (concept_ndc_filtered\n",
    "             .query(\"concept_name.str.upper().str.contains('AMAB')\", engine=\"python\")\n",
    "             )\n",
    "        ]\n",
    "    )\n",
    "    .drop_duplicates()\n",
    ").to_csv(ndc_dir + \"/CONCEPT_FILTERED.csv\", index=False, sep=\"\\t\")\n",
    "\n",
    "# Load CSVLoader object from file\n",
    "loader = CSVLoader(file_path=ndc_dir + \"/CONCEPT_FILTERED.csv\", \n",
    "                   source_column=\"concept_class_id\",\n",
    "                   metadata_columns=[\"concept_id\", \"concept_code\", \"concept_class_id\"],\n",
    "                   csv_args={'delimiter':'\\t'}\n",
    "                             )\n",
    "ndc_loaded = loader.load()\n",
    "\n",
    "# Write to Vector DB\n",
    "ndc_db = Chroma.from_documents(ndc_loaded, embedding=embeddings_model, \n",
    "                              #  persist_directory=\"/Users/jzamalloa/Documents/PROJECTS/LLM/DBs/033024_ndc\",\n",
    "                               collection_metadata={\"hnsw:space\": \"cosine\"}\n",
    "                               )"
   ]
  },
  {
   "cell_type": "markdown",
   "metadata": {},
   "source": [
    "### Test Vector Querying for Similar Target Terms\n",
    "(Lower cosine distance is better)"
   ]
  },
  {
   "cell_type": "code",
   "execution_count": 156,
   "metadata": {},
   "outputs": [
    {
     "data": {
      "text/plain": [
       "[(Document(page_content='concept_name: PROSTATE - petroselinum sativum, populus tremulodies, sabal serrulata, chimaphila umbellata, adenosinum triphosphoricum dinatrum, equol, kreosotum, nadidum, testosterone, succinicum acidum, hepar sulphuris calcareum, prostate nosode, conium maculatum, pro', metadata={'concept_class_id': '11-digit NDC', 'concept_code': '43742046901', 'concept_id': '46335386', 'row': 7204, 'source': '11-digit NDC'}),\n",
       "  1.092272162437439),\n",
       " (Document(page_content='concept_name: PROSTATE - thyroidinum, baryta carb., berber. vulg., bryonia, calc. carb., cinchona, conium, digitalis, ferrum picricum, hydrastis, iodium, lycopodium, nux vom., pareira, pulsatilla, sabal, selenium, staphysag., thuja occ.,trifolium pratense, echinacea, l', metadata={'concept_class_id': '11-digit NDC', 'concept_code': '55714224200', 'concept_id': '46350021', 'row': 49621, 'source': '11-digit NDC'}),\n",
       "  1.1388591527938843),\n",
       " (Document(page_content='concept_name: PROSTAZEN - enlarged prostate, prostatic utricle function, and prostatitis recovery capsule', metadata={'concept_class_id': '11-digit NDC', 'concept_code': '80353070202', 'concept_id': '835024', 'row': 62223, 'source': '11-digit NDC'}),\n",
       "  1.1477035284042358),\n",
       " (Document(page_content='concept_name: PROSTATE RELIEF - chimaphila umb, clematis virg, conium, cubeba, sabal tablet', metadata={'concept_class_id': '11-digit NDC', 'concept_code': '68703002480', 'concept_id': '46341335', 'row': 95810, 'source': '11-digit NDC'}),\n",
       "  1.2504777908325195),\n",
       " (Document(page_content='concept_name: MALE STIMULANT - aralia quinquefolia, agnus castus, ascorbic acid, caladium seguinum, kali bromatum, strychninum phosphoricum, cantharis, damiana, funiculus umbilicalis suis, glandula suprarenalis suis, hypophysis suis, orchitinum (suis), prostate (suis),', metadata={'concept_class_id': '11-digit NDC', 'concept_code': '43742077201', 'concept_id': '44453676', 'row': 33117, 'source': '11-digit NDC'}),\n",
       "  1.2610539197921753)]"
      ]
     },
     "execution_count": 156,
     "metadata": {},
     "output_type": "execute_result"
    }
   ],
   "source": [
    "ndc_db.similarity_search_with_score(\"what are drugs associated with prostate cancer?\", 5)"
   ]
  },
  {
   "cell_type": "code",
   "execution_count": 157,
   "metadata": {},
   "outputs": [
    {
     "name": "stderr",
     "output_type": "stream",
     "text": [
      "/opt/homebrew/Caskroom/miniforge/base/envs/open_ai/lib/python3.9/site-packages/langchain_core/vectorstores.py:331: UserWarning: Relevance scores must be between 0 and 1, got [(Document(page_content='concept_name: PROSTATE - petroselinum sativum, populus tremulodies, sabal serrulata, chimaphila umbellata, adenosinum triphosphoricum dinatrum, equol, kreosotum, nadidum, testosterone, succinicum acidum, hepar sulphuris calcareum, prostate nosode, conium maculatum, pro', metadata={'concept_class_id': '11-digit NDC', 'concept_code': '43742046901', 'concept_id': '46335386', 'row': 7204, 'source': '11-digit NDC'}), -0.09220409393310547), (Document(page_content='concept_name: PROSTATE - thyroidinum, baryta carb., berber. vulg., bryonia, calc. carb., cinchona, conium, digitalis, ferrum picricum, hydrastis, iodium, lycopodium, nux vom., pareira, pulsatilla, sabal, selenium, staphysag., thuja occ.,trifolium pratense, echinacea, l', metadata={'concept_class_id': '11-digit NDC', 'concept_code': '55714224200', 'concept_id': '46350021', 'row': 49621, 'source': '11-digit NDC'}), -0.13880932331085205), (Document(page_content='concept_name: PROSTAZEN - enlarged prostate, prostatic utricle function, and prostatitis recovery capsule', metadata={'concept_class_id': '11-digit NDC', 'concept_code': '80353070202', 'concept_id': '835024', 'row': 62223, 'source': '11-digit NDC'}), -0.14758455753326416), (Document(page_content='concept_name: PROSTATE RELIEF - chimaphila umb, clematis virg, conium, cubeba, sabal tablet', metadata={'concept_class_id': '11-digit NDC', 'concept_code': '68703002480', 'concept_id': '46341335', 'row': 95810, 'source': '11-digit NDC'}), -0.25049126148223877), (Document(page_content='concept_name: MALE STIMULANT - aralia quinquefolia, agnus castus, ascorbic acid, caladium seguinum, kali bromatum, strychninum phosphoricum, cantharis, damiana, funiculus umbilicalis suis, glandula suprarenalis suis, hypophysis suis, orchitinum (suis), prostate (suis),', metadata={'concept_class_id': '11-digit NDC', 'concept_code': '43742077201', 'concept_id': '44453676', 'row': 33117, 'source': '11-digit NDC'}), -0.2610887289047241)]\n",
      "  warnings.warn(\n"
     ]
    },
    {
     "data": {
      "text/plain": [
       "[(Document(page_content='concept_name: PROSTATE - petroselinum sativum, populus tremulodies, sabal serrulata, chimaphila umbellata, adenosinum triphosphoricum dinatrum, equol, kreosotum, nadidum, testosterone, succinicum acidum, hepar sulphuris calcareum, prostate nosode, conium maculatum, pro', metadata={'concept_class_id': '11-digit NDC', 'concept_code': '43742046901', 'concept_id': '46335386', 'row': 7204, 'source': '11-digit NDC'}),\n",
       "  -0.09220409393310547),\n",
       " (Document(page_content='concept_name: PROSTATE - thyroidinum, baryta carb., berber. vulg., bryonia, calc. carb., cinchona, conium, digitalis, ferrum picricum, hydrastis, iodium, lycopodium, nux vom., pareira, pulsatilla, sabal, selenium, staphysag., thuja occ.,trifolium pratense, echinacea, l', metadata={'concept_class_id': '11-digit NDC', 'concept_code': '55714224200', 'concept_id': '46350021', 'row': 49621, 'source': '11-digit NDC'}),\n",
       "  -0.13880932331085205),\n",
       " (Document(page_content='concept_name: PROSTAZEN - enlarged prostate, prostatic utricle function, and prostatitis recovery capsule', metadata={'concept_class_id': '11-digit NDC', 'concept_code': '80353070202', 'concept_id': '835024', 'row': 62223, 'source': '11-digit NDC'}),\n",
       "  -0.14758455753326416),\n",
       " (Document(page_content='concept_name: PROSTATE RELIEF - chimaphila umb, clematis virg, conium, cubeba, sabal tablet', metadata={'concept_class_id': '11-digit NDC', 'concept_code': '68703002480', 'concept_id': '46341335', 'row': 95810, 'source': '11-digit NDC'}),\n",
       "  -0.25049126148223877),\n",
       " (Document(page_content='concept_name: MALE STIMULANT - aralia quinquefolia, agnus castus, ascorbic acid, caladium seguinum, kali bromatum, strychninum phosphoricum, cantharis, damiana, funiculus umbilicalis suis, glandula suprarenalis suis, hypophysis suis, orchitinum (suis), prostate (suis),', metadata={'concept_class_id': '11-digit NDC', 'concept_code': '43742077201', 'concept_id': '44453676', 'row': 33117, 'source': '11-digit NDC'}),\n",
       "  -0.2610887289047241)]"
      ]
     },
     "execution_count": 157,
     "metadata": {},
     "output_type": "execute_result"
    }
   ],
   "source": [
    "ndc_db.similarity_search_with_relevance_scores(\"what are drugs associated with prostate cancer?\", 5)"
   ]
  },
  {
   "cell_type": "markdown",
   "metadata": {},
   "source": [
    "**Cosine distance same as above:**"
   ]
  },
  {
   "cell_type": "code",
   "execution_count": 175,
   "metadata": {},
   "outputs": [
    {
     "data": {
      "text/plain": [
       "array([[1.09238066]])"
      ]
     },
     "execution_count": 175,
     "metadata": {},
     "output_type": "execute_result"
    }
   ],
   "source": [
    "# Test cosine distance\n",
    "pairwise_distances(\n",
    "    np.array([embeddings_model.embed_query(\"concept_name: PROSTATE - petroselinum sativum, populus tremulodies, sabal serrulata, chimaphila umbellata, adenosinum triphosphoricum dinatrum, equol, kreosotum, nadidum, testosterone, succinicum acidum, hepar sulphuris calcareum, prostate nosode, conium maculatum, pro\")]),\n",
    "    np.array([embeddings_model.embed_query(\"what are drugs associated with prostate cancer?\")]),\n",
    "    metric=\"cosine\" #Distance\n",
    ")*2"
   ]
  },
  {
   "cell_type": "markdown",
   "metadata": {},
   "source": [
    "**We have to be very exact about term when using similarity search directly, otherwise we might get incorrect results**"
   ]
  },
  {
   "cell_type": "code",
   "execution_count": 176,
   "metadata": {},
   "outputs": [
    {
     "data": {
      "text/plain": [
       "[(Document(page_content='concept_name: acetaminophen, doxylamine succinate, and dextromethorphan hydrobromide 15mg/1 / 325mg/1 / 6.25mg/1 ORAL CAPSULE, LIQUID FILLED', metadata={'concept_class_id': '9-digit NDC', 'concept_code': '682101500', 'concept_id': '44939863', 'row': 126559, 'source': '9-digit NDC'}),\n",
       "  1.2495418787002563),\n",
       " (Document(page_content='concept_name: acetaminophen, dextromethorphan hydrobromide, and doxylamine succinate 15mg/1 / 325mg/1 / 6.5mg/1 ORAL CAPSULE, LIQUID FILLED', metadata={'concept_class_id': '9-digit NDC', 'concept_code': '301420787', 'concept_id': '36398336', 'row': 110747, 'source': '9-digit NDC'}),\n",
       "  1.2518198490142822),\n",
       " (Document(page_content='concept_name: acetaminophen, dextromethorphan hydrobromide, and doxylamine succinate 15mg/1 / 325mg/1 / 6.5mg/1 ORAL CAPSULE, LIQUID FILLED', metadata={'concept_class_id': '11-digit NDC', 'concept_code': '30142078748', 'concept_id': '36397955', 'row': 110748, 'source': '11-digit NDC'}),\n",
       "  1.2518447637557983),\n",
       " (Document(page_content='concept_name: acetaminophen, dextromethorphan hydrobromide, and doxylamine succinate 15mg/1 / 325mg/1 / 6.25mg/1 ORAL CAPSULE, LIQUID FILLED', metadata={'concept_class_id': '9-digit NDC', 'concept_code': '667155766', 'concept_id': '42837213', 'row': 63893, 'source': '9-digit NDC'}),\n",
       "  1.2530198097229004)]"
      ]
     },
     "execution_count": 176,
     "metadata": {},
     "output_type": "execute_result"
    }
   ],
   "source": [
    "ndc_db.similarity_search_with_score(\"what are drugs associated with amivantamab?\")"
   ]
  },
  {
   "cell_type": "code",
   "execution_count": 219,
   "metadata": {},
   "outputs": [
    {
     "data": {
      "text/plain": [
       "[(Document(page_content='concept_name: amivantamab 350mg/1 INTRAVENOUS INJECTION', metadata={'concept_class_id': '9-digit NDC', 'concept_code': '578940501', 'concept_id': '36115799', 'row': 133181, 'source': '9-digit NDC'}),\n",
       "  0.6727580428123474),\n",
       " (Document(page_content='concept_name: 7 ML amivantamab-vmjw 50 MG/ML Injection [Rybrevant]', metadata={'concept_class_id': '11-digit NDC', 'concept_code': '57894050101', 'concept_id': '36116548', 'row': 90743, 'source': '11-digit NDC'}),\n",
       "  0.8070242404937744),\n",
       " (Document(page_content='concept_name: 7 ML amivantamab-vmjw 50 MG/ML Injection [Rybrevant]', metadata={'concept_class_id': '11-digit NDC', 'concept_code': '57894050100', 'concept_id': '36116547', 'row': 133182, 'source': '11-digit NDC'}),\n",
       "  0.8070434927940369),\n",
       " (Document(page_content='concept_name: 0.05 ML faricimab-svoa 120 MG/ML Injection [Vabysmo]', metadata={'concept_class_id': '11-digit NDC', 'concept_code': '50242009677', 'concept_id': '1985284', 'row': 20585, 'source': '11-digit NDC'}),\n",
       "  1.0290578603744507)]"
      ]
     },
     "execution_count": 219,
     "metadata": {},
     "output_type": "execute_result"
    }
   ],
   "source": [
    "ndc_db.similarity_search_with_score(\"amivantamab\")"
   ]
  },
  {
   "cell_type": "code",
   "execution_count": 221,
   "metadata": {},
   "outputs": [
    {
     "data": {
      "text/plain": [
       "[(Document(page_content='concept_name: apalutamide 240mg/1 ORAL TABLET, FILM COATED', metadata={'concept_class_id': '9-digit NDC', 'concept_code': '596760604', 'concept_id': '36353102', 'row': 121741, 'source': '9-digit NDC'}),\n",
       "  0.7026128768920898),\n",
       " (Document(page_content='concept_name: apalutamide 240 MG Oral Tablet [Erleada]', metadata={'concept_class_id': '11-digit NDC', 'concept_code': '59676060430', 'concept_id': '36353428', 'row': 121743, 'source': '11-digit NDC'}),\n",
       "  0.7085045576095581),\n",
       " (Document(page_content='concept_name: apalutamide 240 MG Oral Tablet [Erleada]', metadata={'concept_class_id': '11-digit NDC', 'concept_code': '59676060414', 'concept_id': '36353427', 'row': 121742, 'source': '11-digit NDC'}),\n",
       "  0.7085045576095581),\n",
       " (Document(page_content='concept_name: apalutamide 60mg/1 ORAL TABLET, FILM COATED', metadata={'concept_class_id': '9-digit NDC', 'concept_code': '596760600', 'concept_id': '42836263', 'row': 121737, 'source': '9-digit NDC'}),\n",
       "  0.7122552990913391),\n",
       " (Document(page_content='concept_name: apalutamide 60 MG Oral Tablet [Erleada]', metadata={'concept_class_id': '11-digit NDC', 'concept_code': '59676060099', 'concept_id': '42840861', 'row': 121740, 'source': '11-digit NDC'}),\n",
       "  0.7291776537895203),\n",
       " (Document(page_content='concept_name: apalutamide 60 MG Oral Tablet [Erleada]', metadata={'concept_class_id': '11-digit NDC', 'concept_code': '59676060056', 'concept_id': '583554', 'row': 121739, 'source': '11-digit NDC'}),\n",
       "  0.7291776537895203)]"
      ]
     },
     "execution_count": 221,
     "metadata": {},
     "output_type": "execute_result"
    }
   ],
   "source": [
    "ndc_db.similarity_search_with_score(\"apalutamide\",6)"
   ]
  },
  {
   "cell_type": "code",
   "execution_count": 203,
   "metadata": {},
   "outputs": [
    {
     "data": {
      "text/plain": [
       "[(Document(page_content='concept_name: tapentadol 100 MG Oral Tablet [Nucynta]', metadata={'concept_class_id': '11-digit NDC', 'concept_code': '35356061160', 'concept_id': '45339905', 'row': 8818, 'source': '11-digit NDC'}),\n",
       "  1.2002676725387573),\n",
       " (Document(page_content='concept_name: tapentadol 100 MG Oral Tablet [Nucynta]', metadata={'concept_class_id': '11-digit NDC', 'concept_code': '50458084004', 'concept_id': '45376111', 'row': 36122, 'source': '11-digit NDC'}),\n",
       "  1.2002676725387573),\n",
       " (Document(page_content='concept_name: tapentadol 100 MG Oral Tablet [Nucynta]', metadata={'concept_class_id': '11-digit NDC', 'concept_code': '16590028960', 'concept_id': '44861657', 'row': 32324, 'source': '11-digit NDC'}),\n",
       "  1.2002676725387573),\n",
       " (Document(page_content='concept_name: 24 HR Nifedipine 60 MG Extended Release Oral Tablet [Afeditab CR]', metadata={'concept_class_id': '11-digit NDC', 'concept_code': '43353031160', 'concept_id': '45238612', 'row': 25849, 'source': '11-digit NDC'}),\n",
       "  1.2060338258743286)]"
      ]
     },
     "execution_count": 203,
     "metadata": {},
     "output_type": "execute_result"
    }
   ],
   "source": [
    "ndc_db.similarity_search_with_score(\"I want to find all the NDC codes associated with Apalutamide. List all of them.\")"
   ]
  },
  {
   "cell_type": "markdown",
   "metadata": {},
   "source": [
    "#### We need to use [hybrid search](https://weaviate.io/blog/hybrid-search-explained) to accomplish sparse and dense search"
   ]
  },
  {
   "cell_type": "markdown",
   "metadata": {},
   "source": [
    "### Test Retriever (Specific Instructions)"
   ]
  },
  {
   "cell_type": "code",
   "execution_count": 225,
   "metadata": {},
   "outputs": [],
   "source": [
    "# ndc_retriever = ndc_db.as_retriever(search_kwargs={\"k\": 5})\n",
    "ndc_retriever = ndc_db.as_retriever(search_type=\"similarity_score_threshold\", search_kwargs={\"score_threshold\": 0.01})"
   ]
  },
  {
   "cell_type": "code",
   "execution_count": 226,
   "metadata": {},
   "outputs": [
    {
     "name": "stderr",
     "output_type": "stream",
     "text": [
      "/opt/homebrew/Caskroom/miniforge/base/envs/open_ai/lib/python3.9/site-packages/langchain_core/vectorstores.py:331: UserWarning: Relevance scores must be between 0 and 1, got [(Document(page_content='concept_name: PROSTATE - petroselinum sativum, populus tremulodies, sabal serrulata, chimaphila umbellata, adenosinum triphosphoricum dinatrum, equol, kreosotum, nadidum, testosterone, succinicum acidum, hepar sulphuris calcareum, prostate nosode, conium maculatum, pro', metadata={'concept_class_id': '11-digit NDC', 'concept_code': '43742046901', 'concept_id': '46335386', 'row': 7204, 'source': '11-digit NDC'}), -0.09227216243743896), (Document(page_content='concept_name: PROSTATE - thyroidinum, baryta carb., berber. vulg., bryonia, calc. carb., cinchona, conium, digitalis, ferrum picricum, hydrastis, iodium, lycopodium, nux vom., pareira, pulsatilla, sabal, selenium, staphysag., thuja occ.,trifolium pratense, echinacea, l', metadata={'concept_class_id': '11-digit NDC', 'concept_code': '55714224200', 'concept_id': '46350021', 'row': 49621, 'source': '11-digit NDC'}), -0.13885915279388428), (Document(page_content='concept_name: PROSTAZEN - enlarged prostate, prostatic utricle function, and prostatitis recovery capsule', metadata={'concept_class_id': '11-digit NDC', 'concept_code': '80353070202', 'concept_id': '835024', 'row': 62223, 'source': '11-digit NDC'}), -0.14770352840423584), (Document(page_content='concept_name: PROSTATE RELIEF - chimaphila umb, clematis virg, conium, cubeba, sabal tablet', metadata={'concept_class_id': '11-digit NDC', 'concept_code': '68703002480', 'concept_id': '46341335', 'row': 95810, 'source': '11-digit NDC'}), -0.25047779083251953)]\n",
      "  warnings.warn(\n",
      "/opt/homebrew/Caskroom/miniforge/base/envs/open_ai/lib/python3.9/site-packages/langchain_core/vectorstores.py:343: UserWarning: No relevant docs were retrieved using the relevance score threshold 0.01\n",
      "  warnings.warn(\n"
     ]
    },
    {
     "data": {
      "text/plain": [
       "[]"
      ]
     },
     "execution_count": 226,
     "metadata": {},
     "output_type": "execute_result"
    }
   ],
   "source": [
    "ndc_retriever.get_relevant_documents(\"what are drugs associated with prostate cancer?\")"
   ]
  },
  {
   "cell_type": "code",
   "execution_count": 215,
   "metadata": {},
   "outputs": [
    {
     "name": "stderr",
     "output_type": "stream",
     "text": [
      "/opt/homebrew/Caskroom/miniforge/base/envs/open_ai/lib/python3.9/site-packages/langchain_core/vectorstores.py:331: UserWarning: Relevance scores must be between 0 and 1, got [(Document(page_content='concept_name: indapamide 1.25mg/1 ORAL TABLET', metadata={'concept_class_id': '9-digit NDC', 'concept_code': '439750217', 'concept_id': '44475468', 'row': 113146, 'source': '9-digit NDC'}), -0.14747536182403564), (Document(page_content='concept_name: indapamide 1.25mg/1 ORAL TABLET', metadata={'concept_class_id': '9-digit NDC', 'concept_code': '165710875', 'concept_id': '1382605', 'row': 109558, 'source': '9-digit NDC'}), -0.14747536182403564), (Document(page_content='concept_name: indapamide 2.5mg/1 ORAL TABLET', metadata={'concept_class_id': '9-digit NDC', 'concept_code': '493490015', 'concept_id': '45825340', 'row': 114226, 'source': '9-digit NDC'}), -0.1491527557373047), (Document(page_content='concept_name: indapamide 2.5mg/1 ORAL TABLET', metadata={'concept_class_id': '9-digit NDC', 'concept_code': '165710876', 'concept_id': '1382606', 'row': 109559, 'source': '9-digit NDC'}), -0.14922106266021729)]\n",
      "  warnings.warn(\n",
      "/opt/homebrew/Caskroom/miniforge/base/envs/open_ai/lib/python3.9/site-packages/langchain_core/vectorstores.py:343: UserWarning: No relevant docs were retrieved using the relevance score threshold 0.05\n",
      "  warnings.warn(\n"
     ]
    },
    {
     "data": {
      "text/plain": [
       "[]"
      ]
     },
     "execution_count": 215,
     "metadata": {},
     "output_type": "execute_result"
    }
   ],
   "source": [
    "ndc_retriever.get_relevant_documents(\"retrieve the code associated with apalutamide, be very specific about them\")"
   ]
  },
  {
   "cell_type": "code",
   "execution_count": 216,
   "metadata": {},
   "outputs": [
    {
     "data": {
      "text/plain": [
       "[Document(page_content='concept_name: apalutamide 240mg/1 ORAL TABLET, FILM COATED', metadata={'concept_class_id': '9-digit NDC', 'concept_code': '596760604', 'concept_id': '36353102', 'row': 121741, 'source': '9-digit NDC'}),\n",
       " Document(page_content='concept_name: apalutamide 240 MG Oral Tablet [Erleada]', metadata={'concept_class_id': '11-digit NDC', 'concept_code': '59676060430', 'concept_id': '36353428', 'row': 121743, 'source': '11-digit NDC'}),\n",
       " Document(page_content='concept_name: apalutamide 240 MG Oral Tablet [Erleada]', metadata={'concept_class_id': '11-digit NDC', 'concept_code': '59676060414', 'concept_id': '36353427', 'row': 121742, 'source': '11-digit NDC'}),\n",
       " Document(page_content='concept_name: apalutamide 60mg/1 ORAL TABLET, FILM COATED', metadata={'concept_class_id': '9-digit NDC', 'concept_code': '596760600', 'concept_id': '42836263', 'row': 121737, 'source': '9-digit NDC'})]"
      ]
     },
     "execution_count": 216,
     "metadata": {},
     "output_type": "execute_result"
    }
   ],
   "source": [
    "ndc_retriever.get_relevant_documents(\"apalutamide\")"
   ]
  },
  {
   "cell_type": "code",
   "execution_count": 194,
   "metadata": {},
   "outputs": [],
   "source": [
    "template = \"\"\"Answer the question based only on the following context:\n",
    "\n",
    "{context}\n",
    "\n",
    "Question: {question}\n",
    "\"\"\"\n",
    "\n",
    "prompt = ChatPromptTemplate.from_template(template)\n",
    "\n",
    "def format_docs(docs):\n",
    "    return \"\\n\\n\".join([f\"The {d.page_content} corresponds to the NDC code: {d.metadata['concept_code']}\" for d in docs])\n",
    "\n",
    "\n",
    "chain = (\n",
    "    {\"context\": ndc_retriever | format_docs, \"question\": RunnablePassthrough()}\n",
    "    | prompt\n",
    "    | llm\n",
    "    | StrOutputParser()\n",
    ")"
   ]
  },
  {
   "cell_type": "code",
   "execution_count": 195,
   "metadata": {},
   "outputs": [
    {
     "data": {
      "text/plain": [
       "'Based on the provided context, none of the listed concept_names explicitly mention being associated with the treatment or management of prostate cancer. They seem to be more focused on general prostate health, symptoms of prostate enlargement (BPH), and other prostate-related conditions. Therefore, based on the given context, there are no drugs specifically associated with prostate cancer mentioned.'"
      ]
     },
     "execution_count": 195,
     "metadata": {},
     "output_type": "execute_result"
    }
   ],
   "source": [
    "chain.invoke(\"what are drugs associated with prostate cancer?\")"
   ]
  },
  {
   "cell_type": "code",
   "execution_count": 196,
   "metadata": {},
   "outputs": [
    {
     "data": {
      "text/plain": [
       "'Based on the provided context, none of the mentioned products (LUNG DROPS 9604, sticta pulmonaria 1[hp_X]/1 ORAL TABLET, lung stim liquescence, lobaria pulmonaria 30[hp_C]/mL ORAL LIQUID) are directly indicated as being associated with the treatment, management, or prevention of lung cancer. These products seem to be homeopathic remedies, which are typically used for various health conditions but not specifically or scientifically proven for treating lung cancer.'"
      ]
     },
     "execution_count": 196,
     "metadata": {},
     "output_type": "execute_result"
    }
   ],
   "source": [
    "chain.invoke(\"what are drugs associated with lung cancer?\")"
   ]
  },
  {
   "cell_type": "code",
   "execution_count": 198,
   "metadata": {},
   "outputs": [
    {
     "data": {
      "text/plain": [
       "'Based on the provided context, there is no information given about amivantamab or its associated NDC codes. The context only provides information about aminopentamide sulfate and its corresponding NDC codes.'"
      ]
     },
     "execution_count": 198,
     "metadata": {},
     "output_type": "execute_result"
    }
   ],
   "source": [
    "chain.invoke(\"what are the NDC codes associated with amivantamab?\")"
   ]
  },
  {
   "cell_type": "code",
   "execution_count": 199,
   "metadata": {},
   "outputs": [
    {
     "data": {
      "text/plain": [
       "'Based on the context provided, there is no information about apalutamide or its associated NDC codes. The context only provides information about naproxen sodium 220 MG in various forms and their corresponding NDC codes.'"
      ]
     },
     "execution_count": 199,
     "metadata": {},
     "output_type": "execute_result"
    }
   ],
   "source": [
    "chain.invoke(\"what are the NDC codes associated with apalutamide?\")"
   ]
  },
  {
   "cell_type": "markdown",
   "metadata": {},
   "source": [
    "### TRY HYBRID SEARCH\n",
    "\n",
    "Chroma does not support Hybrid search, but `Weviate` does. We'll use this DB moving forward"
   ]
  },
  {
   "cell_type": "markdown",
   "metadata": {},
   "source": [
    "Write previous loader object to Weviate Vector DB"
   ]
  },
  {
   "cell_type": "code",
   "execution_count": 1,
   "metadata": {},
   "outputs": [],
   "source": [
    "import weaviate\n",
    "from langchain_weaviate.vectorstores import WeaviateVectorStore"
   ]
  },
  {
   "cell_type": "code",
   "execution_count": null,
   "metadata": {},
   "outputs": [],
   "source": [
    "ndc_db = Chroma.from_documents(ndc_loaded, embedding=embeddings_model, \n",
    "                              #  persist_directory=\"/Users/jzamalloa/Documents/PROJECTS/LLM/DBs/033024_ndc\",\n",
    "                               collection_metadata={\"hnsw:space\": \"cosine\"}\n",
    "                               )"
   ]
  }
 ],
 "metadata": {
  "kernelspec": {
   "display_name": "open_ai",
   "language": "python",
   "name": "python3"
  },
  "language_info": {
   "codemirror_mode": {
    "name": "ipython",
    "version": 3
   },
   "file_extension": ".py",
   "mimetype": "text/x-python",
   "name": "python",
   "nbconvert_exporter": "python",
   "pygments_lexer": "ipython3",
   "version": "3.9.16"
  }
 },
 "nbformat": 4,
 "nbformat_minor": 2
}
